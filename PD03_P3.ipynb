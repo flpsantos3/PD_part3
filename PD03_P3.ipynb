{
  "nbformat": 4,
  "nbformat_minor": 0,
  "metadata": {
    "kernelspec": {
      "display_name": "Python 3",
      "language": "python",
      "name": "python3"
    },
    "language_info": {
      "codemirror_mode": {
        "name": "ipython",
        "version": 3
      },
      "file_extension": ".py",
      "mimetype": "text/x-python",
      "name": "python",
      "nbconvert_exporter": "python",
      "pygments_lexer": "ipython3",
      "version": "3.8.5"
    },
    "colab": {
      "name": "PD03_P3.ipynb",
      "provenance": [],
      "collapsed_sections": [],
      "include_colab_link": true
    }
  },
  "cells": [
    {
      "cell_type": "markdown",
      "metadata": {
        "id": "view-in-github",
        "colab_type": "text"
      },
      "source": [
        "<a href=\"https://colab.research.google.com/github/flpsantos3/PD_part3/blob/main/PD03_P3.ipynb\" target=\"_parent\"><img src=\"https://colab.research.google.com/assets/colab-badge.svg\" alt=\"Open In Colab\"/></a>"
      ]
    },
    {
      "cell_type": "markdown",
      "metadata": {
        "id": "WsCEQ8sJk-pE"
      },
      "source": [
        "# Data Mining / Prospeção de Dados\n",
        "\n",
        "## Diogo F. Soares and Sara C. Madeira, 2020/21\n",
        "\n",
        "# Project 3 - Classification/Regression"
      ]
    },
    {
      "cell_type": "markdown",
      "metadata": {
        "id": "39QU3exJk-pS"
      },
      "source": [
        "## Logistics\n",
        "\n",
        "**_Read Carefully_**\n",
        "\n",
        "**Students should work in teams of 2 or 3 people**. \n",
        "\n",
        "Individual projects might be allowed (with valid justification), but will not have better grades for this reason. \n",
        "\n",
        "* Tasks **1 to 4** should be done by **all** groups **BUT**\n",
        "    * In Tasks **2 and 3** the number of classifiers/regressors to use is **`X` = 3 and 4**  for groups of 2 and 3 students, respectively.\n",
        "    * In Task **4**, groups of 2 and 3 students should try 2 and 3 ensemble approaches, respectively.\n",
        "\n",
        "The quality of the project will dictate its grade, not the number of people working.\n",
        "\n",
        "**The project's solution should be uploaded in Moodle before the end of ~~`May, 9th (23:59)`~~ `May, 16th (23:59)`.** \n",
        "\n",
        "Students should **upload a `.zip` file** containing all the files necessary for project evaluation. \n",
        "Groups should be registered in [Moodle](https://moodle.ciencias.ulisboa.pt/mod/groupselect/view.php?id=139096) and the zip file should be identified as `PDnn.zip` where `nn` is the number of your group.\n",
        "\n",
        "**It is mandatory to produce a Jupyter notebook containing code and text/images/tables/etc describing the solution and the results. Projects not delivered in this format will not be graded. You can use `PD_202021_P3.ipynb`as template. In your `.zip` folder you should also include an HTML version of your notebook with all the outputs** (File > Download as > HTML).\n",
        "\n",
        "**Decisions should be justified and results should be critically discussed.** \n",
        "\n",
        "_Project solutions containing only code and outputs without discussions will achieve a maximum grade 10 out of 20._"
      ]
    },
    {
      "cell_type": "markdown",
      "metadata": {
        "id": "uSrRR8AFk-pW"
      },
      "source": [
        "## Dataset and Tools\n",
        "\n",
        "In this project you should use [Python 3](https://www.python.org), [Jupyter Notebook](http://jupyter.org) and **[Scikit-learn](http://scikit-learn.org/stable/). You are also allowed to use [Orange3](https://orange.biolab.si).**\n",
        "\n",
        "The dataset to be analysed is **`RestaurantsRevenue.csv`**, a modified version of the test dataset used in Kaggle's competition [\"Restaurant Revenue Prediction\"](https://www.kaggle.com/c/restaurant-revenue-prediction/overview). \n",
        "\n",
        "**This project challenges you twice** by asking you to tackle a\n",
        "1. **Regression Task**: predict the revenue, and a\n",
        "2. **Classification Task**: predict a revenue category.\n",
        "\n",
        "The available variables are:\n",
        "\n",
        "* **Id :** Restaurant id. \n",
        "* **Open Date :** opening date for a restaurant\n",
        "* **City :** City that the restaurant is in. Note that there are unicode in the names. \n",
        "* **City Group:** Type of the city. Big cities, or Other. \n",
        "* **Type:** Type of the restaurant. FC: Food Court, IL: Inline, DT: Drive Thru, MB: Mobile\n",
        "* **P1, P2 - P37:** There are three categories of these obfuscated data. Demographic data are gathered from third party providers with GIS systems. These include population in any given area, age and gender distribution, development scales. Real estate data mainly relate to the m2 of the location, front facade of the location, car park availability. Commercial data mainly include the existence of points of interest including schools, banks, other QSR operators.\n",
        "\n",
        "\n",
        "The targets are:\n",
        "1. **`Revenue`:** The revenue column indicates a (transformed) revenue of the restaurant in a given year and is the target of predictive analysis. Please note that the values are transformed so they don't mean real dollar values. \n",
        "2. **`RevenueCategory`** - the revenue category, where price can be below 12000 (\"<12K\"), between 12000 and 20000 (\"12K-20K\"), or above 20000 (\">20K\"). This is the target variable that you're trying to predict in the classification task. "
      ]
    },
    {
      "cell_type": "markdown",
      "metadata": {
        "id": "Czi2JJCek-pY"
      },
      "source": [
        "## Team Identification\n",
        "\n",
        "**GROUP PD03**\n",
        "\n",
        "Students:\n",
        "\n",
        "* **Eduardo Carvalho - nº55881**\n",
        "* **Filipe Santos - nº55142**\n",
        "* **Ivo Oliveira - nº50301**"
      ]
    },
    {
      "cell_type": "markdown",
      "metadata": {
        "id": "gPFRC3h5k-pZ"
      },
      "source": [
        "## 1. Load and Preprocess Dataset"
      ]
    },
    {
      "cell_type": "markdown",
      "metadata": {
        "id": "DZ8n0JIHk-pb"
      },
      "source": [
        "Here you might consider useful to think about:\n",
        "1. Missing Value Imputation\n",
        "2. Feature Selection\n",
        "3. Class Imbalance"
      ]
    },
    {
      "cell_type": "markdown",
      "metadata": {
        "id": "Hy5MD2PcC1fj"
      },
      "source": [
        "### Importing necessary packages"
      ]
    },
    {
      "cell_type": "code",
      "metadata": {
        "id": "eQAYW1nalQEF"
      },
      "source": [
        "import pandas as pd\n",
        "import numpy as np\n",
        "import matplotlib.pyplot as plt\n",
        "from datetime import date, datetime\n",
        "from sklearn.model_selection import train_test_split\n",
        "from sklearn.feature_selection import VarianceThreshold\n",
        "from sklearn.preprocessing import MinMaxScaler, StandardScaler\n",
        "from sklearn.utils import resample\n",
        "from sklearn.linear_model import Ridge\n",
        "from sklearn.svm import SVR, LinearSVR\n",
        "from sklearn.neighbors import KNeighborsRegressor\n",
        "from sklearn.tree import DecisionTreeRegressor\n",
        "from sklearn.model_selection import GridSearchCV\n",
        "from sklearn.metrics import mean_absolute_error\n",
        "from sklearn.linear_model import LogisticRegression\n",
        "from sklearn import tree, neighbors\n",
        "%matplotlib inline\n",
        "import seaborn as sns; sns.set()\n",
        "from sklearn.metrics import confusion_matrix\n",
        "from sklearn.model_selection import cross_validate, cross_val_score\n",
        "from sklearn.naive_bayes import GaussianNB\n",
        "from sklearn.ensemble import RandomForestClassifier, RandomForestRegressor, VotingClassifier, VotingRegressor\n",
        "from xgboost import XGBClassifier, XGBRegressor"
      ],
      "execution_count": 2,
      "outputs": []
    },
    {
      "cell_type": "markdown",
      "metadata": {
        "id": "3VAVsnk7CiqP"
      },
      "source": [
        "### Importing the Data"
      ]
    },
    {
      "cell_type": "code",
      "metadata": {
        "colab": {
          "base_uri": "https://localhost:8080/"
        },
        "id": "H6ZUf3KelnJa",
        "outputId": "2d1031f2-7d87-4a71-dab6-a51381d2230d"
      },
      "source": [
        "from google.colab import drive\n",
        "drive.mount('/content/drive')"
      ],
      "execution_count": 3,
      "outputs": [
        {
          "output_type": "stream",
          "text": [
            "Drive already mounted at /content/drive; to attempt to forcibly remount, call drive.mount(\"/content/drive\", force_remount=True).\n"
          ],
          "name": "stdout"
        }
      ]
    },
    {
      "cell_type": "code",
      "metadata": {
        "colab": {
          "base_uri": "https://localhost:8080/",
          "height": 292
        },
        "id": "dvoxZYLLk-pd",
        "outputId": "8fa6c7d5-e38f-4f1e-c06b-2de9ae69f3b4"
      },
      "source": [
        "data=pd.read_csv('/content/drive/MyDrive/Datasets/projetoPD/RestaurantsReveneu.csv', index_col=0)\n",
        "data.head()"
      ],
      "execution_count": 4,
      "outputs": [
        {
          "output_type": "execute_result",
          "data": {
            "text/html": [
              "<div>\n",
              "<style scoped>\n",
              "    .dataframe tbody tr th:only-of-type {\n",
              "        vertical-align: middle;\n",
              "    }\n",
              "\n",
              "    .dataframe tbody tr th {\n",
              "        vertical-align: top;\n",
              "    }\n",
              "\n",
              "    .dataframe thead th {\n",
              "        text-align: right;\n",
              "    }\n",
              "</style>\n",
              "<table border=\"1\" class=\"dataframe\">\n",
              "  <thead>\n",
              "    <tr style=\"text-align: right;\">\n",
              "      <th></th>\n",
              "      <th>Open Date</th>\n",
              "      <th>City</th>\n",
              "      <th>City Group</th>\n",
              "      <th>Type</th>\n",
              "      <th>P1</th>\n",
              "      <th>P2</th>\n",
              "      <th>P3</th>\n",
              "      <th>P4</th>\n",
              "      <th>P5</th>\n",
              "      <th>P6</th>\n",
              "      <th>P7</th>\n",
              "      <th>P8</th>\n",
              "      <th>P9</th>\n",
              "      <th>P10</th>\n",
              "      <th>P11</th>\n",
              "      <th>P12</th>\n",
              "      <th>P13</th>\n",
              "      <th>P14</th>\n",
              "      <th>P15</th>\n",
              "      <th>P16</th>\n",
              "      <th>P17</th>\n",
              "      <th>P18</th>\n",
              "      <th>P19</th>\n",
              "      <th>P20</th>\n",
              "      <th>P21</th>\n",
              "      <th>P22</th>\n",
              "      <th>P23</th>\n",
              "      <th>P24</th>\n",
              "      <th>P25</th>\n",
              "      <th>P26</th>\n",
              "      <th>P27</th>\n",
              "      <th>P28</th>\n",
              "      <th>P29</th>\n",
              "      <th>P30</th>\n",
              "      <th>P31</th>\n",
              "      <th>P32</th>\n",
              "      <th>P33</th>\n",
              "      <th>P34</th>\n",
              "      <th>P35</th>\n",
              "      <th>P36</th>\n",
              "      <th>P37</th>\n",
              "      <th>revenue</th>\n",
              "    </tr>\n",
              "    <tr>\n",
              "      <th>Id</th>\n",
              "      <th></th>\n",
              "      <th></th>\n",
              "      <th></th>\n",
              "      <th></th>\n",
              "      <th></th>\n",
              "      <th></th>\n",
              "      <th></th>\n",
              "      <th></th>\n",
              "      <th></th>\n",
              "      <th></th>\n",
              "      <th></th>\n",
              "      <th></th>\n",
              "      <th></th>\n",
              "      <th></th>\n",
              "      <th></th>\n",
              "      <th></th>\n",
              "      <th></th>\n",
              "      <th></th>\n",
              "      <th></th>\n",
              "      <th></th>\n",
              "      <th></th>\n",
              "      <th></th>\n",
              "      <th></th>\n",
              "      <th></th>\n",
              "      <th></th>\n",
              "      <th></th>\n",
              "      <th></th>\n",
              "      <th></th>\n",
              "      <th></th>\n",
              "      <th></th>\n",
              "      <th></th>\n",
              "      <th></th>\n",
              "      <th></th>\n",
              "      <th></th>\n",
              "      <th></th>\n",
              "      <th></th>\n",
              "      <th></th>\n",
              "      <th></th>\n",
              "      <th></th>\n",
              "      <th></th>\n",
              "      <th></th>\n",
              "      <th></th>\n",
              "    </tr>\n",
              "  </thead>\n",
              "  <tbody>\n",
              "    <tr>\n",
              "      <th>0</th>\n",
              "      <td>01/22/2011</td>\n",
              "      <td>Niğde</td>\n",
              "      <td>Other</td>\n",
              "      <td>FC</td>\n",
              "      <td>1</td>\n",
              "      <td>4.0</td>\n",
              "      <td>4.0</td>\n",
              "      <td>4.0</td>\n",
              "      <td>1</td>\n",
              "      <td>2</td>\n",
              "      <td>5</td>\n",
              "      <td>4</td>\n",
              "      <td>5</td>\n",
              "      <td>5</td>\n",
              "      <td>5</td>\n",
              "      <td>3</td>\n",
              "      <td>4.0</td>\n",
              "      <td>0</td>\n",
              "      <td>0</td>\n",
              "      <td>0</td>\n",
              "      <td>2</td>\n",
              "      <td>0</td>\n",
              "      <td>5</td>\n",
              "      <td>5</td>\n",
              "      <td>3</td>\n",
              "      <td>1</td>\n",
              "      <td>4</td>\n",
              "      <td>0</td>\n",
              "      <td>0</td>\n",
              "      <td>0.0</td>\n",
              "      <td>0.0</td>\n",
              "      <td>2.0</td>\n",
              "      <td>3.0</td>\n",
              "      <td>0</td>\n",
              "      <td>0</td>\n",
              "      <td>0</td>\n",
              "      <td>0</td>\n",
              "      <td>0</td>\n",
              "      <td>0</td>\n",
              "      <td>0</td>\n",
              "      <td>0</td>\n",
              "      <td>10033.0</td>\n",
              "    </tr>\n",
              "    <tr>\n",
              "      <th>1</th>\n",
              "      <td>03/18/2011</td>\n",
              "      <td>Konya</td>\n",
              "      <td>Other</td>\n",
              "      <td>IL</td>\n",
              "      <td>3</td>\n",
              "      <td>4.0</td>\n",
              "      <td>4.0</td>\n",
              "      <td>4.0</td>\n",
              "      <td>2</td>\n",
              "      <td>2</td>\n",
              "      <td>5</td>\n",
              "      <td>3</td>\n",
              "      <td>4</td>\n",
              "      <td>4</td>\n",
              "      <td>2</td>\n",
              "      <td>4</td>\n",
              "      <td>5.0</td>\n",
              "      <td>0</td>\n",
              "      <td>0</td>\n",
              "      <td>0</td>\n",
              "      <td>0</td>\n",
              "      <td>0</td>\n",
              "      <td>5</td>\n",
              "      <td>5</td>\n",
              "      <td>3</td>\n",
              "      <td>2</td>\n",
              "      <td>1</td>\n",
              "      <td>0</td>\n",
              "      <td>0</td>\n",
              "      <td>0.0</td>\n",
              "      <td>0.0</td>\n",
              "      <td>1.0</td>\n",
              "      <td>3.0</td>\n",
              "      <td>0</td>\n",
              "      <td>0</td>\n",
              "      <td>0</td>\n",
              "      <td>0</td>\n",
              "      <td>0</td>\n",
              "      <td>0</td>\n",
              "      <td>0</td>\n",
              "      <td>0</td>\n",
              "      <td>9355.0</td>\n",
              "    </tr>\n",
              "    <tr>\n",
              "      <th>2</th>\n",
              "      <td>10/30/2013</td>\n",
              "      <td>Ankara</td>\n",
              "      <td>Big Cities</td>\n",
              "      <td>FC</td>\n",
              "      <td>3</td>\n",
              "      <td>4.0</td>\n",
              "      <td>4.0</td>\n",
              "      <td>4.0</td>\n",
              "      <td>2</td>\n",
              "      <td>2</td>\n",
              "      <td>5</td>\n",
              "      <td>4</td>\n",
              "      <td>4</td>\n",
              "      <td>5</td>\n",
              "      <td>4</td>\n",
              "      <td>5</td>\n",
              "      <td>5.0</td>\n",
              "      <td>0</td>\n",
              "      <td>0</td>\n",
              "      <td>0</td>\n",
              "      <td>0</td>\n",
              "      <td>0</td>\n",
              "      <td>5</td>\n",
              "      <td>5</td>\n",
              "      <td>5</td>\n",
              "      <td>5</td>\n",
              "      <td>5</td>\n",
              "      <td>0</td>\n",
              "      <td>0</td>\n",
              "      <td>0.0</td>\n",
              "      <td>0.0</td>\n",
              "      <td>2.0</td>\n",
              "      <td>3.0</td>\n",
              "      <td>0</td>\n",
              "      <td>0</td>\n",
              "      <td>0</td>\n",
              "      <td>0</td>\n",
              "      <td>0</td>\n",
              "      <td>0</td>\n",
              "      <td>0</td>\n",
              "      <td>0</td>\n",
              "      <td>11353.0</td>\n",
              "    </tr>\n",
              "    <tr>\n",
              "      <th>3</th>\n",
              "      <td>05/06/2013</td>\n",
              "      <td>Kocaeli</td>\n",
              "      <td>Other</td>\n",
              "      <td>IL</td>\n",
              "      <td>2</td>\n",
              "      <td>4.0</td>\n",
              "      <td>4.0</td>\n",
              "      <td>4.0</td>\n",
              "      <td>2</td>\n",
              "      <td>3</td>\n",
              "      <td>5</td>\n",
              "      <td>4</td>\n",
              "      <td>5</td>\n",
              "      <td>4</td>\n",
              "      <td>3</td>\n",
              "      <td>4</td>\n",
              "      <td>5.0</td>\n",
              "      <td>0</td>\n",
              "      <td>0</td>\n",
              "      <td>0</td>\n",
              "      <td>0</td>\n",
              "      <td>4</td>\n",
              "      <td>4</td>\n",
              "      <td>4</td>\n",
              "      <td>3</td>\n",
              "      <td>2</td>\n",
              "      <td>2</td>\n",
              "      <td>0</td>\n",
              "      <td>0</td>\n",
              "      <td>0.0</td>\n",
              "      <td>0.0</td>\n",
              "      <td>2.0</td>\n",
              "      <td>3.0</td>\n",
              "      <td>0</td>\n",
              "      <td>4</td>\n",
              "      <td>0</td>\n",
              "      <td>0</td>\n",
              "      <td>0</td>\n",
              "      <td>0</td>\n",
              "      <td>0</td>\n",
              "      <td>0</td>\n",
              "      <td>10828.0</td>\n",
              "    </tr>\n",
              "    <tr>\n",
              "      <th>4</th>\n",
              "      <td>07/31/2013</td>\n",
              "      <td>Afyonkarahisar</td>\n",
              "      <td>Other</td>\n",
              "      <td>FC</td>\n",
              "      <td>2</td>\n",
              "      <td>4.0</td>\n",
              "      <td>4.0</td>\n",
              "      <td>4.0</td>\n",
              "      <td>1</td>\n",
              "      <td>2</td>\n",
              "      <td>5</td>\n",
              "      <td>4</td>\n",
              "      <td>5</td>\n",
              "      <td>4</td>\n",
              "      <td>3</td>\n",
              "      <td>5</td>\n",
              "      <td>4.0</td>\n",
              "      <td>0</td>\n",
              "      <td>0</td>\n",
              "      <td>0</td>\n",
              "      <td>0</td>\n",
              "      <td>0</td>\n",
              "      <td>1</td>\n",
              "      <td>5</td>\n",
              "      <td>3</td>\n",
              "      <td>1</td>\n",
              "      <td>1</td>\n",
              "      <td>0</td>\n",
              "      <td>0</td>\n",
              "      <td>0.0</td>\n",
              "      <td>0.0</td>\n",
              "      <td>5.0</td>\n",
              "      <td>3.0</td>\n",
              "      <td>0</td>\n",
              "      <td>0</td>\n",
              "      <td>0</td>\n",
              "      <td>0</td>\n",
              "      <td>0</td>\n",
              "      <td>0</td>\n",
              "      <td>0</td>\n",
              "      <td>0</td>\n",
              "      <td>9354.0</td>\n",
              "    </tr>\n",
              "  </tbody>\n",
              "</table>\n",
              "</div>"
            ],
            "text/plain": [
              "     Open Date            City  City Group Type  ...  P35  P36  P37  revenue\n",
              "Id                                               ...                        \n",
              "0   01/22/2011           Niğde       Other   FC  ...    0    0    0  10033.0\n",
              "1   03/18/2011           Konya       Other   IL  ...    0    0    0   9355.0\n",
              "2   10/30/2013          Ankara  Big Cities   FC  ...    0    0    0  11353.0\n",
              "3   05/06/2013         Kocaeli       Other   IL  ...    0    0    0  10828.0\n",
              "4   07/31/2013  Afyonkarahisar       Other   FC  ...    0    0    0   9354.0\n",
              "\n",
              "[5 rows x 42 columns]"
            ]
          },
          "metadata": {
            "tags": []
          },
          "execution_count": 4
        }
      ]
    },
    {
      "cell_type": "markdown",
      "metadata": {
        "id": "LYzIHzXvC-uA"
      },
      "source": [
        "### Exploratory Data Analysis"
      ]
    },
    {
      "cell_type": "code",
      "metadata": {
        "colab": {
          "base_uri": "https://localhost:8080/"
        },
        "id": "g1ljl1_RmYQJ",
        "outputId": "6c84765d-ccdc-43d7-b95a-cfa08b6a9136"
      },
      "source": [
        "# looking at the dataset shape\n",
        "data.shape"
      ],
      "execution_count": 5,
      "outputs": [
        {
          "output_type": "execute_result",
          "data": {
            "text/plain": [
              "(100000, 42)"
            ]
          },
          "metadata": {
            "tags": []
          },
          "execution_count": 5
        }
      ]
    },
    {
      "cell_type": "markdown",
      "metadata": {
        "id": "lCTLiBX4DC-f"
      },
      "source": [
        "> We have a dataset with 100K observations and 41 features + 1 target variable - `revenue`."
      ]
    },
    {
      "cell_type": "code",
      "metadata": {
        "colab": {
          "base_uri": "https://localhost:8080/"
        },
        "id": "XrsWCGyQp8xz",
        "outputId": "4fbbf52c-d15e-48cf-8134-2e699d3080ca"
      },
      "source": [
        "# looking at data types\n",
        "data.dtypes "
      ],
      "execution_count": 6,
      "outputs": [
        {
          "output_type": "execute_result",
          "data": {
            "text/plain": [
              "Open Date      object\n",
              "City           object\n",
              "City Group     object\n",
              "Type           object\n",
              "P1              int64\n",
              "P2            float64\n",
              "P3            float64\n",
              "P4            float64\n",
              "P5              int64\n",
              "P6              int64\n",
              "P7              int64\n",
              "P8              int64\n",
              "P9              int64\n",
              "P10             int64\n",
              "P11             int64\n",
              "P12             int64\n",
              "P13           float64\n",
              "P14             int64\n",
              "P15             int64\n",
              "P16             int64\n",
              "P17             int64\n",
              "P18             int64\n",
              "P19             int64\n",
              "P20             int64\n",
              "P21             int64\n",
              "P22             int64\n",
              "P23             int64\n",
              "P24             int64\n",
              "P25             int64\n",
              "P26           float64\n",
              "P27           float64\n",
              "P28           float64\n",
              "P29           float64\n",
              "P30             int64\n",
              "P31             int64\n",
              "P32             int64\n",
              "P33             int64\n",
              "P34             int64\n",
              "P35             int64\n",
              "P36             int64\n",
              "P37             int64\n",
              "revenue       float64\n",
              "dtype: object"
            ]
          },
          "metadata": {
            "tags": []
          },
          "execution_count": 6
        }
      ]
    },
    {
      "cell_type": "markdown",
      "metadata": {
        "id": "SMcgMgTwDYW-"
      },
      "source": [
        "> There doesn't seem to be any errors in the data types: all numerical features are either int or float and the categorical are objects."
      ]
    },
    {
      "cell_type": "code",
      "metadata": {
        "colab": {
          "base_uri": "https://localhost:8080/",
          "height": 320
        },
        "id": "uNhWdf9rDnZ-",
        "outputId": "1aebc06c-e280-42d7-b643-dee5608836da"
      },
      "source": [
        "# looking at the range of values of the numerical features\n",
        "data.describe()"
      ],
      "execution_count": 7,
      "outputs": [
        {
          "output_type": "execute_result",
          "data": {
            "text/html": [
              "<div>\n",
              "<style scoped>\n",
              "    .dataframe tbody tr th:only-of-type {\n",
              "        vertical-align: middle;\n",
              "    }\n",
              "\n",
              "    .dataframe tbody tr th {\n",
              "        vertical-align: top;\n",
              "    }\n",
              "\n",
              "    .dataframe thead th {\n",
              "        text-align: right;\n",
              "    }\n",
              "</style>\n",
              "<table border=\"1\" class=\"dataframe\">\n",
              "  <thead>\n",
              "    <tr style=\"text-align: right;\">\n",
              "      <th></th>\n",
              "      <th>P1</th>\n",
              "      <th>P2</th>\n",
              "      <th>P3</th>\n",
              "      <th>P4</th>\n",
              "      <th>P5</th>\n",
              "      <th>P6</th>\n",
              "      <th>P7</th>\n",
              "      <th>P8</th>\n",
              "      <th>P9</th>\n",
              "      <th>P10</th>\n",
              "      <th>P11</th>\n",
              "      <th>P12</th>\n",
              "      <th>P13</th>\n",
              "      <th>P14</th>\n",
              "      <th>P15</th>\n",
              "      <th>P16</th>\n",
              "      <th>P17</th>\n",
              "      <th>P18</th>\n",
              "      <th>P19</th>\n",
              "      <th>P20</th>\n",
              "      <th>P21</th>\n",
              "      <th>P22</th>\n",
              "      <th>P23</th>\n",
              "      <th>P24</th>\n",
              "      <th>P25</th>\n",
              "      <th>P26</th>\n",
              "      <th>P27</th>\n",
              "      <th>P28</th>\n",
              "      <th>P29</th>\n",
              "      <th>P30</th>\n",
              "      <th>P31</th>\n",
              "      <th>P32</th>\n",
              "      <th>P33</th>\n",
              "      <th>P34</th>\n",
              "      <th>P35</th>\n",
              "      <th>P36</th>\n",
              "      <th>P37</th>\n",
              "      <th>revenue</th>\n",
              "    </tr>\n",
              "  </thead>\n",
              "  <tbody>\n",
              "    <tr>\n",
              "      <th>count</th>\n",
              "      <td>100000.000000</td>\n",
              "      <td>100000.000000</td>\n",
              "      <td>100000.000000</td>\n",
              "      <td>100000.000000</td>\n",
              "      <td>100000.000000</td>\n",
              "      <td>100000.000000</td>\n",
              "      <td>100000.00000</td>\n",
              "      <td>100000.00000</td>\n",
              "      <td>100000.000000</td>\n",
              "      <td>100000.000000</td>\n",
              "      <td>100000.000000</td>\n",
              "      <td>100000.000000</td>\n",
              "      <td>100000.000000</td>\n",
              "      <td>100000.000000</td>\n",
              "      <td>100000.000000</td>\n",
              "      <td>100000.000000</td>\n",
              "      <td>100000.000000</td>\n",
              "      <td>100000.000000</td>\n",
              "      <td>100000.000000</td>\n",
              "      <td>100000.00000</td>\n",
              "      <td>100000.000000</td>\n",
              "      <td>100000.000000</td>\n",
              "      <td>100000.00000</td>\n",
              "      <td>100000.000000</td>\n",
              "      <td>100000.000000</td>\n",
              "      <td>100000.000000</td>\n",
              "      <td>100000.000000</td>\n",
              "      <td>100000.000000</td>\n",
              "      <td>100000.000000</td>\n",
              "      <td>100000.000000</td>\n",
              "      <td>100000.000000</td>\n",
              "      <td>100000.000000</td>\n",
              "      <td>100000.000000</td>\n",
              "      <td>100000.000000</td>\n",
              "      <td>100000.000000</td>\n",
              "      <td>100000.000000</td>\n",
              "      <td>100000.000000</td>\n",
              "      <td>100000.000000</td>\n",
              "    </tr>\n",
              "    <tr>\n",
              "      <th>mean</th>\n",
              "      <td>4.088030</td>\n",
              "      <td>4.428085</td>\n",
              "      <td>4.215325</td>\n",
              "      <td>4.396025</td>\n",
              "      <td>1.989590</td>\n",
              "      <td>2.881900</td>\n",
              "      <td>5.30051</td>\n",
              "      <td>4.93100</td>\n",
              "      <td>5.251380</td>\n",
              "      <td>5.458970</td>\n",
              "      <td>3.311720</td>\n",
              "      <td>5.061440</td>\n",
              "      <td>5.086630</td>\n",
              "      <td>1.280090</td>\n",
              "      <td>1.305530</td>\n",
              "      <td>1.747070</td>\n",
              "      <td>1.156880</td>\n",
              "      <td>1.708470</td>\n",
              "      <td>5.191120</td>\n",
              "      <td>4.57086</td>\n",
              "      <td>2.542380</td>\n",
              "      <td>2.430380</td>\n",
              "      <td>3.63998</td>\n",
              "      <td>1.234450</td>\n",
              "      <td>1.244110</td>\n",
              "      <td>1.279665</td>\n",
              "      <td>1.164440</td>\n",
              "      <td>3.233785</td>\n",
              "      <td>3.084000</td>\n",
              "      <td>2.083300</td>\n",
              "      <td>1.193330</td>\n",
              "      <td>1.942640</td>\n",
              "      <td>0.987430</td>\n",
              "      <td>2.108670</td>\n",
              "      <td>1.832830</td>\n",
              "      <td>1.968890</td>\n",
              "      <td>0.973500</td>\n",
              "      <td>14698.061620</td>\n",
              "    </tr>\n",
              "    <tr>\n",
              "      <th>std</th>\n",
              "      <td>2.812963</td>\n",
              "      <td>1.428865</td>\n",
              "      <td>0.842161</td>\n",
              "      <td>1.035827</td>\n",
              "      <td>1.065314</td>\n",
              "      <td>1.531429</td>\n",
              "      <td>2.17858</td>\n",
              "      <td>1.71849</td>\n",
              "      <td>1.702632</td>\n",
              "      <td>1.763601</td>\n",
              "      <td>2.068118</td>\n",
              "      <td>1.765383</td>\n",
              "      <td>0.979339</td>\n",
              "      <td>2.496782</td>\n",
              "      <td>2.166949</td>\n",
              "      <td>3.172012</td>\n",
              "      <td>2.432646</td>\n",
              "      <td>3.030527</td>\n",
              "      <td>5.785529</td>\n",
              "      <td>3.61243</td>\n",
              "      <td>2.526046</td>\n",
              "      <td>1.363184</td>\n",
              "      <td>4.71916</td>\n",
              "      <td>2.097457</td>\n",
              "      <td>2.084731</td>\n",
              "      <td>2.309640</td>\n",
              "      <td>2.179495</td>\n",
              "      <td>2.136694</td>\n",
              "      <td>1.783927</td>\n",
              "      <td>4.309479</td>\n",
              "      <td>2.307944</td>\n",
              "      <td>3.971298</td>\n",
              "      <td>1.534808</td>\n",
              "      <td>4.685414</td>\n",
              "      <td>3.228769</td>\n",
              "      <td>3.805773</td>\n",
              "      <td>1.677267</td>\n",
              "      <td>6705.081965</td>\n",
              "    </tr>\n",
              "    <tr>\n",
              "      <th>min</th>\n",
              "      <td>1.000000</td>\n",
              "      <td>1.000000</td>\n",
              "      <td>0.000000</td>\n",
              "      <td>2.000000</td>\n",
              "      <td>1.000000</td>\n",
              "      <td>1.000000</td>\n",
              "      <td>1.00000</td>\n",
              "      <td>1.00000</td>\n",
              "      <td>4.000000</td>\n",
              "      <td>4.000000</td>\n",
              "      <td>1.000000</td>\n",
              "      <td>2.000000</td>\n",
              "      <td>3.000000</td>\n",
              "      <td>0.000000</td>\n",
              "      <td>0.000000</td>\n",
              "      <td>0.000000</td>\n",
              "      <td>0.000000</td>\n",
              "      <td>0.000000</td>\n",
              "      <td>1.000000</td>\n",
              "      <td>1.00000</td>\n",
              "      <td>1.000000</td>\n",
              "      <td>1.000000</td>\n",
              "      <td>1.00000</td>\n",
              "      <td>0.000000</td>\n",
              "      <td>0.000000</td>\n",
              "      <td>0.000000</td>\n",
              "      <td>0.000000</td>\n",
              "      <td>1.000000</td>\n",
              "      <td>0.000000</td>\n",
              "      <td>0.000000</td>\n",
              "      <td>0.000000</td>\n",
              "      <td>0.000000</td>\n",
              "      <td>0.000000</td>\n",
              "      <td>0.000000</td>\n",
              "      <td>0.000000</td>\n",
              "      <td>0.000000</td>\n",
              "      <td>0.000000</td>\n",
              "      <td>6271.000000</td>\n",
              "    </tr>\n",
              "    <tr>\n",
              "      <th>25%</th>\n",
              "      <td>2.000000</td>\n",
              "      <td>3.750000</td>\n",
              "      <td>4.000000</td>\n",
              "      <td>4.000000</td>\n",
              "      <td>1.000000</td>\n",
              "      <td>2.000000</td>\n",
              "      <td>5.00000</td>\n",
              "      <td>4.00000</td>\n",
              "      <td>4.000000</td>\n",
              "      <td>5.000000</td>\n",
              "      <td>2.000000</td>\n",
              "      <td>4.000000</td>\n",
              "      <td>5.000000</td>\n",
              "      <td>0.000000</td>\n",
              "      <td>0.000000</td>\n",
              "      <td>0.000000</td>\n",
              "      <td>0.000000</td>\n",
              "      <td>0.000000</td>\n",
              "      <td>2.000000</td>\n",
              "      <td>2.00000</td>\n",
              "      <td>1.000000</td>\n",
              "      <td>1.000000</td>\n",
              "      <td>1.00000</td>\n",
              "      <td>0.000000</td>\n",
              "      <td>0.000000</td>\n",
              "      <td>0.000000</td>\n",
              "      <td>0.000000</td>\n",
              "      <td>2.000000</td>\n",
              "      <td>2.000000</td>\n",
              "      <td>0.000000</td>\n",
              "      <td>0.000000</td>\n",
              "      <td>0.000000</td>\n",
              "      <td>0.000000</td>\n",
              "      <td>0.000000</td>\n",
              "      <td>0.000000</td>\n",
              "      <td>0.000000</td>\n",
              "      <td>0.000000</td>\n",
              "      <td>10143.000000</td>\n",
              "    </tr>\n",
              "    <tr>\n",
              "      <th>50%</th>\n",
              "      <td>3.000000</td>\n",
              "      <td>5.000000</td>\n",
              "      <td>4.000000</td>\n",
              "      <td>4.000000</td>\n",
              "      <td>2.000000</td>\n",
              "      <td>2.000000</td>\n",
              "      <td>5.00000</td>\n",
              "      <td>5.00000</td>\n",
              "      <td>5.000000</td>\n",
              "      <td>5.000000</td>\n",
              "      <td>3.000000</td>\n",
              "      <td>5.000000</td>\n",
              "      <td>5.000000</td>\n",
              "      <td>0.000000</td>\n",
              "      <td>0.000000</td>\n",
              "      <td>0.000000</td>\n",
              "      <td>0.000000</td>\n",
              "      <td>0.000000</td>\n",
              "      <td>3.000000</td>\n",
              "      <td>4.00000</td>\n",
              "      <td>2.000000</td>\n",
              "      <td>2.000000</td>\n",
              "      <td>2.00000</td>\n",
              "      <td>0.000000</td>\n",
              "      <td>0.000000</td>\n",
              "      <td>0.000000</td>\n",
              "      <td>0.000000</td>\n",
              "      <td>3.000000</td>\n",
              "      <td>3.000000</td>\n",
              "      <td>0.000000</td>\n",
              "      <td>0.000000</td>\n",
              "      <td>0.000000</td>\n",
              "      <td>0.000000</td>\n",
              "      <td>0.000000</td>\n",
              "      <td>0.000000</td>\n",
              "      <td>0.000000</td>\n",
              "      <td>0.000000</td>\n",
              "      <td>12951.000000</td>\n",
              "    </tr>\n",
              "    <tr>\n",
              "      <th>75%</th>\n",
              "      <td>4.000000</td>\n",
              "      <td>5.000000</td>\n",
              "      <td>4.000000</td>\n",
              "      <td>5.000000</td>\n",
              "      <td>2.000000</td>\n",
              "      <td>4.000000</td>\n",
              "      <td>5.00000</td>\n",
              "      <td>5.00000</td>\n",
              "      <td>5.000000</td>\n",
              "      <td>5.000000</td>\n",
              "      <td>4.000000</td>\n",
              "      <td>5.000000</td>\n",
              "      <td>5.000000</td>\n",
              "      <td>2.000000</td>\n",
              "      <td>2.000000</td>\n",
              "      <td>3.000000</td>\n",
              "      <td>2.000000</td>\n",
              "      <td>4.000000</td>\n",
              "      <td>5.000000</td>\n",
              "      <td>5.00000</td>\n",
              "      <td>3.000000</td>\n",
              "      <td>3.000000</td>\n",
              "      <td>4.00000</td>\n",
              "      <td>2.000000</td>\n",
              "      <td>2.000000</td>\n",
              "      <td>2.000000</td>\n",
              "      <td>2.000000</td>\n",
              "      <td>4.000000</td>\n",
              "      <td>3.000000</td>\n",
              "      <td>3.000000</td>\n",
              "      <td>1.000000</td>\n",
              "      <td>3.000000</td>\n",
              "      <td>2.000000</td>\n",
              "      <td>3.000000</td>\n",
              "      <td>4.000000</td>\n",
              "      <td>3.000000</td>\n",
              "      <td>2.000000</td>\n",
              "      <td>16923.000000</td>\n",
              "    </tr>\n",
              "    <tr>\n",
              "      <th>max</th>\n",
              "      <td>15.000000</td>\n",
              "      <td>7.500000</td>\n",
              "      <td>6.000000</td>\n",
              "      <td>7.500000</td>\n",
              "      <td>6.000000</td>\n",
              "      <td>10.000000</td>\n",
              "      <td>10.00000</td>\n",
              "      <td>10.00000</td>\n",
              "      <td>10.000000</td>\n",
              "      <td>10.000000</td>\n",
              "      <td>10.000000</td>\n",
              "      <td>10.000000</td>\n",
              "      <td>7.500000</td>\n",
              "      <td>15.000000</td>\n",
              "      <td>10.000000</td>\n",
              "      <td>15.000000</td>\n",
              "      <td>15.000000</td>\n",
              "      <td>15.000000</td>\n",
              "      <td>25.000000</td>\n",
              "      <td>15.00000</td>\n",
              "      <td>15.000000</td>\n",
              "      <td>5.000000</td>\n",
              "      <td>25.00000</td>\n",
              "      <td>10.000000</td>\n",
              "      <td>10.000000</td>\n",
              "      <td>12.500000</td>\n",
              "      <td>12.500000</td>\n",
              "      <td>12.500000</td>\n",
              "      <td>10.000000</td>\n",
              "      <td>25.000000</td>\n",
              "      <td>15.000000</td>\n",
              "      <td>25.000000</td>\n",
              "      <td>6.000000</td>\n",
              "      <td>30.000000</td>\n",
              "      <td>15.000000</td>\n",
              "      <td>20.000000</td>\n",
              "      <td>8.000000</td>\n",
              "      <td>52294.000000</td>\n",
              "    </tr>\n",
              "  </tbody>\n",
              "</table>\n",
              "</div>"
            ],
            "text/plain": [
              "                  P1             P2  ...            P37        revenue\n",
              "count  100000.000000  100000.000000  ...  100000.000000  100000.000000\n",
              "mean        4.088030       4.428085  ...       0.973500   14698.061620\n",
              "std         2.812963       1.428865  ...       1.677267    6705.081965\n",
              "min         1.000000       1.000000  ...       0.000000    6271.000000\n",
              "25%         2.000000       3.750000  ...       0.000000   10143.000000\n",
              "50%         3.000000       5.000000  ...       0.000000   12951.000000\n",
              "75%         4.000000       5.000000  ...       2.000000   16923.000000\n",
              "max        15.000000       7.500000  ...       8.000000   52294.000000\n",
              "\n",
              "[8 rows x 38 columns]"
            ]
          },
          "metadata": {
            "tags": []
          },
          "execution_count": 7
        }
      ]
    },
    {
      "cell_type": "markdown",
      "metadata": {
        "id": "MykHw9s4DyiJ"
      },
      "source": [
        "> All the P(X) features have small ranges (most are between 0 and 20), so there doesn't appear to exist any errors in the data.\n",
        ">\n",
        "> The target variable `revenue` has a large range of values, with the min being 6K and the max > 50K. \n",
        ">\n",
        "> We should look at outliers in this variable."
      ]
    },
    {
      "cell_type": "code",
      "metadata": {
        "colab": {
          "base_uri": "https://localhost:8080/",
          "height": 268
        },
        "id": "wiWgj9kzERjZ",
        "outputId": "8d983536-c2c0-407a-804b-6681420a4b2c"
      },
      "source": [
        "plt.hist(data.revenue, bins=1000)\n",
        "plt.show()"
      ],
      "execution_count": 8,
      "outputs": [
        {
          "output_type": "display_data",
          "data": {
            "image/png": "[encoded data removed]",
            "text/plain": [
              "<Figure size 432x288 with 1 Axes>"
            ]
          },
          "metadata": {
            "tags": []
          }
        }
      ]
    },
    {
      "cell_type": "markdown",
      "metadata": {
        "id": "U28gxnM6EiIr"
      },
      "source": [
        "> Most revenue values are situated between 10K and 20K. The remaining values are evenly spaced between the 20K range and the 50K range. There doesn't seem to exist any restaurant with a much larger revenue than the rest."
      ]
    },
    {
      "cell_type": "code",
      "metadata": {
        "colab": {
          "base_uri": "https://localhost:8080/"
        },
        "id": "wD5siNfqFzuK",
        "outputId": "880aa167-ed87-4a1c-de2b-8238310fa188"
      },
      "source": [
        "# looking at categorical features\n",
        "cat_vars = ['Open Date', 'City', 'City Group', 'Type']\n",
        "for var in cat_vars:\n",
        "  print(var)\n",
        "  print(data[var].nunique())\n",
        "  print(data[var].value_counts())\n",
        "  print('\\n')"
      ],
      "execution_count": 9,
      "outputs": [
        {
          "output_type": "stream",
          "text": [
            "Open Date\n",
            "310\n",
            "07/10/2013    645\n",
            "05/06/2013    635\n",
            "07/04/2011    635\n",
            "09/20/2013    632\n",
            "03/05/1996    631\n",
            "             ... \n",
            "11/25/2009    276\n",
            "08/23/2013    275\n",
            "09/01/2010    274\n",
            "11/12/2010    267\n",
            "12/23/2012    265\n",
            "Name: Open Date, Length: 310, dtype: int64\n",
            "\n",
            "\n",
            "City\n",
            "57\n",
            "İstanbul          34087\n",
            "Ankara             8720\n",
            "İzmir              6465\n",
            "Antalya            5911\n",
            "Kocaeli            4364\n",
            "Mersin             2735\n",
            "Adana              2514\n",
            "Balıkesir          2463\n",
            "Bursa              2441\n",
            "Muğla              1823\n",
            "Aydın              1617\n",
            "Tekirdağ           1577\n",
            "Konya              1576\n",
            "Gaziantep          1487\n",
            "Edirne             1230\n",
            "Manisa             1227\n",
            "Çanakkale           965\n",
            "Denizli             964\n",
            "Diyarbakır          954\n",
            "Hatay               951\n",
            "Zonguldak           926\n",
            "Eskişehir           900\n",
            "Trabzon             660\n",
            "Aksaray             650\n",
            "Bolu                631\n",
            "Yalova              630\n",
            "Kırıkkale           622\n",
            "Malatya             616\n",
            "Mardin              610\n",
            "Şanlıurfa           609\n",
            "Sakarya             604\n",
            "Batman              604\n",
            "Rize                345\n",
            "Artvin              344\n",
            "Bilecik             339\n",
            "Afyonkarahisar      331\n",
            "Nevşehir            328\n",
            "Sivas               326\n",
            "Samsun              324\n",
            "Kayseri             323\n",
            "Kırşehir            319\n",
            "Erzincan            319\n",
            "Ordu                317\n",
            "Erzurum             317\n",
            "Kahramanmaraş       315\n",
            "Siirt               315\n",
            "Giresun             310\n",
            "Niğde               310\n",
            "Çankırı             309\n",
            "Kütahya             304\n",
            "Çorum               304\n",
            "Isparta             304\n",
            "Düzce               303\n",
            "Tanımsız            298\n",
            "Uşak                293\n",
            "Kars                289\n",
            "Kırklareli          281\n",
            "Name: City, dtype: int64\n",
            "\n",
            "\n",
            "City Group\n",
            "2\n",
            "Other         50728\n",
            "Big Cities    49272\n",
            "Name: City Group, dtype: int64\n",
            "\n",
            "\n",
            "Type\n",
            "4\n",
            "FC    57019\n",
            "IL    40447\n",
            "DT     2244\n",
            "MB      290\n",
            "Name: Type, dtype: int64\n",
            "\n",
            "\n"
          ],
          "name": "stdout"
        }
      ]
    },
    {
      "cell_type": "markdown",
      "metadata": {
        "id": "0-_2h-bdGae0"
      },
      "source": [
        "> There are two problems with the categorical data in the dataset:\n",
        ">\n",
        "> *   `Open Date`: there are too many different values in this feature to be able to treat it like a categorical variable (encoding the feature would lead to a large number of new features that would add too much noise to the data).\n",
        "> \n",
        "> There is, however, a solution: we can convert this categorical feature to a numerical one that represents the number of days since the restaurant opened, keeping all the information and solving the current issue.\n",
        ">\n",
        "> *   `City`: like the issue before, there are 31 different cities on the dataset. Encoding them all would lead to the addition of over 30 new features to the dataset. However, we have another feature - `City Group` - that can gives us location info while only having 2 different values. We can use `City Group` and drop `City` from the dataset.\n",
        "\n"
      ]
    },
    {
      "cell_type": "code",
      "metadata": {
        "colab": {
          "base_uri": "https://localhost:8080/",
          "height": 866
        },
        "id": "x5azgX3UJKHg",
        "outputId": "a382ca3a-1281-4c6d-ad22-1e3ac92b2699"
      },
      "source": [
        "revenue_by_city = data.revenue.groupby(data.City).mean().sort_values()\n",
        "revenue_by_city.plot.barh(figsize=(10,15))\n",
        "plt.show()"
      ],
      "execution_count": 10,
      "outputs": [
        {
          "output_type": "display_data",
          "data": {
            "image/png": "[encoded data removed]",
            "text/plain": [
              "<Figure size 720x1080 with 1 Axes>"
            ]
          },
          "metadata": {
            "tags": []
          }
        }
      ]
    },
    {
      "cell_type": "markdown",
      "metadata": {
        "id": "es0MuVx1LBKN"
      },
      "source": [
        "> There doesn't seem to be a considerable difference in Revenue between different cities (the only City that does not fit the norm is Erzincan, which is considerably higher than the rest).\n",
        ">\n",
        "> It appears to be relatively \"safe\" to drop `City` and get location information solely from `City Group`."
      ]
    },
    {
      "cell_type": "code",
      "metadata": {
        "colab": {
          "base_uri": "https://localhost:8080/",
          "height": 229
        },
        "id": "RNqOisDvL6xH",
        "outputId": "eebdc5fe-3cad-4a3a-e23b-42cd9c9d6e17"
      },
      "source": [
        "# converting Open Date to days_since_open\n",
        "days_since_open=[]\n",
        "for dt in data['Open Date']:\n",
        "  open_date = datetime.strptime(dt, \"%m/%d/%Y\").date()\n",
        "  today = date.today()\n",
        "  delta = today - open_date\n",
        "  days_since_open.append(delta.days)\n",
        "\n",
        "data['days_since_open']=days_since_open\n",
        "new_data=data.drop('Open Date', axis=1)\n",
        "\n",
        "# dropping City\n",
        "new_data=new_data.drop('City', axis=1)\n",
        "new_data.head(3)"
      ],
      "execution_count": 11,
      "outputs": [
        {
          "output_type": "execute_result",
          "data": {
            "text/html": [
              "<div>\n",
              "<style scoped>\n",
              "    .dataframe tbody tr th:only-of-type {\n",
              "        vertical-align: middle;\n",
              "    }\n",
              "\n",
              "    .dataframe tbody tr th {\n",
              "        vertical-align: top;\n",
              "    }\n",
              "\n",
              "    .dataframe thead th {\n",
              "        text-align: right;\n",
              "    }\n",
              "</style>\n",
              "<table border=\"1\" class=\"dataframe\">\n",
              "  <thead>\n",
              "    <tr style=\"text-align: right;\">\n",
              "      <th></th>\n",
              "      <th>City Group</th>\n",
              "      <th>Type</th>\n",
              "      <th>P1</th>\n",
              "      <th>P2</th>\n",
              "      <th>P3</th>\n",
              "      <th>P4</th>\n",
              "      <th>P5</th>\n",
              "      <th>P6</th>\n",
              "      <th>P7</th>\n",
              "      <th>P8</th>\n",
              "      <th>P9</th>\n",
              "      <th>P10</th>\n",
              "      <th>P11</th>\n",
              "      <th>P12</th>\n",
              "      <th>P13</th>\n",
              "      <th>P14</th>\n",
              "      <th>P15</th>\n",
              "      <th>P16</th>\n",
              "      <th>P17</th>\n",
              "      <th>P18</th>\n",
              "      <th>P19</th>\n",
              "      <th>P20</th>\n",
              "      <th>P21</th>\n",
              "      <th>P22</th>\n",
              "      <th>P23</th>\n",
              "      <th>P24</th>\n",
              "      <th>P25</th>\n",
              "      <th>P26</th>\n",
              "      <th>P27</th>\n",
              "      <th>P28</th>\n",
              "      <th>P29</th>\n",
              "      <th>P30</th>\n",
              "      <th>P31</th>\n",
              "      <th>P32</th>\n",
              "      <th>P33</th>\n",
              "      <th>P34</th>\n",
              "      <th>P35</th>\n",
              "      <th>P36</th>\n",
              "      <th>P37</th>\n",
              "      <th>revenue</th>\n",
              "      <th>days_since_open</th>\n",
              "    </tr>\n",
              "    <tr>\n",
              "      <th>Id</th>\n",
              "      <th></th>\n",
              "      <th></th>\n",
              "      <th></th>\n",
              "      <th></th>\n",
              "      <th></th>\n",
              "      <th></th>\n",
              "      <th></th>\n",
              "      <th></th>\n",
              "      <th></th>\n",
              "      <th></th>\n",
              "      <th></th>\n",
              "      <th></th>\n",
              "      <th></th>\n",
              "      <th></th>\n",
              "      <th></th>\n",
              "      <th></th>\n",
              "      <th></th>\n",
              "      <th></th>\n",
              "      <th></th>\n",
              "      <th></th>\n",
              "      <th></th>\n",
              "      <th></th>\n",
              "      <th></th>\n",
              "      <th></th>\n",
              "      <th></th>\n",
              "      <th></th>\n",
              "      <th></th>\n",
              "      <th></th>\n",
              "      <th></th>\n",
              "      <th></th>\n",
              "      <th></th>\n",
              "      <th></th>\n",
              "      <th></th>\n",
              "      <th></th>\n",
              "      <th></th>\n",
              "      <th></th>\n",
              "      <th></th>\n",
              "      <th></th>\n",
              "      <th></th>\n",
              "      <th></th>\n",
              "      <th></th>\n",
              "    </tr>\n",
              "  </thead>\n",
              "  <tbody>\n",
              "    <tr>\n",
              "      <th>0</th>\n",
              "      <td>Other</td>\n",
              "      <td>FC</td>\n",
              "      <td>1</td>\n",
              "      <td>4.0</td>\n",
              "      <td>4.0</td>\n",
              "      <td>4.0</td>\n",
              "      <td>1</td>\n",
              "      <td>2</td>\n",
              "      <td>5</td>\n",
              "      <td>4</td>\n",
              "      <td>5</td>\n",
              "      <td>5</td>\n",
              "      <td>5</td>\n",
              "      <td>3</td>\n",
              "      <td>4.0</td>\n",
              "      <td>0</td>\n",
              "      <td>0</td>\n",
              "      <td>0</td>\n",
              "      <td>2</td>\n",
              "      <td>0</td>\n",
              "      <td>5</td>\n",
              "      <td>5</td>\n",
              "      <td>3</td>\n",
              "      <td>1</td>\n",
              "      <td>4</td>\n",
              "      <td>0</td>\n",
              "      <td>0</td>\n",
              "      <td>0.0</td>\n",
              "      <td>0.0</td>\n",
              "      <td>2.0</td>\n",
              "      <td>3.0</td>\n",
              "      <td>0</td>\n",
              "      <td>0</td>\n",
              "      <td>0</td>\n",
              "      <td>0</td>\n",
              "      <td>0</td>\n",
              "      <td>0</td>\n",
              "      <td>0</td>\n",
              "      <td>0</td>\n",
              "      <td>10033.0</td>\n",
              "      <td>3774</td>\n",
              "    </tr>\n",
              "    <tr>\n",
              "      <th>1</th>\n",
              "      <td>Other</td>\n",
              "      <td>IL</td>\n",
              "      <td>3</td>\n",
              "      <td>4.0</td>\n",
              "      <td>4.0</td>\n",
              "      <td>4.0</td>\n",
              "      <td>2</td>\n",
              "      <td>2</td>\n",
              "      <td>5</td>\n",
              "      <td>3</td>\n",
              "      <td>4</td>\n",
              "      <td>4</td>\n",
              "      <td>2</td>\n",
              "      <td>4</td>\n",
              "      <td>5.0</td>\n",
              "      <td>0</td>\n",
              "      <td>0</td>\n",
              "      <td>0</td>\n",
              "      <td>0</td>\n",
              "      <td>0</td>\n",
              "      <td>5</td>\n",
              "      <td>5</td>\n",
              "      <td>3</td>\n",
              "      <td>2</td>\n",
              "      <td>1</td>\n",
              "      <td>0</td>\n",
              "      <td>0</td>\n",
              "      <td>0.0</td>\n",
              "      <td>0.0</td>\n",
              "      <td>1.0</td>\n",
              "      <td>3.0</td>\n",
              "      <td>0</td>\n",
              "      <td>0</td>\n",
              "      <td>0</td>\n",
              "      <td>0</td>\n",
              "      <td>0</td>\n",
              "      <td>0</td>\n",
              "      <td>0</td>\n",
              "      <td>0</td>\n",
              "      <td>9355.0</td>\n",
              "      <td>3719</td>\n",
              "    </tr>\n",
              "    <tr>\n",
              "      <th>2</th>\n",
              "      <td>Big Cities</td>\n",
              "      <td>FC</td>\n",
              "      <td>3</td>\n",
              "      <td>4.0</td>\n",
              "      <td>4.0</td>\n",
              "      <td>4.0</td>\n",
              "      <td>2</td>\n",
              "      <td>2</td>\n",
              "      <td>5</td>\n",
              "      <td>4</td>\n",
              "      <td>4</td>\n",
              "      <td>5</td>\n",
              "      <td>4</td>\n",
              "      <td>5</td>\n",
              "      <td>5.0</td>\n",
              "      <td>0</td>\n",
              "      <td>0</td>\n",
              "      <td>0</td>\n",
              "      <td>0</td>\n",
              "      <td>0</td>\n",
              "      <td>5</td>\n",
              "      <td>5</td>\n",
              "      <td>5</td>\n",
              "      <td>5</td>\n",
              "      <td>5</td>\n",
              "      <td>0</td>\n",
              "      <td>0</td>\n",
              "      <td>0.0</td>\n",
              "      <td>0.0</td>\n",
              "      <td>2.0</td>\n",
              "      <td>3.0</td>\n",
              "      <td>0</td>\n",
              "      <td>0</td>\n",
              "      <td>0</td>\n",
              "      <td>0</td>\n",
              "      <td>0</td>\n",
              "      <td>0</td>\n",
              "      <td>0</td>\n",
              "      <td>0</td>\n",
              "      <td>11353.0</td>\n",
              "      <td>2762</td>\n",
              "    </tr>\n",
              "  </tbody>\n",
              "</table>\n",
              "</div>"
            ],
            "text/plain": [
              "    City Group Type  P1   P2   P3  ...  P35  P36  P37  revenue  days_since_open\n",
              "Id                                 ...                                         \n",
              "0        Other   FC   1  4.0  4.0  ...    0    0    0  10033.0             3774\n",
              "1        Other   IL   3  4.0  4.0  ...    0    0    0   9355.0             3719\n",
              "2   Big Cities   FC   3  4.0  4.0  ...    0    0    0  11353.0             2762\n",
              "\n",
              "[3 rows x 41 columns]"
            ]
          },
          "metadata": {
            "tags": []
          },
          "execution_count": 11
        }
      ]
    },
    {
      "cell_type": "markdown",
      "metadata": {
        "id": "xGsJXaHaOtZ_"
      },
      "source": [
        "### Missing Values"
      ]
    },
    {
      "cell_type": "code",
      "metadata": {
        "colab": {
          "base_uri": "https://localhost:8080/"
        },
        "id": "M27Y33tWl_XA",
        "outputId": "7c0e540f-24ca-4dd5-8b80-13f0496cf1e9"
      },
      "source": [
        "# checking the number of nulls for each feature\n",
        "new_data.isnull().sum()"
      ],
      "execution_count": 12,
      "outputs": [
        {
          "output_type": "execute_result",
          "data": {
            "text/plain": [
              "City Group         0\n",
              "Type               0\n",
              "P1                 0\n",
              "P2                 0\n",
              "P3                 0\n",
              "P4                 0\n",
              "P5                 0\n",
              "P6                 0\n",
              "P7                 0\n",
              "P8                 0\n",
              "P9                 0\n",
              "P10                0\n",
              "P11                0\n",
              "P12                0\n",
              "P13                0\n",
              "P14                0\n",
              "P15                0\n",
              "P16                0\n",
              "P17                0\n",
              "P18                0\n",
              "P19                0\n",
              "P20                0\n",
              "P21                0\n",
              "P22                0\n",
              "P23                0\n",
              "P24                0\n",
              "P25                0\n",
              "P26                0\n",
              "P27                0\n",
              "P28                0\n",
              "P29                0\n",
              "P30                0\n",
              "P31                0\n",
              "P32                0\n",
              "P33                0\n",
              "P34                0\n",
              "P35                0\n",
              "P36                0\n",
              "P37                0\n",
              "revenue            0\n",
              "days_since_open    0\n",
              "dtype: int64"
            ]
          },
          "metadata": {
            "tags": []
          },
          "execution_count": 12
        }
      ]
    },
    {
      "cell_type": "markdown",
      "metadata": {
        "id": "wwAn9gYmPFlX"
      },
      "source": [
        "> There are no null values in the dataset. As such, there is no need to think about missing value imputation strategies to employ."
      ]
    },
    {
      "cell_type": "markdown",
      "metadata": {
        "id": "LvG22Q4PPRlR"
      },
      "source": [
        "### Feature Selection"
      ]
    },
    {
      "cell_type": "code",
      "metadata": {
        "colab": {
          "base_uri": "https://localhost:8080/"
        },
        "id": "NmMsOXHtPThH",
        "outputId": "f099f3a0-ea6f-4abd-f631-649fa2b9690d"
      },
      "source": [
        "new_data.shape"
      ],
      "execution_count": 13,
      "outputs": [
        {
          "output_type": "execute_result",
          "data": {
            "text/plain": [
              "(100000, 41)"
            ]
          },
          "metadata": {
            "tags": []
          },
          "execution_count": 13
        }
      ]
    },
    {
      "cell_type": "markdown",
      "metadata": {
        "id": "dP1ZiDzEPV5c"
      },
      "source": [
        "> We still have 40 features in the dataset, 37 of which represent the 3 categories of obfuscated data. We should look at these variables and select from among them the most relevant ones.\n",
        ">\n",
        "> We will use the VarianceThreshold method and select the features which show the largest variance."
      ]
    },
    {
      "cell_type": "code",
      "metadata": {
        "colab": {
          "base_uri": "https://localhost:8080/",
          "height": 195
        },
        "id": "i9Mh-H4Irtv9",
        "outputId": "33a1867c-90b5-4910-a872-d09037c2ec3b"
      },
      "source": [
        "num_vars=new_data.iloc[:, 2:39]\n",
        "num_vars.head(3)"
      ],
      "execution_count": 14,
      "outputs": [
        {
          "output_type": "execute_result",
          "data": {
            "text/html": [
              "<div>\n",
              "<style scoped>\n",
              "    .dataframe tbody tr th:only-of-type {\n",
              "        vertical-align: middle;\n",
              "    }\n",
              "\n",
              "    .dataframe tbody tr th {\n",
              "        vertical-align: top;\n",
              "    }\n",
              "\n",
              "    .dataframe thead th {\n",
              "        text-align: right;\n",
              "    }\n",
              "</style>\n",
              "<table border=\"1\" class=\"dataframe\">\n",
              "  <thead>\n",
              "    <tr style=\"text-align: right;\">\n",
              "      <th></th>\n",
              "      <th>P1</th>\n",
              "      <th>P2</th>\n",
              "      <th>P3</th>\n",
              "      <th>P4</th>\n",
              "      <th>P5</th>\n",
              "      <th>P6</th>\n",
              "      <th>P7</th>\n",
              "      <th>P8</th>\n",
              "      <th>P9</th>\n",
              "      <th>P10</th>\n",
              "      <th>P11</th>\n",
              "      <th>P12</th>\n",
              "      <th>P13</th>\n",
              "      <th>P14</th>\n",
              "      <th>P15</th>\n",
              "      <th>P16</th>\n",
              "      <th>P17</th>\n",
              "      <th>P18</th>\n",
              "      <th>P19</th>\n",
              "      <th>P20</th>\n",
              "      <th>P21</th>\n",
              "      <th>P22</th>\n",
              "      <th>P23</th>\n",
              "      <th>P24</th>\n",
              "      <th>P25</th>\n",
              "      <th>P26</th>\n",
              "      <th>P27</th>\n",
              "      <th>P28</th>\n",
              "      <th>P29</th>\n",
              "      <th>P30</th>\n",
              "      <th>P31</th>\n",
              "      <th>P32</th>\n",
              "      <th>P33</th>\n",
              "      <th>P34</th>\n",
              "      <th>P35</th>\n",
              "      <th>P36</th>\n",
              "      <th>P37</th>\n",
              "    </tr>\n",
              "    <tr>\n",
              "      <th>Id</th>\n",
              "      <th></th>\n",
              "      <th></th>\n",
              "      <th></th>\n",
              "      <th></th>\n",
              "      <th></th>\n",
              "      <th></th>\n",
              "      <th></th>\n",
              "      <th></th>\n",
              "      <th></th>\n",
              "      <th></th>\n",
              "      <th></th>\n",
              "      <th></th>\n",
              "      <th></th>\n",
              "      <th></th>\n",
              "      <th></th>\n",
              "      <th></th>\n",
              "      <th></th>\n",
              "      <th></th>\n",
              "      <th></th>\n",
              "      <th></th>\n",
              "      <th></th>\n",
              "      <th></th>\n",
              "      <th></th>\n",
              "      <th></th>\n",
              "      <th></th>\n",
              "      <th></th>\n",
              "      <th></th>\n",
              "      <th></th>\n",
              "      <th></th>\n",
              "      <th></th>\n",
              "      <th></th>\n",
              "      <th></th>\n",
              "      <th></th>\n",
              "      <th></th>\n",
              "      <th></th>\n",
              "      <th></th>\n",
              "      <th></th>\n",
              "    </tr>\n",
              "  </thead>\n",
              "  <tbody>\n",
              "    <tr>\n",
              "      <th>0</th>\n",
              "      <td>1</td>\n",
              "      <td>4.0</td>\n",
              "      <td>4.0</td>\n",
              "      <td>4.0</td>\n",
              "      <td>1</td>\n",
              "      <td>2</td>\n",
              "      <td>5</td>\n",
              "      <td>4</td>\n",
              "      <td>5</td>\n",
              "      <td>5</td>\n",
              "      <td>5</td>\n",
              "      <td>3</td>\n",
              "      <td>4.0</td>\n",
              "      <td>0</td>\n",
              "      <td>0</td>\n",
              "      <td>0</td>\n",
              "      <td>2</td>\n",
              "      <td>0</td>\n",
              "      <td>5</td>\n",
              "      <td>5</td>\n",
              "      <td>3</td>\n",
              "      <td>1</td>\n",
              "      <td>4</td>\n",
              "      <td>0</td>\n",
              "      <td>0</td>\n",
              "      <td>0.0</td>\n",
              "      <td>0.0</td>\n",
              "      <td>2.0</td>\n",
              "      <td>3.0</td>\n",
              "      <td>0</td>\n",
              "      <td>0</td>\n",
              "      <td>0</td>\n",
              "      <td>0</td>\n",
              "      <td>0</td>\n",
              "      <td>0</td>\n",
              "      <td>0</td>\n",
              "      <td>0</td>\n",
              "    </tr>\n",
              "    <tr>\n",
              "      <th>1</th>\n",
              "      <td>3</td>\n",
              "      <td>4.0</td>\n",
              "      <td>4.0</td>\n",
              "      <td>4.0</td>\n",
              "      <td>2</td>\n",
              "      <td>2</td>\n",
              "      <td>5</td>\n",
              "      <td>3</td>\n",
              "      <td>4</td>\n",
              "      <td>4</td>\n",
              "      <td>2</td>\n",
              "      <td>4</td>\n",
              "      <td>5.0</td>\n",
              "      <td>0</td>\n",
              "      <td>0</td>\n",
              "      <td>0</td>\n",
              "      <td>0</td>\n",
              "      <td>0</td>\n",
              "      <td>5</td>\n",
              "      <td>5</td>\n",
              "      <td>3</td>\n",
              "      <td>2</td>\n",
              "      <td>1</td>\n",
              "      <td>0</td>\n",
              "      <td>0</td>\n",
              "      <td>0.0</td>\n",
              "      <td>0.0</td>\n",
              "      <td>1.0</td>\n",
              "      <td>3.0</td>\n",
              "      <td>0</td>\n",
              "      <td>0</td>\n",
              "      <td>0</td>\n",
              "      <td>0</td>\n",
              "      <td>0</td>\n",
              "      <td>0</td>\n",
              "      <td>0</td>\n",
              "      <td>0</td>\n",
              "    </tr>\n",
              "    <tr>\n",
              "      <th>2</th>\n",
              "      <td>3</td>\n",
              "      <td>4.0</td>\n",
              "      <td>4.0</td>\n",
              "      <td>4.0</td>\n",
              "      <td>2</td>\n",
              "      <td>2</td>\n",
              "      <td>5</td>\n",
              "      <td>4</td>\n",
              "      <td>4</td>\n",
              "      <td>5</td>\n",
              "      <td>4</td>\n",
              "      <td>5</td>\n",
              "      <td>5.0</td>\n",
              "      <td>0</td>\n",
              "      <td>0</td>\n",
              "      <td>0</td>\n",
              "      <td>0</td>\n",
              "      <td>0</td>\n",
              "      <td>5</td>\n",
              "      <td>5</td>\n",
              "      <td>5</td>\n",
              "      <td>5</td>\n",
              "      <td>5</td>\n",
              "      <td>0</td>\n",
              "      <td>0</td>\n",
              "      <td>0.0</td>\n",
              "      <td>0.0</td>\n",
              "      <td>2.0</td>\n",
              "      <td>3.0</td>\n",
              "      <td>0</td>\n",
              "      <td>0</td>\n",
              "      <td>0</td>\n",
              "      <td>0</td>\n",
              "      <td>0</td>\n",
              "      <td>0</td>\n",
              "      <td>0</td>\n",
              "      <td>0</td>\n",
              "    </tr>\n",
              "  </tbody>\n",
              "</table>\n",
              "</div>"
            ],
            "text/plain": [
              "    P1   P2   P3   P4  P5  P6  P7  P8  ...  P30  P31  P32  P33  P34  P35  P36  P37\n",
              "Id                                     ...                                        \n",
              "0    1  4.0  4.0  4.0   1   2   5   4  ...    0    0    0    0    0    0    0    0\n",
              "1    3  4.0  4.0  4.0   2   2   5   3  ...    0    0    0    0    0    0    0    0\n",
              "2    3  4.0  4.0  4.0   2   2   5   4  ...    0    0    0    0    0    0    0    0\n",
              "\n",
              "[3 rows x 37 columns]"
            ]
          },
          "metadata": {
            "tags": []
          },
          "execution_count": 14
        }
      ]
    },
    {
      "cell_type": "code",
      "metadata": {
        "colab": {
          "base_uri": "https://localhost:8080/",
          "height": 341
        },
        "id": "ra7CgaSDwC7K",
        "outputId": "32499110-7bd6-413a-ab19-6b3456f06215"
      },
      "source": [
        "# creating a VarianceThreshold object with threshold=0\n",
        "var_thresh = VarianceThreshold(threshold=0)\n",
        "\n",
        "# standardizing the data\n",
        "std_num_vars = MinMaxScaler().fit_transform(num_vars)\n",
        "\n",
        "# fitting the object to the standardized dataset\n",
        "var_thresh.fit(std_num_vars)\n",
        "\n",
        "# creating a dataframe containing the variances for all the features in the dataset\n",
        "df_var=pd.DataFrame(var_thresh.variances_, columns=['Variance'])\\\n",
        "                .sort_values(by='Variance', ascending=False)\n",
        "# plotting the variances in df_var\n",
        "# we need to reset the index for the plot to make sense\n",
        "plt.figure(figsize=(10, 5))\n",
        "plt.plot(df_var.reset_index(drop=True))\n",
        "plt.grid(True)\n",
        "plt.hlines(y=0.05, xmin=0, xmax=len(df_var), linestyles='--', colors='red')\n",
        "plt.xlabel('Features')\n",
        "plt.xticks(range(0, len(df_var)))\n",
        "plt.ylabel('Variance')\n",
        "plt.yticks(np.arange(0, 0.13, 0.01))\n",
        "plt.legend('')\n",
        "plt.show()"
      ],
      "execution_count": 15,
      "outputs": [
        {
          "output_type": "display_data",
          "data": {
            "image/png": "[encoded data removed]",
            "text/plain": [
              "<Figure size 720x360 with 1 Axes>"
            ]
          },
          "metadata": {
            "tags": []
          }
        }
      ]
    },
    {
      "cell_type": "markdown",
      "metadata": {
        "id": "0HLP268XRwTX"
      },
      "source": [
        "> The variance seems to stabilize below 0.05 so we will only choose the features which have variance higher than 0.05."
      ]
    },
    {
      "cell_type": "code",
      "metadata": {
        "colab": {
          "base_uri": "https://localhost:8080/",
          "height": 300
        },
        "id": "PvN0WKb3wuYv",
        "outputId": "a11eba70-4d0c-4a76-b4de-bf195934fde9"
      },
      "source": [
        "df_var[df_var['Variance']>0.05]"
      ],
      "execution_count": 16,
      "outputs": [
        {
          "output_type": "execute_result",
          "data": {
            "text/html": [
              "<div>\n",
              "<style scoped>\n",
              "    .dataframe tbody tr th:only-of-type {\n",
              "        vertical-align: middle;\n",
              "    }\n",
              "\n",
              "    .dataframe tbody tr th {\n",
              "        vertical-align: top;\n",
              "    }\n",
              "\n",
              "    .dataframe thead th {\n",
              "        text-align: right;\n",
              "    }\n",
              "</style>\n",
              "<table border=\"1\" class=\"dataframe\">\n",
              "  <thead>\n",
              "    <tr style=\"text-align: right;\">\n",
              "      <th></th>\n",
              "      <th>Variance</th>\n",
              "    </tr>\n",
              "  </thead>\n",
              "  <tbody>\n",
              "    <tr>\n",
              "      <th>21</th>\n",
              "      <td>0.116141</td>\n",
              "    </tr>\n",
              "    <tr>\n",
              "      <th>9</th>\n",
              "      <td>0.086396</td>\n",
              "    </tr>\n",
              "    <tr>\n",
              "      <th>8</th>\n",
              "      <td>0.080526</td>\n",
              "    </tr>\n",
              "    <tr>\n",
              "      <th>19</th>\n",
              "      <td>0.066579</td>\n",
              "    </tr>\n",
              "    <tr>\n",
              "      <th>32</th>\n",
              "      <td>0.065434</td>\n",
              "    </tr>\n",
              "    <tr>\n",
              "      <th>6</th>\n",
              "      <td>0.058595</td>\n",
              "    </tr>\n",
              "    <tr>\n",
              "      <th>18</th>\n",
              "      <td>0.058111</td>\n",
              "    </tr>\n",
              "    <tr>\n",
              "      <th>10</th>\n",
              "      <td>0.052803</td>\n",
              "    </tr>\n",
              "  </tbody>\n",
              "</table>\n",
              "</div>"
            ],
            "text/plain": [
              "    Variance\n",
              "21  0.116141\n",
              "9   0.086396\n",
              "8   0.080526\n",
              "19  0.066579\n",
              "32  0.065434\n",
              "6   0.058595\n",
              "18  0.058111\n",
              "10  0.052803"
            ]
          },
          "metadata": {
            "tags": []
          },
          "execution_count": 16
        }
      ]
    },
    {
      "cell_type": "code",
      "metadata": {
        "colab": {
          "base_uri": "https://localhost:8080/",
          "height": 175
        },
        "id": "PwhFOky5xh6o",
        "outputId": "6cae8ea7-c076-4a97-f2ea-86d715ba940e"
      },
      "source": [
        "int_vars=list(df_var[df_var['Variance']>0.05].index)\n",
        "high_var=num_vars.iloc[:, int_vars]\n",
        "high_var.head(3)"
      ],
      "execution_count": 17,
      "outputs": [
        {
          "output_type": "execute_result",
          "data": {
            "text/html": [
              "<div>\n",
              "<style scoped>\n",
              "    .dataframe tbody tr th:only-of-type {\n",
              "        vertical-align: middle;\n",
              "    }\n",
              "\n",
              "    .dataframe tbody tr th {\n",
              "        vertical-align: top;\n",
              "    }\n",
              "\n",
              "    .dataframe thead th {\n",
              "        text-align: right;\n",
              "    }\n",
              "</style>\n",
              "<table border=\"1\" class=\"dataframe\">\n",
              "  <thead>\n",
              "    <tr style=\"text-align: right;\">\n",
              "      <th></th>\n",
              "      <th>P22</th>\n",
              "      <th>P10</th>\n",
              "      <th>P9</th>\n",
              "      <th>P20</th>\n",
              "      <th>P33</th>\n",
              "      <th>P7</th>\n",
              "      <th>P19</th>\n",
              "      <th>P11</th>\n",
              "    </tr>\n",
              "    <tr>\n",
              "      <th>Id</th>\n",
              "      <th></th>\n",
              "      <th></th>\n",
              "      <th></th>\n",
              "      <th></th>\n",
              "      <th></th>\n",
              "      <th></th>\n",
              "      <th></th>\n",
              "      <th></th>\n",
              "    </tr>\n",
              "  </thead>\n",
              "  <tbody>\n",
              "    <tr>\n",
              "      <th>0</th>\n",
              "      <td>1</td>\n",
              "      <td>5</td>\n",
              "      <td>5</td>\n",
              "      <td>5</td>\n",
              "      <td>0</td>\n",
              "      <td>5</td>\n",
              "      <td>5</td>\n",
              "      <td>5</td>\n",
              "    </tr>\n",
              "    <tr>\n",
              "      <th>1</th>\n",
              "      <td>2</td>\n",
              "      <td>4</td>\n",
              "      <td>4</td>\n",
              "      <td>5</td>\n",
              "      <td>0</td>\n",
              "      <td>5</td>\n",
              "      <td>5</td>\n",
              "      <td>2</td>\n",
              "    </tr>\n",
              "    <tr>\n",
              "      <th>2</th>\n",
              "      <td>5</td>\n",
              "      <td>5</td>\n",
              "      <td>4</td>\n",
              "      <td>5</td>\n",
              "      <td>0</td>\n",
              "      <td>5</td>\n",
              "      <td>5</td>\n",
              "      <td>4</td>\n",
              "    </tr>\n",
              "  </tbody>\n",
              "</table>\n",
              "</div>"
            ],
            "text/plain": [
              "    P22  P10  P9  P20  P33  P7  P19  P11\n",
              "Id                                      \n",
              "0     1    5   5    5    0   5    5    5\n",
              "1     2    4   4    5    0   5    5    2\n",
              "2     5    5   4    5    0   5    5    4"
            ]
          },
          "metadata": {
            "tags": []
          },
          "execution_count": 17
        }
      ]
    },
    {
      "cell_type": "markdown",
      "metadata": {
        "id": "Or_zhd92SSEd"
      },
      "source": [
        "> From the original 37 features of obfuscated data we are left with only 8, the features with the highest variance among them."
      ]
    },
    {
      "cell_type": "code",
      "metadata": {
        "colab": {
          "base_uri": "https://localhost:8080/",
          "height": 175
        },
        "id": "NfXdSca2ScWU",
        "outputId": "c28452ae-6d39-4c2f-89a8-93840456ad61"
      },
      "source": [
        "cols_to_keep = ['revenue', 'City Group', 'Type', 'days_since_open'] + list(high_var.columns)\n",
        "new_data = new_data[cols_to_keep]\n",
        "new_data.head(3)"
      ],
      "execution_count": 18,
      "outputs": [
        {
          "output_type": "execute_result",
          "data": {
            "text/html": [
              "<div>\n",
              "<style scoped>\n",
              "    .dataframe tbody tr th:only-of-type {\n",
              "        vertical-align: middle;\n",
              "    }\n",
              "\n",
              "    .dataframe tbody tr th {\n",
              "        vertical-align: top;\n",
              "    }\n",
              "\n",
              "    .dataframe thead th {\n",
              "        text-align: right;\n",
              "    }\n",
              "</style>\n",
              "<table border=\"1\" class=\"dataframe\">\n",
              "  <thead>\n",
              "    <tr style=\"text-align: right;\">\n",
              "      <th></th>\n",
              "      <th>revenue</th>\n",
              "      <th>City Group</th>\n",
              "      <th>Type</th>\n",
              "      <th>days_since_open</th>\n",
              "      <th>P22</th>\n",
              "      <th>P10</th>\n",
              "      <th>P9</th>\n",
              "      <th>P20</th>\n",
              "      <th>P33</th>\n",
              "      <th>P7</th>\n",
              "      <th>P19</th>\n",
              "      <th>P11</th>\n",
              "    </tr>\n",
              "    <tr>\n",
              "      <th>Id</th>\n",
              "      <th></th>\n",
              "      <th></th>\n",
              "      <th></th>\n",
              "      <th></th>\n",
              "      <th></th>\n",
              "      <th></th>\n",
              "      <th></th>\n",
              "      <th></th>\n",
              "      <th></th>\n",
              "      <th></th>\n",
              "      <th></th>\n",
              "      <th></th>\n",
              "    </tr>\n",
              "  </thead>\n",
              "  <tbody>\n",
              "    <tr>\n",
              "      <th>0</th>\n",
              "      <td>10033.0</td>\n",
              "      <td>Other</td>\n",
              "      <td>FC</td>\n",
              "      <td>3774</td>\n",
              "      <td>1</td>\n",
              "      <td>5</td>\n",
              "      <td>5</td>\n",
              "      <td>5</td>\n",
              "      <td>0</td>\n",
              "      <td>5</td>\n",
              "      <td>5</td>\n",
              "      <td>5</td>\n",
              "    </tr>\n",
              "    <tr>\n",
              "      <th>1</th>\n",
              "      <td>9355.0</td>\n",
              "      <td>Other</td>\n",
              "      <td>IL</td>\n",
              "      <td>3719</td>\n",
              "      <td>2</td>\n",
              "      <td>4</td>\n",
              "      <td>4</td>\n",
              "      <td>5</td>\n",
              "      <td>0</td>\n",
              "      <td>5</td>\n",
              "      <td>5</td>\n",
              "      <td>2</td>\n",
              "    </tr>\n",
              "    <tr>\n",
              "      <th>2</th>\n",
              "      <td>11353.0</td>\n",
              "      <td>Big Cities</td>\n",
              "      <td>FC</td>\n",
              "      <td>2762</td>\n",
              "      <td>5</td>\n",
              "      <td>5</td>\n",
              "      <td>4</td>\n",
              "      <td>5</td>\n",
              "      <td>0</td>\n",
              "      <td>5</td>\n",
              "      <td>5</td>\n",
              "      <td>4</td>\n",
              "    </tr>\n",
              "  </tbody>\n",
              "</table>\n",
              "</div>"
            ],
            "text/plain": [
              "    revenue  City Group Type  days_since_open  P22  ...  P20  P33  P7  P19  P11\n",
              "Id                                                  ...                        \n",
              "0   10033.0       Other   FC             3774    1  ...    5    0   5    5    5\n",
              "1    9355.0       Other   IL             3719    2  ...    5    0   5    5    2\n",
              "2   11353.0  Big Cities   FC             2762    5  ...    5    0   5    5    4\n",
              "\n",
              "[3 rows x 12 columns]"
            ]
          },
          "metadata": {
            "tags": []
          },
          "execution_count": 18
        }
      ]
    },
    {
      "cell_type": "markdown",
      "metadata": {
        "id": "1uQl_JyJXIVv"
      },
      "source": [
        "### Encoding categorical features - `City Group` and `Type`"
      ]
    },
    {
      "cell_type": "markdown",
      "metadata": {
        "id": "2IgKtEWSYrlj"
      },
      "source": [
        "> `City Group` and `Type` are categorical features, with strings as values. We need to convert these to a model friendly format. The get_dummies function from pandas performs One-Hot Encoding on a dataset, creating new features for each group in each feature, that represent the presence or absence of that feature in each row."
      ]
    },
    {
      "cell_type": "code",
      "metadata": {
        "colab": {
          "base_uri": "https://localhost:8080/",
          "height": 175
        },
        "id": "Fh6XTObREiMA",
        "outputId": "cf058d1d-4d0b-48e4-88ec-b10dd96de33c"
      },
      "source": [
        "# using get_dummies function\n",
        "enc_data=pd.get_dummies(new_data, columns=['City Group', 'Type'])\n",
        "\n",
        "# keeping only Big_Cities - Big Cities have value 1, Others have value 0\n",
        "enc_data=enc_data.drop('City Group_Other', axis=1)\n",
        "\n",
        "# renaming Big Cities\n",
        "enc_data=enc_data.rename(columns={'City Group_Big Cities':'Big_Cities'})\n",
        "\n",
        "enc_data.head(3)"
      ],
      "execution_count": 19,
      "outputs": [
        {
          "output_type": "execute_result",
          "data": {
            "text/html": [
              "<div>\n",
              "<style scoped>\n",
              "    .dataframe tbody tr th:only-of-type {\n",
              "        vertical-align: middle;\n",
              "    }\n",
              "\n",
              "    .dataframe tbody tr th {\n",
              "        vertical-align: top;\n",
              "    }\n",
              "\n",
              "    .dataframe thead th {\n",
              "        text-align: right;\n",
              "    }\n",
              "</style>\n",
              "<table border=\"1\" class=\"dataframe\">\n",
              "  <thead>\n",
              "    <tr style=\"text-align: right;\">\n",
              "      <th></th>\n",
              "      <th>revenue</th>\n",
              "      <th>days_since_open</th>\n",
              "      <th>P22</th>\n",
              "      <th>P10</th>\n",
              "      <th>P9</th>\n",
              "      <th>P20</th>\n",
              "      <th>P33</th>\n",
              "      <th>P7</th>\n",
              "      <th>P19</th>\n",
              "      <th>P11</th>\n",
              "      <th>Big_Cities</th>\n",
              "      <th>Type_DT</th>\n",
              "      <th>Type_FC</th>\n",
              "      <th>Type_IL</th>\n",
              "      <th>Type_MB</th>\n",
              "    </tr>\n",
              "    <tr>\n",
              "      <th>Id</th>\n",
              "      <th></th>\n",
              "      <th></th>\n",
              "      <th></th>\n",
              "      <th></th>\n",
              "      <th></th>\n",
              "      <th></th>\n",
              "      <th></th>\n",
              "      <th></th>\n",
              "      <th></th>\n",
              "      <th></th>\n",
              "      <th></th>\n",
              "      <th></th>\n",
              "      <th></th>\n",
              "      <th></th>\n",
              "      <th></th>\n",
              "    </tr>\n",
              "  </thead>\n",
              "  <tbody>\n",
              "    <tr>\n",
              "      <th>0</th>\n",
              "      <td>10033.0</td>\n",
              "      <td>3774</td>\n",
              "      <td>1</td>\n",
              "      <td>5</td>\n",
              "      <td>5</td>\n",
              "      <td>5</td>\n",
              "      <td>0</td>\n",
              "      <td>5</td>\n",
              "      <td>5</td>\n",
              "      <td>5</td>\n",
              "      <td>0</td>\n",
              "      <td>0</td>\n",
              "      <td>1</td>\n",
              "      <td>0</td>\n",
              "      <td>0</td>\n",
              "    </tr>\n",
              "    <tr>\n",
              "      <th>1</th>\n",
              "      <td>9355.0</td>\n",
              "      <td>3719</td>\n",
              "      <td>2</td>\n",
              "      <td>4</td>\n",
              "      <td>4</td>\n",
              "      <td>5</td>\n",
              "      <td>0</td>\n",
              "      <td>5</td>\n",
              "      <td>5</td>\n",
              "      <td>2</td>\n",
              "      <td>0</td>\n",
              "      <td>0</td>\n",
              "      <td>0</td>\n",
              "      <td>1</td>\n",
              "      <td>0</td>\n",
              "    </tr>\n",
              "    <tr>\n",
              "      <th>2</th>\n",
              "      <td>11353.0</td>\n",
              "      <td>2762</td>\n",
              "      <td>5</td>\n",
              "      <td>5</td>\n",
              "      <td>4</td>\n",
              "      <td>5</td>\n",
              "      <td>0</td>\n",
              "      <td>5</td>\n",
              "      <td>5</td>\n",
              "      <td>4</td>\n",
              "      <td>1</td>\n",
              "      <td>0</td>\n",
              "      <td>1</td>\n",
              "      <td>0</td>\n",
              "      <td>0</td>\n",
              "    </tr>\n",
              "  </tbody>\n",
              "</table>\n",
              "</div>"
            ],
            "text/plain": [
              "    revenue  days_since_open  P22  P10  ...  Type_DT  Type_FC  Type_IL  Type_MB\n",
              "Id                                      ...                                    \n",
              "0   10033.0             3774    1    5  ...        0        1        0        0\n",
              "1    9355.0             3719    2    4  ...        0        0        1        0\n",
              "2   11353.0             2762    5    5  ...        0        1        0        0\n",
              "\n",
              "[3 rows x 15 columns]"
            ]
          },
          "metadata": {
            "tags": []
          },
          "execution_count": 19
        }
      ]
    },
    {
      "cell_type": "markdown",
      "metadata": {
        "id": "2Kc8kuL7WX3t"
      },
      "source": [
        "### Creating classification target - `RevenueCategory`"
      ]
    },
    {
      "cell_type": "code",
      "metadata": {
        "colab": {
          "base_uri": "https://localhost:8080/",
          "height": 175
        },
        "id": "-JYkwzfRmclt",
        "outputId": "d3c93d60-445c-4168-a6ff-28172f458913"
      },
      "source": [
        "# creating new feature according to the project info\n",
        "rev_category=[]\n",
        "for val in data.revenue:\n",
        "  if val < 12000:\n",
        "    rev_category.append(\"<12K\")\n",
        "  elif val > 12000 and val < 20000:\n",
        "    rev_category.append(\"12K-20K\")\n",
        "  else:\n",
        "    rev_category.append(\">20K\")\n",
        "\n",
        "enc_data.insert(1, 'RevenueCategory', rev_category)\n",
        "enc_data.head(3)"
      ],
      "execution_count": 20,
      "outputs": [
        {
          "output_type": "execute_result",
          "data": {
            "text/html": [
              "<div>\n",
              "<style scoped>\n",
              "    .dataframe tbody tr th:only-of-type {\n",
              "        vertical-align: middle;\n",
              "    }\n",
              "\n",
              "    .dataframe tbody tr th {\n",
              "        vertical-align: top;\n",
              "    }\n",
              "\n",
              "    .dataframe thead th {\n",
              "        text-align: right;\n",
              "    }\n",
              "</style>\n",
              "<table border=\"1\" class=\"dataframe\">\n",
              "  <thead>\n",
              "    <tr style=\"text-align: right;\">\n",
              "      <th></th>\n",
              "      <th>revenue</th>\n",
              "      <th>RevenueCategory</th>\n",
              "      <th>days_since_open</th>\n",
              "      <th>P22</th>\n",
              "      <th>P10</th>\n",
              "      <th>P9</th>\n",
              "      <th>P20</th>\n",
              "      <th>P33</th>\n",
              "      <th>P7</th>\n",
              "      <th>P19</th>\n",
              "      <th>P11</th>\n",
              "      <th>Big_Cities</th>\n",
              "      <th>Type_DT</th>\n",
              "      <th>Type_FC</th>\n",
              "      <th>Type_IL</th>\n",
              "      <th>Type_MB</th>\n",
              "    </tr>\n",
              "    <tr>\n",
              "      <th>Id</th>\n",
              "      <th></th>\n",
              "      <th></th>\n",
              "      <th></th>\n",
              "      <th></th>\n",
              "      <th></th>\n",
              "      <th></th>\n",
              "      <th></th>\n",
              "      <th></th>\n",
              "      <th></th>\n",
              "      <th></th>\n",
              "      <th></th>\n",
              "      <th></th>\n",
              "      <th></th>\n",
              "      <th></th>\n",
              "      <th></th>\n",
              "      <th></th>\n",
              "    </tr>\n",
              "  </thead>\n",
              "  <tbody>\n",
              "    <tr>\n",
              "      <th>0</th>\n",
              "      <td>10033.0</td>\n",
              "      <td>&lt;12K</td>\n",
              "      <td>3774</td>\n",
              "      <td>1</td>\n",
              "      <td>5</td>\n",
              "      <td>5</td>\n",
              "      <td>5</td>\n",
              "      <td>0</td>\n",
              "      <td>5</td>\n",
              "      <td>5</td>\n",
              "      <td>5</td>\n",
              "      <td>0</td>\n",
              "      <td>0</td>\n",
              "      <td>1</td>\n",
              "      <td>0</td>\n",
              "      <td>0</td>\n",
              "    </tr>\n",
              "    <tr>\n",
              "      <th>1</th>\n",
              "      <td>9355.0</td>\n",
              "      <td>&lt;12K</td>\n",
              "      <td>3719</td>\n",
              "      <td>2</td>\n",
              "      <td>4</td>\n",
              "      <td>4</td>\n",
              "      <td>5</td>\n",
              "      <td>0</td>\n",
              "      <td>5</td>\n",
              "      <td>5</td>\n",
              "      <td>2</td>\n",
              "      <td>0</td>\n",
              "      <td>0</td>\n",
              "      <td>0</td>\n",
              "      <td>1</td>\n",
              "      <td>0</td>\n",
              "    </tr>\n",
              "    <tr>\n",
              "      <th>2</th>\n",
              "      <td>11353.0</td>\n",
              "      <td>&lt;12K</td>\n",
              "      <td>2762</td>\n",
              "      <td>5</td>\n",
              "      <td>5</td>\n",
              "      <td>4</td>\n",
              "      <td>5</td>\n",
              "      <td>0</td>\n",
              "      <td>5</td>\n",
              "      <td>5</td>\n",
              "      <td>4</td>\n",
              "      <td>1</td>\n",
              "      <td>0</td>\n",
              "      <td>1</td>\n",
              "      <td>0</td>\n",
              "      <td>0</td>\n",
              "    </tr>\n",
              "  </tbody>\n",
              "</table>\n",
              "</div>"
            ],
            "text/plain": [
              "    revenue RevenueCategory  days_since_open  ...  Type_FC  Type_IL  Type_MB\n",
              "Id                                            ...                           \n",
              "0   10033.0            <12K             3774  ...        1        0        0\n",
              "1    9355.0            <12K             3719  ...        0        1        0\n",
              "2   11353.0            <12K             2762  ...        1        0        0\n",
              "\n",
              "[3 rows x 16 columns]"
            ]
          },
          "metadata": {
            "tags": []
          },
          "execution_count": 20
        }
      ]
    },
    {
      "cell_type": "code",
      "metadata": {
        "colab": {
          "base_uri": "https://localhost:8080/"
        },
        "id": "t6-QuN-Lofs4",
        "outputId": "9aaa3d60-7fd0-4e30-9f6a-2cd13a8d5d18"
      },
      "source": [
        "# checking class balance\n",
        "enc_data.RevenueCategory.value_counts()"
      ],
      "execution_count": 21,
      "outputs": [
        {
          "output_type": "execute_result",
          "data": {
            "text/plain": [
              "12K-20K    43926\n",
              "<12K       43401\n",
              ">20K       12673\n",
              "Name: RevenueCategory, dtype: int64"
            ]
          },
          "metadata": {
            "tags": []
          },
          "execution_count": 21
        }
      ]
    },
    {
      "cell_type": "markdown",
      "metadata": {
        "id": "3rf7w9gmo7fv"
      },
      "source": [
        "> The class of >20K revenue has a much lower count than the rest. We will need to upsample the number of observations in this category to the number of observations of the remaining classes, as to avoid classification metrics' bias.\n",
        ">\n",
        "> We will need to create 30000 new observations for this class to match the number of elements in each of the other 2, using sklearn's resample function.\n",
        ">\n",
        "> Before we upsample, we will have to separate the dataset into 2, one for each task, as to not influence the values for the target variable `revenue` when we upsample the >20K category entries."
      ]
    },
    {
      "cell_type": "code",
      "metadata": {
        "colab": {
          "base_uri": "https://localhost:8080/"
        },
        "id": "fFNbachge5bM",
        "outputId": "a307a65d-d164-4754-f075-a3b3bc793f35"
      },
      "source": [
        "# separating minority and majority classes\n",
        "df_min = enc_data[enc_data['RevenueCategory']=='>20K']\n",
        "df_major = enc_data[enc_data['RevenueCategory']!='>20K']\n",
        "\n",
        "# upsampling\n",
        "df_min_upsample = resample(df_min,\n",
        "                           replace=True,\n",
        "                           n_samples=43000,\n",
        "                           random_state=0)\n",
        "\n",
        "# creating class_data, the dataset for the classification task\n",
        "class_data=pd.concat([df_major, df_min_upsample])\n",
        "class_data=class_data.drop('revenue', axis=1)\n",
        "\n",
        "class_data.RevenueCategory.value_counts()"
      ],
      "execution_count": 22,
      "outputs": [
        {
          "output_type": "execute_result",
          "data": {
            "text/plain": [
              "12K-20K    43926\n",
              "<12K       43401\n",
              ">20K       43000\n",
              "Name: RevenueCategory, dtype: int64"
            ]
          },
          "metadata": {
            "tags": []
          },
          "execution_count": 22
        }
      ]
    },
    {
      "cell_type": "markdown",
      "metadata": {
        "id": "oRNFKqU1gUZO"
      },
      "source": [
        "> While this choice fixes the imbalance issue, it can cause problems when it comes to overfitting, as we are introducing in the dataset more of the same data. We will have to take this into consideration when looking at the models' metrics."
      ]
    },
    {
      "cell_type": "code",
      "metadata": {
        "colab": {
          "base_uri": "https://localhost:8080/",
          "height": 211
        },
        "id": "ubC8ik2BhjAI",
        "outputId": "5dc96f62-b61d-4980-bffb-4153251320b3"
      },
      "source": [
        "print('There are', str(class_data.shape[0]), 'rows and', str(class_data.shape[1]-1), 'features in the classification dataset.\\n')\n",
        "class_data.head(3)"
      ],
      "execution_count": 23,
      "outputs": [
        {
          "output_type": "stream",
          "text": [
            "There are 130327 rows and 14 features in the classification dataset.\n",
            "\n"
          ],
          "name": "stdout"
        },
        {
          "output_type": "execute_result",
          "data": {
            "text/html": [
              "<div>\n",
              "<style scoped>\n",
              "    .dataframe tbody tr th:only-of-type {\n",
              "        vertical-align: middle;\n",
              "    }\n",
              "\n",
              "    .dataframe tbody tr th {\n",
              "        vertical-align: top;\n",
              "    }\n",
              "\n",
              "    .dataframe thead th {\n",
              "        text-align: right;\n",
              "    }\n",
              "</style>\n",
              "<table border=\"1\" class=\"dataframe\">\n",
              "  <thead>\n",
              "    <tr style=\"text-align: right;\">\n",
              "      <th></th>\n",
              "      <th>RevenueCategory</th>\n",
              "      <th>days_since_open</th>\n",
              "      <th>P22</th>\n",
              "      <th>P10</th>\n",
              "      <th>P9</th>\n",
              "      <th>P20</th>\n",
              "      <th>P33</th>\n",
              "      <th>P7</th>\n",
              "      <th>P19</th>\n",
              "      <th>P11</th>\n",
              "      <th>Big_Cities</th>\n",
              "      <th>Type_DT</th>\n",
              "      <th>Type_FC</th>\n",
              "      <th>Type_IL</th>\n",
              "      <th>Type_MB</th>\n",
              "    </tr>\n",
              "    <tr>\n",
              "      <th>Id</th>\n",
              "      <th></th>\n",
              "      <th></th>\n",
              "      <th></th>\n",
              "      <th></th>\n",
              "      <th></th>\n",
              "      <th></th>\n",
              "      <th></th>\n",
              "      <th></th>\n",
              "      <th></th>\n",
              "      <th></th>\n",
              "      <th></th>\n",
              "      <th></th>\n",
              "      <th></th>\n",
              "      <th></th>\n",
              "      <th></th>\n",
              "    </tr>\n",
              "  </thead>\n",
              "  <tbody>\n",
              "    <tr>\n",
              "      <th>0</th>\n",
              "      <td>&lt;12K</td>\n",
              "      <td>3774</td>\n",
              "      <td>1</td>\n",
              "      <td>5</td>\n",
              "      <td>5</td>\n",
              "      <td>5</td>\n",
              "      <td>0</td>\n",
              "      <td>5</td>\n",
              "      <td>5</td>\n",
              "      <td>5</td>\n",
              "      <td>0</td>\n",
              "      <td>0</td>\n",
              "      <td>1</td>\n",
              "      <td>0</td>\n",
              "      <td>0</td>\n",
              "    </tr>\n",
              "    <tr>\n",
              "      <th>1</th>\n",
              "      <td>&lt;12K</td>\n",
              "      <td>3719</td>\n",
              "      <td>2</td>\n",
              "      <td>4</td>\n",
              "      <td>4</td>\n",
              "      <td>5</td>\n",
              "      <td>0</td>\n",
              "      <td>5</td>\n",
              "      <td>5</td>\n",
              "      <td>2</td>\n",
              "      <td>0</td>\n",
              "      <td>0</td>\n",
              "      <td>0</td>\n",
              "      <td>1</td>\n",
              "      <td>0</td>\n",
              "    </tr>\n",
              "    <tr>\n",
              "      <th>2</th>\n",
              "      <td>&lt;12K</td>\n",
              "      <td>2762</td>\n",
              "      <td>5</td>\n",
              "      <td>5</td>\n",
              "      <td>4</td>\n",
              "      <td>5</td>\n",
              "      <td>0</td>\n",
              "      <td>5</td>\n",
              "      <td>5</td>\n",
              "      <td>4</td>\n",
              "      <td>1</td>\n",
              "      <td>0</td>\n",
              "      <td>1</td>\n",
              "      <td>0</td>\n",
              "      <td>0</td>\n",
              "    </tr>\n",
              "  </tbody>\n",
              "</table>\n",
              "</div>"
            ],
            "text/plain": [
              "   RevenueCategory  days_since_open  P22  ...  Type_FC  Type_IL  Type_MB\n",
              "Id                                        ...                           \n",
              "0             <12K             3774    1  ...        1        0        0\n",
              "1             <12K             3719    2  ...        0        1        0\n",
              "2             <12K             2762    5  ...        1        0        0\n",
              "\n",
              "[3 rows x 15 columns]"
            ]
          },
          "metadata": {
            "tags": []
          },
          "execution_count": 23
        }
      ]
    },
    {
      "cell_type": "code",
      "metadata": {
        "colab": {
          "base_uri": "https://localhost:8080/",
          "height": 211
        },
        "id": "d_q2MVVWi7YI",
        "outputId": "af53eec7-a8f1-4dc6-b33c-f3dd028ab61f"
      },
      "source": [
        "# creating reg_data, the dataset for the regression task\n",
        "reg_data=enc_data.drop('RevenueCategory', axis=1)\n",
        "\n",
        "print('There are', str(reg_data.shape[0]), 'rows and', str(reg_data.shape[1]-1), 'features in the regression dataset.\\n')\n",
        "reg_data.head(3)"
      ],
      "execution_count": 24,
      "outputs": [
        {
          "output_type": "stream",
          "text": [
            "There are 100000 rows and 14 features in the regression dataset.\n",
            "\n"
          ],
          "name": "stdout"
        },
        {
          "output_type": "execute_result",
          "data": {
            "text/html": [
              "<div>\n",
              "<style scoped>\n",
              "    .dataframe tbody tr th:only-of-type {\n",
              "        vertical-align: middle;\n",
              "    }\n",
              "\n",
              "    .dataframe tbody tr th {\n",
              "        vertical-align: top;\n",
              "    }\n",
              "\n",
              "    .dataframe thead th {\n",
              "        text-align: right;\n",
              "    }\n",
              "</style>\n",
              "<table border=\"1\" class=\"dataframe\">\n",
              "  <thead>\n",
              "    <tr style=\"text-align: right;\">\n",
              "      <th></th>\n",
              "      <th>revenue</th>\n",
              "      <th>days_since_open</th>\n",
              "      <th>P22</th>\n",
              "      <th>P10</th>\n",
              "      <th>P9</th>\n",
              "      <th>P20</th>\n",
              "      <th>P33</th>\n",
              "      <th>P7</th>\n",
              "      <th>P19</th>\n",
              "      <th>P11</th>\n",
              "      <th>Big_Cities</th>\n",
              "      <th>Type_DT</th>\n",
              "      <th>Type_FC</th>\n",
              "      <th>Type_IL</th>\n",
              "      <th>Type_MB</th>\n",
              "    </tr>\n",
              "    <tr>\n",
              "      <th>Id</th>\n",
              "      <th></th>\n",
              "      <th></th>\n",
              "      <th></th>\n",
              "      <th></th>\n",
              "      <th></th>\n",
              "      <th></th>\n",
              "      <th></th>\n",
              "      <th></th>\n",
              "      <th></th>\n",
              "      <th></th>\n",
              "      <th></th>\n",
              "      <th></th>\n",
              "      <th></th>\n",
              "      <th></th>\n",
              "      <th></th>\n",
              "    </tr>\n",
              "  </thead>\n",
              "  <tbody>\n",
              "    <tr>\n",
              "      <th>0</th>\n",
              "      <td>10033.0</td>\n",
              "      <td>3774</td>\n",
              "      <td>1</td>\n",
              "      <td>5</td>\n",
              "      <td>5</td>\n",
              "      <td>5</td>\n",
              "      <td>0</td>\n",
              "      <td>5</td>\n",
              "      <td>5</td>\n",
              "      <td>5</td>\n",
              "      <td>0</td>\n",
              "      <td>0</td>\n",
              "      <td>1</td>\n",
              "      <td>0</td>\n",
              "      <td>0</td>\n",
              "    </tr>\n",
              "    <tr>\n",
              "      <th>1</th>\n",
              "      <td>9355.0</td>\n",
              "      <td>3719</td>\n",
              "      <td>2</td>\n",
              "      <td>4</td>\n",
              "      <td>4</td>\n",
              "      <td>5</td>\n",
              "      <td>0</td>\n",
              "      <td>5</td>\n",
              "      <td>5</td>\n",
              "      <td>2</td>\n",
              "      <td>0</td>\n",
              "      <td>0</td>\n",
              "      <td>0</td>\n",
              "      <td>1</td>\n",
              "      <td>0</td>\n",
              "    </tr>\n",
              "    <tr>\n",
              "      <th>2</th>\n",
              "      <td>11353.0</td>\n",
              "      <td>2762</td>\n",
              "      <td>5</td>\n",
              "      <td>5</td>\n",
              "      <td>4</td>\n",
              "      <td>5</td>\n",
              "      <td>0</td>\n",
              "      <td>5</td>\n",
              "      <td>5</td>\n",
              "      <td>4</td>\n",
              "      <td>1</td>\n",
              "      <td>0</td>\n",
              "      <td>1</td>\n",
              "      <td>0</td>\n",
              "      <td>0</td>\n",
              "    </tr>\n",
              "  </tbody>\n",
              "</table>\n",
              "</div>"
            ],
            "text/plain": [
              "    revenue  days_since_open  P22  P10  ...  Type_DT  Type_FC  Type_IL  Type_MB\n",
              "Id                                      ...                                    \n",
              "0   10033.0             3774    1    5  ...        0        1        0        0\n",
              "1    9355.0             3719    2    4  ...        0        0        1        0\n",
              "2   11353.0             2762    5    5  ...        0        1        0        0\n",
              "\n",
              "[3 rows x 15 columns]"
            ]
          },
          "metadata": {
            "tags": []
          },
          "execution_count": 24
        }
      ]
    },
    {
      "cell_type": "markdown",
      "metadata": {
        "id": "a-4gf3bqhfhb"
      },
      "source": [
        "> This concludes the preprocessing part of the project. We are left with one dataset for each of the classification and regression tasks, containing over 100 thousand entries and 14 features. There are 2 target variables: `revenue` for the regression task and `RevenueCategory` for the classification task."
      ]
    },
    {
      "cell_type": "markdown",
      "metadata": {
        "id": "VFhZNxFZ45FM"
      },
      "source": [
        "## 2. Learning Simple Classifiers\n",
        "\n",
        "* Choose **`X` classifiers** (https://scikit-learn.org/stable/supervised_learning.html#supervised-learning).\n",
        "* Use **grid-search and stratified 10 fold cross-validation** to estimate the best parameters (https://scikit-learn.org/stable/model_selection.html#model-selection). \n",
        "* Present mean and standard deviation of accuracy, precision and recall.\n",
        "* Show confusion matrices."
      ]
    },
    {
      "cell_type": "markdown",
      "metadata": {
        "id": "uQG-GiSFXbQp"
      },
      "source": [
        "### Splitting and scaling the data\n"
      ]
    },
    {
      "cell_type": "code",
      "metadata": {
        "id": "IwqVLQOWzx5y",
        "colab": {
          "base_uri": "https://localhost:8080/"
        },
        "outputId": "367ec21b-bd6e-4c6d-ec48-2f315a3861d5"
      },
      "source": [
        "# splitting the data\n",
        "# define target variable revenue\n",
        "y=class_data['RevenueCategory']\n",
        "\n",
        "# split numerical data\n",
        "class_datax = class_data.iloc[:, 1:] \n",
        "X_train, X_test, y_train, y_test = train_test_split(class_datax, y, test_size=0.3, random_state=0)\n",
        "print(X_test.shape)\n",
        "\n",
        "# standardizing the data\n",
        "scaler=StandardScaler()\n",
        "X_train_scaled = scaler.fit_transform(X_train)\n",
        "X_test_scaled = scaler.transform(X_test)"
      ],
      "execution_count": null,
      "outputs": [
        {
          "output_type": "stream",
          "text": [
            "(39099, 14)\n"
          ],
          "name": "stdout"
        }
      ]
    },
    {
      "cell_type": "markdown",
      "metadata": {
        "id": "VBy7XWr4Xpi2"
      },
      "source": [
        "### Decision Tree Classifier\n"
      ]
    },
    {
      "cell_type": "code",
      "metadata": {
        "colab": {
          "base_uri": "https://localhost:8080/"
        },
        "id": "vm_qEeQm45GI",
        "outputId": "eebfb219-5da9-498b-d555-15c4ccca7b84"
      },
      "source": [
        "#implementing decision tree classifier with criterion = \"Gini\"\n",
        "dtc_Gini = tree.DecisionTreeClassifier() \n",
        "dtc_Gini = dtc_Gini.fit(X_train_scaled, y_train)\n",
        "print(\"Accuracy on training set:\",  dtc_Gini.score(X_train_scaled, y_train))"
      ],
      "execution_count": null,
      "outputs": [
        {
          "output_type": "stream",
          "text": [
            "Accuracy on training set: 0.9806967159205507\n"
          ],
          "name": "stdout"
        }
      ]
    },
    {
      "cell_type": "code",
      "metadata": {
        "colab": {
          "base_uri": "https://localhost:8080/"
        },
        "id": "RjN5lyLM4PfN",
        "outputId": "2e42bd2a-f08f-4389-b366-35116b1ff84d"
      },
      "source": [
        "y_test_pred = dtc_Gini.predict(X_test_scaled)\n",
        "print(\"Accuracy on test set:\",  dtc_Gini.score(X_test_scaled, y_test))"
      ],
      "execution_count": null,
      "outputs": [
        {
          "output_type": "stream",
          "text": [
            "Accuracy on test set: 0.826440573927722\n"
          ],
          "name": "stdout"
        }
      ]
    },
    {
      "cell_type": "code",
      "metadata": {
        "colab": {
          "base_uri": "https://localhost:8080/",
          "height": 301
        },
        "id": "OnnPpI22WwrE",
        "outputId": "d5816035-f264-4c29-aadd-359d72919a36"
      },
      "source": [
        "# confusion_matrix for decision tree gini\n",
        "cm_test = confusion_matrix(y_test, y_test_pred)\n",
        "\n",
        "sns.heatmap(cm_test.T, square=True, annot=True, fmt='d', cbar=False,\n",
        "            xticklabels= np.unique(y_test),\n",
        "            yticklabels= np.unique(y_test_pred))\n",
        "plt.xlabel('true label')\n",
        "plt.ylabel('predicted label');\n",
        "plt.title('Confusion Matrix DT - Test Set')\n",
        "plt.show()"
      ],
      "execution_count": null,
      "outputs": [
        {
          "output_type": "display_data",
          "data": {
            "image/png": "[encoded data removed]",
            "text/plain": [
              "<Figure size 432x288 with 1 Axes>"
            ]
          },
          "metadata": {
            "tags": []
          }
        }
      ]
    },
    {
      "cell_type": "markdown",
      "metadata": {
        "id": "nyvbcjQVc1Xe"
      },
      "source": [
        "> The classifier was less accurate in the test set with value equal to 0.83.\n",
        ">\n",
        "> The classifier classified correctly 83,7% of the y_test instances, having the most trouble in distinguishing the \"<12k\" and \"12k-20k\" labels."
      ]
    },
    {
      "cell_type": "markdown",
      "metadata": {
        "id": "HK_NEGZpaL9Y"
      },
      "source": [
        "#### Decision Tree best parameters:"
      ]
    },
    {
      "cell_type": "code",
      "metadata": {
        "colab": {
          "base_uri": "https://localhost:8080/"
        },
        "id": "SMEUvvYw51Ez",
        "outputId": "0880e1ee-a3ab-45cb-a096-88a59c9cf9e6"
      },
      "source": [
        "tree_para = {'criterion':['gini','entropy'],\n",
        "             'max_depth':[4,5,6,7,8,9,10,11,12,15,20,30,40,50,70,90,120,150]}\n",
        "\n",
        "gs_dtr = GridSearchCV(estimator=tree.DecisionTreeClassifier(), \n",
        "                  param_grid=tree_para, \n",
        "                  cv=10,\n",
        "                  n_jobs=-1\n",
        "                  ,verbose=2\n",
        "                  )\n",
        "\n",
        "gs_dtr.fit(X_train_scaled, y_train)\n",
        "print(gs_dtr.best_score_)\n",
        "print(gs_dtr.best_params_)"
      ],
      "execution_count": null,
      "outputs": [
        {
          "output_type": "stream",
          "text": [
            "Fitting 10 folds for each of 36 candidates, totalling 360 fits\n"
          ],
          "name": "stdout"
        },
        {
          "output_type": "stream",
          "text": [
            "[Parallel(n_jobs=-1)]: Using backend LokyBackend with 2 concurrent workers.\n",
            "[Parallel(n_jobs=-1)]: Done  37 tasks      | elapsed:    6.5s\n",
            "[Parallel(n_jobs=-1)]: Done 158 tasks      | elapsed:   39.3s\n",
            "[Parallel(n_jobs=-1)]: Done 360 out of 360 | elapsed:  1.6min finished\n"
          ],
          "name": "stderr"
        },
        {
          "output_type": "stream",
          "text": [
            "0.835741086103743\n",
            "{'criterion': 'entropy', 'max_depth': 20}\n"
          ],
          "name": "stdout"
        }
      ]
    },
    {
      "cell_type": "code",
      "metadata": {
        "colab": {
          "base_uri": "https://localhost:8080/",
          "height": 301
        },
        "id": "s9LLLY0k4bc8",
        "outputId": "8bec52d3-9ec0-4545-d793-e872da64a3a1"
      },
      "source": [
        "gs_tree = tree.DecisionTreeClassifier(criterion = 'entropy', max_depth =20)\n",
        "gs_tree = gs_tree.fit(X_train_scaled, y_train)\n",
        "\n",
        "cm_test = confusion_matrix(y_test, gs_y_test_pred)\n",
        "\n",
        "sns.heatmap(cm_test.T, square=True, annot=True, fmt='d', cbar=False,\n",
        "            xticklabels= np.unique(y_test),\n",
        "            yticklabels= np.unique(gs_y_test_pred))\n",
        "plt.xlabel('true label')\n",
        "plt.ylabel('predicted label');\n",
        "plt.title('Confusion Matrix DT - Test Set')\n",
        "plt.show()"
      ],
      "execution_count": null,
      "outputs": [
        {
          "output_type": "display_data",
          "data": {
            "image/png": "[encoded data removed]",
            "text/plain": [
              "<Figure size 432x288 with 1 Axes>"
            ]
          },
          "metadata": {
            "tags": []
          }
        }
      ]
    },
    {
      "cell_type": "code",
      "metadata": {
        "colab": {
          "base_uri": "https://localhost:8080/"
        },
        "id": "ry76DVLY7L5H",
        "outputId": "24806d8c-57c3-4935-af80-2d7004684108"
      },
      "source": [
        "model = tree.DecisionTreeClassifier(criterion = 'entropy', max_depth =20)\n",
        "\n",
        "scoring=['accuracy', 'precision_macro', 'recall_macro']\n",
        "\n",
        "scores = cross_validate(model, X_test_scaled, y_test, \n",
        "                         scoring=scoring, cv=10, n_jobs=-1)\n",
        "\n",
        "print('CV accuracy: %.3f +/- %.3f' % (np.mean(scores['test_accuracy']),\n",
        "                                      np.std(scores['test_accuracy'])))\n",
        "print('CV precision: %.3f +/- %.3f' % (np.mean(scores['test_precision_macro']),\n",
        "                                      np.std(scores['test_precision_macro'])))\n",
        "print('CV recall: %.3f +/- %.3f' % (np.mean(scores['test_recall_macro']),\n",
        "                                      np.std(scores['test_recall_macro'])))"
      ],
      "execution_count": null,
      "outputs": [
        {
          "output_type": "stream",
          "text": [
            "CV accuracy: 0.804 +/- 0.005\n",
            "CV precision: 0.802 +/- 0.005\n",
            "CV recall: 0.805 +/- 0.005\n"
          ],
          "name": "stdout"
        }
      ]
    },
    {
      "cell_type": "markdown",
      "metadata": {
        "id": "yJ6fBGMr5ZHD"
      },
      "source": [
        "> The classifier was more accurate in the test set with this optimal parameters than before.\n",
        ">\n",
        "> The classifier classified correctly 80.4% of the y_test instances."
      ]
    },
    {
      "cell_type": "markdown",
      "metadata": {
        "id": "FMwUopJHaVqN"
      },
      "source": [
        "### K-NearestNeighbors Classifier"
      ]
    },
    {
      "cell_type": "code",
      "metadata": {
        "colab": {
          "base_uri": "https://localhost:8080/"
        },
        "id": "GikTaF0r_ndz",
        "outputId": "fde8f03c-e095-47c0-bcdb-e86ce967a43a"
      },
      "source": [
        "#Classifier KNN\n",
        "knn = neighbors.KNeighborsClassifier(n_neighbors=10)\n",
        "knn = knn.fit(X_train_scaled, y_train)\n",
        "print(\"Accuracy on training set:\",  knn.score(X_train_scaled, y_train))"
      ],
      "execution_count": null,
      "outputs": [
        {
          "output_type": "stream",
          "text": [
            "Accuracy on training set: 0.8383719910553777\n"
          ],
          "name": "stdout"
        }
      ]
    },
    {
      "cell_type": "code",
      "metadata": {
        "colab": {
          "base_uri": "https://localhost:8080/"
        },
        "id": "sYxj11q0sI4x",
        "outputId": "98b2dba8-9954-4106-bb32-c29c7dc8c47c"
      },
      "source": [
        "y_test_pred_knn = knn.predict(X_test_scaled)\n",
        "print(\"Accuracy on test set:\",  knn.score(X_test_scaled, y_test))"
      ],
      "execution_count": null,
      "outputs": [
        {
          "output_type": "stream",
          "text": [
            "Accuracy on test set: 0.8090999769815085\n"
          ],
          "name": "stdout"
        }
      ]
    },
    {
      "cell_type": "code",
      "metadata": {
        "colab": {
          "base_uri": "https://localhost:8080/",
          "height": 301
        },
        "id": "70qTkDDAgzpa",
        "outputId": "ccc893bc-6af9-4ed6-fdd4-92e6ce5315e2"
      },
      "source": [
        "cm_test = confusion_matrix(y_test, y_test_pred_knn)\n",
        "\n",
        "sns.heatmap(cm_test.T, square=True, annot=True, fmt='d', cbar=False,\n",
        "            xticklabels= np.unique(y_test),\n",
        "            yticklabels= np.unique(y_test_pred_knn))\n",
        "plt.xlabel('true label')\n",
        "plt.ylabel('predicted label');\n",
        "plt.title('Confusion Matrix KNN - Test Set')\n",
        "plt.show()"
      ],
      "execution_count": null,
      "outputs": [
        {
          "output_type": "display_data",
          "data": {
            "image/png": "[encoded data removed]",
            "text/plain": [
              "<Figure size 432x288 with 1 Axes>"
            ]
          },
          "metadata": {
            "tags": []
          }
        }
      ]
    },
    {
      "cell_type": "markdown",
      "metadata": {
        "id": "ZSwMkbbchRsP"
      },
      "source": [
        "> The classifier classified correctly 80,9% of the y_test instances."
      ]
    },
    {
      "cell_type": "code",
      "metadata": {
        "colab": {
          "base_uri": "https://localhost:8080/",
          "height": 397
        },
        "id": "CE3gJ_jfsME8",
        "outputId": "194b4c94-bde2-4280-85e6-51bd74600399"
      },
      "source": [
        "results={}\n",
        "for k in range(5, 56, 10):\n",
        "  knClass=neighbors.KNeighborsClassifier(n_neighbors=k, algorithm='auto', weights='distance')\n",
        "  knClass.fit(X_train_scaled, y_train)\n",
        "  print(\"k:\",k,\"Accuracy on training set:\",  knClass.score(X_train_scaled, y_train))\n",
        "  results[k]=knClass.score(X_train_scaled, y_train)\n",
        "\n",
        "n_neighbors=list(results.keys())\n",
        "knn_acc=list(results.values())\n",
        "plt.plot(n_neighbors, knn_acc)\n",
        "plt.xticks(n_neighbors)\n",
        "plt.grid(True)\n",
        "plt.show()"
      ],
      "execution_count": null,
      "outputs": [
        {
          "output_type": "stream",
          "text": [
            "k: 5 Accuracy on training set: 0.9802144078572368\n",
            "k: 15 Accuracy on training set: 0.9804884465295742\n",
            "k: 25 Accuracy on training set: 0.9806967159205507\n",
            "k: 35 Accuracy on training set: 0.9806967159205507\n",
            "k: 45 Accuracy on training set: 0.9806967159205507\n",
            "k: 55 Accuracy on training set: 0.9806967159205507\n",
            "done\n"
          ],
          "name": "stdout"
        },
        {
          "output_type": "display_data",
          "data": {
            "image/png": "[encoded data removed]",
            "text/plain": [
              "<Figure size 432x288 with 1 Axes>"
            ]
          },
          "metadata": {
            "tags": []
          }
        }
      ]
    },
    {
      "cell_type": "markdown",
      "metadata": {
        "id": "d-cw9prYafgP"
      },
      "source": [
        "#### K-NearestNeighbors best parameters:\n"
      ]
    },
    {
      "cell_type": "code",
      "metadata": {
        "id": "3M0fbnUN0Bx7"
      },
      "source": [
        "knr_params={'n_neighbors': [10,11,12,13,14,15]\n",
        "            #,\n",
        "            #'weights': ['uniform', 'distance'],\n",
        "            #'algorithm': ['auto', 'ball_tree', 'kd_tree', 'brute']\n",
        "            }\n",
        "\n",
        "gs_knr = GridSearchCV(estimator=neighbors.KNeighborsClassifier(), \n",
        "                  param_grid=knr_params, \n",
        "                  cv=10,\n",
        "                  n_jobs=-1)\n",
        "\n",
        "gs_knr.fit(X_train_scaled, y_train)\n",
        "print(gs_knr.best_score_)\n",
        "print(gs_knr.best_params_)"
      ],
      "execution_count": null,
      "outputs": []
    },
    {
      "cell_type": "markdown",
      "metadata": {
        "id": "qOmlVXBp1VKQ"
      },
      "source": [
        "> We couldn't find the best parameters for the k_NearestNeighbors classifier because it crashed our runtime repeatedly, but we know it's somewhere near k=15."
      ]
    },
    {
      "cell_type": "code",
      "metadata": {
        "colab": {
          "base_uri": "https://localhost:8080/",
          "height": 392
        },
        "id": "zf_PGVAk1_SU",
        "outputId": "68ede1fe-12cc-4cd1-a005-6c6b96d0c3b9"
      },
      "source": [
        "gs_knn = neighbors.KNeighborsClassifier(n_neighbors=15)\n",
        "gs_knn = gs_knn.fit(X_train_scaled, y_train)\n",
        "\n",
        "scoring=['accuracy', 'precision_macro', 'recall_macro']\n",
        "\n",
        "scores = cross_validate(gs_knn, X_test_scaled, y_test, \n",
        "                         scoring=scoring, cv=10, n_jobs=-1)\n",
        "\n",
        "print('CV accuracy: %.3f +/- %.3f' % (np.mean(scores['test_accuracy']),\n",
        "                                      np.std(scores['test_accuracy'])))\n",
        "print('CV precision: %.3f +/- %.3f' % (np.mean(scores['test_precision_macro']),\n",
        "                                      np.std(scores['test_precision_macro'])))\n",
        "print('CV recall: %.3f +/- %.3f' % (np.mean(scores['test_recall_macro']),\n",
        "                                      np.std(scores['test_recall_macro'])))\n",
        "print('\\n')\n",
        "\n",
        "cm_test = confusion_matrix(y_test, y_test_pred_knn)\n",
        "\n",
        "sns.heatmap(cm_test.T, square=True, annot=True, fmt='d', cbar=False,\n",
        "            xticklabels= np.unique(y_test),\n",
        "            yticklabels= np.unique(y_test_pred_knn))\n",
        "plt.xlabel('true label')\n",
        "plt.ylabel('predicted label');\n",
        "plt.title('Confusion Matrix KNN - Test Set')\n",
        "plt.show()"
      ],
      "execution_count": null,
      "outputs": [
        {
          "output_type": "stream",
          "text": [
            "CV accuracy: 0.804 +/- 0.006\n",
            "CV precision: 0.803 +/- 0.005\n",
            "CV recall: 0.804 +/- 0.006\n",
            "\n",
            "\n"
          ],
          "name": "stdout"
        },
        {
          "output_type": "display_data",
          "data": {
            "image/png": "[encoded data removed]",
            "text/plain": [
              "<Figure size 432x288 with 1 Axes>"
            ]
          },
          "metadata": {
            "tags": []
          }
        }
      ]
    },
    {
      "cell_type": "markdown",
      "metadata": {
        "id": "-KEw-Hho3dln"
      },
      "source": [
        "> With k=15 the classifier was able to perform better and classified correctly 80.4% of the y_test instances."
      ]
    },
    {
      "cell_type": "markdown",
      "metadata": {
        "id": "qql5SrJsarcd"
      },
      "source": [
        "### Gaussian Naive Bayes Classifier"
      ]
    },
    {
      "cell_type": "code",
      "metadata": {
        "colab": {
          "base_uri": "https://localhost:8080/"
        },
        "id": "r8aMxnNLxy6Q",
        "outputId": "ef123ce4-7236-452b-b29f-aafd65533f86"
      },
      "source": [
        "gnb = GaussianNB()\n",
        "gnb = gnb.fit(X_train_scaled, y_train)\n",
        "print(\"Accuracy on training set:\",  gnb.score(X_train_scaled, y_train))"
      ],
      "execution_count": null,
      "outputs": [
        {
          "output_type": "stream",
          "text": [
            "Accuracy on training set: 0.7651598193537072\n"
          ],
          "name": "stdout"
        }
      ]
    },
    {
      "cell_type": "code",
      "metadata": {
        "colab": {
          "base_uri": "https://localhost:8080/"
        },
        "id": "C-q-CRAix6_H",
        "outputId": "02e6421b-95a3-4085-c4c2-2386382fbcb0"
      },
      "source": [
        "y_test_pred_gnb = gnb.predict(X_test_scaled)\n",
        "y_test_pred_gnb\n",
        "\n",
        "print(\"Accuracy on test set:\",  gnb.score(X_test_scaled, y_test))"
      ],
      "execution_count": null,
      "outputs": [
        {
          "output_type": "stream",
          "text": [
            "Accuracy on test set: 0.7651602342770915\n"
          ],
          "name": "stdout"
        }
      ]
    },
    {
      "cell_type": "code",
      "metadata": {
        "colab": {
          "base_uri": "https://localhost:8080/",
          "height": 301
        },
        "id": "C0wZ_evuyJOX",
        "outputId": "82465e52-62ca-4d9e-ba1c-b11bd7749706"
      },
      "source": [
        "sns.heatmap(cm_test.T, square=True, annot=True, fmt='d', cbar=False,\n",
        "            xticklabels= np.unique(y_test),\n",
        "            yticklabels= np.unique(y_test_pred_gnb))\n",
        "plt.xlabel('true label')\n",
        "plt.ylabel('predicted label');\n",
        "plt.title('Confusion Matrix Naive Bayes - Test Set')\n",
        "plt.show()"
      ],
      "execution_count": null,
      "outputs": [
        {
          "output_type": "display_data",
          "data": {
            "image/png": "[encoded data removed]",
            "text/plain": [
              "<Figure size 432x288 with 1 Axes>"
            ]
          },
          "metadata": {
            "tags": []
          }
        }
      ]
    },
    {
      "cell_type": "markdown",
      "metadata": {
        "id": "p-OdxZLbynbs"
      },
      "source": [
        "> The classifier as the same accuracy for the test set and the train set. It classified correctly 76.5% of the y_test instances."
      ]
    },
    {
      "cell_type": "markdown",
      "metadata": {
        "id": "dBL146Nna2v8"
      },
      "source": [
        "#### Gaussian Naive Bayes best parameters:"
      ]
    },
    {
      "cell_type": "code",
      "metadata": {
        "colab": {
          "base_uri": "https://localhost:8080/"
        },
        "id": "dKN1bMru9xz7",
        "outputId": "a932dc9e-cb38-4d0e-ab82-c651c9278a93"
      },
      "source": [
        "nb_classifier = GaussianNB()\n",
        "\n",
        "params_NB = {'var_smoothing': np.logspace(0,-9, num=100)}\n",
        "gs_NB = GridSearchCV(estimator=nb_classifier, \n",
        "                 param_grid=params_NB, \n",
        "                 cv=10,   # use any cross validation technique \n",
        "                 verbose=1, \n",
        "                 scoring='accuracy') \n",
        "gs_NB.fit(X_train_scaled, y_train)\n",
        "\n",
        "gs_NB.best_params_"
      ],
      "execution_count": null,
      "outputs": [
        {
          "output_type": "stream",
          "text": [
            "Fitting 10 folds for each of 100 candidates, totalling 1000 fits\n"
          ],
          "name": "stdout"
        },
        {
          "output_type": "stream",
          "text": [
            "[Parallel(n_jobs=1)]: Using backend SequentialBackend with 1 concurrent workers.\n",
            "[Parallel(n_jobs=1)]: Done 1000 out of 1000 | elapsed:  2.1min finished\n"
          ],
          "name": "stderr"
        },
        {
          "output_type": "execute_result",
          "data": {
            "text/plain": [
              "{'var_smoothing': 0.0002848035868435802}"
            ]
          },
          "metadata": {
            "tags": []
          },
          "execution_count": 39
        }
      ]
    },
    {
      "cell_type": "code",
      "metadata": {
        "colab": {
          "base_uri": "https://localhost:8080/",
          "height": 392
        },
        "id": "0Rh-HRhEFvJ6",
        "outputId": "1806c7ce-b71a-4d7b-de97-d6d93a40d519"
      },
      "source": [
        "gs_gnb = GaussianNB(var_smoothing= 0.0002848035868435802)\n",
        "gs_gnb = gs_gnb.fit(X_train_scaled, y_train)\n",
        "\n",
        "scoring=['accuracy', 'precision_macro', 'recall_macro']\n",
        "\n",
        "scores = cross_validate(gs_gnb, X_test_scaled, y_test, \n",
        "                         scoring=scoring, cv=10, n_jobs=-1)\n",
        "\n",
        "print('CV accuracy: %.3f +/- %.3f' % (np.mean(scores['test_accuracy']),\n",
        "                                      np.std(scores['test_accuracy'])))\n",
        "print('CV precision: %.3f +/- %.3f' % (np.mean(scores['test_precision_macro']),\n",
        "                                      np.std(scores['test_precision_macro'])))\n",
        "print('CV recall: %.3f +/- %.3f' % (np.mean(scores['test_recall_macro']),\n",
        "                                      np.std(scores['test_recall_macro'])))\n",
        "print('\\n')\n",
        "\n",
        "sns.heatmap(cm_test.T, square=True, annot=True, fmt='d', cbar=False,\n",
        "            xticklabels= np.unique(y_test),\n",
        "            yticklabels= np.unique(y_test_pred_gnb))\n",
        "plt.xlabel('true label')\n",
        "plt.ylabel('predicted label');\n",
        "plt.title('Confusion Matrix Naive Bayes - Test Set')\n",
        "plt.show()"
      ],
      "execution_count": null,
      "outputs": [
        {
          "output_type": "stream",
          "text": [
            "CV accuracy: 0.764 +/- 0.006\n",
            "CV precision: 0.758 +/- 0.007\n",
            "CV recall: 0.764 +/- 0.006\n",
            "\n",
            "\n"
          ],
          "name": "stdout"
        },
        {
          "output_type": "display_data",
          "data": {
            "image/png": "[encoded data removed]",
            "text/plain": [
              "<Figure size 432x288 with 1 Axes>"
            ]
          },
          "metadata": {
            "tags": []
          }
        }
      ]
    },
    {
      "cell_type": "markdown",
      "metadata": {
        "id": "-xFqxRqny7by"
      },
      "source": [
        "> Theoretically, with the grid search optimal parameters, these results should be more accurate. However, the classifier performed about the same with or without the best parameters."
      ]
    },
    {
      "cell_type": "markdown",
      "metadata": {
        "id": "sqRcrd1va8Ox"
      },
      "source": [
        "### Logistic Regression Classifier"
      ]
    },
    {
      "cell_type": "code",
      "metadata": {
        "colab": {
          "base_uri": "https://localhost:8080/"
        },
        "id": "gAxeWiq7zcxh",
        "outputId": "15f9d338-5199-451a-b627-0c01babd7b49"
      },
      "source": [
        "# Logistic Regression\n",
        "logreg = LogisticRegression(C=1e5)\n",
        "logreg.fit(X_train_scaled, y_train)\n",
        "print(\"Accuracy on training set:\",  logreg.score(X_train_scaled, y_train))"
      ],
      "execution_count": null,
      "outputs": [
        {
          "output_type": "stream",
          "text": [
            "Accuracy on training set: 0.7952054193887842\n"
          ],
          "name": "stdout"
        }
      ]
    },
    {
      "cell_type": "code",
      "metadata": {
        "colab": {
          "base_uri": "https://localhost:8080/"
        },
        "id": "B9HNDrRtz97m",
        "outputId": "ccd03775-7e56-4d13-8bcd-fe5be5448e95"
      },
      "source": [
        "y_test_pred_logreg = logreg.predict(X_test_scaled)\n",
        "y_test_pred_logreg\n",
        "\n",
        "print(\"Accuracy on test set:\",  logreg.score(X_test_scaled, y_test))"
      ],
      "execution_count": null,
      "outputs": [
        {
          "output_type": "stream",
          "text": [
            "Accuracy on test set: 0.7940868052891378\n"
          ],
          "name": "stdout"
        }
      ]
    },
    {
      "cell_type": "code",
      "metadata": {
        "colab": {
          "base_uri": "https://localhost:8080/",
          "height": 301
        },
        "id": "OArhzRrU0FUI",
        "outputId": "5117a237-767f-446a-b539-27026046c9f8"
      },
      "source": [
        "cm_test = confusion_matrix(y_test, y_test_pred_logreg)\n",
        "\n",
        "sns.heatmap(cm_test.T, square=True, annot=True, fmt='d', cbar=False,\n",
        "            xticklabels= np.unique(y_test),\n",
        "            yticklabels= np.unique(y_test_pred_logreg))\n",
        "plt.xlabel('true label')\n",
        "plt.ylabel('predicted label');\n",
        "plt.title('Confusion Matrix - Test Set')\n",
        "plt.show()"
      ],
      "execution_count": null,
      "outputs": [
        {
          "output_type": "display_data",
          "data": {
            "image/png": "[encoded data removed]",
            "text/plain": [
              "<Figure size 432x288 with 1 Axes>"
            ]
          },
          "metadata": {
            "tags": []
          }
        }
      ]
    },
    {
      "cell_type": "markdown",
      "metadata": {
        "id": "1eSlTGKKzYX-"
      },
      "source": [
        "> The classifier has about the same accuracy in the training and test sets.\n",
        "> \n",
        "> It labeled correctly only 79,4% of the y_test instances."
      ]
    },
    {
      "cell_type": "markdown",
      "metadata": {
        "id": "TRAJnBkabASI"
      },
      "source": [
        "#### Logistic Regression best parameters:\n"
      ]
    },
    {
      "cell_type": "code",
      "metadata": {
        "id": "dzfGCps6WwKV",
        "colab": {
          "base_uri": "https://localhost:8080/"
        },
        "outputId": "26927259-1c30-41d9-e4c5-f6bd89c92196"
      },
      "source": [
        "gs_LRclass=GridSearchCV(cv=10,\n",
        "             estimator=LogisticRegression(\n",
        "                                          intercept_scaling=1,   \n",
        "               dual=False, fit_intercept=True, penalty='l2', tol=0.0001),\n",
        "             param_grid={'C': [0.001, 0.01, 0.1, 1, 10, 100, 1000,10000,100000,1000000]})\n",
        "\n",
        "\n",
        "gs_LRclass.fit(X_train_scaled, y_train)\n",
        "\n",
        "gs_LRclass.best_params_"
      ],
      "execution_count": null,
      "outputs": [
        {
          "output_type": "execute_result",
          "data": {
            "text/plain": [
              "{'C': 100}"
            ]
          },
          "metadata": {
            "tags": []
          },
          "execution_count": 122
        }
      ]
    },
    {
      "cell_type": "code",
      "metadata": {
        "colab": {
          "base_uri": "https://localhost:8080/",
          "height": 392
        },
        "id": "BM6HcIpKNM01",
        "outputId": "aa52ce6a-f598-4d90-97b5-dec97b727db3"
      },
      "source": [
        "gs_logreg = LogisticRegression(C=100)\n",
        "gs_logreg.fit(X_train_scaled, y_train)\n",
        "\n",
        "scoring=['accuracy', 'precision_macro', 'recall_macro']\n",
        "\n",
        "scores = cross_validate(gs_logreg, X_test_scaled, y_test, \n",
        "                         scoring=scoring, cv=10, n_jobs=-1)\n",
        "\n",
        "print('CV accuracy: %.3f +/- %.3f' % (np.mean(scores['test_accuracy']),\n",
        "                                      np.std(scores['test_accuracy'])))\n",
        "print('CV precision: %.3f +/- %.3f' % (np.mean(scores['test_precision_macro']),\n",
        "                                      np.std(scores['test_precision_macro'])))\n",
        "print('CV recall: %.3f +/- %.3f' % (np.mean(scores['test_recall_macro']),\n",
        "                                      np.std(scores['test_recall_macro'])))\n",
        "print('\\n')\n",
        "\n",
        "cm_test = confusion_matrix(y_test, y_test_pred_logreg)\n",
        "\n",
        "sns.heatmap(cm_test.T, square=True, annot=True, fmt='d', cbar=False,\n",
        "            xticklabels= np.unique(y_test),\n",
        "            yticklabels= np.unique(y_test_pred_logreg))\n",
        "plt.xlabel('true label')\n",
        "plt.ylabel('predicted label');\n",
        "plt.title('Confusion Matrix - Test Set')\n",
        "plt.show()"
      ],
      "execution_count": null,
      "outputs": [
        {
          "output_type": "stream",
          "text": [
            "CV accuracy: 0.794 +/- 0.007\n",
            "CV precision: 0.796 +/- 0.006\n",
            "CV recall: 0.795 +/- 0.007\n",
            "\n",
            "\n"
          ],
          "name": "stdout"
        },
        {
          "output_type": "display_data",
          "data": {
            "image/png": "[encoded data removed]",
            "text/plain": [
              "<Figure size 432x288 with 1 Axes>"
            ]
          },
          "metadata": {
            "tags": []
          }
        }
      ]
    },
    {
      "cell_type": "markdown",
      "metadata": {
        "id": "nUjvZYmk2vXT"
      },
      "source": [
        "### Conclusions Classifiers\n",
        "\n",
        "> The best classifier for our dataset was the decision tree, it was the most accurate and the one which classified correctly the most target instances."
      ]
    },
    {
      "cell_type": "markdown",
      "metadata": {
        "id": "IDxfd9RWk-pe"
      },
      "source": [
        "## 3. Learning Simple Regressors\n",
        "\n",
        "* Choose **`X` regressors** (https://scikit-learn.org/stable/supervised_learning.html#supervised-learning).\n",
        "* Use **grid-search and 10 fold cross-validation** to estimate the best parameters (https://scikit-learn.org/stable/model_selection.html#model-selection). \n",
        "* Use the mean absolute error regression loss, or other relevant metrics."
      ]
    },
    {
      "cell_type": "markdown",
      "metadata": {
        "id": "X71nw4kYmIL9"
      },
      "source": [
        "> As we saw at the end of the preprocessing stage, we were left with 2 datasets, one for each task. For the regression task, the dataset to be used is `reg_data`, a dataset with 14 features, where the target variable is the continuous feature `revenue`, the amount of money each restaurant made in a year."
      ]
    },
    {
      "cell_type": "code",
      "metadata": {
        "colab": {
          "base_uri": "https://localhost:8080/",
          "height": 175
        },
        "id": "QtMLSdSOqECm",
        "outputId": "22abc5ef-5850-4742-a9ac-3cefa78cb406"
      },
      "source": [
        "reg_data.head(3)"
      ],
      "execution_count": null,
      "outputs": [
        {
          "output_type": "execute_result",
          "data": {
            "text/html": [
              "<div>\n",
              "<style scoped>\n",
              "    .dataframe tbody tr th:only-of-type {\n",
              "        vertical-align: middle;\n",
              "    }\n",
              "\n",
              "    .dataframe tbody tr th {\n",
              "        vertical-align: top;\n",
              "    }\n",
              "\n",
              "    .dataframe thead th {\n",
              "        text-align: right;\n",
              "    }\n",
              "</style>\n",
              "<table border=\"1\" class=\"dataframe\">\n",
              "  <thead>\n",
              "    <tr style=\"text-align: right;\">\n",
              "      <th></th>\n",
              "      <th>revenue</th>\n",
              "      <th>days_since_open</th>\n",
              "      <th>P22</th>\n",
              "      <th>P10</th>\n",
              "      <th>P9</th>\n",
              "      <th>P20</th>\n",
              "      <th>P33</th>\n",
              "      <th>P7</th>\n",
              "      <th>P19</th>\n",
              "      <th>P11</th>\n",
              "      <th>Big_Cities</th>\n",
              "      <th>Type_DT</th>\n",
              "      <th>Type_FC</th>\n",
              "      <th>Type_IL</th>\n",
              "      <th>Type_MB</th>\n",
              "    </tr>\n",
              "    <tr>\n",
              "      <th>Id</th>\n",
              "      <th></th>\n",
              "      <th></th>\n",
              "      <th></th>\n",
              "      <th></th>\n",
              "      <th></th>\n",
              "      <th></th>\n",
              "      <th></th>\n",
              "      <th></th>\n",
              "      <th></th>\n",
              "      <th></th>\n",
              "      <th></th>\n",
              "      <th></th>\n",
              "      <th></th>\n",
              "      <th></th>\n",
              "      <th></th>\n",
              "    </tr>\n",
              "  </thead>\n",
              "  <tbody>\n",
              "    <tr>\n",
              "      <th>0</th>\n",
              "      <td>10033.0</td>\n",
              "      <td>3774</td>\n",
              "      <td>1</td>\n",
              "      <td>5</td>\n",
              "      <td>5</td>\n",
              "      <td>5</td>\n",
              "      <td>0</td>\n",
              "      <td>5</td>\n",
              "      <td>5</td>\n",
              "      <td>5</td>\n",
              "      <td>0</td>\n",
              "      <td>0</td>\n",
              "      <td>1</td>\n",
              "      <td>0</td>\n",
              "      <td>0</td>\n",
              "    </tr>\n",
              "    <tr>\n",
              "      <th>1</th>\n",
              "      <td>9355.0</td>\n",
              "      <td>3719</td>\n",
              "      <td>2</td>\n",
              "      <td>4</td>\n",
              "      <td>4</td>\n",
              "      <td>5</td>\n",
              "      <td>0</td>\n",
              "      <td>5</td>\n",
              "      <td>5</td>\n",
              "      <td>2</td>\n",
              "      <td>0</td>\n",
              "      <td>0</td>\n",
              "      <td>0</td>\n",
              "      <td>1</td>\n",
              "      <td>0</td>\n",
              "    </tr>\n",
              "    <tr>\n",
              "      <th>2</th>\n",
              "      <td>11353.0</td>\n",
              "      <td>2762</td>\n",
              "      <td>5</td>\n",
              "      <td>5</td>\n",
              "      <td>4</td>\n",
              "      <td>5</td>\n",
              "      <td>0</td>\n",
              "      <td>5</td>\n",
              "      <td>5</td>\n",
              "      <td>4</td>\n",
              "      <td>1</td>\n",
              "      <td>0</td>\n",
              "      <td>1</td>\n",
              "      <td>0</td>\n",
              "      <td>0</td>\n",
              "    </tr>\n",
              "  </tbody>\n",
              "</table>\n",
              "</div>"
            ],
            "text/plain": [
              "    revenue  days_since_open  P22  P10  ...  Type_DT  Type_FC  Type_IL  Type_MB\n",
              "Id                                      ...                                    \n",
              "0   10033.0             3774    1    5  ...        0        1        0        0\n",
              "1    9355.0             3719    2    4  ...        0        0        1        0\n",
              "2   11353.0             2762    5    5  ...        0        1        0        0\n",
              "\n",
              "[3 rows x 15 columns]"
            ]
          },
          "metadata": {
            "tags": []
          },
          "execution_count": 65
        }
      ]
    },
    {
      "cell_type": "code",
      "metadata": {
        "colab": {
          "base_uri": "https://localhost:8080/"
        },
        "id": "odbWK3v-nd8Y",
        "outputId": "14e0bef3-7fe3-4666-99c4-0379f729a0c8"
      },
      "source": [
        "reg_data.shape"
      ],
      "execution_count": null,
      "outputs": [
        {
          "output_type": "execute_result",
          "data": {
            "text/plain": [
              "(100000, 15)"
            ]
          },
          "metadata": {
            "tags": []
          },
          "execution_count": 66
        }
      ]
    },
    {
      "cell_type": "markdown",
      "metadata": {
        "id": "FZL9xFM2piMx"
      },
      "source": [
        "> The next step is to separate the target from the remaining features and slit the dataset into train and test sets."
      ]
    },
    {
      "cell_type": "code",
      "metadata": {
        "id": "CMd8gqLmqGOJ"
      },
      "source": [
        "# splitting features and target\n",
        "X = reg_data.drop('revenue', axis=1)\n",
        "y = reg_data.revenue\n",
        "\n",
        "# splitting train and test sets\n",
        "X_train, X_test, y_train, y_test = train_test_split(X, y, test_size=0.3, random_state=0)"
      ],
      "execution_count": null,
      "outputs": []
    },
    {
      "cell_type": "markdown",
      "metadata": {
        "id": "y4OyEAHiSQDz"
      },
      "source": [
        "> We need to standardize the data, as `days_since_open` has a much larger range than the remaining features."
      ]
    },
    {
      "cell_type": "code",
      "metadata": {
        "colab": {
          "base_uri": "https://localhost:8080/",
          "height": 320
        },
        "id": "ynN8ElN2sLqM",
        "outputId": "ff15d57b-4b5f-4e43-9a4d-97e4d88c4f3f"
      },
      "source": [
        "X_train.describe()"
      ],
      "execution_count": null,
      "outputs": [
        {
          "output_type": "execute_result",
          "data": {
            "text/html": [
              "<div>\n",
              "<style scoped>\n",
              "    .dataframe tbody tr th:only-of-type {\n",
              "        vertical-align: middle;\n",
              "    }\n",
              "\n",
              "    .dataframe tbody tr th {\n",
              "        vertical-align: top;\n",
              "    }\n",
              "\n",
              "    .dataframe thead th {\n",
              "        text-align: right;\n",
              "    }\n",
              "</style>\n",
              "<table border=\"1\" class=\"dataframe\">\n",
              "  <thead>\n",
              "    <tr style=\"text-align: right;\">\n",
              "      <th></th>\n",
              "      <th>days_since_open</th>\n",
              "      <th>P22</th>\n",
              "      <th>P10</th>\n",
              "      <th>P9</th>\n",
              "      <th>P20</th>\n",
              "      <th>P33</th>\n",
              "      <th>P7</th>\n",
              "      <th>P19</th>\n",
              "      <th>P11</th>\n",
              "      <th>Big_Cities</th>\n",
              "      <th>Type_DT</th>\n",
              "      <th>Type_FC</th>\n",
              "      <th>Type_IL</th>\n",
              "      <th>Type_MB</th>\n",
              "    </tr>\n",
              "  </thead>\n",
              "  <tbody>\n",
              "    <tr>\n",
              "      <th>count</th>\n",
              "      <td>70000.000000</td>\n",
              "      <td>70000.000000</td>\n",
              "      <td>70000.000000</td>\n",
              "      <td>70000.000000</td>\n",
              "      <td>70000.000000</td>\n",
              "      <td>70000.000000</td>\n",
              "      <td>70000.000000</td>\n",
              "      <td>70000.000000</td>\n",
              "      <td>70000.000000</td>\n",
              "      <td>70000.000000</td>\n",
              "      <td>70000.000000</td>\n",
              "      <td>70000.000000</td>\n",
              "      <td>70000.000000</td>\n",
              "      <td>70000.000000</td>\n",
              "    </tr>\n",
              "    <tr>\n",
              "      <th>mean</th>\n",
              "      <td>4619.598486</td>\n",
              "      <td>2.432500</td>\n",
              "      <td>5.467486</td>\n",
              "      <td>5.253929</td>\n",
              "      <td>4.576143</td>\n",
              "      <td>0.987129</td>\n",
              "      <td>5.301943</td>\n",
              "      <td>5.191400</td>\n",
              "      <td>3.315529</td>\n",
              "      <td>0.492800</td>\n",
              "      <td>0.022629</td>\n",
              "      <td>0.569900</td>\n",
              "      <td>0.404543</td>\n",
              "      <td>0.002929</td>\n",
              "    </tr>\n",
              "    <tr>\n",
              "      <th>std</th>\n",
              "      <td>1747.606748</td>\n",
              "      <td>1.363928</td>\n",
              "      <td>1.772549</td>\n",
              "      <td>1.705614</td>\n",
              "      <td>3.610776</td>\n",
              "      <td>1.535679</td>\n",
              "      <td>2.184265</td>\n",
              "      <td>5.790484</td>\n",
              "      <td>2.077664</td>\n",
              "      <td>0.499952</td>\n",
              "      <td>0.148717</td>\n",
              "      <td>0.495093</td>\n",
              "      <td>0.490807</td>\n",
              "      <td>0.054037</td>\n",
              "    </tr>\n",
              "    <tr>\n",
              "      <th>min</th>\n",
              "      <td>2696.000000</td>\n",
              "      <td>1.000000</td>\n",
              "      <td>4.000000</td>\n",
              "      <td>4.000000</td>\n",
              "      <td>1.000000</td>\n",
              "      <td>0.000000</td>\n",
              "      <td>1.000000</td>\n",
              "      <td>1.000000</td>\n",
              "      <td>1.000000</td>\n",
              "      <td>0.000000</td>\n",
              "      <td>0.000000</td>\n",
              "      <td>0.000000</td>\n",
              "      <td>0.000000</td>\n",
              "      <td>0.000000</td>\n",
              "    </tr>\n",
              "    <tr>\n",
              "      <th>25%</th>\n",
              "      <td>3336.000000</td>\n",
              "      <td>1.000000</td>\n",
              "      <td>5.000000</td>\n",
              "      <td>4.000000</td>\n",
              "      <td>2.000000</td>\n",
              "      <td>0.000000</td>\n",
              "      <td>5.000000</td>\n",
              "      <td>2.000000</td>\n",
              "      <td>2.000000</td>\n",
              "      <td>0.000000</td>\n",
              "      <td>0.000000</td>\n",
              "      <td>0.000000</td>\n",
              "      <td>0.000000</td>\n",
              "      <td>0.000000</td>\n",
              "    </tr>\n",
              "    <tr>\n",
              "      <th>50%</th>\n",
              "      <td>4104.000000</td>\n",
              "      <td>2.000000</td>\n",
              "      <td>5.000000</td>\n",
              "      <td>5.000000</td>\n",
              "      <td>4.000000</td>\n",
              "      <td>0.000000</td>\n",
              "      <td>5.000000</td>\n",
              "      <td>3.000000</td>\n",
              "      <td>3.000000</td>\n",
              "      <td>0.000000</td>\n",
              "      <td>0.000000</td>\n",
              "      <td>1.000000</td>\n",
              "      <td>0.000000</td>\n",
              "      <td>0.000000</td>\n",
              "    </tr>\n",
              "    <tr>\n",
              "      <th>75%</th>\n",
              "      <td>5181.000000</td>\n",
              "      <td>3.000000</td>\n",
              "      <td>5.000000</td>\n",
              "      <td>5.000000</td>\n",
              "      <td>5.000000</td>\n",
              "      <td>2.000000</td>\n",
              "      <td>5.000000</td>\n",
              "      <td>5.000000</td>\n",
              "      <td>4.000000</td>\n",
              "      <td>1.000000</td>\n",
              "      <td>0.000000</td>\n",
              "      <td>1.000000</td>\n",
              "      <td>1.000000</td>\n",
              "      <td>0.000000</td>\n",
              "    </tr>\n",
              "    <tr>\n",
              "      <th>max</th>\n",
              "      <td>9512.000000</td>\n",
              "      <td>5.000000</td>\n",
              "      <td>10.000000</td>\n",
              "      <td>10.000000</td>\n",
              "      <td>15.000000</td>\n",
              "      <td>6.000000</td>\n",
              "      <td>10.000000</td>\n",
              "      <td>25.000000</td>\n",
              "      <td>10.000000</td>\n",
              "      <td>1.000000</td>\n",
              "      <td>1.000000</td>\n",
              "      <td>1.000000</td>\n",
              "      <td>1.000000</td>\n",
              "      <td>1.000000</td>\n",
              "    </tr>\n",
              "  </tbody>\n",
              "</table>\n",
              "</div>"
            ],
            "text/plain": [
              "       days_since_open           P22  ...       Type_IL       Type_MB\n",
              "count     70000.000000  70000.000000  ...  70000.000000  70000.000000\n",
              "mean       4619.598486      2.432500  ...      0.404543      0.002929\n",
              "std        1747.606748      1.363928  ...      0.490807      0.054037\n",
              "min        2696.000000      1.000000  ...      0.000000      0.000000\n",
              "25%        3336.000000      1.000000  ...      0.000000      0.000000\n",
              "50%        4104.000000      2.000000  ...      0.000000      0.000000\n",
              "75%        5181.000000      3.000000  ...      1.000000      0.000000\n",
              "max        9512.000000      5.000000  ...      1.000000      1.000000\n",
              "\n",
              "[8 rows x 14 columns]"
            ]
          },
          "metadata": {
            "tags": []
          },
          "execution_count": 68
        }
      ]
    },
    {
      "cell_type": "code",
      "metadata": {
        "id": "fjy644QLvm4w"
      },
      "source": [
        "# standardizing the data\n",
        "scaler=StandardScaler()\n",
        "X_train_scaled = scaler.fit_transform(X_train)\n",
        "X_test_scaled = scaler.transform(X_test)"
      ],
      "execution_count": null,
      "outputs": []
    },
    {
      "cell_type": "markdown",
      "metadata": {
        "id": "BlWYEvD4rSxK"
      },
      "source": [
        "> Moving on to the modes, the four chosen regression models were **Ridge**, **SVR**, **KNeighborsRegressor** and **DecisionTreeRegressor**.\n",
        ">\n",
        "> We will define different values for the parameters we considered to be the most critical for each models' performance and run GridSearchCV to find the ones that minimize the mean absolute error of the predictions for X_test."
      ]
    },
    {
      "cell_type": "markdown",
      "metadata": {
        "id": "qWsURf_sOtSC"
      },
      "source": [
        "### Ridge"
      ]
    },
    {
      "cell_type": "markdown",
      "metadata": {
        "id": "PN0zz0wA41KP"
      },
      "source": [
        "> The first model we will build is Ridge, a linear model with l2 regularization. GridSearchCV will be used to search for the values of the **alpha** and **solver** parameters that maximize the negative mean absolute error (that show the lowest positive mean absolute error)."
      ]
    },
    {
      "cell_type": "code",
      "metadata": {
        "id": "OqdUvyToOxsL",
        "colab": {
          "base_uri": "https://localhost:8080/"
        },
        "outputId": "c7e672f4-4954-4857-828a-e92292334b29"
      },
      "source": [
        "ridge_params={'alpha': [0.1, 1, 10, 100],\n",
        "              'solver': ['auto', 'svd', 'cholesky', 'lsqr', 'sparse_cg', 'sag', 'saga']}\n",
        "\n",
        "gs = GridSearchCV(estimator=Ridge(), \n",
        "                  param_grid=ridge_params, \n",
        "                  scoring='neg_mean_absolute_error', \n",
        "                  cv=10,\n",
        "                  n_jobs=-1)\n",
        "\n",
        "gs = gs.fit(X_train_scaled, y_train)\n",
        "print(gs.best_score_)\n",
        "print(gs.best_params_)"
      ],
      "execution_count": null,
      "outputs": [
        {
          "output_type": "stream",
          "text": [
            "/usr/local/lib/python3.7/dist-packages/joblib/externals/loky/process_executor.py:691: UserWarning: A worker stopped while some jobs were given to the executor. This can be caused by a too short worker timeout or by a memory leak.\n",
            "  \"timeout or by a memory leak.\", UserWarning\n"
          ],
          "name": "stderr"
        },
        {
          "output_type": "stream",
          "text": [
            "-2167.559105392059\n",
            "{'alpha': 100, 'solver': 'svd'}\n"
          ],
          "name": "stdout"
        }
      ]
    },
    {
      "cell_type": "markdown",
      "metadata": {
        "id": "dEAVqewz6Fmm"
      },
      "source": [
        "> It seems that the mean absolute error is lowest when alpha=100 and the solver used is 'svd'. We can build the final model using these parameters and predict the `revenue` values for the scaled test set."
      ]
    },
    {
      "cell_type": "code",
      "metadata": {
        "colab": {
          "base_uri": "https://localhost:8080/"
        },
        "id": "7wuYfIRVVnSO",
        "outputId": "18aedcbd-09e2-406b-f94e-649a584f5509"
      },
      "source": [
        "# building Ridge model with the best parameters from Gridsearch\n",
        "gs_ridge=Ridge(alpha=100, solver='svd', random_state=0)\n",
        "gs_ridge.fit(X_train_scaled, y_train)\n",
        "\n",
        "# calculating mean absolute error of the prediction\n",
        "scores = cross_val_score(gs_ridge, X_test_scaled, y_test, cv=10, \n",
        "                scoring='neg_mean_absolute_error', n_jobs=-1)\n",
        "print('MAE:', str(-scores.mean()))"
      ],
      "execution_count": null,
      "outputs": [
        {
          "output_type": "stream",
          "text": [
            "MAE: 2151.060830595733\n"
          ],
          "name": "stdout"
        }
      ]
    },
    {
      "cell_type": "markdown",
      "metadata": {
        "id": "06hsXZv_6bAU"
      },
      "source": [
        "> The mean absolute error for a Ridge regressor with alpha=10 and solver='saga' is **2151**. This seems to be an OK value, when we take into account the target variable's range of values."
      ]
    },
    {
      "cell_type": "markdown",
      "metadata": {
        "id": "YmsEABqnOvja"
      },
      "source": [
        "### Decision Tree Regressor"
      ]
    },
    {
      "cell_type": "markdown",
      "metadata": {
        "id": "vlnCwZMo9gXb"
      },
      "source": [
        "> The next model is a DecisionTree Regressor. We will look at the best values for the parameters **criterion**, **splitter**, **min_samples_split** and **max_features**.\n",
        ">\n",
        "> criterion and splitter were ran separately as GridSearchCV took a very long time to fit every combination of parameters."
      ]
    },
    {
      "cell_type": "code",
      "metadata": {
        "id": "fux5nEzRQVjx",
        "colab": {
          "base_uri": "https://localhost:8080/"
        },
        "outputId": "06c27b8c-dc86-4d94-b5ab-2d6584a0bdcc"
      },
      "source": [
        "dtr_params={'criterion': ['mse'], # tried mse, friedman_mse, mae, poisson\n",
        "            'splitter': ['best'], # tried random too\n",
        "            'min_samples_split': np.arange(0.1, 1.1, 0.1),\n",
        "            'max_features': list(range(1,15))\n",
        "            }\n",
        "\n",
        "gs_dtr = GridSearchCV(estimator=DecisionTreeRegressor(), \n",
        "                  param_grid=dtr_params, \n",
        "                  scoring='neg_mean_absolute_error', \n",
        "                  cv=10,\n",
        "                  n_jobs=-1,\n",
        "                  verbose=2)\n",
        "\n",
        "gs_dtr.fit(X_train_scaled, y_train)\n",
        "print(gs_dtr.best_score_)\n",
        "print(gs_dtr.best_params_)"
      ],
      "execution_count": null,
      "outputs": [
        {
          "output_type": "stream",
          "text": [
            "Fitting 10 folds for each of 140 candidates, totalling 1400 fits\n"
          ],
          "name": "stdout"
        },
        {
          "output_type": "stream",
          "text": [
            "[Parallel(n_jobs=-1)]: Using backend LokyBackend with 2 concurrent workers.\n",
            "[Parallel(n_jobs=-1)]: Done 128 tasks      | elapsed:    2.7s\n",
            "[Parallel(n_jobs=-1)]: Done 612 tasks      | elapsed:   17.6s\n",
            "[Parallel(n_jobs=-1)]: Done 1400 out of 1400 | elapsed:   52.2s finished\n"
          ],
          "name": "stderr"
        },
        {
          "output_type": "stream",
          "text": [
            "-2390.635071533513\n",
            "{'criterion': 'mse', 'max_features': 14, 'min_samples_split': 0.1, 'splitter': 'best'}\n"
          ],
          "name": "stdout"
        }
      ]
    },
    {
      "cell_type": "markdown",
      "metadata": {
        "id": "hXNmS3c2-AVo"
      },
      "source": [
        "> We end up with a DecisionTreeRegressor with criterion='mse', max_features=14 (all of them), min_samples_split=0.1 and splitter='best'. We can now fit a model with these parameters and predict the `revenue` values."
      ]
    },
    {
      "cell_type": "code",
      "metadata": {
        "id": "TWbxWeMEdQ6e",
        "colab": {
          "base_uri": "https://localhost:8080/"
        },
        "outputId": "8698d2b9-4a38-4bc4-b0f3-1908f8df2f6a"
      },
      "source": [
        "# building DecisionTreeRegressor model with the best parameters from Gridsearch\n",
        "gs_dtree=DecisionTreeRegressor(criterion='mse',\n",
        "                               splitter='best',\n",
        "                               min_samples_split=0.1,\n",
        "                               max_features=14,\n",
        "                               random_state=0)\n",
        "\n",
        "gs_dtree.fit(X_train_scaled, y_train)\n",
        "\n",
        "# calculating mean absolute error of the prediction\n",
        "scores = cross_val_score(gs_dtree, X_test_scaled, y_test, cv=10, \n",
        "                scoring='neg_mean_absolute_error', n_jobs=-1)\n",
        "print('MAE:', str(-scores.mean()))"
      ],
      "execution_count": null,
      "outputs": [
        {
          "output_type": "stream",
          "text": [
            "MAE: 2385.306144390457\n"
          ],
          "name": "stdout"
        }
      ]
    },
    {
      "cell_type": "markdown",
      "metadata": {
        "id": "KC0evAse_HJS"
      },
      "source": [
        "> The mean absolute error for this model is **2385.3**, a larger error than the previous model."
      ]
    },
    {
      "cell_type": "markdown",
      "metadata": {
        "id": "L6oG6obWO0hm"
      },
      "source": [
        "### K-Neigbors Regressor"
      ]
    },
    {
      "cell_type": "markdown",
      "metadata": {
        "id": "0N505Nlr3G39"
      },
      "source": [
        "> For KNeighborsRegressor, we will do a preliminary study to find the best values for the parameters **n_neighbors**, **weights** and **algorithm**. For **n_neighbors** we will use a wide range of values that we will try to limit in the next step."
      ]
    },
    {
      "cell_type": "code",
      "metadata": {
        "colab": {
          "base_uri": "https://localhost:8080/"
        },
        "id": "Nip1gygqdyIu",
        "outputId": "d20b3571-5b78-4b4e-ec63-40793e76940a"
      },
      "source": [
        "knr_params={'n_neighbors': list(range(5, 106, 10)),\n",
        "            'weights': ['uniform', 'distance'],\n",
        "            'algorithm': ['auto', 'ball_tree', 'kd_tree', 'brute']}\n",
        "\n",
        "gs_knr = GridSearchCV(estimator=KNeighborsRegressor(n_jobs=-1), \n",
        "                  param_grid=knr_params, \n",
        "                  scoring='neg_mean_absolute_error', \n",
        "                  cv=10,\n",
        "                  n_jobs=-1)\n",
        "\n",
        "gs_knr.fit(X_train_scaled, y_train)\n",
        "print(gs_knr.best_score_)\n",
        "print(gs_knr.best_params_)"
      ],
      "execution_count": null,
      "outputs": [
        {
          "output_type": "stream",
          "text": [
            "/usr/local/lib/python3.7/dist-packages/joblib/externals/loky/process_executor.py:691: UserWarning: A worker stopped while some jobs were given to the executor. This can be caused by a too short worker timeout or by a memory leak.\n",
            "  \"timeout or by a memory leak.\", UserWarning\n"
          ],
          "name": "stderr"
        },
        {
          "output_type": "stream",
          "text": [
            "-1891.0103457841165\n",
            "{'algorithm': 'brute', 'n_neighbors': 45, 'weights': 'distance'}\n"
          ],
          "name": "stdout"
        }
      ]
    },
    {
      "cell_type": "markdown",
      "metadata": {
        "id": "-UxRLmMosmze"
      },
      "source": [
        "> The best parameters seem to be weights='distance', algorithm='brute' and n_neighbors=45. As we used a wide range of values for this last parameter, we will now run KNeighborsRegressor with the values we found but with a more limited window for n_neighbors."
      ]
    },
    {
      "cell_type": "code",
      "metadata": {
        "colab": {
          "base_uri": "https://localhost:8080/",
          "height": 280
        },
        "id": "VsMbd83W3Gg2",
        "outputId": "41766c3b-e73e-4302-e8fd-c895f7b8f894"
      },
      "source": [
        "results={}\n",
        "for k in range(35, 56, 2):\n",
        "  gs_knreg=KNeighborsRegressor(n_neighbors=k, weights='distance', algorithm='brute')\n",
        "  gs_knreg.fit(X_train_scaled, y_train)\n",
        "\n",
        "  # predicting X_test values\n",
        "  gs_y_pred = gs_knreg.predict(X_test_scaled)\n",
        "\n",
        "  # calculating mean absolute error of the prediction\n",
        "  mae = mean_absolute_error(y_test, gs_y_pred)\n",
        "  results[k]=mae\n",
        "\n",
        "n_neighbors=list(results.keys())\n",
        "knn_mae=list(results.values())\n",
        "plt.plot(n_neighbors, knn_mae)\n",
        "plt.xticks(n_neighbors)\n",
        "plt.xlabel('n_neighbors')\n",
        "plt.ylabel('MAE')\n",
        "plt.grid(True)\n",
        "plt.show()"
      ],
      "execution_count": null,
      "outputs": [
        {
          "output_type": "display_data",
          "data": {
            "image/png": "[encoded data removed]",
            "text/plain": [
              "<Figure size 432x288 with 1 Axes>"
            ]
          },
          "metadata": {
            "tags": [],
            "needs_background": "light"
          }
        }
      ]
    },
    {
      "cell_type": "markdown",
      "metadata": {
        "id": "ArEDpuQ35xYb"
      },
      "source": [
        "> Minimum MAE seems to be exactly 45, the number of neighbors we had previously, so there is no need to change the previous values we found. The final KNeighborsRegressor model can now be built."
      ]
    },
    {
      "cell_type": "code",
      "metadata": {
        "id": "3_TaqISueS0Z",
        "colab": {
          "base_uri": "https://localhost:8080/"
        },
        "outputId": "56199e41-b20f-4962-a1ad-19e28576dcf9"
      },
      "source": [
        "# building KNeighborsRegressor model with the best parameters from Gridsearch\n",
        "gs_knreg=KNeighborsRegressor(n_neighbors=45, algorithm='brute', weights='distance')\n",
        "gs_knreg.fit(X_train_scaled, y_train)\n",
        "\n",
        "# calculating mean absolute error of the prediction\n",
        "scores = cross_val_score(gs_knreg, X_test_scaled, y_test, cv=10, \n",
        "                scoring='neg_mean_absolute_error', n_jobs=-1)\n",
        "print('MAE:', str(-scores.mean()))"
      ],
      "execution_count": null,
      "outputs": [
        {
          "output_type": "stream",
          "text": [
            "MAE: 1904.9750063461938\n"
          ],
          "name": "stdout"
        }
      ]
    },
    {
      "cell_type": "markdown",
      "metadata": {
        "id": "2Aua3mFbxURO"
      },
      "source": [
        "The mean absolute error for the prediction when using a KNeighborsRegressor with n_neighbors=45, algorithm='brute' and weights='distance' is **1905**, the lowest error of the models we have seen so far and the only value under 2000."
      ]
    },
    {
      "cell_type": "markdown",
      "metadata": {
        "id": "Kd-M0YmAO2xf"
      },
      "source": [
        "### LinearSVR"
      ]
    },
    {
      "cell_type": "markdown",
      "metadata": {
        "id": "mYFSJuwOzDda"
      },
      "source": [
        "> We opted for LinearSVR instead of regular SVR because fitting the latter to the data takes much longer than with LinearSVR.\n",
        ">\n",
        "> The parameters that we chose to tune in GridSearchCV were **C** (the regularization parameter), **loss** (the loss function to be used) and **dual** (whether to solve the dual or primal optimization problem)."
      ]
    },
    {
      "cell_type": "code",
      "metadata": {
        "id": "u9cY2qy6WIVG",
        "colab": {
          "base_uri": "https://localhost:8080/"
        },
        "outputId": "58fbf607-2aff-4ab8-c596-9eeeaaf25e0c"
      },
      "source": [
        "svr_params={'loss': ['epsilon_insensitive', 'squared_epsilon_insensitive'],\n",
        "            'dual': [True, False],\n",
        "            'C': [0.1, 1, 10, 100, 1000]}\n",
        "\n",
        "gs_svr = GridSearchCV(estimator=LinearSVR(random_state=0), \n",
        "                  param_grid=svr_params, \n",
        "                  scoring='neg_mean_absolute_error', \n",
        "                  cv=10,\n",
        "                  n_jobs=-1)\n",
        "\n",
        "gs_svr.fit(X_train_scaled, y_train)\n",
        "print(gs_svr.best_score_)\n",
        "print(gs_svr.best_params_)"
      ],
      "execution_count": null,
      "outputs": [
        {
          "output_type": "stream",
          "text": [
            "-2090.642557092206\n",
            "{'C': 100, 'dual': True, 'loss': 'epsilon_insensitive'}\n"
          ],
          "name": "stdout"
        }
      ]
    },
    {
      "cell_type": "markdown",
      "metadata": {
        "id": "9MhB6Wdc0Lu2"
      },
      "source": [
        "> The best parameters were C=100, dual=True and loss='epsilon_insensitive'. We can now build a model with these parameter values, fit the data and predict `revenue` values for the test set."
      ]
    },
    {
      "cell_type": "code",
      "metadata": {
        "id": "1Rh71WNmeatt",
        "colab": {
          "base_uri": "https://localhost:8080/"
        },
        "outputId": "e4ee37f4-fc4a-4501-ef85-2a5871a70e0b"
      },
      "source": [
        "# building LinearSVR model with the best parameters from Gridsearch\n",
        "gs_svreg=LinearSVR(loss='epsilon_insensitive', C=100, dual=True, random_state=0)\n",
        "gs_svreg.fit(X_train_scaled, y_train)\n",
        "\n",
        "# calculating mean absolute error of the prediction\n",
        "scores = cross_val_score(gs_svreg, X_test_scaled, y_test, cv=10, \n",
        "                scoring='neg_mean_absolute_error', n_jobs=-1)\n",
        "print('MAE:', str(-scores.mean()))"
      ],
      "execution_count": null,
      "outputs": [
        {
          "output_type": "stream",
          "text": [
            "MAE: 2076.516858136346\n"
          ],
          "name": "stdout"
        }
      ]
    },
    {
      "cell_type": "markdown",
      "metadata": {
        "id": "xmxZCYhZ0gLv"
      },
      "source": [
        "> After using the LinearSVR model, we obtain a mean absolute error of **2076.5** for the predicted `revenue` values."
      ]
    },
    {
      "cell_type": "markdown",
      "metadata": {
        "id": "s1D8OGu1lau3"
      },
      "source": [
        "> After fitting and testing each model, we found that the best 3 of the 4 models were **KNeighbors Regressor** (MAE=1905) followed by **LinearSVR** (MAE=2076.5) and **Ridge** (MAE=2151). **DecisionTreeRegressor** was the worst with a mean absolute error of 2385.3."
      ]
    },
    {
      "cell_type": "markdown",
      "metadata": {
        "id": "e1R5VlHTk-ph"
      },
      "source": [
        "## 4. Ensemble Learning"
      ]
    },
    {
      "cell_type": "markdown",
      "metadata": {
        "id": "u8umgUvzXyqg"
      },
      "source": [
        "## Classification"
      ]
    },
    {
      "cell_type": "markdown",
      "metadata": {
        "id": "Wq992_6LTyCI"
      },
      "source": [
        "> The best models for the classification task were LogisticRegression, DecisionTree and KNeighborsClassifier."
      ]
    },
    {
      "cell_type": "code",
      "metadata": {
        "id": "PuUUD60Wl35w"
      },
      "source": [
        "# splitting features and target\n",
        "X = class_data.drop('RevenueCategory', axis=1)\n",
        "y = class_data.RevenueCategory\n",
        "\n",
        "# splitting train and test sets\n",
        "X_train, X_test, y_train, y_test = train_test_split(X, y, test_size=0.3, random_state=0)\n",
        "\n",
        "# standardizing the data\n",
        "scaler=StandardScaler()\n",
        "X_train_scaled = scaler.fit_transform(X_train)\n",
        "X_test_scaled = scaler.transform(X_test)"
      ],
      "execution_count": null,
      "outputs": []
    },
    {
      "cell_type": "markdown",
      "metadata": {
        "id": "yHHrmFg6k-ph"
      },
      "source": [
        "### Voting Classifier"
      ]
    },
    {
      "cell_type": "code",
      "metadata": {
        "colab": {
          "base_uri": "https://localhost:8080/"
        },
        "id": "TTBYWhGKTtuE",
        "outputId": "4c093f61-36db-4a67-cb98-46cf66638852"
      },
      "source": [
        "gs_tree = tree.DecisionTreeClassifier(criterion = 'entropy', max_depth =20)\n",
        "gs_knn = neighbors.KNeighborsClassifier(n_neighbors=15)\n",
        "gs_logreg = LogisticRegression(C=100)\n",
        "\n",
        "estimators=[('tree', gs_tree), ('knn', gs_knn), ('lr', gs_logreg)]\n",
        "\n",
        "vc = VotingClassifier(estimators=estimators, voting='hard', n_jobs=-1)\n",
        "vc.fit(X_train_scaled, y_train)\n",
        "\n",
        "scoring=['accuracy', 'precision_macro', 'recall_macro']\n",
        "\n",
        "scores = cross_validate(vc, X_test_scaled, y_test, \n",
        "                         scoring=scoring, cv=10, n_jobs=-1)\n",
        "\n",
        "print('CV accuracy: %.3f +/- %.3f' % (np.mean(scores['test_accuracy']),\n",
        "                                      np.std(scores['test_accuracy'])))\n",
        "print('CV precision: %.3f +/- %.3f' % (np.mean(scores['test_precision_macro']),\n",
        "                                      np.std(scores['test_precision_macro'])))\n",
        "print('CV recall: %.3f +/- %.3f' % (np.mean(scores['test_recall_macro']),\n",
        "                                      np.std(scores['test_recall_macro'])))"
      ],
      "execution_count": null,
      "outputs": [
        {
          "output_type": "stream",
          "text": [
            "CV accuracy: 0.818 +/- 0.005\n",
            "CV precision: 0.817 +/- 0.005\n",
            "CV recall: 0.818 +/- 0.005\n"
          ],
          "name": "stdout"
        }
      ]
    },
    {
      "cell_type": "markdown",
      "metadata": {
        "id": "OqB9noQYk-pi"
      },
      "source": [
        "### XGBoost "
      ]
    },
    {
      "cell_type": "code",
      "metadata": {
        "id": "q4GHkaItk-pi",
        "colab": {
          "base_uri": "https://localhost:8080/"
        },
        "outputId": "8fc72bd8-85de-450a-b88b-3c677f76ae0b"
      },
      "source": [
        "xgb = XGBClassifier(random_state=1,learning_rate=0.1)\n",
        "xgb.fit(X_train_scaled, y_train)\n",
        "\n",
        "scoring=['accuracy', 'precision_macro', 'recall_macro']\n",
        "\n",
        "scores = cross_validate(xgb, X_test_scaled, y_test, \n",
        "                         scoring=scoring, cv=10, n_jobs=-1)\n",
        "\n",
        "print('CV accuracy: %.3f +/- %.3f' % (np.mean(scores['test_accuracy']),\n",
        "                                      np.std(scores['test_accuracy'])))\n",
        "print('CV precision: %.3f +/- %.3f' % (np.mean(scores['test_precision_macro']),\n",
        "                                      np.std(scores['test_precision_macro'])))\n",
        "print('CV recall: %.3f +/- %.3f' % (np.mean(scores['test_recall_macro']),\n",
        "                                      np.std(scores['test_recall_macro'])))"
      ],
      "execution_count": 134,
      "outputs": [
        {
          "output_type": "stream",
          "text": [
            "CV accuracy: 0.814 +/- 0.005\n",
            "CV precision: 0.814 +/- 0.005\n",
            "CV recall: 0.814 +/- 0.005\n"
          ],
          "name": "stdout"
        }
      ]
    },
    {
      "cell_type": "markdown",
      "metadata": {
        "id": "pQWyFdVmk-pj"
      },
      "source": [
        "### Random Forests"
      ]
    },
    {
      "cell_type": "code",
      "metadata": {
        "id": "tf1mgENIk-pj",
        "colab": {
          "base_uri": "https://localhost:8080/"
        },
        "outputId": "7640ee53-6007-40a1-8978-3487b9dcc709"
      },
      "source": [
        "from sklearn.ensemble import RandomForestClassifier\n",
        "\n",
        "rf1 = RandomForestClassifier(n_estimators=250, criterion='entropy',  n_jobs = -1,  random_state=1)\n",
        "rf1.fit(X_train_scaled, y_train)\n",
        "\n",
        "scoring=['accuracy', 'precision_macro', 'recall_macro']\n",
        "\n",
        "scores = cross_validate(rf1, X_test_scaled, y_test, \n",
        "                         scoring=scoring, cv=10, n_jobs=-1)\n",
        "\n",
        "print('CV accuracy: %.3f +/- %.3f' % (np.mean(scores['test_accuracy']),\n",
        "                                      np.std(scores['test_accuracy'])))\n",
        "print('CV precision: %.3f +/- %.3f' % (np.mean(scores['test_precision_macro']),\n",
        "                                      np.std(scores['test_precision_macro'])))\n",
        "print('CV recall: %.3f +/- %.3f' % (np.mean(scores['test_recall_macro']),\n",
        "                                      np.std(scores['test_recall_macro'])))"
      ],
      "execution_count": 133,
      "outputs": [
        {
          "output_type": "stream",
          "text": [
            "/usr/local/lib/python3.7/dist-packages/joblib/externals/loky/process_executor.py:691: UserWarning: A worker stopped while some jobs were given to the executor. This can be caused by a too short worker timeout or by a memory leak.\n",
            "  \"timeout or by a memory leak.\", UserWarning\n"
          ],
          "name": "stderr"
        },
        {
          "output_type": "stream",
          "text": [
            "CV accuracy: 0.837 +/- 0.004\n",
            "CV precision: 0.835 +/- 0.004\n",
            "CV recall: 0.837 +/- 0.004\n"
          ],
          "name": "stdout"
        }
      ]
    },
    {
      "cell_type": "markdown",
      "metadata": {
        "id": "lgxVqHFkXwSd"
      },
      "source": [
        "## Regression"
      ]
    },
    {
      "cell_type": "markdown",
      "metadata": {
        "id": "ikB_TLdWXOco"
      },
      "source": [
        "> The best models for the regression task were Ridge, KNeighborsRegressor and LinearSVR."
      ]
    },
    {
      "cell_type": "code",
      "metadata": {
        "id": "aMZDerUvXOcl"
      },
      "source": [
        "# splitting features and target\n",
        "X = reg_data.drop('revenue', axis=1)\n",
        "y = reg_data.revenue\n",
        "\n",
        "# splitting train and test sets\n",
        "X_train, X_test, y_train, y_test = train_test_split(X, y, test_size=0.3, random_state=0)\n",
        "\n",
        "# standardizing the data\n",
        "scaler=StandardScaler()\n",
        "X_train_scaled = scaler.fit_transform(X_train)\n",
        "X_test_scaled = scaler.transform(X_test)"
      ],
      "execution_count": 25,
      "outputs": []
    },
    {
      "cell_type": "markdown",
      "metadata": {
        "id": "7nCX6QvJXOcg"
      },
      "source": [
        "### Voting Regressor"
      ]
    },
    {
      "cell_type": "code",
      "metadata": {
        "colab": {
          "base_uri": "https://localhost:8080/"
        },
        "id": "VIOD6Gc_XOcr",
        "outputId": "5f38a9d0-bbb9-4c15-f9be-867f27331423"
      },
      "source": [
        "gs_ridge=Ridge(alpha=100, solver='svd', random_state=0)\n",
        "gs_knreg=KNeighborsRegressor(n_neighbors=45, algorithm='brute', weights='distance')\n",
        "gs_svreg=LinearSVR(loss='epsilon_insensitive', C=100, dual=True, random_state=0)\n",
        "\n",
        "estimators=[('ridge', gs_ridge), ('knn', gs_knreg), ('svr', gs_svreg)]\n",
        "\n",
        "vr = VotingRegressor(estimators=estimators, n_jobs=-1)\n",
        "vr.fit(X_train_scaled, y_train)\n",
        "\n",
        "scoring=['neg_mean_absolute_error']\n",
        "\n",
        "scores = cross_validate(vr, X_test_scaled, y_test, \n",
        "                         scoring=scoring, cv=10, n_jobs=-1)\n",
        "\n",
        "print('MAE:', str(-scores['test_neg_mean_absolute_error'].mean()))"
      ],
      "execution_count": 141,
      "outputs": [
        {
          "output_type": "stream",
          "text": [
            "MAE: 1953.8832284484051\n"
          ],
          "name": "stdout"
        }
      ]
    },
    {
      "cell_type": "markdown",
      "metadata": {
        "id": "pSC9YxIKXOcw"
      },
      "source": [
        "### XGBoost"
      ]
    },
    {
      "cell_type": "code",
      "metadata": {
        "colab": {
          "base_uri": "https://localhost:8080/"
        },
        "id": "GdM3bH1_XOcz",
        "outputId": "615d3b59-7b9f-4785-91c0-8e02e7671db2"
      },
      "source": [
        "xgb = XGBRegressor(random_state=1,learning_rate=0.1)\n",
        "xgb.fit(X_train_scaled, y_train)\n",
        "\n",
        "scoring=['neg_mean_absolute_error']\n",
        "\n",
        "scores = cross_validate(xgb, X_test_scaled, y_test, \n",
        "                         scoring=scoring, cv=10, n_jobs=-1)\n",
        "\n",
        "print('MAE:', str(-scores['test_neg_mean_absolute_error'].mean()))"
      ],
      "execution_count": 142,
      "outputs": [
        {
          "output_type": "stream",
          "text": [
            "[22:48:26] WARNING: /workspace/src/objective/regression_obj.cu:152: reg:linear is now deprecated in favor of reg:squarederror.\n",
            "MAE: 1839.7551822916666\n"
          ],
          "name": "stdout"
        }
      ]
    },
    {
      "cell_type": "markdown",
      "metadata": {
        "id": "rDWoPuGLXOc1"
      },
      "source": [
        "### Random Forests"
      ]
    },
    {
      "cell_type": "code",
      "metadata": {
        "colab": {
          "base_uri": "https://localhost:8080/"
        },
        "id": "h2dkW4P0XOc3",
        "outputId": "95cb18fd-3500-43b0-86ef-e0e7894a521c"
      },
      "source": [
        "rf1 = RandomForestRegressor(n_estimators=250, criterion='mse',  n_jobs = -1,  random_state=1)\n",
        "rf1.fit(X_train_scaled, y_train)\n",
        "\n",
        "scoring=['neg_mean_absolute_error']\n",
        "\n",
        "scores = cross_validate(rf1, X_test_scaled, y_test, \n",
        "                         scoring=scoring, cv=10, n_jobs=-1)\n",
        "\n",
        "print('MAE:', str(-scores['test_neg_mean_absolute_error'].mean()))"
      ],
      "execution_count": 26,
      "outputs": [
        {
          "output_type": "stream",
          "text": [
            "MAE: 1832.2114716664437\n"
          ],
          "name": "stdout"
        }
      ]
    },
    {
      "cell_type": "markdown",
      "metadata": {
        "id": "BNQBZKMMk-pj"
      },
      "source": [
        "## 5. Conclusions"
      ]
    },
    {
      "cell_type": "markdown",
      "metadata": {
        "id": "4OQO8TaTk-pj"
      },
      "source": [
        "> For the regression task, the 4 models chosen were Ridge, LinearSVR, DecisionTreeRegressor and KNeighborsRegressor. The best model of the 4 was KNeighborsRegressor, with a MAE of 1868. \n",
        ">\n",
        "> The choice of parameters to tune is crucial when it comes to optimizing any model's performance. Not only that but the range in which to search (for numerical parameters) in fundamental. We found some \"usual\" ranges to be used but the best parameters depend greatly on the data on which we are trying to fit the model and, as such, it is imperative that we experiment with many values.\n",
        ">\n",
        "> We found that a useful strategy was to define a broader range of values on a first run of the model and then limit that range further, while using the parameters that were considered to be the best in the first run. This is especially useful to decrease the computation times of tasks that will sometimes take hours."
      ]
    }
  ]
}