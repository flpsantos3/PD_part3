{
  "nbformat": 4,
  "nbformat_minor": 0,
  "metadata": {
    "kernelspec": {
      "display_name": "Python 3",
      "language": "python",
      "name": "python3"
    },
    "language_info": {
      "codemirror_mode": {
        "name": "ipython",
        "version": 3
      },
      "file_extension": ".py",
      "mimetype": "text/x-python",
      "name": "python",
      "nbconvert_exporter": "python",
      "pygments_lexer": "ipython3",
      "version": "3.8.5"
    },
    "colab": {
      "name": "Copy of PD03_P3(1).ipynb",
      "provenance": [],
      "collapsed_sections": [],
      "toc_visible": true,
      "include_colab_link": true
    }
  },
  "cells": [
    {
      "cell_type": "markdown",
      "metadata": {
        "id": "view-in-github",
        "colab_type": "text"
      },
      "source": [
        "<a href=\"https://colab.research.google.com/github/flpsantos3/PD_part3/blob/ivo/Copy_of_PD03_P3(1).ipynb\" target=\"_parent\"><img src=\"https://colab.research.google.com/assets/colab-badge.svg\" alt=\"Open In Colab\"/></a>"
      ]
    },
    {
      "cell_type": "markdown",
      "metadata": {
        "id": "WsCEQ8sJk-pE"
      },
      "source": [
        "# Data Mining / Prospeção de Dados\n",
        "\n",
        "## Diogo F. Soares and Sara C. Madeira, 2020/21\n",
        "\n",
        "# Project 3 - Classification/Regression"
      ]
    },
    {
      "cell_type": "markdown",
      "metadata": {
        "id": "39QU3exJk-pS"
      },
      "source": [
        "## Logistics\n",
        "\n",
        "**_Read Carefully_**\n",
        "\n",
        "**Students should work in teams of 2 or 3 people**. \n",
        "\n",
        "Individual projects might be allowed (with valid justification), but will not have better grades for this reason. \n",
        "\n",
        "* Tasks **1 to 4** should be done by **all** groups **BUT**\n",
        "    * In Tasks **2 and 3** the number of classifiers/regressors to use is **`X` = 3 and 4**  for groups of 2 and 3 students, respectively.\n",
        "    * In Task **4**, groups of 2 and 3 students should try 2 and 3 ensemble approaches, respectively.\n",
        "\n",
        "The quality of the project will dictate its grade, not the number of people working.\n",
        "\n",
        "**The project's solution should be uploaded in Moodle before the end of ~~`May, 9th (23:59)`~~ `May, 16th (23:59)`.** \n",
        "\n",
        "Students should **upload a `.zip` file** containing all the files necessary for project evaluation. \n",
        "Groups should be registered in [Moodle](https://moodle.ciencias.ulisboa.pt/mod/groupselect/view.php?id=139096) and the zip file should be identified as `PDnn.zip` where `nn` is the number of your group.\n",
        "\n",
        "**It is mandatory to produce a Jupyter notebook containing code and text/images/tables/etc describing the solution and the results. Projects not delivered in this format will not be graded. You can use `PD_202021_P3.ipynb`as template. In your `.zip` folder you should also include an HTML version of your notebook with all the outputs** (File > Download as > HTML).\n",
        "\n",
        "**Decisions should be justified and results should be critically discussed.** \n",
        "\n",
        "_Project solutions containing only code and outputs without discussions will achieve a maximum grade 10 out of 20._"
      ]
    },
    {
      "cell_type": "markdown",
      "metadata": {
        "id": "uSrRR8AFk-pW"
      },
      "source": [
        "## Dataset and Tools\n",
        "\n",
        "In this project you should use [Python 3](https://www.python.org), [Jupyter Notebook](http://jupyter.org) and **[Scikit-learn](http://scikit-learn.org/stable/). You are also allowed to use [Orange3](https://orange.biolab.si).**\n",
        "\n",
        "The dataset to be analysed is **`RestaurantsRevenue.csv`**, a modified version of the test dataset used in Kaggle's competition [\"Restaurant Revenue Prediction\"](https://www.kaggle.com/c/restaurant-revenue-prediction/overview). \n",
        "\n",
        "**This project challenges you twice** by asking you to tackle a\n",
        "1. **Regression Task**: predict the revenue, and a\n",
        "2. **Classification Task**: predict a revenue category.\n",
        "\n",
        "The available variables are:\n",
        "\n",
        "* **Id :** Restaurant id. \n",
        "* **Open Date :** opening date for a restaurant\n",
        "* **City :** City that the restaurant is in. Note that there are unicode in the names. \n",
        "* **City Group:** Type of the city. Big cities, or Other. \n",
        "* **Type:** Type of the restaurant. FC: Food Court, IL: Inline, DT: Drive Thru, MB: Mobile\n",
        "* **P1, P2 - P37:** There are three categories of these obfuscated data. Demographic data are gathered from third party providers with GIS systems. These include population in any given area, age and gender distribution, development scales. Real estate data mainly relate to the m2 of the location, front facade of the location, car park availability. Commercial data mainly include the existence of points of interest including schools, banks, other QSR operators.\n",
        "\n",
        "\n",
        "The targets are:\n",
        "1. **`Revenue`:** The revenue column indicates a (transformed) revenue of the restaurant in a given year and is the target of predictive analysis. Please note that the values are transformed so they don't mean real dollar values. \n",
        "2. **`RevenueCategory`** - the revenue category, where price can be below 12000 (\"<12K\"), between 12000 and 20000 (\"12K-20K\"), or above 20000 (\">20K\"). This is the target variable that you're trying to predict in the classification task. "
      ]
    },
    {
      "cell_type": "markdown",
      "metadata": {
        "id": "Czi2JJCek-pY"
      },
      "source": [
        "## Team Identification\n",
        "\n",
        "**GROUP PD03**\n",
        "\n",
        "Students:\n",
        "\n",
        "* **Eduardo Carvalho - nº55881**\n",
        "* **Filipe Santos - nº55142**\n",
        "* **Ivo Oliveira - nº50301**"
      ]
    },
    {
      "cell_type": "markdown",
      "metadata": {
        "id": "gPFRC3h5k-pZ"
      },
      "source": [
        "## 1. Load and Preprocess Dataset"
      ]
    },
    {
      "cell_type": "markdown",
      "metadata": {
        "id": "DZ8n0JIHk-pb"
      },
      "source": [
        "Here you might consider useful to think about:\n",
        "1. Missing Value Imputation\n",
        "2. Feature Selection\n",
        "3. Class Imbalance"
      ]
    },
    {
      "cell_type": "markdown",
      "metadata": {
        "id": "Hy5MD2PcC1fj"
      },
      "source": [
        "### Importing necessary packages"
      ]
    },
    {
      "cell_type": "code",
      "metadata": {
        "id": "eQAYW1nalQEF"
      },
      "source": [
        "import pandas as pd\n",
        "import numpy as np\n",
        "import matplotlib.pyplot as plt\n",
        "from datetime import date, datetime\n",
        "from sklearn.model_selection import train_test_split\n",
        "from sklearn.feature_selection import VarianceThreshold\n",
        "from sklearn.preprocessing import MinMaxScaler\n",
        "from sklearn.utils import resample"
      ],
      "execution_count": 3,
      "outputs": []
    },
    {
      "cell_type": "markdown",
      "metadata": {
        "id": "3VAVsnk7CiqP"
      },
      "source": [
        "### Importing the Data"
      ]
    },
    {
      "cell_type": "code",
      "metadata": {
        "colab": {
          "base_uri": "https://localhost:8080/"
        },
        "id": "H6ZUf3KelnJa",
        "outputId": "93d40ff0-dc31-476a-e28a-c702f5e41d4d"
      },
      "source": [
        "from google.colab import drive\n",
        "drive.mount('/content/drive')"
      ],
      "execution_count": 2,
      "outputs": [
        {
          "output_type": "stream",
          "text": [
            "Mounted at /content/drive\n"
          ],
          "name": "stdout"
        }
      ]
    },
    {
      "cell_type": "code",
      "metadata": {
        "colab": {
          "base_uri": "https://localhost:8080/",
          "height": 292
        },
        "id": "dvoxZYLLk-pd",
        "outputId": "68de3a29-c890-488d-ae4e-2d71dfe4b6c8"
      },
      "source": [
        "data=pd.read_csv('/content/drive/MyDrive/Datasets/projetoPD/RestaurantsReveneu.csv', index_col=0)\n",
        "data.head()"
      ],
      "execution_count": 4,
      "outputs": [
        {
          "output_type": "execute_result",
          "data": {
            "text/html": [
              "<div>\n",
              "<style scoped>\n",
              "    .dataframe tbody tr th:only-of-type {\n",
              "        vertical-align: middle;\n",
              "    }\n",
              "\n",
              "    .dataframe tbody tr th {\n",
              "        vertical-align: top;\n",
              "    }\n",
              "\n",
              "    .dataframe thead th {\n",
              "        text-align: right;\n",
              "    }\n",
              "</style>\n",
              "<table border=\"1\" class=\"dataframe\">\n",
              "  <thead>\n",
              "    <tr style=\"text-align: right;\">\n",
              "      <th></th>\n",
              "      <th>Open Date</th>\n",
              "      <th>City</th>\n",
              "      <th>City Group</th>\n",
              "      <th>Type</th>\n",
              "      <th>P1</th>\n",
              "      <th>P2</th>\n",
              "      <th>P3</th>\n",
              "      <th>P4</th>\n",
              "      <th>P5</th>\n",
              "      <th>P6</th>\n",
              "      <th>P7</th>\n",
              "      <th>P8</th>\n",
              "      <th>P9</th>\n",
              "      <th>P10</th>\n",
              "      <th>P11</th>\n",
              "      <th>P12</th>\n",
              "      <th>P13</th>\n",
              "      <th>P14</th>\n",
              "      <th>P15</th>\n",
              "      <th>P16</th>\n",
              "      <th>P17</th>\n",
              "      <th>P18</th>\n",
              "      <th>P19</th>\n",
              "      <th>P20</th>\n",
              "      <th>P21</th>\n",
              "      <th>P22</th>\n",
              "      <th>P23</th>\n",
              "      <th>P24</th>\n",
              "      <th>P25</th>\n",
              "      <th>P26</th>\n",
              "      <th>P27</th>\n",
              "      <th>P28</th>\n",
              "      <th>P29</th>\n",
              "      <th>P30</th>\n",
              "      <th>P31</th>\n",
              "      <th>P32</th>\n",
              "      <th>P33</th>\n",
              "      <th>P34</th>\n",
              "      <th>P35</th>\n",
              "      <th>P36</th>\n",
              "      <th>P37</th>\n",
              "      <th>revenue</th>\n",
              "    </tr>\n",
              "    <tr>\n",
              "      <th>Id</th>\n",
              "      <th></th>\n",
              "      <th></th>\n",
              "      <th></th>\n",
              "      <th></th>\n",
              "      <th></th>\n",
              "      <th></th>\n",
              "      <th></th>\n",
              "      <th></th>\n",
              "      <th></th>\n",
              "      <th></th>\n",
              "      <th></th>\n",
              "      <th></th>\n",
              "      <th></th>\n",
              "      <th></th>\n",
              "      <th></th>\n",
              "      <th></th>\n",
              "      <th></th>\n",
              "      <th></th>\n",
              "      <th></th>\n",
              "      <th></th>\n",
              "      <th></th>\n",
              "      <th></th>\n",
              "      <th></th>\n",
              "      <th></th>\n",
              "      <th></th>\n",
              "      <th></th>\n",
              "      <th></th>\n",
              "      <th></th>\n",
              "      <th></th>\n",
              "      <th></th>\n",
              "      <th></th>\n",
              "      <th></th>\n",
              "      <th></th>\n",
              "      <th></th>\n",
              "      <th></th>\n",
              "      <th></th>\n",
              "      <th></th>\n",
              "      <th></th>\n",
              "      <th></th>\n",
              "      <th></th>\n",
              "      <th></th>\n",
              "      <th></th>\n",
              "    </tr>\n",
              "  </thead>\n",
              "  <tbody>\n",
              "    <tr>\n",
              "      <th>0</th>\n",
              "      <td>01/22/2011</td>\n",
              "      <td>Niğde</td>\n",
              "      <td>Other</td>\n",
              "      <td>FC</td>\n",
              "      <td>1</td>\n",
              "      <td>4.0</td>\n",
              "      <td>4.0</td>\n",
              "      <td>4.0</td>\n",
              "      <td>1</td>\n",
              "      <td>2</td>\n",
              "      <td>5</td>\n",
              "      <td>4</td>\n",
              "      <td>5</td>\n",
              "      <td>5</td>\n",
              "      <td>5</td>\n",
              "      <td>3</td>\n",
              "      <td>4.0</td>\n",
              "      <td>0</td>\n",
              "      <td>0</td>\n",
              "      <td>0</td>\n",
              "      <td>2</td>\n",
              "      <td>0</td>\n",
              "      <td>5</td>\n",
              "      <td>5</td>\n",
              "      <td>3</td>\n",
              "      <td>1</td>\n",
              "      <td>4</td>\n",
              "      <td>0</td>\n",
              "      <td>0</td>\n",
              "      <td>0.0</td>\n",
              "      <td>0.0</td>\n",
              "      <td>2.0</td>\n",
              "      <td>3.0</td>\n",
              "      <td>0</td>\n",
              "      <td>0</td>\n",
              "      <td>0</td>\n",
              "      <td>0</td>\n",
              "      <td>0</td>\n",
              "      <td>0</td>\n",
              "      <td>0</td>\n",
              "      <td>0</td>\n",
              "      <td>10033.0</td>\n",
              "    </tr>\n",
              "    <tr>\n",
              "      <th>1</th>\n",
              "      <td>03/18/2011</td>\n",
              "      <td>Konya</td>\n",
              "      <td>Other</td>\n",
              "      <td>IL</td>\n",
              "      <td>3</td>\n",
              "      <td>4.0</td>\n",
              "      <td>4.0</td>\n",
              "      <td>4.0</td>\n",
              "      <td>2</td>\n",
              "      <td>2</td>\n",
              "      <td>5</td>\n",
              "      <td>3</td>\n",
              "      <td>4</td>\n",
              "      <td>4</td>\n",
              "      <td>2</td>\n",
              "      <td>4</td>\n",
              "      <td>5.0</td>\n",
              "      <td>0</td>\n",
              "      <td>0</td>\n",
              "      <td>0</td>\n",
              "      <td>0</td>\n",
              "      <td>0</td>\n",
              "      <td>5</td>\n",
              "      <td>5</td>\n",
              "      <td>3</td>\n",
              "      <td>2</td>\n",
              "      <td>1</td>\n",
              "      <td>0</td>\n",
              "      <td>0</td>\n",
              "      <td>0.0</td>\n",
              "      <td>0.0</td>\n",
              "      <td>1.0</td>\n",
              "      <td>3.0</td>\n",
              "      <td>0</td>\n",
              "      <td>0</td>\n",
              "      <td>0</td>\n",
              "      <td>0</td>\n",
              "      <td>0</td>\n",
              "      <td>0</td>\n",
              "      <td>0</td>\n",
              "      <td>0</td>\n",
              "      <td>9355.0</td>\n",
              "    </tr>\n",
              "    <tr>\n",
              "      <th>2</th>\n",
              "      <td>10/30/2013</td>\n",
              "      <td>Ankara</td>\n",
              "      <td>Big Cities</td>\n",
              "      <td>FC</td>\n",
              "      <td>3</td>\n",
              "      <td>4.0</td>\n",
              "      <td>4.0</td>\n",
              "      <td>4.0</td>\n",
              "      <td>2</td>\n",
              "      <td>2</td>\n",
              "      <td>5</td>\n",
              "      <td>4</td>\n",
              "      <td>4</td>\n",
              "      <td>5</td>\n",
              "      <td>4</td>\n",
              "      <td>5</td>\n",
              "      <td>5.0</td>\n",
              "      <td>0</td>\n",
              "      <td>0</td>\n",
              "      <td>0</td>\n",
              "      <td>0</td>\n",
              "      <td>0</td>\n",
              "      <td>5</td>\n",
              "      <td>5</td>\n",
              "      <td>5</td>\n",
              "      <td>5</td>\n",
              "      <td>5</td>\n",
              "      <td>0</td>\n",
              "      <td>0</td>\n",
              "      <td>0.0</td>\n",
              "      <td>0.0</td>\n",
              "      <td>2.0</td>\n",
              "      <td>3.0</td>\n",
              "      <td>0</td>\n",
              "      <td>0</td>\n",
              "      <td>0</td>\n",
              "      <td>0</td>\n",
              "      <td>0</td>\n",
              "      <td>0</td>\n",
              "      <td>0</td>\n",
              "      <td>0</td>\n",
              "      <td>11353.0</td>\n",
              "    </tr>\n",
              "    <tr>\n",
              "      <th>3</th>\n",
              "      <td>05/06/2013</td>\n",
              "      <td>Kocaeli</td>\n",
              "      <td>Other</td>\n",
              "      <td>IL</td>\n",
              "      <td>2</td>\n",
              "      <td>4.0</td>\n",
              "      <td>4.0</td>\n",
              "      <td>4.0</td>\n",
              "      <td>2</td>\n",
              "      <td>3</td>\n",
              "      <td>5</td>\n",
              "      <td>4</td>\n",
              "      <td>5</td>\n",
              "      <td>4</td>\n",
              "      <td>3</td>\n",
              "      <td>4</td>\n",
              "      <td>5.0</td>\n",
              "      <td>0</td>\n",
              "      <td>0</td>\n",
              "      <td>0</td>\n",
              "      <td>0</td>\n",
              "      <td>4</td>\n",
              "      <td>4</td>\n",
              "      <td>4</td>\n",
              "      <td>3</td>\n",
              "      <td>2</td>\n",
              "      <td>2</td>\n",
              "      <td>0</td>\n",
              "      <td>0</td>\n",
              "      <td>0.0</td>\n",
              "      <td>0.0</td>\n",
              "      <td>2.0</td>\n",
              "      <td>3.0</td>\n",
              "      <td>0</td>\n",
              "      <td>4</td>\n",
              "      <td>0</td>\n",
              "      <td>0</td>\n",
              "      <td>0</td>\n",
              "      <td>0</td>\n",
              "      <td>0</td>\n",
              "      <td>0</td>\n",
              "      <td>10828.0</td>\n",
              "    </tr>\n",
              "    <tr>\n",
              "      <th>4</th>\n",
              "      <td>07/31/2013</td>\n",
              "      <td>Afyonkarahisar</td>\n",
              "      <td>Other</td>\n",
              "      <td>FC</td>\n",
              "      <td>2</td>\n",
              "      <td>4.0</td>\n",
              "      <td>4.0</td>\n",
              "      <td>4.0</td>\n",
              "      <td>1</td>\n",
              "      <td>2</td>\n",
              "      <td>5</td>\n",
              "      <td>4</td>\n",
              "      <td>5</td>\n",
              "      <td>4</td>\n",
              "      <td>3</td>\n",
              "      <td>5</td>\n",
              "      <td>4.0</td>\n",
              "      <td>0</td>\n",
              "      <td>0</td>\n",
              "      <td>0</td>\n",
              "      <td>0</td>\n",
              "      <td>0</td>\n",
              "      <td>1</td>\n",
              "      <td>5</td>\n",
              "      <td>3</td>\n",
              "      <td>1</td>\n",
              "      <td>1</td>\n",
              "      <td>0</td>\n",
              "      <td>0</td>\n",
              "      <td>0.0</td>\n",
              "      <td>0.0</td>\n",
              "      <td>5.0</td>\n",
              "      <td>3.0</td>\n",
              "      <td>0</td>\n",
              "      <td>0</td>\n",
              "      <td>0</td>\n",
              "      <td>0</td>\n",
              "      <td>0</td>\n",
              "      <td>0</td>\n",
              "      <td>0</td>\n",
              "      <td>0</td>\n",
              "      <td>9354.0</td>\n",
              "    </tr>\n",
              "  </tbody>\n",
              "</table>\n",
              "</div>"
            ],
            "text/plain": [
              "     Open Date            City  City Group Type  ...  P35  P36  P37  revenue\n",
              "Id                                               ...                        \n",
              "0   01/22/2011           Niğde       Other   FC  ...    0    0    0  10033.0\n",
              "1   03/18/2011           Konya       Other   IL  ...    0    0    0   9355.0\n",
              "2   10/30/2013          Ankara  Big Cities   FC  ...    0    0    0  11353.0\n",
              "3   05/06/2013         Kocaeli       Other   IL  ...    0    0    0  10828.0\n",
              "4   07/31/2013  Afyonkarahisar       Other   FC  ...    0    0    0   9354.0\n",
              "\n",
              "[5 rows x 42 columns]"
            ]
          },
          "metadata": {
            "tags": []
          },
          "execution_count": 4
        }
      ]
    },
    {
      "cell_type": "markdown",
      "metadata": {
        "id": "LYzIHzXvC-uA"
      },
      "source": [
        "### Exploratory Data Analysis"
      ]
    },
    {
      "cell_type": "code",
      "metadata": {
        "colab": {
          "base_uri": "https://localhost:8080/"
        },
        "id": "g1ljl1_RmYQJ",
        "outputId": "d86d6e32-7f87-4052-a0a5-0613263f469e"
      },
      "source": [
        "# looking at the dataset shape\n",
        "data.shape"
      ],
      "execution_count": 5,
      "outputs": [
        {
          "output_type": "execute_result",
          "data": {
            "text/plain": [
              "(100000, 42)"
            ]
          },
          "metadata": {
            "tags": []
          },
          "execution_count": 5
        }
      ]
    },
    {
      "cell_type": "markdown",
      "metadata": {
        "id": "lCTLiBX4DC-f"
      },
      "source": [
        "> We have a dataset with 100K observations and 41 features + 1 target variable - `revenue`."
      ]
    },
    {
      "cell_type": "code",
      "metadata": {
        "colab": {
          "base_uri": "https://localhost:8080/"
        },
        "id": "XrsWCGyQp8xz",
        "outputId": "7470d9f4-72d5-4942-bae8-a380b267665a"
      },
      "source": [
        "# looking at data types\n",
        "data.dtypes "
      ],
      "execution_count": 6,
      "outputs": [
        {
          "output_type": "execute_result",
          "data": {
            "text/plain": [
              "Open Date      object\n",
              "City           object\n",
              "City Group     object\n",
              "Type           object\n",
              "P1              int64\n",
              "P2            float64\n",
              "P3            float64\n",
              "P4            float64\n",
              "P5              int64\n",
              "P6              int64\n",
              "P7              int64\n",
              "P8              int64\n",
              "P9              int64\n",
              "P10             int64\n",
              "P11             int64\n",
              "P12             int64\n",
              "P13           float64\n",
              "P14             int64\n",
              "P15             int64\n",
              "P16             int64\n",
              "P17             int64\n",
              "P18             int64\n",
              "P19             int64\n",
              "P20             int64\n",
              "P21             int64\n",
              "P22             int64\n",
              "P23             int64\n",
              "P24             int64\n",
              "P25             int64\n",
              "P26           float64\n",
              "P27           float64\n",
              "P28           float64\n",
              "P29           float64\n",
              "P30             int64\n",
              "P31             int64\n",
              "P32             int64\n",
              "P33             int64\n",
              "P34             int64\n",
              "P35             int64\n",
              "P36             int64\n",
              "P37             int64\n",
              "revenue       float64\n",
              "dtype: object"
            ]
          },
          "metadata": {
            "tags": []
          },
          "execution_count": 6
        }
      ]
    },
    {
      "cell_type": "markdown",
      "metadata": {
        "id": "SMcgMgTwDYW-"
      },
      "source": [
        "> There doesn't seem to be any errors in the data types: all numerical features are either int or float and the categorical are objects."
      ]
    },
    {
      "cell_type": "code",
      "metadata": {
        "colab": {
          "base_uri": "https://localhost:8080/",
          "height": 320
        },
        "id": "uNhWdf9rDnZ-",
        "outputId": "5d4ffc77-5d81-45f7-b048-cb63b8be5295"
      },
      "source": [
        "# looking at the range of values of the numerical features\n",
        "data.describe()"
      ],
      "execution_count": 7,
      "outputs": [
        {
          "output_type": "execute_result",
          "data": {
            "text/html": [
              "<div>\n",
              "<style scoped>\n",
              "    .dataframe tbody tr th:only-of-type {\n",
              "        vertical-align: middle;\n",
              "    }\n",
              "\n",
              "    .dataframe tbody tr th {\n",
              "        vertical-align: top;\n",
              "    }\n",
              "\n",
              "    .dataframe thead th {\n",
              "        text-align: right;\n",
              "    }\n",
              "</style>\n",
              "<table border=\"1\" class=\"dataframe\">\n",
              "  <thead>\n",
              "    <tr style=\"text-align: right;\">\n",
              "      <th></th>\n",
              "      <th>P1</th>\n",
              "      <th>P2</th>\n",
              "      <th>P3</th>\n",
              "      <th>P4</th>\n",
              "      <th>P5</th>\n",
              "      <th>P6</th>\n",
              "      <th>P7</th>\n",
              "      <th>P8</th>\n",
              "      <th>P9</th>\n",
              "      <th>P10</th>\n",
              "      <th>P11</th>\n",
              "      <th>P12</th>\n",
              "      <th>P13</th>\n",
              "      <th>P14</th>\n",
              "      <th>P15</th>\n",
              "      <th>P16</th>\n",
              "      <th>P17</th>\n",
              "      <th>P18</th>\n",
              "      <th>P19</th>\n",
              "      <th>P20</th>\n",
              "      <th>P21</th>\n",
              "      <th>P22</th>\n",
              "      <th>P23</th>\n",
              "      <th>P24</th>\n",
              "      <th>P25</th>\n",
              "      <th>P26</th>\n",
              "      <th>P27</th>\n",
              "      <th>P28</th>\n",
              "      <th>P29</th>\n",
              "      <th>P30</th>\n",
              "      <th>P31</th>\n",
              "      <th>P32</th>\n",
              "      <th>P33</th>\n",
              "      <th>P34</th>\n",
              "      <th>P35</th>\n",
              "      <th>P36</th>\n",
              "      <th>P37</th>\n",
              "      <th>revenue</th>\n",
              "    </tr>\n",
              "  </thead>\n",
              "  <tbody>\n",
              "    <tr>\n",
              "      <th>count</th>\n",
              "      <td>100000.000000</td>\n",
              "      <td>100000.000000</td>\n",
              "      <td>100000.000000</td>\n",
              "      <td>100000.000000</td>\n",
              "      <td>100000.000000</td>\n",
              "      <td>100000.000000</td>\n",
              "      <td>100000.00000</td>\n",
              "      <td>100000.00000</td>\n",
              "      <td>100000.000000</td>\n",
              "      <td>100000.000000</td>\n",
              "      <td>100000.000000</td>\n",
              "      <td>100000.000000</td>\n",
              "      <td>100000.000000</td>\n",
              "      <td>100000.000000</td>\n",
              "      <td>100000.000000</td>\n",
              "      <td>100000.000000</td>\n",
              "      <td>100000.000000</td>\n",
              "      <td>100000.000000</td>\n",
              "      <td>100000.000000</td>\n",
              "      <td>100000.00000</td>\n",
              "      <td>100000.000000</td>\n",
              "      <td>100000.000000</td>\n",
              "      <td>100000.00000</td>\n",
              "      <td>100000.000000</td>\n",
              "      <td>100000.000000</td>\n",
              "      <td>100000.000000</td>\n",
              "      <td>100000.000000</td>\n",
              "      <td>100000.000000</td>\n",
              "      <td>100000.000000</td>\n",
              "      <td>100000.000000</td>\n",
              "      <td>100000.000000</td>\n",
              "      <td>100000.000000</td>\n",
              "      <td>100000.000000</td>\n",
              "      <td>100000.000000</td>\n",
              "      <td>100000.000000</td>\n",
              "      <td>100000.000000</td>\n",
              "      <td>100000.000000</td>\n",
              "      <td>100000.000000</td>\n",
              "    </tr>\n",
              "    <tr>\n",
              "      <th>mean</th>\n",
              "      <td>4.088030</td>\n",
              "      <td>4.428085</td>\n",
              "      <td>4.215325</td>\n",
              "      <td>4.396025</td>\n",
              "      <td>1.989590</td>\n",
              "      <td>2.881900</td>\n",
              "      <td>5.30051</td>\n",
              "      <td>4.93100</td>\n",
              "      <td>5.251380</td>\n",
              "      <td>5.458970</td>\n",
              "      <td>3.311720</td>\n",
              "      <td>5.061440</td>\n",
              "      <td>5.086630</td>\n",
              "      <td>1.280090</td>\n",
              "      <td>1.305530</td>\n",
              "      <td>1.747070</td>\n",
              "      <td>1.156880</td>\n",
              "      <td>1.708470</td>\n",
              "      <td>5.191120</td>\n",
              "      <td>4.57086</td>\n",
              "      <td>2.542380</td>\n",
              "      <td>2.430380</td>\n",
              "      <td>3.63998</td>\n",
              "      <td>1.234450</td>\n",
              "      <td>1.244110</td>\n",
              "      <td>1.279665</td>\n",
              "      <td>1.164440</td>\n",
              "      <td>3.233785</td>\n",
              "      <td>3.084000</td>\n",
              "      <td>2.083300</td>\n",
              "      <td>1.193330</td>\n",
              "      <td>1.942640</td>\n",
              "      <td>0.987430</td>\n",
              "      <td>2.108670</td>\n",
              "      <td>1.832830</td>\n",
              "      <td>1.968890</td>\n",
              "      <td>0.973500</td>\n",
              "      <td>14698.061620</td>\n",
              "    </tr>\n",
              "    <tr>\n",
              "      <th>std</th>\n",
              "      <td>2.812963</td>\n",
              "      <td>1.428865</td>\n",
              "      <td>0.842161</td>\n",
              "      <td>1.035827</td>\n",
              "      <td>1.065314</td>\n",
              "      <td>1.531429</td>\n",
              "      <td>2.17858</td>\n",
              "      <td>1.71849</td>\n",
              "      <td>1.702632</td>\n",
              "      <td>1.763601</td>\n",
              "      <td>2.068118</td>\n",
              "      <td>1.765383</td>\n",
              "      <td>0.979339</td>\n",
              "      <td>2.496782</td>\n",
              "      <td>2.166949</td>\n",
              "      <td>3.172012</td>\n",
              "      <td>2.432646</td>\n",
              "      <td>3.030527</td>\n",
              "      <td>5.785529</td>\n",
              "      <td>3.61243</td>\n",
              "      <td>2.526046</td>\n",
              "      <td>1.363184</td>\n",
              "      <td>4.71916</td>\n",
              "      <td>2.097457</td>\n",
              "      <td>2.084731</td>\n",
              "      <td>2.309640</td>\n",
              "      <td>2.179495</td>\n",
              "      <td>2.136694</td>\n",
              "      <td>1.783927</td>\n",
              "      <td>4.309479</td>\n",
              "      <td>2.307944</td>\n",
              "      <td>3.971298</td>\n",
              "      <td>1.534808</td>\n",
              "      <td>4.685414</td>\n",
              "      <td>3.228769</td>\n",
              "      <td>3.805773</td>\n",
              "      <td>1.677267</td>\n",
              "      <td>6705.081965</td>\n",
              "    </tr>\n",
              "    <tr>\n",
              "      <th>min</th>\n",
              "      <td>1.000000</td>\n",
              "      <td>1.000000</td>\n",
              "      <td>0.000000</td>\n",
              "      <td>2.000000</td>\n",
              "      <td>1.000000</td>\n",
              "      <td>1.000000</td>\n",
              "      <td>1.00000</td>\n",
              "      <td>1.00000</td>\n",
              "      <td>4.000000</td>\n",
              "      <td>4.000000</td>\n",
              "      <td>1.000000</td>\n",
              "      <td>2.000000</td>\n",
              "      <td>3.000000</td>\n",
              "      <td>0.000000</td>\n",
              "      <td>0.000000</td>\n",
              "      <td>0.000000</td>\n",
              "      <td>0.000000</td>\n",
              "      <td>0.000000</td>\n",
              "      <td>1.000000</td>\n",
              "      <td>1.00000</td>\n",
              "      <td>1.000000</td>\n",
              "      <td>1.000000</td>\n",
              "      <td>1.00000</td>\n",
              "      <td>0.000000</td>\n",
              "      <td>0.000000</td>\n",
              "      <td>0.000000</td>\n",
              "      <td>0.000000</td>\n",
              "      <td>1.000000</td>\n",
              "      <td>0.000000</td>\n",
              "      <td>0.000000</td>\n",
              "      <td>0.000000</td>\n",
              "      <td>0.000000</td>\n",
              "      <td>0.000000</td>\n",
              "      <td>0.000000</td>\n",
              "      <td>0.000000</td>\n",
              "      <td>0.000000</td>\n",
              "      <td>0.000000</td>\n",
              "      <td>6271.000000</td>\n",
              "    </tr>\n",
              "    <tr>\n",
              "      <th>25%</th>\n",
              "      <td>2.000000</td>\n",
              "      <td>3.750000</td>\n",
              "      <td>4.000000</td>\n",
              "      <td>4.000000</td>\n",
              "      <td>1.000000</td>\n",
              "      <td>2.000000</td>\n",
              "      <td>5.00000</td>\n",
              "      <td>4.00000</td>\n",
              "      <td>4.000000</td>\n",
              "      <td>5.000000</td>\n",
              "      <td>2.000000</td>\n",
              "      <td>4.000000</td>\n",
              "      <td>5.000000</td>\n",
              "      <td>0.000000</td>\n",
              "      <td>0.000000</td>\n",
              "      <td>0.000000</td>\n",
              "      <td>0.000000</td>\n",
              "      <td>0.000000</td>\n",
              "      <td>2.000000</td>\n",
              "      <td>2.00000</td>\n",
              "      <td>1.000000</td>\n",
              "      <td>1.000000</td>\n",
              "      <td>1.00000</td>\n",
              "      <td>0.000000</td>\n",
              "      <td>0.000000</td>\n",
              "      <td>0.000000</td>\n",
              "      <td>0.000000</td>\n",
              "      <td>2.000000</td>\n",
              "      <td>2.000000</td>\n",
              "      <td>0.000000</td>\n",
              "      <td>0.000000</td>\n",
              "      <td>0.000000</td>\n",
              "      <td>0.000000</td>\n",
              "      <td>0.000000</td>\n",
              "      <td>0.000000</td>\n",
              "      <td>0.000000</td>\n",
              "      <td>0.000000</td>\n",
              "      <td>10143.000000</td>\n",
              "    </tr>\n",
              "    <tr>\n",
              "      <th>50%</th>\n",
              "      <td>3.000000</td>\n",
              "      <td>5.000000</td>\n",
              "      <td>4.000000</td>\n",
              "      <td>4.000000</td>\n",
              "      <td>2.000000</td>\n",
              "      <td>2.000000</td>\n",
              "      <td>5.00000</td>\n",
              "      <td>5.00000</td>\n",
              "      <td>5.000000</td>\n",
              "      <td>5.000000</td>\n",
              "      <td>3.000000</td>\n",
              "      <td>5.000000</td>\n",
              "      <td>5.000000</td>\n",
              "      <td>0.000000</td>\n",
              "      <td>0.000000</td>\n",
              "      <td>0.000000</td>\n",
              "      <td>0.000000</td>\n",
              "      <td>0.000000</td>\n",
              "      <td>3.000000</td>\n",
              "      <td>4.00000</td>\n",
              "      <td>2.000000</td>\n",
              "      <td>2.000000</td>\n",
              "      <td>2.00000</td>\n",
              "      <td>0.000000</td>\n",
              "      <td>0.000000</td>\n",
              "      <td>0.000000</td>\n",
              "      <td>0.000000</td>\n",
              "      <td>3.000000</td>\n",
              "      <td>3.000000</td>\n",
              "      <td>0.000000</td>\n",
              "      <td>0.000000</td>\n",
              "      <td>0.000000</td>\n",
              "      <td>0.000000</td>\n",
              "      <td>0.000000</td>\n",
              "      <td>0.000000</td>\n",
              "      <td>0.000000</td>\n",
              "      <td>0.000000</td>\n",
              "      <td>12951.000000</td>\n",
              "    </tr>\n",
              "    <tr>\n",
              "      <th>75%</th>\n",
              "      <td>4.000000</td>\n",
              "      <td>5.000000</td>\n",
              "      <td>4.000000</td>\n",
              "      <td>5.000000</td>\n",
              "      <td>2.000000</td>\n",
              "      <td>4.000000</td>\n",
              "      <td>5.00000</td>\n",
              "      <td>5.00000</td>\n",
              "      <td>5.000000</td>\n",
              "      <td>5.000000</td>\n",
              "      <td>4.000000</td>\n",
              "      <td>5.000000</td>\n",
              "      <td>5.000000</td>\n",
              "      <td>2.000000</td>\n",
              "      <td>2.000000</td>\n",
              "      <td>3.000000</td>\n",
              "      <td>2.000000</td>\n",
              "      <td>4.000000</td>\n",
              "      <td>5.000000</td>\n",
              "      <td>5.00000</td>\n",
              "      <td>3.000000</td>\n",
              "      <td>3.000000</td>\n",
              "      <td>4.00000</td>\n",
              "      <td>2.000000</td>\n",
              "      <td>2.000000</td>\n",
              "      <td>2.000000</td>\n",
              "      <td>2.000000</td>\n",
              "      <td>4.000000</td>\n",
              "      <td>3.000000</td>\n",
              "      <td>3.000000</td>\n",
              "      <td>1.000000</td>\n",
              "      <td>3.000000</td>\n",
              "      <td>2.000000</td>\n",
              "      <td>3.000000</td>\n",
              "      <td>4.000000</td>\n",
              "      <td>3.000000</td>\n",
              "      <td>2.000000</td>\n",
              "      <td>16923.000000</td>\n",
              "    </tr>\n",
              "    <tr>\n",
              "      <th>max</th>\n",
              "      <td>15.000000</td>\n",
              "      <td>7.500000</td>\n",
              "      <td>6.000000</td>\n",
              "      <td>7.500000</td>\n",
              "      <td>6.000000</td>\n",
              "      <td>10.000000</td>\n",
              "      <td>10.00000</td>\n",
              "      <td>10.00000</td>\n",
              "      <td>10.000000</td>\n",
              "      <td>10.000000</td>\n",
              "      <td>10.000000</td>\n",
              "      <td>10.000000</td>\n",
              "      <td>7.500000</td>\n",
              "      <td>15.000000</td>\n",
              "      <td>10.000000</td>\n",
              "      <td>15.000000</td>\n",
              "      <td>15.000000</td>\n",
              "      <td>15.000000</td>\n",
              "      <td>25.000000</td>\n",
              "      <td>15.00000</td>\n",
              "      <td>15.000000</td>\n",
              "      <td>5.000000</td>\n",
              "      <td>25.00000</td>\n",
              "      <td>10.000000</td>\n",
              "      <td>10.000000</td>\n",
              "      <td>12.500000</td>\n",
              "      <td>12.500000</td>\n",
              "      <td>12.500000</td>\n",
              "      <td>10.000000</td>\n",
              "      <td>25.000000</td>\n",
              "      <td>15.000000</td>\n",
              "      <td>25.000000</td>\n",
              "      <td>6.000000</td>\n",
              "      <td>30.000000</td>\n",
              "      <td>15.000000</td>\n",
              "      <td>20.000000</td>\n",
              "      <td>8.000000</td>\n",
              "      <td>52294.000000</td>\n",
              "    </tr>\n",
              "  </tbody>\n",
              "</table>\n",
              "</div>"
            ],
            "text/plain": [
              "                  P1             P2  ...            P37        revenue\n",
              "count  100000.000000  100000.000000  ...  100000.000000  100000.000000\n",
              "mean        4.088030       4.428085  ...       0.973500   14698.061620\n",
              "std         2.812963       1.428865  ...       1.677267    6705.081965\n",
              "min         1.000000       1.000000  ...       0.000000    6271.000000\n",
              "25%         2.000000       3.750000  ...       0.000000   10143.000000\n",
              "50%         3.000000       5.000000  ...       0.000000   12951.000000\n",
              "75%         4.000000       5.000000  ...       2.000000   16923.000000\n",
              "max        15.000000       7.500000  ...       8.000000   52294.000000\n",
              "\n",
              "[8 rows x 38 columns]"
            ]
          },
          "metadata": {
            "tags": []
          },
          "execution_count": 7
        }
      ]
    },
    {
      "cell_type": "markdown",
      "metadata": {
        "id": "MykHw9s4DyiJ"
      },
      "source": [
        "> All the P(X) features have small ranges (most are between 0 and 20), so there doesn't appear to exist any errors in the data.\n",
        ">\n",
        "> The target variable `revenue` has a large range of values, with the min being 6K and the max > 50K. \n",
        ">\n",
        "> We should look at outliers in this variable."
      ]
    },
    {
      "cell_type": "code",
      "metadata": {
        "colab": {
          "base_uri": "https://localhost:8080/",
          "height": 265
        },
        "id": "wiWgj9kzERjZ",
        "outputId": "08422a88-09aa-4a41-fa7c-8c17fbf181c7"
      },
      "source": [
        "plt.hist(data.revenue, bins=1000)\n",
        "plt.show()"
      ],
      "execution_count": 8,
      "outputs": [
        {
          "output_type": "display_data",
          "data": {
            "image/png": "[encoded data removed]",
            "text/plain": [
              "<Figure size 432x288 with 1 Axes>"
            ]
          },
          "metadata": {
            "tags": [],
            "needs_background": "light"
          }
        }
      ]
    },
    {
      "cell_type": "markdown",
      "metadata": {
        "id": "U28gxnM6EiIr"
      },
      "source": [
        "> Most revenue values are situated between 10K and 20K. The remaining values are evenly spaced between the 20K range and the 50K range. There doesn't seem to exist any restaurant with a much larger revenue than the rest."
      ]
    },
    {
      "cell_type": "code",
      "metadata": {
        "colab": {
          "base_uri": "https://localhost:8080/"
        },
        "id": "wD5siNfqFzuK",
        "outputId": "1c63ba12-d9a3-490f-83e5-34b7fa2bd932"
      },
      "source": [
        "# looking at categorical features\n",
        "cat_vars = ['Open Date', 'City', 'City Group', 'Type']\n",
        "for var in cat_vars:\n",
        "  print(var)\n",
        "  print(data[var].nunique())\n",
        "  print(data[var].value_counts())\n",
        "  print('\\n')"
      ],
      "execution_count": 9,
      "outputs": [
        {
          "output_type": "stream",
          "text": [
            "Open Date\n",
            "310\n",
            "07/10/2013    645\n",
            "05/06/2013    635\n",
            "07/04/2011    635\n",
            "09/20/2013    632\n",
            "03/05/1996    631\n",
            "             ... \n",
            "11/25/2009    276\n",
            "08/23/2013    275\n",
            "09/01/2010    274\n",
            "11/12/2010    267\n",
            "12/23/2012    265\n",
            "Name: Open Date, Length: 310, dtype: int64\n",
            "\n",
            "\n",
            "City\n",
            "57\n",
            "İstanbul          34087\n",
            "Ankara             8720\n",
            "İzmir              6465\n",
            "Antalya            5911\n",
            "Kocaeli            4364\n",
            "Mersin             2735\n",
            "Adana              2514\n",
            "Balıkesir          2463\n",
            "Bursa              2441\n",
            "Muğla              1823\n",
            "Aydın              1617\n",
            "Tekirdağ           1577\n",
            "Konya              1576\n",
            "Gaziantep          1487\n",
            "Edirne             1230\n",
            "Manisa             1227\n",
            "Çanakkale           965\n",
            "Denizli             964\n",
            "Diyarbakır          954\n",
            "Hatay               951\n",
            "Zonguldak           926\n",
            "Eskişehir           900\n",
            "Trabzon             660\n",
            "Aksaray             650\n",
            "Bolu                631\n",
            "Yalova              630\n",
            "Kırıkkale           622\n",
            "Malatya             616\n",
            "Mardin              610\n",
            "Şanlıurfa           609\n",
            "Sakarya             604\n",
            "Batman              604\n",
            "Rize                345\n",
            "Artvin              344\n",
            "Bilecik             339\n",
            "Afyonkarahisar      331\n",
            "Nevşehir            328\n",
            "Sivas               326\n",
            "Samsun              324\n",
            "Kayseri             323\n",
            "Kırşehir            319\n",
            "Erzincan            319\n",
            "Ordu                317\n",
            "Erzurum             317\n",
            "Kahramanmaraş       315\n",
            "Siirt               315\n",
            "Niğde               310\n",
            "Giresun             310\n",
            "Çankırı             309\n",
            "Isparta             304\n",
            "Çorum               304\n",
            "Kütahya             304\n",
            "Düzce               303\n",
            "Tanımsız            298\n",
            "Uşak                293\n",
            "Kars                289\n",
            "Kırklareli          281\n",
            "Name: City, dtype: int64\n",
            "\n",
            "\n",
            "City Group\n",
            "2\n",
            "Other         50728\n",
            "Big Cities    49272\n",
            "Name: City Group, dtype: int64\n",
            "\n",
            "\n",
            "Type\n",
            "4\n",
            "FC    57019\n",
            "IL    40447\n",
            "DT     2244\n",
            "MB      290\n",
            "Name: Type, dtype: int64\n",
            "\n",
            "\n"
          ],
          "name": "stdout"
        }
      ]
    },
    {
      "cell_type": "markdown",
      "metadata": {
        "id": "0-_2h-bdGae0"
      },
      "source": [
        "> There are two problems with the categorical data in the dataset:\n",
        ">\n",
        "> *   `Open Date`: there are too many different values in this feature to be able to treat it like a categorical variable (encoding the feature would lead to a large number of new features that would add too much noise to the data).\n",
        "> \n",
        "> There is, however, a solution: we can convert this categorical feature to a numerical one that represents the number of days since the restaurant opened, keeping all the information and solving the current issue.\n",
        ">\n",
        "> *   `City`: like the issue before, there are 31 different cities on the dataset. Encoding them all would lead to the addition of over 30 new features to the dataset. However, we have another feature - `City Group` - that can gives us location info while only having 2 different values. We can use `City Group` and drop `City` from the dataset.\n",
        "\n"
      ]
    },
    {
      "cell_type": "code",
      "metadata": {
        "colab": {
          "base_uri": "https://localhost:8080/",
          "height": 863
        },
        "id": "x5azgX3UJKHg",
        "outputId": "1d4c0362-9c6a-4b98-e84b-0bfc77791d16"
      },
      "source": [
        "revenue_by_city = data.revenue.groupby(data.City).mean().sort_values()\n",
        "revenue_by_city.plot.barh(figsize=(10,15))\n",
        "plt.show()"
      ],
      "execution_count": 10,
      "outputs": [
        {
          "output_type": "display_data",
          "data": {
            "image/png": "[encoded data removed]",
            "text/plain": [
              "<Figure size 720x1080 with 1 Axes>"
            ]
          },
          "metadata": {
            "tags": [],
            "needs_background": "light"
          }
        }
      ]
    },
    {
      "cell_type": "markdown",
      "metadata": {
        "id": "es0MuVx1LBKN"
      },
      "source": [
        "> There doesn't seem to be a considerable difference in Revenue between different cities (the only City that does not fit the norm is Erzincan, which is considerably higher than the rest).\n",
        ">\n",
        "> It appears to be relatively \"safe\" to drop `City` and get location information solely from `City Group`."
      ]
    },
    {
      "cell_type": "code",
      "metadata": {
        "colab": {
          "base_uri": "https://localhost:8080/",
          "height": 230
        },
        "id": "RNqOisDvL6xH",
        "outputId": "b67584ad-0ad7-43df-ad7b-149e8fdde013"
      },
      "source": [
        "# converting Open Date to days_since_open\n",
        "days_since_open=[]\n",
        "for dt in data['Open Date']:\n",
        "  open_date = datetime.strptime(dt, \"%m/%d/%Y\").date()\n",
        "  today = date.today()\n",
        "  delta = today - open_date\n",
        "  days_since_open.append(delta.days)\n",
        "\n",
        "data['days_since_open']=days_since_open\n",
        "new_data=data.drop('Open Date', axis=1)\n",
        "\n",
        "# dropping City\n",
        "new_data=new_data.drop('City', axis=1)\n",
        "new_data.head(3)"
      ],
      "execution_count": 11,
      "outputs": [
        {
          "output_type": "execute_result",
          "data": {
            "text/html": [
              "<div>\n",
              "<style scoped>\n",
              "    .dataframe tbody tr th:only-of-type {\n",
              "        vertical-align: middle;\n",
              "    }\n",
              "\n",
              "    .dataframe tbody tr th {\n",
              "        vertical-align: top;\n",
              "    }\n",
              "\n",
              "    .dataframe thead th {\n",
              "        text-align: right;\n",
              "    }\n",
              "</style>\n",
              "<table border=\"1\" class=\"dataframe\">\n",
              "  <thead>\n",
              "    <tr style=\"text-align: right;\">\n",
              "      <th></th>\n",
              "      <th>City Group</th>\n",
              "      <th>Type</th>\n",
              "      <th>P1</th>\n",
              "      <th>P2</th>\n",
              "      <th>P3</th>\n",
              "      <th>P4</th>\n",
              "      <th>P5</th>\n",
              "      <th>P6</th>\n",
              "      <th>P7</th>\n",
              "      <th>P8</th>\n",
              "      <th>P9</th>\n",
              "      <th>P10</th>\n",
              "      <th>P11</th>\n",
              "      <th>P12</th>\n",
              "      <th>P13</th>\n",
              "      <th>P14</th>\n",
              "      <th>P15</th>\n",
              "      <th>P16</th>\n",
              "      <th>P17</th>\n",
              "      <th>P18</th>\n",
              "      <th>P19</th>\n",
              "      <th>P20</th>\n",
              "      <th>P21</th>\n",
              "      <th>P22</th>\n",
              "      <th>P23</th>\n",
              "      <th>P24</th>\n",
              "      <th>P25</th>\n",
              "      <th>P26</th>\n",
              "      <th>P27</th>\n",
              "      <th>P28</th>\n",
              "      <th>P29</th>\n",
              "      <th>P30</th>\n",
              "      <th>P31</th>\n",
              "      <th>P32</th>\n",
              "      <th>P33</th>\n",
              "      <th>P34</th>\n",
              "      <th>P35</th>\n",
              "      <th>P36</th>\n",
              "      <th>P37</th>\n",
              "      <th>revenue</th>\n",
              "      <th>days_since_open</th>\n",
              "    </tr>\n",
              "    <tr>\n",
              "      <th>Id</th>\n",
              "      <th></th>\n",
              "      <th></th>\n",
              "      <th></th>\n",
              "      <th></th>\n",
              "      <th></th>\n",
              "      <th></th>\n",
              "      <th></th>\n",
              "      <th></th>\n",
              "      <th></th>\n",
              "      <th></th>\n",
              "      <th></th>\n",
              "      <th></th>\n",
              "      <th></th>\n",
              "      <th></th>\n",
              "      <th></th>\n",
              "      <th></th>\n",
              "      <th></th>\n",
              "      <th></th>\n",
              "      <th></th>\n",
              "      <th></th>\n",
              "      <th></th>\n",
              "      <th></th>\n",
              "      <th></th>\n",
              "      <th></th>\n",
              "      <th></th>\n",
              "      <th></th>\n",
              "      <th></th>\n",
              "      <th></th>\n",
              "      <th></th>\n",
              "      <th></th>\n",
              "      <th></th>\n",
              "      <th></th>\n",
              "      <th></th>\n",
              "      <th></th>\n",
              "      <th></th>\n",
              "      <th></th>\n",
              "      <th></th>\n",
              "      <th></th>\n",
              "      <th></th>\n",
              "      <th></th>\n",
              "      <th></th>\n",
              "    </tr>\n",
              "  </thead>\n",
              "  <tbody>\n",
              "    <tr>\n",
              "      <th>0</th>\n",
              "      <td>Other</td>\n",
              "      <td>FC</td>\n",
              "      <td>1</td>\n",
              "      <td>4.0</td>\n",
              "      <td>4.0</td>\n",
              "      <td>4.0</td>\n",
              "      <td>1</td>\n",
              "      <td>2</td>\n",
              "      <td>5</td>\n",
              "      <td>4</td>\n",
              "      <td>5</td>\n",
              "      <td>5</td>\n",
              "      <td>5</td>\n",
              "      <td>3</td>\n",
              "      <td>4.0</td>\n",
              "      <td>0</td>\n",
              "      <td>0</td>\n",
              "      <td>0</td>\n",
              "      <td>2</td>\n",
              "      <td>0</td>\n",
              "      <td>5</td>\n",
              "      <td>5</td>\n",
              "      <td>3</td>\n",
              "      <td>1</td>\n",
              "      <td>4</td>\n",
              "      <td>0</td>\n",
              "      <td>0</td>\n",
              "      <td>0.0</td>\n",
              "      <td>0.0</td>\n",
              "      <td>2.0</td>\n",
              "      <td>3.0</td>\n",
              "      <td>0</td>\n",
              "      <td>0</td>\n",
              "      <td>0</td>\n",
              "      <td>0</td>\n",
              "      <td>0</td>\n",
              "      <td>0</td>\n",
              "      <td>0</td>\n",
              "      <td>0</td>\n",
              "      <td>10033.0</td>\n",
              "      <td>3774</td>\n",
              "    </tr>\n",
              "    <tr>\n",
              "      <th>1</th>\n",
              "      <td>Other</td>\n",
              "      <td>IL</td>\n",
              "      <td>3</td>\n",
              "      <td>4.0</td>\n",
              "      <td>4.0</td>\n",
              "      <td>4.0</td>\n",
              "      <td>2</td>\n",
              "      <td>2</td>\n",
              "      <td>5</td>\n",
              "      <td>3</td>\n",
              "      <td>4</td>\n",
              "      <td>4</td>\n",
              "      <td>2</td>\n",
              "      <td>4</td>\n",
              "      <td>5.0</td>\n",
              "      <td>0</td>\n",
              "      <td>0</td>\n",
              "      <td>0</td>\n",
              "      <td>0</td>\n",
              "      <td>0</td>\n",
              "      <td>5</td>\n",
              "      <td>5</td>\n",
              "      <td>3</td>\n",
              "      <td>2</td>\n",
              "      <td>1</td>\n",
              "      <td>0</td>\n",
              "      <td>0</td>\n",
              "      <td>0.0</td>\n",
              "      <td>0.0</td>\n",
              "      <td>1.0</td>\n",
              "      <td>3.0</td>\n",
              "      <td>0</td>\n",
              "      <td>0</td>\n",
              "      <td>0</td>\n",
              "      <td>0</td>\n",
              "      <td>0</td>\n",
              "      <td>0</td>\n",
              "      <td>0</td>\n",
              "      <td>0</td>\n",
              "      <td>9355.0</td>\n",
              "      <td>3719</td>\n",
              "    </tr>\n",
              "    <tr>\n",
              "      <th>2</th>\n",
              "      <td>Big Cities</td>\n",
              "      <td>FC</td>\n",
              "      <td>3</td>\n",
              "      <td>4.0</td>\n",
              "      <td>4.0</td>\n",
              "      <td>4.0</td>\n",
              "      <td>2</td>\n",
              "      <td>2</td>\n",
              "      <td>5</td>\n",
              "      <td>4</td>\n",
              "      <td>4</td>\n",
              "      <td>5</td>\n",
              "      <td>4</td>\n",
              "      <td>5</td>\n",
              "      <td>5.0</td>\n",
              "      <td>0</td>\n",
              "      <td>0</td>\n",
              "      <td>0</td>\n",
              "      <td>0</td>\n",
              "      <td>0</td>\n",
              "      <td>5</td>\n",
              "      <td>5</td>\n",
              "      <td>5</td>\n",
              "      <td>5</td>\n",
              "      <td>5</td>\n",
              "      <td>0</td>\n",
              "      <td>0</td>\n",
              "      <td>0.0</td>\n",
              "      <td>0.0</td>\n",
              "      <td>2.0</td>\n",
              "      <td>3.0</td>\n",
              "      <td>0</td>\n",
              "      <td>0</td>\n",
              "      <td>0</td>\n",
              "      <td>0</td>\n",
              "      <td>0</td>\n",
              "      <td>0</td>\n",
              "      <td>0</td>\n",
              "      <td>0</td>\n",
              "      <td>11353.0</td>\n",
              "      <td>2762</td>\n",
              "    </tr>\n",
              "  </tbody>\n",
              "</table>\n",
              "</div>"
            ],
            "text/plain": [
              "    City Group Type  P1   P2   P3  ...  P35  P36  P37  revenue  days_since_open\n",
              "Id                                 ...                                         \n",
              "0        Other   FC   1  4.0  4.0  ...    0    0    0  10033.0             3774\n",
              "1        Other   IL   3  4.0  4.0  ...    0    0    0   9355.0             3719\n",
              "2   Big Cities   FC   3  4.0  4.0  ...    0    0    0  11353.0             2762\n",
              "\n",
              "[3 rows x 41 columns]"
            ]
          },
          "metadata": {
            "tags": []
          },
          "execution_count": 11
        }
      ]
    },
    {
      "cell_type": "markdown",
      "metadata": {
        "id": "xGsJXaHaOtZ_"
      },
      "source": [
        "### Missing Values"
      ]
    },
    {
      "cell_type": "code",
      "metadata": {
        "colab": {
          "base_uri": "https://localhost:8080/"
        },
        "id": "M27Y33tWl_XA",
        "outputId": "6ac25949-c3c5-4ab9-9a77-c5bde25859eb"
      },
      "source": [
        "# checking the number of nulls for each feature\n",
        "new_data.isnull().sum()"
      ],
      "execution_count": 12,
      "outputs": [
        {
          "output_type": "execute_result",
          "data": {
            "text/plain": [
              "City Group         0\n",
              "Type               0\n",
              "P1                 0\n",
              "P2                 0\n",
              "P3                 0\n",
              "P4                 0\n",
              "P5                 0\n",
              "P6                 0\n",
              "P7                 0\n",
              "P8                 0\n",
              "P9                 0\n",
              "P10                0\n",
              "P11                0\n",
              "P12                0\n",
              "P13                0\n",
              "P14                0\n",
              "P15                0\n",
              "P16                0\n",
              "P17                0\n",
              "P18                0\n",
              "P19                0\n",
              "P20                0\n",
              "P21                0\n",
              "P22                0\n",
              "P23                0\n",
              "P24                0\n",
              "P25                0\n",
              "P26                0\n",
              "P27                0\n",
              "P28                0\n",
              "P29                0\n",
              "P30                0\n",
              "P31                0\n",
              "P32                0\n",
              "P33                0\n",
              "P34                0\n",
              "P35                0\n",
              "P36                0\n",
              "P37                0\n",
              "revenue            0\n",
              "days_since_open    0\n",
              "dtype: int64"
            ]
          },
          "metadata": {
            "tags": []
          },
          "execution_count": 12
        }
      ]
    },
    {
      "cell_type": "markdown",
      "metadata": {
        "id": "wwAn9gYmPFlX"
      },
      "source": [
        "> There are no null values in the dataset. As such, there is no need to think about missing value imputation strategies to employ."
      ]
    },
    {
      "cell_type": "markdown",
      "metadata": {
        "id": "LvG22Q4PPRlR"
      },
      "source": [
        "### Feature Selection"
      ]
    },
    {
      "cell_type": "code",
      "metadata": {
        "colab": {
          "base_uri": "https://localhost:8080/"
        },
        "id": "NmMsOXHtPThH",
        "outputId": "38128c43-fdba-4d74-d4e1-7ff81f04fd1b"
      },
      "source": [
        "new_data.shape"
      ],
      "execution_count": 13,
      "outputs": [
        {
          "output_type": "execute_result",
          "data": {
            "text/plain": [
              "(100000, 41)"
            ]
          },
          "metadata": {
            "tags": []
          },
          "execution_count": 13
        }
      ]
    },
    {
      "cell_type": "markdown",
      "metadata": {
        "id": "dP1ZiDzEPV5c"
      },
      "source": [
        "> We still have 40 features in the dataset, 37 of which represent the 3 categories of obfuscated data. We should look at these variables and select from among them the most relevant ones.\n",
        ">\n",
        "> We will use the VarianceThreshold method and select the features which show the largest variance."
      ]
    },
    {
      "cell_type": "code",
      "metadata": {
        "colab": {
          "base_uri": "https://localhost:8080/",
          "height": 175
        },
        "id": "i9Mh-H4Irtv9",
        "outputId": "b1013806-bd4b-4542-b811-20b7fe6d2225"
      },
      "source": [
        "num_vars=new_data.iloc[:, 2:39]\n",
        "num_vars.head(3)"
      ],
      "execution_count": 14,
      "outputs": [
        {
          "output_type": "execute_result",
          "data": {
            "text/html": [
              "<div>\n",
              "<style scoped>\n",
              "    .dataframe tbody tr th:only-of-type {\n",
              "        vertical-align: middle;\n",
              "    }\n",
              "\n",
              "    .dataframe tbody tr th {\n",
              "        vertical-align: top;\n",
              "    }\n",
              "\n",
              "    .dataframe thead th {\n",
              "        text-align: right;\n",
              "    }\n",
              "</style>\n",
              "<table border=\"1\" class=\"dataframe\">\n",
              "  <thead>\n",
              "    <tr style=\"text-align: right;\">\n",
              "      <th></th>\n",
              "      <th>P1</th>\n",
              "      <th>P2</th>\n",
              "      <th>P3</th>\n",
              "      <th>P4</th>\n",
              "      <th>P5</th>\n",
              "      <th>P6</th>\n",
              "      <th>P7</th>\n",
              "      <th>P8</th>\n",
              "      <th>P9</th>\n",
              "      <th>P10</th>\n",
              "      <th>P11</th>\n",
              "      <th>P12</th>\n",
              "      <th>P13</th>\n",
              "      <th>P14</th>\n",
              "      <th>P15</th>\n",
              "      <th>P16</th>\n",
              "      <th>P17</th>\n",
              "      <th>P18</th>\n",
              "      <th>P19</th>\n",
              "      <th>P20</th>\n",
              "      <th>P21</th>\n",
              "      <th>P22</th>\n",
              "      <th>P23</th>\n",
              "      <th>P24</th>\n",
              "      <th>P25</th>\n",
              "      <th>P26</th>\n",
              "      <th>P27</th>\n",
              "      <th>P28</th>\n",
              "      <th>P29</th>\n",
              "      <th>P30</th>\n",
              "      <th>P31</th>\n",
              "      <th>P32</th>\n",
              "      <th>P33</th>\n",
              "      <th>P34</th>\n",
              "      <th>P35</th>\n",
              "      <th>P36</th>\n",
              "      <th>P37</th>\n",
              "    </tr>\n",
              "    <tr>\n",
              "      <th>Id</th>\n",
              "      <th></th>\n",
              "      <th></th>\n",
              "      <th></th>\n",
              "      <th></th>\n",
              "      <th></th>\n",
              "      <th></th>\n",
              "      <th></th>\n",
              "      <th></th>\n",
              "      <th></th>\n",
              "      <th></th>\n",
              "      <th></th>\n",
              "      <th></th>\n",
              "      <th></th>\n",
              "      <th></th>\n",
              "      <th></th>\n",
              "      <th></th>\n",
              "      <th></th>\n",
              "      <th></th>\n",
              "      <th></th>\n",
              "      <th></th>\n",
              "      <th></th>\n",
              "      <th></th>\n",
              "      <th></th>\n",
              "      <th></th>\n",
              "      <th></th>\n",
              "      <th></th>\n",
              "      <th></th>\n",
              "      <th></th>\n",
              "      <th></th>\n",
              "      <th></th>\n",
              "      <th></th>\n",
              "      <th></th>\n",
              "      <th></th>\n",
              "      <th></th>\n",
              "      <th></th>\n",
              "      <th></th>\n",
              "      <th></th>\n",
              "    </tr>\n",
              "  </thead>\n",
              "  <tbody>\n",
              "    <tr>\n",
              "      <th>0</th>\n",
              "      <td>1</td>\n",
              "      <td>4.0</td>\n",
              "      <td>4.0</td>\n",
              "      <td>4.0</td>\n",
              "      <td>1</td>\n",
              "      <td>2</td>\n",
              "      <td>5</td>\n",
              "      <td>4</td>\n",
              "      <td>5</td>\n",
              "      <td>5</td>\n",
              "      <td>5</td>\n",
              "      <td>3</td>\n",
              "      <td>4.0</td>\n",
              "      <td>0</td>\n",
              "      <td>0</td>\n",
              "      <td>0</td>\n",
              "      <td>2</td>\n",
              "      <td>0</td>\n",
              "      <td>5</td>\n",
              "      <td>5</td>\n",
              "      <td>3</td>\n",
              "      <td>1</td>\n",
              "      <td>4</td>\n",
              "      <td>0</td>\n",
              "      <td>0</td>\n",
              "      <td>0.0</td>\n",
              "      <td>0.0</td>\n",
              "      <td>2.0</td>\n",
              "      <td>3.0</td>\n",
              "      <td>0</td>\n",
              "      <td>0</td>\n",
              "      <td>0</td>\n",
              "      <td>0</td>\n",
              "      <td>0</td>\n",
              "      <td>0</td>\n",
              "      <td>0</td>\n",
              "      <td>0</td>\n",
              "    </tr>\n",
              "    <tr>\n",
              "      <th>1</th>\n",
              "      <td>3</td>\n",
              "      <td>4.0</td>\n",
              "      <td>4.0</td>\n",
              "      <td>4.0</td>\n",
              "      <td>2</td>\n",
              "      <td>2</td>\n",
              "      <td>5</td>\n",
              "      <td>3</td>\n",
              "      <td>4</td>\n",
              "      <td>4</td>\n",
              "      <td>2</td>\n",
              "      <td>4</td>\n",
              "      <td>5.0</td>\n",
              "      <td>0</td>\n",
              "      <td>0</td>\n",
              "      <td>0</td>\n",
              "      <td>0</td>\n",
              "      <td>0</td>\n",
              "      <td>5</td>\n",
              "      <td>5</td>\n",
              "      <td>3</td>\n",
              "      <td>2</td>\n",
              "      <td>1</td>\n",
              "      <td>0</td>\n",
              "      <td>0</td>\n",
              "      <td>0.0</td>\n",
              "      <td>0.0</td>\n",
              "      <td>1.0</td>\n",
              "      <td>3.0</td>\n",
              "      <td>0</td>\n",
              "      <td>0</td>\n",
              "      <td>0</td>\n",
              "      <td>0</td>\n",
              "      <td>0</td>\n",
              "      <td>0</td>\n",
              "      <td>0</td>\n",
              "      <td>0</td>\n",
              "    </tr>\n",
              "    <tr>\n",
              "      <th>2</th>\n",
              "      <td>3</td>\n",
              "      <td>4.0</td>\n",
              "      <td>4.0</td>\n",
              "      <td>4.0</td>\n",
              "      <td>2</td>\n",
              "      <td>2</td>\n",
              "      <td>5</td>\n",
              "      <td>4</td>\n",
              "      <td>4</td>\n",
              "      <td>5</td>\n",
              "      <td>4</td>\n",
              "      <td>5</td>\n",
              "      <td>5.0</td>\n",
              "      <td>0</td>\n",
              "      <td>0</td>\n",
              "      <td>0</td>\n",
              "      <td>0</td>\n",
              "      <td>0</td>\n",
              "      <td>5</td>\n",
              "      <td>5</td>\n",
              "      <td>5</td>\n",
              "      <td>5</td>\n",
              "      <td>5</td>\n",
              "      <td>0</td>\n",
              "      <td>0</td>\n",
              "      <td>0.0</td>\n",
              "      <td>0.0</td>\n",
              "      <td>2.0</td>\n",
              "      <td>3.0</td>\n",
              "      <td>0</td>\n",
              "      <td>0</td>\n",
              "      <td>0</td>\n",
              "      <td>0</td>\n",
              "      <td>0</td>\n",
              "      <td>0</td>\n",
              "      <td>0</td>\n",
              "      <td>0</td>\n",
              "    </tr>\n",
              "  </tbody>\n",
              "</table>\n",
              "</div>"
            ],
            "text/plain": [
              "    P1   P2   P3   P4  P5  P6  P7  P8  ...  P30  P31  P32  P33  P34  P35  P36  P37\n",
              "Id                                     ...                                        \n",
              "0    1  4.0  4.0  4.0   1   2   5   4  ...    0    0    0    0    0    0    0    0\n",
              "1    3  4.0  4.0  4.0   2   2   5   3  ...    0    0    0    0    0    0    0    0\n",
              "2    3  4.0  4.0  4.0   2   2   5   4  ...    0    0    0    0    0    0    0    0\n",
              "\n",
              "[3 rows x 37 columns]"
            ]
          },
          "metadata": {
            "tags": []
          },
          "execution_count": 14
        }
      ]
    },
    {
      "cell_type": "code",
      "metadata": {
        "colab": {
          "base_uri": "https://localhost:8080/",
          "height": 336
        },
        "id": "ra7CgaSDwC7K",
        "outputId": "01ced3d0-6ed7-4222-c265-3fff9f79274f"
      },
      "source": [
        "# creating a VarianceThreshold object with threshold=0\n",
        "var_thresh = VarianceThreshold(threshold=0)\n",
        "\n",
        "# standardizing the data\n",
        "std_num_vars = MinMaxScaler().fit_transform(num_vars)\n",
        "\n",
        "# fitting the object to the standardized dataset\n",
        "var_thresh.fit(std_num_vars)\n",
        "\n",
        "# creating a dataframe containing the variances for all the features in the dataset\n",
        "df_var=pd.DataFrame(var_thresh.variances_, columns=['Variance'])\\\n",
        "                .sort_values(by='Variance', ascending=False)\n",
        "# plotting the variances in df_var\n",
        "# we need to reset the index for the plot to make sense\n",
        "plt.figure(figsize=(10, 5))\n",
        "plt.plot(df_var.reset_index(drop=True))\n",
        "plt.grid(True)\n",
        "plt.hlines(y=0.05, xmin=0, xmax=len(df_var), linestyles='--', colors='red')\n",
        "plt.xlabel('Features')\n",
        "plt.xticks(range(0, len(df_var)))\n",
        "plt.ylabel('Variance')\n",
        "plt.yticks(np.arange(0, 0.13, 0.01))\n",
        "plt.legend('')\n",
        "plt.show()"
      ],
      "execution_count": 15,
      "outputs": [
        {
          "output_type": "display_data",
          "data": {
            "image/png": "[encoded data removed]",
            "text/plain": [
              "<Figure size 720x360 with 1 Axes>"
            ]
          },
          "metadata": {
            "tags": [],
            "needs_background": "light"
          }
        }
      ]
    },
    {
      "cell_type": "markdown",
      "metadata": {
        "id": "0HLP268XRwTX"
      },
      "source": [
        "> The variance seems to stabilize below 0.05 so we will only choose the features which have variance higher than 0.05."
      ]
    },
    {
      "cell_type": "code",
      "metadata": {
        "colab": {
          "base_uri": "https://localhost:8080/",
          "height": 300
        },
        "id": "PvN0WKb3wuYv",
        "outputId": "41a8e224-c3ee-4ede-c85e-e0c10c27c8dd"
      },
      "source": [
        "df_var[df_var['Variance']>0.05]"
      ],
      "execution_count": 16,
      "outputs": [
        {
          "output_type": "execute_result",
          "data": {
            "text/html": [
              "<div>\n",
              "<style scoped>\n",
              "    .dataframe tbody tr th:only-of-type {\n",
              "        vertical-align: middle;\n",
              "    }\n",
              "\n",
              "    .dataframe tbody tr th {\n",
              "        vertical-align: top;\n",
              "    }\n",
              "\n",
              "    .dataframe thead th {\n",
              "        text-align: right;\n",
              "    }\n",
              "</style>\n",
              "<table border=\"1\" class=\"dataframe\">\n",
              "  <thead>\n",
              "    <tr style=\"text-align: right;\">\n",
              "      <th></th>\n",
              "      <th>Variance</th>\n",
              "    </tr>\n",
              "  </thead>\n",
              "  <tbody>\n",
              "    <tr>\n",
              "      <th>21</th>\n",
              "      <td>0.116141</td>\n",
              "    </tr>\n",
              "    <tr>\n",
              "      <th>9</th>\n",
              "      <td>0.086396</td>\n",
              "    </tr>\n",
              "    <tr>\n",
              "      <th>8</th>\n",
              "      <td>0.080526</td>\n",
              "    </tr>\n",
              "    <tr>\n",
              "      <th>19</th>\n",
              "      <td>0.066579</td>\n",
              "    </tr>\n",
              "    <tr>\n",
              "      <th>32</th>\n",
              "      <td>0.065434</td>\n",
              "    </tr>\n",
              "    <tr>\n",
              "      <th>6</th>\n",
              "      <td>0.058595</td>\n",
              "    </tr>\n",
              "    <tr>\n",
              "      <th>18</th>\n",
              "      <td>0.058111</td>\n",
              "    </tr>\n",
              "    <tr>\n",
              "      <th>10</th>\n",
              "      <td>0.052803</td>\n",
              "    </tr>\n",
              "  </tbody>\n",
              "</table>\n",
              "</div>"
            ],
            "text/plain": [
              "    Variance\n",
              "21  0.116141\n",
              "9   0.086396\n",
              "8   0.080526\n",
              "19  0.066579\n",
              "32  0.065434\n",
              "6   0.058595\n",
              "18  0.058111\n",
              "10  0.052803"
            ]
          },
          "metadata": {
            "tags": []
          },
          "execution_count": 16
        }
      ]
    },
    {
      "cell_type": "code",
      "metadata": {
        "colab": {
          "base_uri": "https://localhost:8080/",
          "height": 175
        },
        "id": "PwhFOky5xh6o",
        "outputId": "08f47bc1-14d5-47ee-e5dc-ace630a245d3"
      },
      "source": [
        "int_vars=list(df_var[df_var['Variance']>0.05].index)\n",
        "high_var=num_vars.iloc[:, int_vars]\n",
        "high_var.head(3)"
      ],
      "execution_count": 17,
      "outputs": [
        {
          "output_type": "execute_result",
          "data": {
            "text/html": [
              "<div>\n",
              "<style scoped>\n",
              "    .dataframe tbody tr th:only-of-type {\n",
              "        vertical-align: middle;\n",
              "    }\n",
              "\n",
              "    .dataframe tbody tr th {\n",
              "        vertical-align: top;\n",
              "    }\n",
              "\n",
              "    .dataframe thead th {\n",
              "        text-align: right;\n",
              "    }\n",
              "</style>\n",
              "<table border=\"1\" class=\"dataframe\">\n",
              "  <thead>\n",
              "    <tr style=\"text-align: right;\">\n",
              "      <th></th>\n",
              "      <th>P22</th>\n",
              "      <th>P10</th>\n",
              "      <th>P9</th>\n",
              "      <th>P20</th>\n",
              "      <th>P33</th>\n",
              "      <th>P7</th>\n",
              "      <th>P19</th>\n",
              "      <th>P11</th>\n",
              "    </tr>\n",
              "    <tr>\n",
              "      <th>Id</th>\n",
              "      <th></th>\n",
              "      <th></th>\n",
              "      <th></th>\n",
              "      <th></th>\n",
              "      <th></th>\n",
              "      <th></th>\n",
              "      <th></th>\n",
              "      <th></th>\n",
              "    </tr>\n",
              "  </thead>\n",
              "  <tbody>\n",
              "    <tr>\n",
              "      <th>0</th>\n",
              "      <td>1</td>\n",
              "      <td>5</td>\n",
              "      <td>5</td>\n",
              "      <td>5</td>\n",
              "      <td>0</td>\n",
              "      <td>5</td>\n",
              "      <td>5</td>\n",
              "      <td>5</td>\n",
              "    </tr>\n",
              "    <tr>\n",
              "      <th>1</th>\n",
              "      <td>2</td>\n",
              "      <td>4</td>\n",
              "      <td>4</td>\n",
              "      <td>5</td>\n",
              "      <td>0</td>\n",
              "      <td>5</td>\n",
              "      <td>5</td>\n",
              "      <td>2</td>\n",
              "    </tr>\n",
              "    <tr>\n",
              "      <th>2</th>\n",
              "      <td>5</td>\n",
              "      <td>5</td>\n",
              "      <td>4</td>\n",
              "      <td>5</td>\n",
              "      <td>0</td>\n",
              "      <td>5</td>\n",
              "      <td>5</td>\n",
              "      <td>4</td>\n",
              "    </tr>\n",
              "  </tbody>\n",
              "</table>\n",
              "</div>"
            ],
            "text/plain": [
              "    P22  P10  P9  P20  P33  P7  P19  P11\n",
              "Id                                      \n",
              "0     1    5   5    5    0   5    5    5\n",
              "1     2    4   4    5    0   5    5    2\n",
              "2     5    5   4    5    0   5    5    4"
            ]
          },
          "metadata": {
            "tags": []
          },
          "execution_count": 17
        }
      ]
    },
    {
      "cell_type": "markdown",
      "metadata": {
        "id": "Or_zhd92SSEd"
      },
      "source": [
        "> From the original 37 features of obfuscated data we are left with only 8, the features with the highest variance among them."
      ]
    },
    {
      "cell_type": "code",
      "metadata": {
        "colab": {
          "base_uri": "https://localhost:8080/",
          "height": 175
        },
        "id": "NfXdSca2ScWU",
        "outputId": "be9f73de-bf59-4db0-85df-dfd33f671321"
      },
      "source": [
        "cols_to_keep = ['revenue', 'City Group', 'Type', 'days_since_open'] + list(high_var.columns)\n",
        "new_data = new_data[cols_to_keep]\n",
        "new_data.head(3)"
      ],
      "execution_count": 18,
      "outputs": [
        {
          "output_type": "execute_result",
          "data": {
            "text/html": [
              "<div>\n",
              "<style scoped>\n",
              "    .dataframe tbody tr th:only-of-type {\n",
              "        vertical-align: middle;\n",
              "    }\n",
              "\n",
              "    .dataframe tbody tr th {\n",
              "        vertical-align: top;\n",
              "    }\n",
              "\n",
              "    .dataframe thead th {\n",
              "        text-align: right;\n",
              "    }\n",
              "</style>\n",
              "<table border=\"1\" class=\"dataframe\">\n",
              "  <thead>\n",
              "    <tr style=\"text-align: right;\">\n",
              "      <th></th>\n",
              "      <th>revenue</th>\n",
              "      <th>City Group</th>\n",
              "      <th>Type</th>\n",
              "      <th>days_since_open</th>\n",
              "      <th>P22</th>\n",
              "      <th>P10</th>\n",
              "      <th>P9</th>\n",
              "      <th>P20</th>\n",
              "      <th>P33</th>\n",
              "      <th>P7</th>\n",
              "      <th>P19</th>\n",
              "      <th>P11</th>\n",
              "    </tr>\n",
              "    <tr>\n",
              "      <th>Id</th>\n",
              "      <th></th>\n",
              "      <th></th>\n",
              "      <th></th>\n",
              "      <th></th>\n",
              "      <th></th>\n",
              "      <th></th>\n",
              "      <th></th>\n",
              "      <th></th>\n",
              "      <th></th>\n",
              "      <th></th>\n",
              "      <th></th>\n",
              "      <th></th>\n",
              "    </tr>\n",
              "  </thead>\n",
              "  <tbody>\n",
              "    <tr>\n",
              "      <th>0</th>\n",
              "      <td>10033.0</td>\n",
              "      <td>Other</td>\n",
              "      <td>FC</td>\n",
              "      <td>3774</td>\n",
              "      <td>1</td>\n",
              "      <td>5</td>\n",
              "      <td>5</td>\n",
              "      <td>5</td>\n",
              "      <td>0</td>\n",
              "      <td>5</td>\n",
              "      <td>5</td>\n",
              "      <td>5</td>\n",
              "    </tr>\n",
              "    <tr>\n",
              "      <th>1</th>\n",
              "      <td>9355.0</td>\n",
              "      <td>Other</td>\n",
              "      <td>IL</td>\n",
              "      <td>3719</td>\n",
              "      <td>2</td>\n",
              "      <td>4</td>\n",
              "      <td>4</td>\n",
              "      <td>5</td>\n",
              "      <td>0</td>\n",
              "      <td>5</td>\n",
              "      <td>5</td>\n",
              "      <td>2</td>\n",
              "    </tr>\n",
              "    <tr>\n",
              "      <th>2</th>\n",
              "      <td>11353.0</td>\n",
              "      <td>Big Cities</td>\n",
              "      <td>FC</td>\n",
              "      <td>2762</td>\n",
              "      <td>5</td>\n",
              "      <td>5</td>\n",
              "      <td>4</td>\n",
              "      <td>5</td>\n",
              "      <td>0</td>\n",
              "      <td>5</td>\n",
              "      <td>5</td>\n",
              "      <td>4</td>\n",
              "    </tr>\n",
              "  </tbody>\n",
              "</table>\n",
              "</div>"
            ],
            "text/plain": [
              "    revenue  City Group Type  days_since_open  P22  ...  P20  P33  P7  P19  P11\n",
              "Id                                                  ...                        \n",
              "0   10033.0       Other   FC             3774    1  ...    5    0   5    5    5\n",
              "1    9355.0       Other   IL             3719    2  ...    5    0   5    5    2\n",
              "2   11353.0  Big Cities   FC             2762    5  ...    5    0   5    5    4\n",
              "\n",
              "[3 rows x 12 columns]"
            ]
          },
          "metadata": {
            "tags": []
          },
          "execution_count": 18
        }
      ]
    },
    {
      "cell_type": "markdown",
      "metadata": {
        "id": "1uQl_JyJXIVv"
      },
      "source": [
        "### Encoding categorical features - `City Group` and `Type`"
      ]
    },
    {
      "cell_type": "markdown",
      "metadata": {
        "id": "2IgKtEWSYrlj"
      },
      "source": [
        "> `City Group` and `Type` are categorical features, with strings as values. We need to convert these to a model friendly format. The get_dummies function from pandas performs One-Hot Encoding on a dataset, creating new features for each group in each feature, that represent the presence or absence of that feature in each row."
      ]
    },
    {
      "cell_type": "code",
      "metadata": {
        "colab": {
          "base_uri": "https://localhost:8080/",
          "height": 175
        },
        "id": "Fh6XTObREiMA",
        "outputId": "14635b49-a152-4e08-f026-0fa2e2ecba52"
      },
      "source": [
        "# using get_dummies function\n",
        "enc_data=pd.get_dummies(new_data, columns=['City Group', 'Type'])\n",
        "\n",
        "# keeping only Big_Cities - Big Cities have value 1, Others have value 0\n",
        "enc_data=enc_data.drop('City Group_Other', axis=1)\n",
        "\n",
        "# renaming Big Cities\n",
        "enc_data=enc_data.rename(columns={'City Group_Big Cities':'Big_Cities'})\n",
        "\n",
        "enc_data.head(3)"
      ],
      "execution_count": 19,
      "outputs": [
        {
          "output_type": "execute_result",
          "data": {
            "text/html": [
              "<div>\n",
              "<style scoped>\n",
              "    .dataframe tbody tr th:only-of-type {\n",
              "        vertical-align: middle;\n",
              "    }\n",
              "\n",
              "    .dataframe tbody tr th {\n",
              "        vertical-align: top;\n",
              "    }\n",
              "\n",
              "    .dataframe thead th {\n",
              "        text-align: right;\n",
              "    }\n",
              "</style>\n",
              "<table border=\"1\" class=\"dataframe\">\n",
              "  <thead>\n",
              "    <tr style=\"text-align: right;\">\n",
              "      <th></th>\n",
              "      <th>revenue</th>\n",
              "      <th>days_since_open</th>\n",
              "      <th>P22</th>\n",
              "      <th>P10</th>\n",
              "      <th>P9</th>\n",
              "      <th>P20</th>\n",
              "      <th>P33</th>\n",
              "      <th>P7</th>\n",
              "      <th>P19</th>\n",
              "      <th>P11</th>\n",
              "      <th>Big_Cities</th>\n",
              "      <th>Type_DT</th>\n",
              "      <th>Type_FC</th>\n",
              "      <th>Type_IL</th>\n",
              "      <th>Type_MB</th>\n",
              "    </tr>\n",
              "    <tr>\n",
              "      <th>Id</th>\n",
              "      <th></th>\n",
              "      <th></th>\n",
              "      <th></th>\n",
              "      <th></th>\n",
              "      <th></th>\n",
              "      <th></th>\n",
              "      <th></th>\n",
              "      <th></th>\n",
              "      <th></th>\n",
              "      <th></th>\n",
              "      <th></th>\n",
              "      <th></th>\n",
              "      <th></th>\n",
              "      <th></th>\n",
              "      <th></th>\n",
              "    </tr>\n",
              "  </thead>\n",
              "  <tbody>\n",
              "    <tr>\n",
              "      <th>0</th>\n",
              "      <td>10033.0</td>\n",
              "      <td>3774</td>\n",
              "      <td>1</td>\n",
              "      <td>5</td>\n",
              "      <td>5</td>\n",
              "      <td>5</td>\n",
              "      <td>0</td>\n",
              "      <td>5</td>\n",
              "      <td>5</td>\n",
              "      <td>5</td>\n",
              "      <td>0</td>\n",
              "      <td>0</td>\n",
              "      <td>1</td>\n",
              "      <td>0</td>\n",
              "      <td>0</td>\n",
              "    </tr>\n",
              "    <tr>\n",
              "      <th>1</th>\n",
              "      <td>9355.0</td>\n",
              "      <td>3719</td>\n",
              "      <td>2</td>\n",
              "      <td>4</td>\n",
              "      <td>4</td>\n",
              "      <td>5</td>\n",
              "      <td>0</td>\n",
              "      <td>5</td>\n",
              "      <td>5</td>\n",
              "      <td>2</td>\n",
              "      <td>0</td>\n",
              "      <td>0</td>\n",
              "      <td>0</td>\n",
              "      <td>1</td>\n",
              "      <td>0</td>\n",
              "    </tr>\n",
              "    <tr>\n",
              "      <th>2</th>\n",
              "      <td>11353.0</td>\n",
              "      <td>2762</td>\n",
              "      <td>5</td>\n",
              "      <td>5</td>\n",
              "      <td>4</td>\n",
              "      <td>5</td>\n",
              "      <td>0</td>\n",
              "      <td>5</td>\n",
              "      <td>5</td>\n",
              "      <td>4</td>\n",
              "      <td>1</td>\n",
              "      <td>0</td>\n",
              "      <td>1</td>\n",
              "      <td>0</td>\n",
              "      <td>0</td>\n",
              "    </tr>\n",
              "  </tbody>\n",
              "</table>\n",
              "</div>"
            ],
            "text/plain": [
              "    revenue  days_since_open  P22  P10  ...  Type_DT  Type_FC  Type_IL  Type_MB\n",
              "Id                                      ...                                    \n",
              "0   10033.0             3774    1    5  ...        0        1        0        0\n",
              "1    9355.0             3719    2    4  ...        0        0        1        0\n",
              "2   11353.0             2762    5    5  ...        0        1        0        0\n",
              "\n",
              "[3 rows x 15 columns]"
            ]
          },
          "metadata": {
            "tags": []
          },
          "execution_count": 19
        }
      ]
    },
    {
      "cell_type": "markdown",
      "metadata": {
        "id": "2Kc8kuL7WX3t"
      },
      "source": [
        "### Creating classification target - `RevenueCategory`"
      ]
    },
    {
      "cell_type": "code",
      "metadata": {
        "colab": {
          "base_uri": "https://localhost:8080/",
          "height": 175
        },
        "id": "-JYkwzfRmclt",
        "outputId": "43bcb871-2922-4016-b85c-8cec65258cf2"
      },
      "source": [
        "# creating new feature according to the project info\n",
        "rev_category=[]\n",
        "for val in data.revenue:\n",
        "  if val < 12000:\n",
        "    rev_category.append(\"<12K\")\n",
        "  elif val > 12000 and val < 20000:\n",
        "    rev_category.append(\"12K-20K\")\n",
        "  else:\n",
        "    rev_category.append(\">20K\")\n",
        "\n",
        "enc_data.insert(1, 'RevenueCategory', rev_category)\n",
        "enc_data.head(3)"
      ],
      "execution_count": 20,
      "outputs": [
        {
          "output_type": "execute_result",
          "data": {
            "text/html": [
              "<div>\n",
              "<style scoped>\n",
              "    .dataframe tbody tr th:only-of-type {\n",
              "        vertical-align: middle;\n",
              "    }\n",
              "\n",
              "    .dataframe tbody tr th {\n",
              "        vertical-align: top;\n",
              "    }\n",
              "\n",
              "    .dataframe thead th {\n",
              "        text-align: right;\n",
              "    }\n",
              "</style>\n",
              "<table border=\"1\" class=\"dataframe\">\n",
              "  <thead>\n",
              "    <tr style=\"text-align: right;\">\n",
              "      <th></th>\n",
              "      <th>revenue</th>\n",
              "      <th>RevenueCategory</th>\n",
              "      <th>days_since_open</th>\n",
              "      <th>P22</th>\n",
              "      <th>P10</th>\n",
              "      <th>P9</th>\n",
              "      <th>P20</th>\n",
              "      <th>P33</th>\n",
              "      <th>P7</th>\n",
              "      <th>P19</th>\n",
              "      <th>P11</th>\n",
              "      <th>Big_Cities</th>\n",
              "      <th>Type_DT</th>\n",
              "      <th>Type_FC</th>\n",
              "      <th>Type_IL</th>\n",
              "      <th>Type_MB</th>\n",
              "    </tr>\n",
              "    <tr>\n",
              "      <th>Id</th>\n",
              "      <th></th>\n",
              "      <th></th>\n",
              "      <th></th>\n",
              "      <th></th>\n",
              "      <th></th>\n",
              "      <th></th>\n",
              "      <th></th>\n",
              "      <th></th>\n",
              "      <th></th>\n",
              "      <th></th>\n",
              "      <th></th>\n",
              "      <th></th>\n",
              "      <th></th>\n",
              "      <th></th>\n",
              "      <th></th>\n",
              "      <th></th>\n",
              "    </tr>\n",
              "  </thead>\n",
              "  <tbody>\n",
              "    <tr>\n",
              "      <th>0</th>\n",
              "      <td>10033.0</td>\n",
              "      <td>&lt;12K</td>\n",
              "      <td>3774</td>\n",
              "      <td>1</td>\n",
              "      <td>5</td>\n",
              "      <td>5</td>\n",
              "      <td>5</td>\n",
              "      <td>0</td>\n",
              "      <td>5</td>\n",
              "      <td>5</td>\n",
              "      <td>5</td>\n",
              "      <td>0</td>\n",
              "      <td>0</td>\n",
              "      <td>1</td>\n",
              "      <td>0</td>\n",
              "      <td>0</td>\n",
              "    </tr>\n",
              "    <tr>\n",
              "      <th>1</th>\n",
              "      <td>9355.0</td>\n",
              "      <td>&lt;12K</td>\n",
              "      <td>3719</td>\n",
              "      <td>2</td>\n",
              "      <td>4</td>\n",
              "      <td>4</td>\n",
              "      <td>5</td>\n",
              "      <td>0</td>\n",
              "      <td>5</td>\n",
              "      <td>5</td>\n",
              "      <td>2</td>\n",
              "      <td>0</td>\n",
              "      <td>0</td>\n",
              "      <td>0</td>\n",
              "      <td>1</td>\n",
              "      <td>0</td>\n",
              "    </tr>\n",
              "    <tr>\n",
              "      <th>2</th>\n",
              "      <td>11353.0</td>\n",
              "      <td>&lt;12K</td>\n",
              "      <td>2762</td>\n",
              "      <td>5</td>\n",
              "      <td>5</td>\n",
              "      <td>4</td>\n",
              "      <td>5</td>\n",
              "      <td>0</td>\n",
              "      <td>5</td>\n",
              "      <td>5</td>\n",
              "      <td>4</td>\n",
              "      <td>1</td>\n",
              "      <td>0</td>\n",
              "      <td>1</td>\n",
              "      <td>0</td>\n",
              "      <td>0</td>\n",
              "    </tr>\n",
              "  </tbody>\n",
              "</table>\n",
              "</div>"
            ],
            "text/plain": [
              "    revenue RevenueCategory  days_since_open  ...  Type_FC  Type_IL  Type_MB\n",
              "Id                                            ...                           \n",
              "0   10033.0            <12K             3774  ...        1        0        0\n",
              "1    9355.0            <12K             3719  ...        0        1        0\n",
              "2   11353.0            <12K             2762  ...        1        0        0\n",
              "\n",
              "[3 rows x 16 columns]"
            ]
          },
          "metadata": {
            "tags": []
          },
          "execution_count": 20
        }
      ]
    },
    {
      "cell_type": "code",
      "metadata": {
        "colab": {
          "base_uri": "https://localhost:8080/"
        },
        "id": "t6-QuN-Lofs4",
        "outputId": "7c9084d4-f2d9-4bec-a358-77bda0e72b17"
      },
      "source": [
        "# checking class balance\n",
        "enc_data.RevenueCategory.value_counts()"
      ],
      "execution_count": 21,
      "outputs": [
        {
          "output_type": "execute_result",
          "data": {
            "text/plain": [
              "12K-20K    43926\n",
              "<12K       43401\n",
              ">20K       12673\n",
              "Name: RevenueCategory, dtype: int64"
            ]
          },
          "metadata": {
            "tags": []
          },
          "execution_count": 21
        }
      ]
    },
    {
      "cell_type": "markdown",
      "metadata": {
        "id": "3rf7w9gmo7fv"
      },
      "source": [
        "> The class of >20K revenue has a much lower count than the rest. We will need to upsample the number of observations in this category to the number of observations of the remaining classes, as to avoid classification metrics' bias.\n",
        ">\n",
        "> We will need to create 30000 new observations for this class to match the number of elements in each of the other 2, using sklearn's resample function.\n",
        ">\n",
        "> Before we upsample, we will have to separate the dataset into 2, one for each task, as to not influence the values for the target variable `revenue` when we upsample the >20K category entries."
      ]
    },
    {
      "cell_type": "code",
      "metadata": {
        "colab": {
          "base_uri": "https://localhost:8080/"
        },
        "id": "fFNbachge5bM",
        "outputId": "d4d482a5-fc8a-4ab8-fcc5-09a39e999f60"
      },
      "source": [
        "# separating minority and majority classes\n",
        "df_min = enc_data[enc_data['RevenueCategory']=='>20K']\n",
        "df_major = enc_data[enc_data['RevenueCategory']!='>20K']\n",
        "\n",
        "# upsampling\n",
        "df_min_upsample = resample(df_min,\n",
        "                           replace=True,\n",
        "                           n_samples=43000,\n",
        "                           random_state=0)\n",
        "\n",
        "# creating class_data, the dataset for the classification task\n",
        "class_data=pd.concat([df_major, df_min_upsample])\n",
        "class_data=class_data.drop('revenue', axis=1)\n",
        "\n",
        "class_data.RevenueCategory.value_counts()"
      ],
      "execution_count": 22,
      "outputs": [
        {
          "output_type": "execute_result",
          "data": {
            "text/plain": [
              "12K-20K    43926\n",
              "<12K       43401\n",
              ">20K       43000\n",
              "Name: RevenueCategory, dtype: int64"
            ]
          },
          "metadata": {
            "tags": []
          },
          "execution_count": 22
        }
      ]
    },
    {
      "cell_type": "markdown",
      "metadata": {
        "id": "oRNFKqU1gUZO"
      },
      "source": [
        "> While this choice fixes the imbalance issue, it can cause problems when it comes to overfitting, as we are introducing in the dataset more of the same data. We will have to take this into consideration when looking at the models' metrics."
      ]
    },
    {
      "cell_type": "code",
      "metadata": {
        "colab": {
          "base_uri": "https://localhost:8080/",
          "height": 212
        },
        "id": "ubC8ik2BhjAI",
        "outputId": "3abf5c7e-6ebd-4bff-c40d-3484582a9377"
      },
      "source": [
        "print('There are', str(class_data.shape[0]), 'rows and', str(class_data.shape[1]-1), 'features in the classification dataset.\\n')\n",
        "class_data.head(3)"
      ],
      "execution_count": 23,
      "outputs": [
        {
          "output_type": "stream",
          "text": [
            "There are 130327 rows and 14 features in the classification dataset.\n",
            "\n"
          ],
          "name": "stdout"
        },
        {
          "output_type": "execute_result",
          "data": {
            "text/html": [
              "<div>\n",
              "<style scoped>\n",
              "    .dataframe tbody tr th:only-of-type {\n",
              "        vertical-align: middle;\n",
              "    }\n",
              "\n",
              "    .dataframe tbody tr th {\n",
              "        vertical-align: top;\n",
              "    }\n",
              "\n",
              "    .dataframe thead th {\n",
              "        text-align: right;\n",
              "    }\n",
              "</style>\n",
              "<table border=\"1\" class=\"dataframe\">\n",
              "  <thead>\n",
              "    <tr style=\"text-align: right;\">\n",
              "      <th></th>\n",
              "      <th>RevenueCategory</th>\n",
              "      <th>days_since_open</th>\n",
              "      <th>P22</th>\n",
              "      <th>P10</th>\n",
              "      <th>P9</th>\n",
              "      <th>P20</th>\n",
              "      <th>P33</th>\n",
              "      <th>P7</th>\n",
              "      <th>P19</th>\n",
              "      <th>P11</th>\n",
              "      <th>Big_Cities</th>\n",
              "      <th>Type_DT</th>\n",
              "      <th>Type_FC</th>\n",
              "      <th>Type_IL</th>\n",
              "      <th>Type_MB</th>\n",
              "    </tr>\n",
              "    <tr>\n",
              "      <th>Id</th>\n",
              "      <th></th>\n",
              "      <th></th>\n",
              "      <th></th>\n",
              "      <th></th>\n",
              "      <th></th>\n",
              "      <th></th>\n",
              "      <th></th>\n",
              "      <th></th>\n",
              "      <th></th>\n",
              "      <th></th>\n",
              "      <th></th>\n",
              "      <th></th>\n",
              "      <th></th>\n",
              "      <th></th>\n",
              "      <th></th>\n",
              "    </tr>\n",
              "  </thead>\n",
              "  <tbody>\n",
              "    <tr>\n",
              "      <th>0</th>\n",
              "      <td>&lt;12K</td>\n",
              "      <td>3774</td>\n",
              "      <td>1</td>\n",
              "      <td>5</td>\n",
              "      <td>5</td>\n",
              "      <td>5</td>\n",
              "      <td>0</td>\n",
              "      <td>5</td>\n",
              "      <td>5</td>\n",
              "      <td>5</td>\n",
              "      <td>0</td>\n",
              "      <td>0</td>\n",
              "      <td>1</td>\n",
              "      <td>0</td>\n",
              "      <td>0</td>\n",
              "    </tr>\n",
              "    <tr>\n",
              "      <th>1</th>\n",
              "      <td>&lt;12K</td>\n",
              "      <td>3719</td>\n",
              "      <td>2</td>\n",
              "      <td>4</td>\n",
              "      <td>4</td>\n",
              "      <td>5</td>\n",
              "      <td>0</td>\n",
              "      <td>5</td>\n",
              "      <td>5</td>\n",
              "      <td>2</td>\n",
              "      <td>0</td>\n",
              "      <td>0</td>\n",
              "      <td>0</td>\n",
              "      <td>1</td>\n",
              "      <td>0</td>\n",
              "    </tr>\n",
              "    <tr>\n",
              "      <th>2</th>\n",
              "      <td>&lt;12K</td>\n",
              "      <td>2762</td>\n",
              "      <td>5</td>\n",
              "      <td>5</td>\n",
              "      <td>4</td>\n",
              "      <td>5</td>\n",
              "      <td>0</td>\n",
              "      <td>5</td>\n",
              "      <td>5</td>\n",
              "      <td>4</td>\n",
              "      <td>1</td>\n",
              "      <td>0</td>\n",
              "      <td>1</td>\n",
              "      <td>0</td>\n",
              "      <td>0</td>\n",
              "    </tr>\n",
              "  </tbody>\n",
              "</table>\n",
              "</div>"
            ],
            "text/plain": [
              "   RevenueCategory  days_since_open  P22  ...  Type_FC  Type_IL  Type_MB\n",
              "Id                                        ...                           \n",
              "0             <12K             3774    1  ...        1        0        0\n",
              "1             <12K             3719    2  ...        0        1        0\n",
              "2             <12K             2762    5  ...        1        0        0\n",
              "\n",
              "[3 rows x 15 columns]"
            ]
          },
          "metadata": {
            "tags": []
          },
          "execution_count": 23
        }
      ]
    },
    {
      "cell_type": "code",
      "metadata": {
        "colab": {
          "base_uri": "https://localhost:8080/",
          "height": 212
        },
        "id": "d_q2MVVWi7YI",
        "outputId": "942f01de-51c4-4ce9-dbb1-18ff05bd609d"
      },
      "source": [
        "# creating reg_data, the dataset for the regression task\n",
        "reg_data=enc_data.drop('RevenueCategory', axis=1)\n",
        "\n",
        "print('There are', str(reg_data.shape[0]), 'rows and', str(reg_data.shape[1]-1), 'features in the regression dataset.\\n')\n",
        "reg_data.head(3)"
      ],
      "execution_count": 24,
      "outputs": [
        {
          "output_type": "stream",
          "text": [
            "There are 100000 rows and 14 features in the regression dataset.\n",
            "\n"
          ],
          "name": "stdout"
        },
        {
          "output_type": "execute_result",
          "data": {
            "text/html": [
              "<div>\n",
              "<style scoped>\n",
              "    .dataframe tbody tr th:only-of-type {\n",
              "        vertical-align: middle;\n",
              "    }\n",
              "\n",
              "    .dataframe tbody tr th {\n",
              "        vertical-align: top;\n",
              "    }\n",
              "\n",
              "    .dataframe thead th {\n",
              "        text-align: right;\n",
              "    }\n",
              "</style>\n",
              "<table border=\"1\" class=\"dataframe\">\n",
              "  <thead>\n",
              "    <tr style=\"text-align: right;\">\n",
              "      <th></th>\n",
              "      <th>revenue</th>\n",
              "      <th>days_since_open</th>\n",
              "      <th>P22</th>\n",
              "      <th>P10</th>\n",
              "      <th>P9</th>\n",
              "      <th>P20</th>\n",
              "      <th>P33</th>\n",
              "      <th>P7</th>\n",
              "      <th>P19</th>\n",
              "      <th>P11</th>\n",
              "      <th>Big_Cities</th>\n",
              "      <th>Type_DT</th>\n",
              "      <th>Type_FC</th>\n",
              "      <th>Type_IL</th>\n",
              "      <th>Type_MB</th>\n",
              "    </tr>\n",
              "    <tr>\n",
              "      <th>Id</th>\n",
              "      <th></th>\n",
              "      <th></th>\n",
              "      <th></th>\n",
              "      <th></th>\n",
              "      <th></th>\n",
              "      <th></th>\n",
              "      <th></th>\n",
              "      <th></th>\n",
              "      <th></th>\n",
              "      <th></th>\n",
              "      <th></th>\n",
              "      <th></th>\n",
              "      <th></th>\n",
              "      <th></th>\n",
              "      <th></th>\n",
              "    </tr>\n",
              "  </thead>\n",
              "  <tbody>\n",
              "    <tr>\n",
              "      <th>0</th>\n",
              "      <td>10033.0</td>\n",
              "      <td>3774</td>\n",
              "      <td>1</td>\n",
              "      <td>5</td>\n",
              "      <td>5</td>\n",
              "      <td>5</td>\n",
              "      <td>0</td>\n",
              "      <td>5</td>\n",
              "      <td>5</td>\n",
              "      <td>5</td>\n",
              "      <td>0</td>\n",
              "      <td>0</td>\n",
              "      <td>1</td>\n",
              "      <td>0</td>\n",
              "      <td>0</td>\n",
              "    </tr>\n",
              "    <tr>\n",
              "      <th>1</th>\n",
              "      <td>9355.0</td>\n",
              "      <td>3719</td>\n",
              "      <td>2</td>\n",
              "      <td>4</td>\n",
              "      <td>4</td>\n",
              "      <td>5</td>\n",
              "      <td>0</td>\n",
              "      <td>5</td>\n",
              "      <td>5</td>\n",
              "      <td>2</td>\n",
              "      <td>0</td>\n",
              "      <td>0</td>\n",
              "      <td>0</td>\n",
              "      <td>1</td>\n",
              "      <td>0</td>\n",
              "    </tr>\n",
              "    <tr>\n",
              "      <th>2</th>\n",
              "      <td>11353.0</td>\n",
              "      <td>2762</td>\n",
              "      <td>5</td>\n",
              "      <td>5</td>\n",
              "      <td>4</td>\n",
              "      <td>5</td>\n",
              "      <td>0</td>\n",
              "      <td>5</td>\n",
              "      <td>5</td>\n",
              "      <td>4</td>\n",
              "      <td>1</td>\n",
              "      <td>0</td>\n",
              "      <td>1</td>\n",
              "      <td>0</td>\n",
              "      <td>0</td>\n",
              "    </tr>\n",
              "  </tbody>\n",
              "</table>\n",
              "</div>"
            ],
            "text/plain": [
              "    revenue  days_since_open  P22  P10  ...  Type_DT  Type_FC  Type_IL  Type_MB\n",
              "Id                                      ...                                    \n",
              "0   10033.0             3774    1    5  ...        0        1        0        0\n",
              "1    9355.0             3719    2    4  ...        0        0        1        0\n",
              "2   11353.0             2762    5    5  ...        0        1        0        0\n",
              "\n",
              "[3 rows x 15 columns]"
            ]
          },
          "metadata": {
            "tags": []
          },
          "execution_count": 24
        }
      ]
    },
    {
      "cell_type": "markdown",
      "metadata": {
        "id": "a-4gf3bqhfhb"
      },
      "source": [
        "> This concludes the preprocessing part of the project. We are left with one dataset for each of the classification and regression tasks, containing over 100 thousand entries and 14 features. There are 2 target variables: `revenue` for the regression task and `RevenueCategory` for the classification task."
      ]
    },
    {
      "cell_type": "markdown",
      "metadata": {
        "id": "7RqwyRFKk-pe"
      },
      "source": [
        "## 2. Learning Simple Classifiers\n",
        "\n",
        "* Choose **`X` classifiers** (https://scikit-learn.org/stable/supervised_learning.html#supervised-learning).\n",
        "* Use **grid-search and stratified 10 fold cross-validation** to estimate the best parameters (https://scikit-learn.org/stable/model_selection.html#model-selection). \n",
        "* Present mean and standard deviation of accuracy, precision and recall.\n",
        "* Show confusion matrices."
      ]
    },
    {
      "cell_type": "markdown",
      "metadata": {
        "id": "uQG-GiSFXbQp"
      },
      "source": [
        "### Splitting and scaling the data\n"
      ]
    },
    {
      "cell_type": "code",
      "metadata": {
        "id": "IwqVLQOWzx5y",
        "colab": {
          "base_uri": "https://localhost:8080/"
        },
        "outputId": "df28f9f3-e81c-4305-dce6-a6d400f27e03"
      },
      "source": [
        "#splitting the data\n",
        "# define target variable revenue\n",
        "y=class_data['RevenueCategory']\n",
        "# split numerical data\n",
        "class_datax = class_data.iloc[:, 1:] \n",
        "X_train, X_test, y_train, y_test = train_test_split(class_datax, y, test_size=0.3, random_state=0)\n",
        "print(X_test.shape)\n",
        "\n",
        "from sklearn.preprocessing import MinMaxScaler, StandardScaler\n",
        "# standardizing the data\n",
        "scaler=StandardScaler()\n",
        "X_train_scaled = scaler.fit_transform(X_train)\n",
        "X_test_scaled = scaler.transform(X_test)"
      ],
      "execution_count": 25,
      "outputs": [
        {
          "output_type": "stream",
          "text": [
            "(39099, 14)\n"
          ],
          "name": "stdout"
        }
      ]
    },
    {
      "cell_type": "markdown",
      "metadata": {
        "id": "VBy7XWr4Xpi2"
      },
      "source": [
        "### Decision Tree Classifier\n"
      ]
    },
    {
      "cell_type": "code",
      "metadata": {
        "id": "Mkcf_cAUk-pe",
        "colab": {
          "base_uri": "https://localhost:8080/"
        },
        "outputId": "55e03100-ffc8-4873-eb50-63d6fa5c78d9"
      },
      "source": [
        "from sklearn import tree\n",
        "#implementing decision tree classifier with criterion = \"Gini\"\n",
        "dtc_Gini = tree.DecisionTreeClassifier() \n",
        "dtc_Gini = dtc_Gini.fit(X_train_scaled, y_train)\n",
        "print(\"Accuracy on training set:\",  dtc_Gini.score(X_train_scaled, y_train))"
      ],
      "execution_count": 69,
      "outputs": [
        {
          "output_type": "stream",
          "text": [
            "Accuracy on training set: 0.9806967159205507\n"
          ],
          "name": "stdout"
        }
      ]
    },
    {
      "cell_type": "code",
      "metadata": {
        "colab": {
          "base_uri": "https://localhost:8080/"
        },
        "id": "RjN5lyLM4PfN",
        "outputId": "25499671-0102-436b-8c0b-c22fef7e53ce"
      },
      "source": [
        "\n",
        "y_test_pred = dtc_Gini.predict(X_test_scaled)\n",
        "y_test_pred\n",
        "\n",
        "print(\"Accuracy on test set:\",  dtc_Gini.score(X_test_scaled, y_test))\n",
        "\n",
        "y_test_arr = y_test.to_numpy()\n",
        "print(y_test_arr)\n",
        "print(y_test_pred)\n",
        "\n",
        "from sklearn.metrics import precision_score, recall_score, accuracy_score, f1_score,average_precision_score\n",
        "#average_precision_score(y_true, y_score, *, average='macro', pos_label=1, sample_weight=None)\n",
        "#prec = average_precision_score(y_test_arr, y_test_pred)\n",
        "#reca = recall_score(y_test, y_test_pred )\n",
        "#accu = accuracy_score(y_test, y_test_pred )\n",
        "#f1sc = f1_score(y_test, y_test_pred)\n",
        "\n",
        "#print(\"Accuracy:  %7.4f\" % accu)\n",
        "#print(\"Precision: %7.4f\" % prec)\n",
        "#print(\"Recall:    %7.4f\" % reca)\n",
        "#print(\"F1-score:  %7.4f\" % f1sc)\n",
        "\n"
      ],
      "execution_count": 70,
      "outputs": [
        {
          "output_type": "stream",
          "text": [
            "Accuracy on test set: 0.8271822808767487\n",
            "['>20K' '>20K' '>20K' ... '<12K' '>20K' '12K-20K']\n",
            "['>20K' '>20K' '>20K' ... '>20K' '>20K' '12K-20K']\n"
          ],
          "name": "stdout"
        }
      ]
    },
    {
      "cell_type": "code",
      "metadata": {
        "colab": {
          "base_uri": "https://localhost:8080/",
          "height": 301
        },
        "id": "OnnPpI22WwrE",
        "outputId": "ccfabbef-c18b-4799-9efa-31653296be07"
      },
      "source": [
        "# confusion_matrix for decision tree gini\n",
        "%matplotlib inline\n",
        "import seaborn as sns; sns.set()\n",
        "from sklearn.metrics import confusion_matrix\n",
        "import matplotlib.pyplot as plt\n",
        "\n",
        "cm_test = confusion_matrix(y_test, y_test_pred)\n",
        "\n",
        "sns.heatmap(cm_test.T, square=True, annot=True, fmt='d', cbar=False,\n",
        "            xticklabels= np.unique(y_test),\n",
        "            yticklabels= np.unique(y_test_pred))\n",
        "plt.xlabel('true label')\n",
        "plt.ylabel('predicted label');\n",
        "plt.title('Confusion Matrix DT - Test Set')\n",
        "plt.show()\n"
      ],
      "execution_count": 71,
      "outputs": [
        {
          "output_type": "display_data",
          "data": {
            "image/png": "[encoded data removed]",
            "text/plain": [
              "<Figure size 432x288 with 1 Axes>"
            ]
          },
          "metadata": {
            "tags": []
          }
        }
      ]
    },
    {
      "cell_type": "markdown",
      "metadata": {
        "id": "nyvbcjQVc1Xe"
      },
      "source": [
        "The classifier was less accurate in the test set with value equal to 0,83.\n",
        "\n",
        "The classifier classified correctly 83,7% of the y_test instances, having the most trouble in distinguishing the \"<12k\" and \"12k-20k\" labels."
      ]
    },
    {
      "cell_type": "markdown",
      "metadata": {
        "id": "HK_NEGZpaL9Y"
      },
      "source": [
        "#### Decision Tree best parameters:"
      ]
    },
    {
      "cell_type": "code",
      "metadata": {
        "colab": {
          "base_uri": "https://localhost:8080/"
        },
        "id": "SMEUvvYw51Ez",
        "outputId": "0880e1ee-a3ab-45cb-a096-88a59c9cf9e6"
      },
      "source": [
        "from sklearn.model_selection import GridSearchCV\n",
        "tree_para = {'criterion':['gini','entropy'],'max_depth':[4,5,6,7,8,9,10,11,12,15,20,30,40,50,70,90,120,150]}\n",
        "\n",
        "gs_dtr = GridSearchCV(estimator=tree.DecisionTreeClassifier(), \n",
        "                  param_grid=tree_para, \n",
        "                  cv=10,\n",
        "                  n_jobs=-1\n",
        "                  ,verbose=2\n",
        "                  )\n",
        "\n",
        "gs_dtr.fit(X_train_scaled, y_train)\n",
        "print(gs_dtr.best_score_)\n",
        "print(gs_dtr.best_params_)\n"
      ],
      "execution_count": 72,
      "outputs": [
        {
          "output_type": "stream",
          "text": [
            "Fitting 10 folds for each of 36 candidates, totalling 360 fits\n"
          ],
          "name": "stdout"
        },
        {
          "output_type": "stream",
          "text": [
            "[Parallel(n_jobs=-1)]: Using backend LokyBackend with 2 concurrent workers.\n",
            "[Parallel(n_jobs=-1)]: Done  37 tasks      | elapsed:    6.5s\n",
            "[Parallel(n_jobs=-1)]: Done 158 tasks      | elapsed:   39.3s\n",
            "[Parallel(n_jobs=-1)]: Done 360 out of 360 | elapsed:  1.6min finished\n"
          ],
          "name": "stderr"
        },
        {
          "output_type": "stream",
          "text": [
            "0.835741086103743\n",
            "{'criterion': 'entropy', 'max_depth': 20}\n"
          ],
          "name": "stdout"
        }
      ]
    },
    {
      "cell_type": "code",
      "metadata": {
        "colab": {
          "base_uri": "https://localhost:8080/",
          "height": 338
        },
        "id": "s9LLLY0k4bc8",
        "outputId": "dffee2e7-953b-475f-cc92-9872096189bc"
      },
      "source": [
        "\n",
        "\n",
        "from sklearn import tree\n",
        "\n",
        "gs_tree = tree.DecisionTreeClassifier(criterion = 'entropy',max_depth =20)\n",
        "gs_tree = gs_tree.fit(X_train_scaled, y_train)\n",
        "print(\"Accuracy on training set:\",  gs_tree.score(X_train_scaled, y_train))\n",
        "\n",
        "gs_y_test_pred = gs_tree.predict(X_test_scaled)\n",
        "#print(gs_y_test_pred)\n",
        "\n",
        "print(\"Accuracy on test set:\",  gs_tree.score(X_test_scaled, y_test))\n",
        "\n",
        "\n",
        "%matplotlib inline\n",
        "import seaborn as sns; sns.set()\n",
        "from sklearn.metrics import confusion_matrix\n",
        "import matplotlib.pyplot as plt\n",
        "\n",
        "cm_test = confusion_matrix(y_test, gs_y_test_pred)\n",
        "\n",
        "sns.heatmap(cm_test.T, square=True, annot=True, fmt='d', cbar=False,\n",
        "            xticklabels= np.unique(y_test),\n",
        "            yticklabels= np.unique(gs_y_test_pred))\n",
        "plt.xlabel('true label')\n",
        "plt.ylabel('predicted label');\n",
        "plt.title('Confusion Matrix DT - Test Set')\n",
        "plt.show()\n"
      ],
      "execution_count": 75,
      "outputs": [
        {
          "output_type": "stream",
          "text": [
            "Accuracy on training set: 0.9311724470557285\n",
            "Accuracy on test set: 0.8398680273152767\n"
          ],
          "name": "stdout"
        },
        {
          "output_type": "display_data",
          "data": {
            "image/png": "[encoded data removed]",
            "text/plain": [
              "<Figure size 432x288 with 1 Axes>"
            ]
          },
          "metadata": {
            "tags": []
          }
        }
      ]
    },
    {
      "cell_type": "markdown",
      "metadata": {
        "id": "yJ6fBGMr5ZHD"
      },
      "source": [
        "The classifier was more accurate in the test set with this optimal parameters than before.\n",
        "\n",
        "\n",
        "The classifier classified correctly 83,9% of the y_test instances."
      ]
    },
    {
      "cell_type": "markdown",
      "metadata": {
        "id": "FMwUopJHaVqN"
      },
      "source": [
        "### K-NearestNeighbors Classifier"
      ]
    },
    {
      "cell_type": "code",
      "metadata": {
        "colab": {
          "base_uri": "https://localhost:8080/"
        },
        "id": "GikTaF0r_ndz",
        "outputId": "203ebc32-34e6-4e71-fddb-3da10ce4857e"
      },
      "source": [
        "#Classifier KNN\n",
        "\n",
        "from sklearn import neighbors\n",
        "\n",
        "knn = neighbors.KNeighborsClassifier(n_neighbors=10)\n",
        "knn = knn.fit(X_train_scaled, y_train)\n",
        "print(\"Accuracy on training set:\",  knn.score(X_train_scaled, y_train))\n",
        "\n"
      ],
      "execution_count": 26,
      "outputs": [
        {
          "output_type": "stream",
          "text": [
            "Accuracy on training set: 0.8383719910553777\n"
          ],
          "name": "stdout"
        }
      ]
    },
    {
      "cell_type": "code",
      "metadata": {
        "colab": {
          "base_uri": "https://localhost:8080/"
        },
        "id": "sYxj11q0sI4x",
        "outputId": "57f31f9d-5fa0-43a9-a021-d39ddf8f3f5e"
      },
      "source": [
        "y_test_pred_knn = knn.predict(X_test_scaled)\n",
        "y_test_pred_knn\n",
        "\n",
        "\n",
        "\n",
        "print(\"Accuracy on test set:\",  knn.score(X_test_scaled, y_test))"
      ],
      "execution_count": 27,
      "outputs": [
        {
          "output_type": "stream",
          "text": [
            "Accuracy on test set: 0.8090999769815085\n"
          ],
          "name": "stdout"
        }
      ]
    },
    {
      "cell_type": "code",
      "metadata": {
        "colab": {
          "base_uri": "https://localhost:8080/",
          "height": 301
        },
        "id": "70qTkDDAgzpa",
        "outputId": "ccc893bc-6af9-4ed6-fdd4-92e6ce5315e2"
      },
      "source": [
        "%matplotlib inline\n",
        "import seaborn as sns; sns.set()\n",
        "from sklearn.metrics import confusion_matrix\n",
        "import matplotlib.pyplot as plt\n",
        "\n",
        "\n",
        "cm_test = confusion_matrix(y_test, y_test_pred_knn)\n",
        "\n",
        "sns.heatmap(cm_test.T, square=True, annot=True, fmt='d', cbar=False,\n",
        "            xticklabels= np.unique(y_test),\n",
        "            yticklabels= np.unique(y_test_pred_knn))\n",
        "plt.xlabel('true label')\n",
        "plt.ylabel('predicted label');\n",
        "plt.title('Confusion Matrix KNN - Test Set')\n",
        "plt.show()"
      ],
      "execution_count": 30,
      "outputs": [
        {
          "output_type": "display_data",
          "data": {
            "image/png": "[encoded data removed]",
            "text/plain": [
              "<Figure size 432x288 with 1 Axes>"
            ]
          },
          "metadata": {
            "tags": []
          }
        }
      ]
    },
    {
      "cell_type": "markdown",
      "metadata": {
        "id": "ZSwMkbbchRsP"
      },
      "source": [
        "The classifier classified correctly 80,9% of the y_test instances."
      ]
    },
    {
      "cell_type": "code",
      "metadata": {
        "colab": {
          "base_uri": "https://localhost:8080/",
          "height": 397
        },
        "id": "CE3gJ_jfsME8",
        "outputId": "194b4c94-bde2-4280-85e6-51bd74600399"
      },
      "source": [
        "\n",
        "from sklearn.metrics import mean_absolute_error\n",
        "results={}\n",
        "for k in range(5, 56, 10):\n",
        "  knClass=neighbors.KNeighborsClassifier(n_neighbors=k, algorithm='auto', weights='distance')\n",
        "  knClass.fit(X_train_scaled, y_train)\n",
        "  print(\"k:\",k,\"Accuracy on training set:\",  knClass.score(X_train_scaled, y_train))\n",
        "  results[k]=knClass.score(X_train_scaled, y_train)\n",
        "\n",
        "n_neighbors=list(results.keys())\n",
        "knn_acc=list(results.values())\n",
        "plt.plot(n_neighbors, knn_acc)\n",
        "plt.xticks(n_neighbors)\n",
        "plt.grid(True)\n",
        "plt.show()"
      ],
      "execution_count": 33,
      "outputs": [
        {
          "output_type": "stream",
          "text": [
            "k: 5 Accuracy on training set: 0.9802144078572368\n",
            "k: 15 Accuracy on training set: 0.9804884465295742\n",
            "k: 25 Accuracy on training set: 0.9806967159205507\n",
            "k: 35 Accuracy on training set: 0.9806967159205507\n",
            "k: 45 Accuracy on training set: 0.9806967159205507\n",
            "k: 55 Accuracy on training set: 0.9806967159205507\n",
            "done\n"
          ],
          "name": "stdout"
        },
        {
          "output_type": "display_data",
          "data": {
            "image/png": "[encoded data removed]",
            "text/plain": [
              "<Figure size 432x288 with 1 Axes>"
            ]
          },
          "metadata": {
            "tags": []
          }
        }
      ]
    },
    {
      "cell_type": "markdown",
      "metadata": {
        "id": "d-cw9prYafgP"
      },
      "source": [
        "#### K-NearestNeighbors best parameters:\n"
      ]
    },
    {
      "cell_type": "code",
      "metadata": {
        "id": "3M0fbnUN0Bx7"
      },
      "source": [
        "from sklearn.model_selection import GridSearchCV\n",
        "knr_params={'n_neighbors': [10,11,12,13,14,15]\n",
        "            #,\n",
        "            #'weights': ['uniform', 'distance'],\n",
        "            #'algorithm': ['auto', 'ball_tree', 'kd_tree', 'brute']\n",
        "            }\n",
        "\n",
        "gs_knr = GridSearchCV(estimator=neighbors.KNeighborsClassifier(), \n",
        "                  param_grid=knr_params, \n",
        "                  #scoring='neg_mean_absolute_error', \n",
        "                  cv=10,\n",
        "                  n_jobs=-1)\n",
        "\n",
        "gs_knr.fit(X_train_scaled, y_train)\n",
        "print(gs_knr.best_score_)\n",
        "print(gs_knr.best_params_)\n"
      ],
      "execution_count": null,
      "outputs": []
    },
    {
      "cell_type": "markdown",
      "metadata": {
        "id": "qOmlVXBp1VKQ"
      },
      "source": [
        "We couldn't find the best parameters for the k_NearestNeighbors classifier because it crashed our runtime repeatedly, but we know it's somewhere near k=15."
      ]
    },
    {
      "cell_type": "code",
      "metadata": {
        "colab": {
          "base_uri": "https://localhost:8080/",
          "height": 338
        },
        "id": "zf_PGVAk1_SU",
        "outputId": "a599ca3d-0095-481e-ffab-ac9b55f3e4e5"
      },
      "source": [
        "\n",
        "from sklearn import neighbors\n",
        "\n",
        "gs_knn = neighbors.KNeighborsClassifier(n_neighbors=15)\n",
        "gs_knn = gs_knn.fit(X_train_scaled, y_train)\n",
        "print(\"Accuracy on training set:\",  gs_knn.score(X_train_scaled, y_train))\n",
        "y_test_pred_knn = gs_knn.predict(X_test_scaled)\n",
        "y_test_pred_knn\n",
        "\n",
        "\n",
        "\n",
        "print(\"Accuracy on test set:\",  gs_knn.score(X_test_scaled, y_test))\n",
        "%matplotlib inline\n",
        "import seaborn as sns; sns.set()\n",
        "from sklearn.metrics import confusion_matrix\n",
        "import matplotlib.pyplot as plt\n",
        "\n",
        "\n",
        "cm_test = confusion_matrix(y_test, y_test_pred_knn)\n",
        "\n",
        "sns.heatmap(cm_test.T, square=True, annot=True, fmt='d', cbar=False,\n",
        "            xticklabels= np.unique(y_test),\n",
        "            yticklabels= np.unique(y_test_pred_knn))\n",
        "plt.xlabel('true label')\n",
        "plt.ylabel('predicted label');\n",
        "plt.title('Confusion Matrix KNN - Test Set')\n",
        "plt.show()"
      ],
      "execution_count": 45,
      "outputs": [
        {
          "output_type": "stream",
          "text": [
            "Accuracy on training set: 0.8291533301179462\n",
            "Accuracy on test set: 0.8117854676590194\n"
          ],
          "name": "stdout"
        },
        {
          "output_type": "display_data",
          "data": {
            "image/png": "[encoded data removed]",
            "text/plain": [
              "<Figure size 432x288 with 1 Axes>"
            ]
          },
          "metadata": {
            "tags": []
          }
        }
      ]
    },
    {
      "cell_type": "markdown",
      "metadata": {
        "id": "-KEw-Hho3dln"
      },
      "source": [
        "With k=15 the classifier was able to perfomr better and classified correctly 81,1% of the y_test instances."
      ]
    },
    {
      "cell_type": "markdown",
      "metadata": {
        "id": "qql5SrJsarcd"
      },
      "source": [
        "### Gaussian Naive Bayes Classifier"
      ]
    },
    {
      "cell_type": "code",
      "metadata": {
        "colab": {
          "base_uri": "https://localhost:8080/"
        },
        "id": "r8aMxnNLxy6Q",
        "outputId": "4994e347-5137-4471-9a5f-6c231bd0e0bc"
      },
      "source": [
        "from sklearn.naive_bayes import GaussianNB\n",
        "\n",
        "gnb = GaussianNB()\n",
        "gnb = gnb.fit(X_train_scaled, y_train)\n",
        "print(\"Accuracy on training set:\",  gnb.score(X_train_scaled, y_train))"
      ],
      "execution_count": 31,
      "outputs": [
        {
          "output_type": "stream",
          "text": [
            "Accuracy on training set: 0.7651598193537072\n"
          ],
          "name": "stdout"
        }
      ]
    },
    {
      "cell_type": "code",
      "metadata": {
        "colab": {
          "base_uri": "https://localhost:8080/"
        },
        "id": "C-q-CRAix6_H",
        "outputId": "43adfdc9-cd5a-4347-c1b6-3fde1e509a7d"
      },
      "source": [
        "\n",
        "\n",
        "y_test_pred_gnb = gnb.predict(X_test_scaled)\n",
        "y_test_pred_gnb\n",
        "\n",
        "\n",
        "print(\"Accuracy on test set:\",  gnb.score(X_test_scaled, y_test))\n",
        "\n",
        "\n"
      ],
      "execution_count": 32,
      "outputs": [
        {
          "output_type": "stream",
          "text": [
            "Accuracy on test set: 0.7651602342770915\n"
          ],
          "name": "stdout"
        }
      ]
    },
    {
      "cell_type": "code",
      "metadata": {
        "colab": {
          "base_uri": "https://localhost:8080/",
          "height": 301
        },
        "id": "C0wZ_evuyJOX",
        "outputId": "82465e52-62ca-4d9e-ba1c-b11bd7749706"
      },
      "source": [
        "\n",
        "sns.heatmap(cm_test.T, square=True, annot=True, fmt='d', cbar=False,\n",
        "            xticklabels= np.unique(y_test),\n",
        "            yticklabels= np.unique(y_test_pred_gnb))\n",
        "plt.xlabel('true label')\n",
        "plt.ylabel('predicted label');\n",
        "plt.title('Confusion Matrix Naive Bayes - Test Set')\n",
        "plt.show()"
      ],
      "execution_count": 33,
      "outputs": [
        {
          "output_type": "display_data",
          "data": {
            "image/png": "[encoded data removed]",
            "text/plain": [
              "<Figure size 432x288 with 1 Axes>"
            ]
          },
          "metadata": {
            "tags": []
          }
        }
      ]
    },
    {
      "cell_type": "markdown",
      "metadata": {
        "id": "p-OdxZLbynbs"
      },
      "source": [
        "The classifier was a little more accurate while using the test set than the train set .\n",
        "\n",
        "It classified correctly 80,9% of the y_test instances."
      ]
    },
    {
      "cell_type": "markdown",
      "metadata": {
        "id": "dBL146Nna2v8"
      },
      "source": [
        "#### Gaussian Naive Bayes best parameters:"
      ]
    },
    {
      "cell_type": "code",
      "metadata": {
        "colab": {
          "base_uri": "https://localhost:8080/"
        },
        "id": "dKN1bMru9xz7",
        "outputId": "a932dc9e-cb38-4d0e-ab82-c651c9278a93"
      },
      "source": [
        "from sklearn.model_selection import GridSearchCV\n",
        "\n",
        "nb_classifier = GaussianNB()\n",
        "\n",
        "params_NB = {'var_smoothing': np.logspace(0,-9, num=100)}\n",
        "gs_NB = GridSearchCV(estimator=nb_classifier, \n",
        "                 param_grid=params_NB, \n",
        "                 cv=10,   # use any cross validation technique \n",
        "                 verbose=1, \n",
        "                 scoring='accuracy') \n",
        "gs_NB.fit(X_train_scaled, y_train)\n",
        "\n",
        "gs_NB.best_params_"
      ],
      "execution_count": 39,
      "outputs": [
        {
          "output_type": "stream",
          "text": [
            "Fitting 10 folds for each of 100 candidates, totalling 1000 fits\n"
          ],
          "name": "stdout"
        },
        {
          "output_type": "stream",
          "text": [
            "[Parallel(n_jobs=1)]: Using backend SequentialBackend with 1 concurrent workers.\n",
            "[Parallel(n_jobs=1)]: Done 1000 out of 1000 | elapsed:  2.1min finished\n"
          ],
          "name": "stderr"
        },
        {
          "output_type": "execute_result",
          "data": {
            "text/plain": [
              "{'var_smoothing': 0.0002848035868435802}"
            ]
          },
          "metadata": {
            "tags": []
          },
          "execution_count": 39
        }
      ]
    },
    {
      "cell_type": "code",
      "metadata": {
        "colab": {
          "base_uri": "https://localhost:8080/",
          "height": 338
        },
        "id": "0Rh-HRhEFvJ6",
        "outputId": "d55f3f51-c16a-4cfd-8f67-520fad711b09"
      },
      "source": [
        "from sklearn.naive_bayes import GaussianNB\n",
        "\n",
        "gs_gnb = GaussianNB(var_smoothing= 0.0002848035868435802)\n",
        "gs_gnb = gs_gnb.fit(X_train_scaled, y_train)\n",
        "print(\"Accuracy on training set:\",  gs_gnb.score(X_train_scaled, y_train))\n",
        "y_test_pred_gnb = gs_gnb.predict(X_test_scaled)\n",
        "y_test_pred_gnb\n",
        "\n",
        "\n",
        "print(\"Accuracy on test set:\",  gs_gnb.score(X_test_scaled, y_test))\n",
        "\n",
        "sns.heatmap(cm_test.T, square=True, annot=True, fmt='d', cbar=False,\n",
        "            xticklabels= np.unique(y_test),\n",
        "            yticklabels= np.unique(y_test_pred_gnb))\n",
        "plt.xlabel('true label')\n",
        "plt.ylabel('predicted label');\n",
        "plt.title('Confusion Matrix Naive Bayes - Test Set')\n",
        "plt.show()\n"
      ],
      "execution_count": 35,
      "outputs": [
        {
          "output_type": "stream",
          "text": [
            "Accuracy on training set: 0.7651050116192397\n",
            "Accuracy on test set: 0.7652113864804726\n"
          ],
          "name": "stdout"
        },
        {
          "output_type": "display_data",
          "data": {
            "image/png": "[encoded data removed]",
            "text/plain": [
              "<Figure size 432x288 with 1 Axes>"
            ]
          },
          "metadata": {
            "tags": []
          }
        }
      ]
    },
    {
      "cell_type": "markdown",
      "metadata": {
        "id": "-xFqxRqny7by"
      },
      "source": [
        "Although theoretically ,with the grid search optimal parameters this results should be more accurate , the classifier performed the same with or without these best parameters."
      ]
    },
    {
      "cell_type": "markdown",
      "metadata": {
        "id": "sqRcrd1va8Ox"
      },
      "source": [
        "### Logistic Regression Classifier"
      ]
    },
    {
      "cell_type": "code",
      "metadata": {
        "colab": {
          "base_uri": "https://localhost:8080/"
        },
        "id": "gAxeWiq7zcxh",
        "outputId": "c3872081-df58-46ae-dcad-8b3c04325fb1"
      },
      "source": [
        "#logistic regression\n",
        "from sklearn.linear_model import LogisticRegression\n",
        "\n",
        "logreg = LogisticRegression(C=1e5)\n",
        "logreg.fit(X_train_scaled, y_train)\n",
        "print(\"Accuracy on training set:\",  logreg.score(X_train_scaled, y_train))"
      ],
      "execution_count": 36,
      "outputs": [
        {
          "output_type": "stream",
          "text": [
            "Accuracy on training set: 0.7952054193887842\n"
          ],
          "name": "stdout"
        }
      ]
    },
    {
      "cell_type": "code",
      "metadata": {
        "colab": {
          "base_uri": "https://localhost:8080/"
        },
        "id": "B9HNDrRtz97m",
        "outputId": "010f63c5-62aa-4c64-b98e-f57f083092d0"
      },
      "source": [
        "\n",
        "\n",
        "y_test_pred_logreg = logreg.predict(X_test_scaled)\n",
        "y_test_pred_logreg\n",
        "\n",
        "\n",
        "\n",
        "print(\"Accuracy on test set:\",  logreg.score(X_test_scaled, y_test))\n",
        "\n"
      ],
      "execution_count": 38,
      "outputs": [
        {
          "output_type": "stream",
          "text": [
            "Accuracy on test set: 0.7940868052891378\n"
          ],
          "name": "stdout"
        }
      ]
    },
    {
      "cell_type": "code",
      "metadata": {
        "colab": {
          "base_uri": "https://localhost:8080/",
          "height": 301
        },
        "id": "OArhzRrU0FUI",
        "outputId": "5117a237-767f-446a-b539-27026046c9f8"
      },
      "source": [
        "\n",
        "\n",
        "cm_test = confusion_matrix(y_test, y_test_pred_logreg)\n",
        "\n",
        "sns.heatmap(cm_test.T, square=True, annot=True, fmt='d', cbar=False,\n",
        "            xticklabels= np.unique(y_test),\n",
        "            yticklabels= np.unique(y_test_pred_logreg))\n",
        "plt.xlabel('true label')\n",
        "plt.ylabel('predicted label');\n",
        "plt.title('Confusion Matrix - Test Set')\n",
        "plt.show()\n",
        "\n"
      ],
      "execution_count": 40,
      "outputs": [
        {
          "output_type": "display_data",
          "data": {
            "image/png": "[encoded data removed]",
            "text/plain": [
              "<Figure size 432x288 with 1 Axes>"
            ]
          },
          "metadata": {
            "tags": []
          }
        }
      ]
    },
    {
      "cell_type": "markdown",
      "metadata": {
        "id": "1eSlTGKKzYX-"
      },
      "source": [
        "The classifier was more accurate in the test set than in the training set.\n",
        "\n",
        "It labeled correctly only 79,4% of the y_test instances."
      ]
    },
    {
      "cell_type": "markdown",
      "metadata": {
        "id": "TRAJnBkabASI"
      },
      "source": [
        "#### Logistic Regression best parameters:\n"
      ]
    },
    {
      "cell_type": "code",
      "metadata": {
        "id": "dzfGCps6WwKV"
      },
      "source": [
        "from sklearn.model_selection import GridSearchCV\n",
        "\n",
        "gs_LRclass=GridSearchCV(cv=10,\n",
        "             estimator=LogisticRegression(\n",
        "                                          intercept_scaling=1,   \n",
        "               dual=False, fit_intercept=True, penalty='l2', tol=0.0001),\n",
        "             param_grid={'C': [0.001, 0.01, 0.1, 1, 10, 100, 1000,10000,100000,1000000]})\n",
        "\n",
        "\n",
        "gs_LRclass.fit(X_train_scaled, y_train)\n",
        "\n",
        "gs_LRclass.best_params_"
      ],
      "execution_count": null,
      "outputs": []
    },
    {
      "cell_type": "code",
      "metadata": {
        "colab": {
          "base_uri": "https://localhost:8080/",
          "height": 338
        },
        "id": "BM6HcIpKNM01",
        "outputId": "3d84c4e1-9a8a-41de-cfdb-bcf626ce6af4"
      },
      "source": [
        "from sklearn.linear_model import LogisticRegression\n",
        "\n",
        "gs_logreg = LogisticRegression(C=100)\n",
        "gs_logreg.fit(X_train_scaled, y_train)\n",
        "print(\"Accuracy on training set:\",  gs_logreg.score(X_train_scaled, y_train))\n",
        "\n",
        "y_test_pred_logreg = gs_logreg.predict(X_test_scaled)\n",
        "y_test_pred_logreg\n",
        "\n",
        "\n",
        "\n",
        "print(\"Accuracy on test set:\",  gs_logreg.score(X_test_scaled, y_test))\n",
        "\n",
        "cm_test = confusion_matrix(y_test, y_test_pred_logreg)\n",
        "\n",
        "sns.heatmap(cm_test.T, square=True, annot=True, fmt='d', cbar=False,\n",
        "            xticklabels= np.unique(y_test),\n",
        "            yticklabels= np.unique(y_test_pred_logreg))\n",
        "plt.xlabel('true label')\n",
        "plt.ylabel('predicted label');\n",
        "plt.title('Confusion Matrix - Test Set')\n",
        "plt.show()\n"
      ],
      "execution_count": 42,
      "outputs": [
        {
          "output_type": "stream",
          "text": [
            "Accuracy on training set: 0.7952054193887842\n",
            "Accuracy on test set: 0.7940868052891378\n"
          ],
          "name": "stdout"
        },
        {
          "output_type": "display_data",
          "data": {
            "image/png": "[encoded data removed]",
            "text/plain": [
              "<Figure size 432x288 with 1 Axes>"
            ]
          },
          "metadata": {
            "tags": []
          }
        }
      ]
    },
    {
      "cell_type": "markdown",
      "metadata": {
        "id": "nUjvZYmk2vXT"
      },
      "source": [
        "### Conclusions Classifiers\n",
        "\n",
        "The best classifier for our dataset was the decision tree, it was the most accurate and the one which classified correctly the most target instances."
      ]
    },
    {
      "cell_type": "markdown",
      "metadata": {
        "id": "IDxfd9RWk-pe"
      },
      "source": [
        "## 3. Learning Simple Regressors\n",
        "\n",
        "* Choose **`X` regressors** (https://scikit-learn.org/stable/supervised_learning.html#supervised-learning).\n",
        "* Use **grid-search and 10 fold cross-validation** to estimate the best parameters (https://scikit-learn.org/stable/model_selection.html#model-selection). \n",
        "* Use the mean absolute error regression loss, or other relevant metrics."
      ]
    },
    {
      "cell_type": "code",
      "metadata": {
        "id": "KHT3N04Gk-pg"
      },
      "source": [
        "# Present and Discuss your results here\n",
        "# ..."
      ],
      "execution_count": null,
      "outputs": []
    },
    {
      "cell_type": "markdown",
      "metadata": {
        "id": "e1R5VlHTk-ph"
      },
      "source": [
        "## 4. Ensemble Learning"
      ]
    },
    {
      "cell_type": "markdown",
      "metadata": {
        "id": "yHHrmFg6k-ph"
      },
      "source": [
        "### Voting Classifier/Regressor\n",
        "\n",
        "* Use a voting classifier (http://scikit-learn.org/stable/modules/ensemble.html#voting-classifier)/regressor(https://scikit-learn.org/stable/modules/generated/sklearn.ensemble.VotingRegressor.html) to combine the best results of the `X` classifiers/regressors from previous sections. "
      ]
    },
    {
      "cell_type": "code",
      "metadata": {
        "id": "CDtUAB08k-ph"
      },
      "source": [
        "# Present and Discuss your results here\n",
        "# ..."
      ],
      "execution_count": null,
      "outputs": []
    },
    {
      "cell_type": "markdown",
      "metadata": {
        "id": "OqB9noQYk-pi"
      },
      "source": [
        "### XGBoost \n",
        "\n",
        "* Use [XGBoost](https://www.kaggle.com/stuarthallows/using-xgboost-with-scikit-learn)."
      ]
    },
    {
      "cell_type": "code",
      "metadata": {
        "id": "q4GHkaItk-pi"
      },
      "source": [
        "# Present and Discuss your results here\n",
        "# ..."
      ],
      "execution_count": null,
      "outputs": []
    },
    {
      "cell_type": "markdown",
      "metadata": {
        "id": "pQWyFdVmk-pj"
      },
      "source": [
        "### Random Forests\n",
        "\n",
        "* Use [Random Forests](http://scikit-learn.org/stable/modules/ensemble.html#random-forests)."
      ]
    },
    {
      "cell_type": "code",
      "metadata": {
        "id": "tf1mgENIk-pj"
      },
      "source": [
        "# Present and Discuss your results here\n",
        "# ..."
      ],
      "execution_count": null,
      "outputs": []
    },
    {
      "cell_type": "markdown",
      "metadata": {
        "id": "BNQBZKMMk-pj"
      },
      "source": [
        "## 5. Conclusions"
      ]
    },
    {
      "cell_type": "markdown",
      "metadata": {
        "id": "4OQO8TaTk-pj"
      },
      "source": [
        "Draw some final conclusions about this project work"
      ]
    }
  ]
}