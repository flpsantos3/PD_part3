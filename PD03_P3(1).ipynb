{
  "nbformat": 4,
  "nbformat_minor": 0,
  "metadata": {
    "kernelspec": {
      "display_name": "Python 3",
      "language": "python",
      "name": "python3"
    },
    "language_info": {
      "codemirror_mode": {
        "name": "ipython",
        "version": 3
      },
      "file_extension": ".py",
      "mimetype": "text/x-python",
      "name": "python",
      "nbconvert_exporter": "python",
      "pygments_lexer": "ipython3",
      "version": "3.8.5"
    },
    "colab": {
      "name": "PD03_P3(1).ipynb",
      "provenance": [],
      "collapsed_sections": [],
      "toc_visible": true,
      "include_colab_link": true
    }
  },
  "cells": [
    {
      "cell_type": "markdown",
      "metadata": {
        "id": "view-in-github",
        "colab_type": "text"
      },
      "source": [
        "<a href=\"https://colab.research.google.com/github/flpsantos3/PD_part3/blob/Eduardo/PD03_P3(1).ipynb\" target=\"_parent\"><img src=\"https://colab.research.google.com/assets/colab-badge.svg\" alt=\"Open In Colab\"/></a>"
      ]
    },
    {
      "cell_type": "markdown",
      "metadata": {
        "id": "WsCEQ8sJk-pE"
      },
      "source": [
        "# Data Mining / Prospeção de Dados\n",
        "\n",
        "## Diogo F. Soares and Sara C. Madeira, 2020/21\n",
        "\n",
        "# Project 3 - Classification/Regression"
      ]
    },
    {
      "cell_type": "markdown",
      "metadata": {
        "id": "39QU3exJk-pS"
      },
      "source": [
        "## Logistics\n",
        "\n",
        "**_Read Carefully_**\n",
        "\n",
        "**Students should work in teams of 2 or 3 people**. \n",
        "\n",
        "Individual projects might be allowed (with valid justification), but will not have better grades for this reason. \n",
        "\n",
        "* Tasks **1 to 4** should be done by **all** groups **BUT**\n",
        "    * In Tasks **2 and 3** the number of classifiers/regressors to use is **`X` = 3 and 4**  for groups of 2 and 3 students, respectively.\n",
        "    * In Task **4**, groups of 2 and 3 students should try 2 and 3 ensemble approaches, respectively.\n",
        "\n",
        "The quality of the project will dictate its grade, not the number of people working.\n",
        "\n",
        "**The project's solution should be uploaded in Moodle before the end of ~~`May, 9th (23:59)`~~ `May, 16th (23:59)`.** \n",
        "\n",
        "Students should **upload a `.zip` file** containing all the files necessary for project evaluation. \n",
        "Groups should be registered in [Moodle](https://moodle.ciencias.ulisboa.pt/mod/groupselect/view.php?id=139096) and the zip file should be identified as `PDnn.zip` where `nn` is the number of your group.\n",
        "\n",
        "**It is mandatory to produce a Jupyter notebook containing code and text/images/tables/etc describing the solution and the results. Projects not delivered in this format will not be graded. You can use `PD_202021_P3.ipynb`as template. In your `.zip` folder you should also include an HTML version of your notebook with all the outputs** (File > Download as > HTML).\n",
        "\n",
        "**Decisions should be justified and results should be critically discussed.** \n",
        "\n",
        "_Project solutions containing only code and outputs without discussions will achieve a maximum grade 10 out of 20._"
      ]
    },
    {
      "cell_type": "markdown",
      "metadata": {
        "id": "uSrRR8AFk-pW"
      },
      "source": [
        "## Dataset and Tools\n",
        "\n",
        "In this project you should use [Python 3](https://www.python.org), [Jupyter Notebook](http://jupyter.org) and **[Scikit-learn](http://scikit-learn.org/stable/). You are also allowed to use [Orange3](https://orange.biolab.si).**\n",
        "\n",
        "The dataset to be analysed is **`RestaurantsRevenue.csv`**, a modified version of the test dataset used in Kaggle's competition [\"Restaurant Revenue Prediction\"](https://www.kaggle.com/c/restaurant-revenue-prediction/overview). \n",
        "\n",
        "**This project challenges you twice** by asking you to tackle a\n",
        "1. **Regression Task**: predict the revenue, and a\n",
        "2. **Classification Task**: predict a revenue category.\n",
        "\n",
        "The available variables are:\n",
        "\n",
        "* **Id :** Restaurant id. \n",
        "* **Open Date :** opening date for a restaurant\n",
        "* **City :** City that the restaurant is in. Note that there are unicode in the names. \n",
        "* **City Group:** Type of the city. Big cities, or Other. \n",
        "* **Type:** Type of the restaurant. FC: Food Court, IL: Inline, DT: Drive Thru, MB: Mobile\n",
        "* **P1, P2 - P37:** There are three categories of these obfuscated data. Demographic data are gathered from third party providers with GIS systems. These include population in any given area, age and gender distribution, development scales. Real estate data mainly relate to the m2 of the location, front facade of the location, car park availability. Commercial data mainly include the existence of points of interest including schools, banks, other QSR operators.\n",
        "\n",
        "\n",
        "The targets are:\n",
        "1. **`Revenue`:** The revenue column indicates a (transformed) revenue of the restaurant in a given year and is the target of predictive analysis. Please note that the values are transformed so they don't mean real dollar values. \n",
        "2. **`RevenueCategory`** - the revenue category, where price can be below 12000 (\"<12K\"), between 12000 and 20000 (\"12K-20K\"), or above 20000 (\">20K\"). This is the target variable that you're trying to predict in the classification task. "
      ]
    },
    {
      "cell_type": "markdown",
      "metadata": {
        "id": "Czi2JJCek-pY"
      },
      "source": [
        "## Team Identification\n",
        "\n",
        "**GROUP PD03**\n",
        "\n",
        "Students:\n",
        "\n",
        "* **Eduardo Carvalho - nº55881**\n",
        "* **Filipe Santos - nº55142**\n",
        "* **Ivo Oliveira - nº50301**"
      ]
    },
    {
      "cell_type": "markdown",
      "metadata": {
        "id": "gPFRC3h5k-pZ"
      },
      "source": [
        "## 1. Load and Preprocess Dataset"
      ]
    },
    {
      "cell_type": "markdown",
      "metadata": {
        "id": "DZ8n0JIHk-pb"
      },
      "source": [
        "Here you might consider useful to think about:\n",
        "1. Missing Value Imputation\n",
        "2. Feature Selection\n",
        "3. Class Imbalance"
      ]
    },
    {
      "cell_type": "markdown",
      "metadata": {
        "id": "Hy5MD2PcC1fj"
      },
      "source": [
        "### Importing necessary packages"
      ]
    },
    {
      "cell_type": "code",
      "metadata": {
        "id": "eQAYW1nalQEF"
      },
      "source": [
        "import pandas as pd\n",
        "import numpy as np\n",
        "import matplotlib.pyplot as plt\n",
        "from datetime import date, datetime\n",
        "from sklearn.model_selection import train_test_split\n",
        "from sklearn.feature_selection import VarianceThreshold\n",
        "from sklearn.preprocessing import MinMaxScaler\n",
        "from sklearn.utils import resample"
      ],
      "execution_count": 34,
      "outputs": []
    },
    {
      "cell_type": "markdown",
      "metadata": {
        "id": "3VAVsnk7CiqP"
      },
      "source": [
        "### Importing the Data"
      ]
    },
    {
      "cell_type": "code",
      "metadata": {
        "colab": {
          "base_uri": "https://localhost:8080/"
        },
        "id": "H6ZUf3KelnJa",
        "outputId": "7a74094e-5ac7-4e78-c994-8655c321bce7"
      },
      "source": [
        "from google.colab import drive\n",
        "drive.mount('/content/drive')"
      ],
      "execution_count": 35,
      "outputs": [
        {
          "output_type": "stream",
          "text": [
            "Drive already mounted at /content/drive; to attempt to forcibly remount, call drive.mount(\"/content/drive\", force_remount=True).\n"
          ],
          "name": "stdout"
        }
      ]
    },
    {
      "cell_type": "code",
      "metadata": {
        "colab": {
          "base_uri": "https://localhost:8080/",
          "height": 292
        },
        "id": "dvoxZYLLk-pd",
        "outputId": "1bc45d68-79de-406a-c281-1cdd10abba0b"
      },
      "source": [
        "data=pd.read_csv('/content/drive/MyDrive/Datasets/projetoPD/RestaurantsReveneu.csv', index_col=0)\n",
        "data.head()"
      ],
      "execution_count": 36,
      "outputs": [
        {
          "output_type": "execute_result",
          "data": {
            "text/html": [
              "<div>\n",
              "<style scoped>\n",
              "    .dataframe tbody tr th:only-of-type {\n",
              "        vertical-align: middle;\n",
              "    }\n",
              "\n",
              "    .dataframe tbody tr th {\n",
              "        vertical-align: top;\n",
              "    }\n",
              "\n",
              "    .dataframe thead th {\n",
              "        text-align: right;\n",
              "    }\n",
              "</style>\n",
              "<table border=\"1\" class=\"dataframe\">\n",
              "  <thead>\n",
              "    <tr style=\"text-align: right;\">\n",
              "      <th></th>\n",
              "      <th>Open Date</th>\n",
              "      <th>City</th>\n",
              "      <th>City Group</th>\n",
              "      <th>Type</th>\n",
              "      <th>P1</th>\n",
              "      <th>P2</th>\n",
              "      <th>P3</th>\n",
              "      <th>P4</th>\n",
              "      <th>P5</th>\n",
              "      <th>P6</th>\n",
              "      <th>P7</th>\n",
              "      <th>P8</th>\n",
              "      <th>P9</th>\n",
              "      <th>P10</th>\n",
              "      <th>P11</th>\n",
              "      <th>P12</th>\n",
              "      <th>P13</th>\n",
              "      <th>P14</th>\n",
              "      <th>P15</th>\n",
              "      <th>P16</th>\n",
              "      <th>P17</th>\n",
              "      <th>P18</th>\n",
              "      <th>P19</th>\n",
              "      <th>P20</th>\n",
              "      <th>P21</th>\n",
              "      <th>P22</th>\n",
              "      <th>P23</th>\n",
              "      <th>P24</th>\n",
              "      <th>P25</th>\n",
              "      <th>P26</th>\n",
              "      <th>P27</th>\n",
              "      <th>P28</th>\n",
              "      <th>P29</th>\n",
              "      <th>P30</th>\n",
              "      <th>P31</th>\n",
              "      <th>P32</th>\n",
              "      <th>P33</th>\n",
              "      <th>P34</th>\n",
              "      <th>P35</th>\n",
              "      <th>P36</th>\n",
              "      <th>P37</th>\n",
              "      <th>revenue</th>\n",
              "    </tr>\n",
              "    <tr>\n",
              "      <th>Id</th>\n",
              "      <th></th>\n",
              "      <th></th>\n",
              "      <th></th>\n",
              "      <th></th>\n",
              "      <th></th>\n",
              "      <th></th>\n",
              "      <th></th>\n",
              "      <th></th>\n",
              "      <th></th>\n",
              "      <th></th>\n",
              "      <th></th>\n",
              "      <th></th>\n",
              "      <th></th>\n",
              "      <th></th>\n",
              "      <th></th>\n",
              "      <th></th>\n",
              "      <th></th>\n",
              "      <th></th>\n",
              "      <th></th>\n",
              "      <th></th>\n",
              "      <th></th>\n",
              "      <th></th>\n",
              "      <th></th>\n",
              "      <th></th>\n",
              "      <th></th>\n",
              "      <th></th>\n",
              "      <th></th>\n",
              "      <th></th>\n",
              "      <th></th>\n",
              "      <th></th>\n",
              "      <th></th>\n",
              "      <th></th>\n",
              "      <th></th>\n",
              "      <th></th>\n",
              "      <th></th>\n",
              "      <th></th>\n",
              "      <th></th>\n",
              "      <th></th>\n",
              "      <th></th>\n",
              "      <th></th>\n",
              "      <th></th>\n",
              "      <th></th>\n",
              "    </tr>\n",
              "  </thead>\n",
              "  <tbody>\n",
              "    <tr>\n",
              "      <th>0</th>\n",
              "      <td>01/22/2011</td>\n",
              "      <td>Niğde</td>\n",
              "      <td>Other</td>\n",
              "      <td>FC</td>\n",
              "      <td>1</td>\n",
              "      <td>4.0</td>\n",
              "      <td>4.0</td>\n",
              "      <td>4.0</td>\n",
              "      <td>1</td>\n",
              "      <td>2</td>\n",
              "      <td>5</td>\n",
              "      <td>4</td>\n",
              "      <td>5</td>\n",
              "      <td>5</td>\n",
              "      <td>5</td>\n",
              "      <td>3</td>\n",
              "      <td>4.0</td>\n",
              "      <td>0</td>\n",
              "      <td>0</td>\n",
              "      <td>0</td>\n",
              "      <td>2</td>\n",
              "      <td>0</td>\n",
              "      <td>5</td>\n",
              "      <td>5</td>\n",
              "      <td>3</td>\n",
              "      <td>1</td>\n",
              "      <td>4</td>\n",
              "      <td>0</td>\n",
              "      <td>0</td>\n",
              "      <td>0.0</td>\n",
              "      <td>0.0</td>\n",
              "      <td>2.0</td>\n",
              "      <td>3.0</td>\n",
              "      <td>0</td>\n",
              "      <td>0</td>\n",
              "      <td>0</td>\n",
              "      <td>0</td>\n",
              "      <td>0</td>\n",
              "      <td>0</td>\n",
              "      <td>0</td>\n",
              "      <td>0</td>\n",
              "      <td>10033.0</td>\n",
              "    </tr>\n",
              "    <tr>\n",
              "      <th>1</th>\n",
              "      <td>03/18/2011</td>\n",
              "      <td>Konya</td>\n",
              "      <td>Other</td>\n",
              "      <td>IL</td>\n",
              "      <td>3</td>\n",
              "      <td>4.0</td>\n",
              "      <td>4.0</td>\n",
              "      <td>4.0</td>\n",
              "      <td>2</td>\n",
              "      <td>2</td>\n",
              "      <td>5</td>\n",
              "      <td>3</td>\n",
              "      <td>4</td>\n",
              "      <td>4</td>\n",
              "      <td>2</td>\n",
              "      <td>4</td>\n",
              "      <td>5.0</td>\n",
              "      <td>0</td>\n",
              "      <td>0</td>\n",
              "      <td>0</td>\n",
              "      <td>0</td>\n",
              "      <td>0</td>\n",
              "      <td>5</td>\n",
              "      <td>5</td>\n",
              "      <td>3</td>\n",
              "      <td>2</td>\n",
              "      <td>1</td>\n",
              "      <td>0</td>\n",
              "      <td>0</td>\n",
              "      <td>0.0</td>\n",
              "      <td>0.0</td>\n",
              "      <td>1.0</td>\n",
              "      <td>3.0</td>\n",
              "      <td>0</td>\n",
              "      <td>0</td>\n",
              "      <td>0</td>\n",
              "      <td>0</td>\n",
              "      <td>0</td>\n",
              "      <td>0</td>\n",
              "      <td>0</td>\n",
              "      <td>0</td>\n",
              "      <td>9355.0</td>\n",
              "    </tr>\n",
              "    <tr>\n",
              "      <th>2</th>\n",
              "      <td>10/30/2013</td>\n",
              "      <td>Ankara</td>\n",
              "      <td>Big Cities</td>\n",
              "      <td>FC</td>\n",
              "      <td>3</td>\n",
              "      <td>4.0</td>\n",
              "      <td>4.0</td>\n",
              "      <td>4.0</td>\n",
              "      <td>2</td>\n",
              "      <td>2</td>\n",
              "      <td>5</td>\n",
              "      <td>4</td>\n",
              "      <td>4</td>\n",
              "      <td>5</td>\n",
              "      <td>4</td>\n",
              "      <td>5</td>\n",
              "      <td>5.0</td>\n",
              "      <td>0</td>\n",
              "      <td>0</td>\n",
              "      <td>0</td>\n",
              "      <td>0</td>\n",
              "      <td>0</td>\n",
              "      <td>5</td>\n",
              "      <td>5</td>\n",
              "      <td>5</td>\n",
              "      <td>5</td>\n",
              "      <td>5</td>\n",
              "      <td>0</td>\n",
              "      <td>0</td>\n",
              "      <td>0.0</td>\n",
              "      <td>0.0</td>\n",
              "      <td>2.0</td>\n",
              "      <td>3.0</td>\n",
              "      <td>0</td>\n",
              "      <td>0</td>\n",
              "      <td>0</td>\n",
              "      <td>0</td>\n",
              "      <td>0</td>\n",
              "      <td>0</td>\n",
              "      <td>0</td>\n",
              "      <td>0</td>\n",
              "      <td>11353.0</td>\n",
              "    </tr>\n",
              "    <tr>\n",
              "      <th>3</th>\n",
              "      <td>05/06/2013</td>\n",
              "      <td>Kocaeli</td>\n",
              "      <td>Other</td>\n",
              "      <td>IL</td>\n",
              "      <td>2</td>\n",
              "      <td>4.0</td>\n",
              "      <td>4.0</td>\n",
              "      <td>4.0</td>\n",
              "      <td>2</td>\n",
              "      <td>3</td>\n",
              "      <td>5</td>\n",
              "      <td>4</td>\n",
              "      <td>5</td>\n",
              "      <td>4</td>\n",
              "      <td>3</td>\n",
              "      <td>4</td>\n",
              "      <td>5.0</td>\n",
              "      <td>0</td>\n",
              "      <td>0</td>\n",
              "      <td>0</td>\n",
              "      <td>0</td>\n",
              "      <td>4</td>\n",
              "      <td>4</td>\n",
              "      <td>4</td>\n",
              "      <td>3</td>\n",
              "      <td>2</td>\n",
              "      <td>2</td>\n",
              "      <td>0</td>\n",
              "      <td>0</td>\n",
              "      <td>0.0</td>\n",
              "      <td>0.0</td>\n",
              "      <td>2.0</td>\n",
              "      <td>3.0</td>\n",
              "      <td>0</td>\n",
              "      <td>4</td>\n",
              "      <td>0</td>\n",
              "      <td>0</td>\n",
              "      <td>0</td>\n",
              "      <td>0</td>\n",
              "      <td>0</td>\n",
              "      <td>0</td>\n",
              "      <td>10828.0</td>\n",
              "    </tr>\n",
              "    <tr>\n",
              "      <th>4</th>\n",
              "      <td>07/31/2013</td>\n",
              "      <td>Afyonkarahisar</td>\n",
              "      <td>Other</td>\n",
              "      <td>FC</td>\n",
              "      <td>2</td>\n",
              "      <td>4.0</td>\n",
              "      <td>4.0</td>\n",
              "      <td>4.0</td>\n",
              "      <td>1</td>\n",
              "      <td>2</td>\n",
              "      <td>5</td>\n",
              "      <td>4</td>\n",
              "      <td>5</td>\n",
              "      <td>4</td>\n",
              "      <td>3</td>\n",
              "      <td>5</td>\n",
              "      <td>4.0</td>\n",
              "      <td>0</td>\n",
              "      <td>0</td>\n",
              "      <td>0</td>\n",
              "      <td>0</td>\n",
              "      <td>0</td>\n",
              "      <td>1</td>\n",
              "      <td>5</td>\n",
              "      <td>3</td>\n",
              "      <td>1</td>\n",
              "      <td>1</td>\n",
              "      <td>0</td>\n",
              "      <td>0</td>\n",
              "      <td>0.0</td>\n",
              "      <td>0.0</td>\n",
              "      <td>5.0</td>\n",
              "      <td>3.0</td>\n",
              "      <td>0</td>\n",
              "      <td>0</td>\n",
              "      <td>0</td>\n",
              "      <td>0</td>\n",
              "      <td>0</td>\n",
              "      <td>0</td>\n",
              "      <td>0</td>\n",
              "      <td>0</td>\n",
              "      <td>9354.0</td>\n",
              "    </tr>\n",
              "  </tbody>\n",
              "</table>\n",
              "</div>"
            ],
            "text/plain": [
              "     Open Date            City  City Group Type  ...  P35  P36  P37  revenue\n",
              "Id                                               ...                        \n",
              "0   01/22/2011           Niğde       Other   FC  ...    0    0    0  10033.0\n",
              "1   03/18/2011           Konya       Other   IL  ...    0    0    0   9355.0\n",
              "2   10/30/2013          Ankara  Big Cities   FC  ...    0    0    0  11353.0\n",
              "3   05/06/2013         Kocaeli       Other   IL  ...    0    0    0  10828.0\n",
              "4   07/31/2013  Afyonkarahisar       Other   FC  ...    0    0    0   9354.0\n",
              "\n",
              "[5 rows x 42 columns]"
            ]
          },
          "metadata": {
            "tags": []
          },
          "execution_count": 36
        }
      ]
    },
    {
      "cell_type": "markdown",
      "metadata": {
        "id": "LYzIHzXvC-uA"
      },
      "source": [
        "### Exploratory Data Analysis"
      ]
    },
    {
      "cell_type": "code",
      "metadata": {
        "colab": {
          "base_uri": "https://localhost:8080/"
        },
        "id": "g1ljl1_RmYQJ",
        "outputId": "49cbdc41-2685-4f0e-afaf-bf21012dd16e"
      },
      "source": [
        "# looking at the dataset shape\n",
        "data.shape"
      ],
      "execution_count": 37,
      "outputs": [
        {
          "output_type": "execute_result",
          "data": {
            "text/plain": [
              "(100000, 42)"
            ]
          },
          "metadata": {
            "tags": []
          },
          "execution_count": 37
        }
      ]
    },
    {
      "cell_type": "markdown",
      "metadata": {
        "id": "lCTLiBX4DC-f"
      },
      "source": [
        "> We have a dataset with 100K observations and 41 features + 1 target variable - `revenue`."
      ]
    },
    {
      "cell_type": "code",
      "metadata": {
        "colab": {
          "base_uri": "https://localhost:8080/"
        },
        "id": "XrsWCGyQp8xz",
        "outputId": "e06371fc-3869-4b12-b9f7-54ab3353f44c"
      },
      "source": [
        "# looking at data types\n",
        "data.dtypes "
      ],
      "execution_count": 38,
      "outputs": [
        {
          "output_type": "execute_result",
          "data": {
            "text/plain": [
              "Open Date      object\n",
              "City           object\n",
              "City Group     object\n",
              "Type           object\n",
              "P1              int64\n",
              "P2            float64\n",
              "P3            float64\n",
              "P4            float64\n",
              "P5              int64\n",
              "P6              int64\n",
              "P7              int64\n",
              "P8              int64\n",
              "P9              int64\n",
              "P10             int64\n",
              "P11             int64\n",
              "P12             int64\n",
              "P13           float64\n",
              "P14             int64\n",
              "P15             int64\n",
              "P16             int64\n",
              "P17             int64\n",
              "P18             int64\n",
              "P19             int64\n",
              "P20             int64\n",
              "P21             int64\n",
              "P22             int64\n",
              "P23             int64\n",
              "P24             int64\n",
              "P25             int64\n",
              "P26           float64\n",
              "P27           float64\n",
              "P28           float64\n",
              "P29           float64\n",
              "P30             int64\n",
              "P31             int64\n",
              "P32             int64\n",
              "P33             int64\n",
              "P34             int64\n",
              "P35             int64\n",
              "P36             int64\n",
              "P37             int64\n",
              "revenue       float64\n",
              "dtype: object"
            ]
          },
          "metadata": {
            "tags": []
          },
          "execution_count": 38
        }
      ]
    },
    {
      "cell_type": "markdown",
      "metadata": {
        "id": "SMcgMgTwDYW-"
      },
      "source": [
        "> There doesn't seem to be any errors in the data types: all numerical features are either int or float and the categorical are objects."
      ]
    },
    {
      "cell_type": "code",
      "metadata": {
        "colab": {
          "base_uri": "https://localhost:8080/",
          "height": 320
        },
        "id": "uNhWdf9rDnZ-",
        "outputId": "3d8e3950-f334-4d89-cc89-5d779bf5508c"
      },
      "source": [
        "# looking at the range of values of the numerical features\n",
        "data.describe()"
      ],
      "execution_count": 39,
      "outputs": [
        {
          "output_type": "execute_result",
          "data": {
            "text/html": [
              "<div>\n",
              "<style scoped>\n",
              "    .dataframe tbody tr th:only-of-type {\n",
              "        vertical-align: middle;\n",
              "    }\n",
              "\n",
              "    .dataframe tbody tr th {\n",
              "        vertical-align: top;\n",
              "    }\n",
              "\n",
              "    .dataframe thead th {\n",
              "        text-align: right;\n",
              "    }\n",
              "</style>\n",
              "<table border=\"1\" class=\"dataframe\">\n",
              "  <thead>\n",
              "    <tr style=\"text-align: right;\">\n",
              "      <th></th>\n",
              "      <th>P1</th>\n",
              "      <th>P2</th>\n",
              "      <th>P3</th>\n",
              "      <th>P4</th>\n",
              "      <th>P5</th>\n",
              "      <th>P6</th>\n",
              "      <th>P7</th>\n",
              "      <th>P8</th>\n",
              "      <th>P9</th>\n",
              "      <th>P10</th>\n",
              "      <th>P11</th>\n",
              "      <th>P12</th>\n",
              "      <th>P13</th>\n",
              "      <th>P14</th>\n",
              "      <th>P15</th>\n",
              "      <th>P16</th>\n",
              "      <th>P17</th>\n",
              "      <th>P18</th>\n",
              "      <th>P19</th>\n",
              "      <th>P20</th>\n",
              "      <th>P21</th>\n",
              "      <th>P22</th>\n",
              "      <th>P23</th>\n",
              "      <th>P24</th>\n",
              "      <th>P25</th>\n",
              "      <th>P26</th>\n",
              "      <th>P27</th>\n",
              "      <th>P28</th>\n",
              "      <th>P29</th>\n",
              "      <th>P30</th>\n",
              "      <th>P31</th>\n",
              "      <th>P32</th>\n",
              "      <th>P33</th>\n",
              "      <th>P34</th>\n",
              "      <th>P35</th>\n",
              "      <th>P36</th>\n",
              "      <th>P37</th>\n",
              "      <th>revenue</th>\n",
              "    </tr>\n",
              "  </thead>\n",
              "  <tbody>\n",
              "    <tr>\n",
              "      <th>count</th>\n",
              "      <td>100000.000000</td>\n",
              "      <td>100000.000000</td>\n",
              "      <td>100000.000000</td>\n",
              "      <td>100000.000000</td>\n",
              "      <td>100000.000000</td>\n",
              "      <td>100000.000000</td>\n",
              "      <td>100000.00000</td>\n",
              "      <td>100000.00000</td>\n",
              "      <td>100000.000000</td>\n",
              "      <td>100000.000000</td>\n",
              "      <td>100000.000000</td>\n",
              "      <td>100000.000000</td>\n",
              "      <td>100000.000000</td>\n",
              "      <td>100000.000000</td>\n",
              "      <td>100000.000000</td>\n",
              "      <td>100000.000000</td>\n",
              "      <td>100000.000000</td>\n",
              "      <td>100000.000000</td>\n",
              "      <td>100000.000000</td>\n",
              "      <td>100000.00000</td>\n",
              "      <td>100000.000000</td>\n",
              "      <td>100000.000000</td>\n",
              "      <td>100000.00000</td>\n",
              "      <td>100000.000000</td>\n",
              "      <td>100000.000000</td>\n",
              "      <td>100000.000000</td>\n",
              "      <td>100000.000000</td>\n",
              "      <td>100000.000000</td>\n",
              "      <td>100000.000000</td>\n",
              "      <td>100000.000000</td>\n",
              "      <td>100000.000000</td>\n",
              "      <td>100000.000000</td>\n",
              "      <td>100000.000000</td>\n",
              "      <td>100000.000000</td>\n",
              "      <td>100000.000000</td>\n",
              "      <td>100000.000000</td>\n",
              "      <td>100000.000000</td>\n",
              "      <td>100000.000000</td>\n",
              "    </tr>\n",
              "    <tr>\n",
              "      <th>mean</th>\n",
              "      <td>4.088030</td>\n",
              "      <td>4.428085</td>\n",
              "      <td>4.215325</td>\n",
              "      <td>4.396025</td>\n",
              "      <td>1.989590</td>\n",
              "      <td>2.881900</td>\n",
              "      <td>5.30051</td>\n",
              "      <td>4.93100</td>\n",
              "      <td>5.251380</td>\n",
              "      <td>5.458970</td>\n",
              "      <td>3.311720</td>\n",
              "      <td>5.061440</td>\n",
              "      <td>5.086630</td>\n",
              "      <td>1.280090</td>\n",
              "      <td>1.305530</td>\n",
              "      <td>1.747070</td>\n",
              "      <td>1.156880</td>\n",
              "      <td>1.708470</td>\n",
              "      <td>5.191120</td>\n",
              "      <td>4.57086</td>\n",
              "      <td>2.542380</td>\n",
              "      <td>2.430380</td>\n",
              "      <td>3.63998</td>\n",
              "      <td>1.234450</td>\n",
              "      <td>1.244110</td>\n",
              "      <td>1.279665</td>\n",
              "      <td>1.164440</td>\n",
              "      <td>3.233785</td>\n",
              "      <td>3.084000</td>\n",
              "      <td>2.083300</td>\n",
              "      <td>1.193330</td>\n",
              "      <td>1.942640</td>\n",
              "      <td>0.987430</td>\n",
              "      <td>2.108670</td>\n",
              "      <td>1.832830</td>\n",
              "      <td>1.968890</td>\n",
              "      <td>0.973500</td>\n",
              "      <td>14698.061620</td>\n",
              "    </tr>\n",
              "    <tr>\n",
              "      <th>std</th>\n",
              "      <td>2.812963</td>\n",
              "      <td>1.428865</td>\n",
              "      <td>0.842161</td>\n",
              "      <td>1.035827</td>\n",
              "      <td>1.065314</td>\n",
              "      <td>1.531429</td>\n",
              "      <td>2.17858</td>\n",
              "      <td>1.71849</td>\n",
              "      <td>1.702632</td>\n",
              "      <td>1.763601</td>\n",
              "      <td>2.068118</td>\n",
              "      <td>1.765383</td>\n",
              "      <td>0.979339</td>\n",
              "      <td>2.496782</td>\n",
              "      <td>2.166949</td>\n",
              "      <td>3.172012</td>\n",
              "      <td>2.432646</td>\n",
              "      <td>3.030527</td>\n",
              "      <td>5.785529</td>\n",
              "      <td>3.61243</td>\n",
              "      <td>2.526046</td>\n",
              "      <td>1.363184</td>\n",
              "      <td>4.71916</td>\n",
              "      <td>2.097457</td>\n",
              "      <td>2.084731</td>\n",
              "      <td>2.309640</td>\n",
              "      <td>2.179495</td>\n",
              "      <td>2.136694</td>\n",
              "      <td>1.783927</td>\n",
              "      <td>4.309479</td>\n",
              "      <td>2.307944</td>\n",
              "      <td>3.971298</td>\n",
              "      <td>1.534808</td>\n",
              "      <td>4.685414</td>\n",
              "      <td>3.228769</td>\n",
              "      <td>3.805773</td>\n",
              "      <td>1.677267</td>\n",
              "      <td>6705.081965</td>\n",
              "    </tr>\n",
              "    <tr>\n",
              "      <th>min</th>\n",
              "      <td>1.000000</td>\n",
              "      <td>1.000000</td>\n",
              "      <td>0.000000</td>\n",
              "      <td>2.000000</td>\n",
              "      <td>1.000000</td>\n",
              "      <td>1.000000</td>\n",
              "      <td>1.00000</td>\n",
              "      <td>1.00000</td>\n",
              "      <td>4.000000</td>\n",
              "      <td>4.000000</td>\n",
              "      <td>1.000000</td>\n",
              "      <td>2.000000</td>\n",
              "      <td>3.000000</td>\n",
              "      <td>0.000000</td>\n",
              "      <td>0.000000</td>\n",
              "      <td>0.000000</td>\n",
              "      <td>0.000000</td>\n",
              "      <td>0.000000</td>\n",
              "      <td>1.000000</td>\n",
              "      <td>1.00000</td>\n",
              "      <td>1.000000</td>\n",
              "      <td>1.000000</td>\n",
              "      <td>1.00000</td>\n",
              "      <td>0.000000</td>\n",
              "      <td>0.000000</td>\n",
              "      <td>0.000000</td>\n",
              "      <td>0.000000</td>\n",
              "      <td>1.000000</td>\n",
              "      <td>0.000000</td>\n",
              "      <td>0.000000</td>\n",
              "      <td>0.000000</td>\n",
              "      <td>0.000000</td>\n",
              "      <td>0.000000</td>\n",
              "      <td>0.000000</td>\n",
              "      <td>0.000000</td>\n",
              "      <td>0.000000</td>\n",
              "      <td>0.000000</td>\n",
              "      <td>6271.000000</td>\n",
              "    </tr>\n",
              "    <tr>\n",
              "      <th>25%</th>\n",
              "      <td>2.000000</td>\n",
              "      <td>3.750000</td>\n",
              "      <td>4.000000</td>\n",
              "      <td>4.000000</td>\n",
              "      <td>1.000000</td>\n",
              "      <td>2.000000</td>\n",
              "      <td>5.00000</td>\n",
              "      <td>4.00000</td>\n",
              "      <td>4.000000</td>\n",
              "      <td>5.000000</td>\n",
              "      <td>2.000000</td>\n",
              "      <td>4.000000</td>\n",
              "      <td>5.000000</td>\n",
              "      <td>0.000000</td>\n",
              "      <td>0.000000</td>\n",
              "      <td>0.000000</td>\n",
              "      <td>0.000000</td>\n",
              "      <td>0.000000</td>\n",
              "      <td>2.000000</td>\n",
              "      <td>2.00000</td>\n",
              "      <td>1.000000</td>\n",
              "      <td>1.000000</td>\n",
              "      <td>1.00000</td>\n",
              "      <td>0.000000</td>\n",
              "      <td>0.000000</td>\n",
              "      <td>0.000000</td>\n",
              "      <td>0.000000</td>\n",
              "      <td>2.000000</td>\n",
              "      <td>2.000000</td>\n",
              "      <td>0.000000</td>\n",
              "      <td>0.000000</td>\n",
              "      <td>0.000000</td>\n",
              "      <td>0.000000</td>\n",
              "      <td>0.000000</td>\n",
              "      <td>0.000000</td>\n",
              "      <td>0.000000</td>\n",
              "      <td>0.000000</td>\n",
              "      <td>10143.000000</td>\n",
              "    </tr>\n",
              "    <tr>\n",
              "      <th>50%</th>\n",
              "      <td>3.000000</td>\n",
              "      <td>5.000000</td>\n",
              "      <td>4.000000</td>\n",
              "      <td>4.000000</td>\n",
              "      <td>2.000000</td>\n",
              "      <td>2.000000</td>\n",
              "      <td>5.00000</td>\n",
              "      <td>5.00000</td>\n",
              "      <td>5.000000</td>\n",
              "      <td>5.000000</td>\n",
              "      <td>3.000000</td>\n",
              "      <td>5.000000</td>\n",
              "      <td>5.000000</td>\n",
              "      <td>0.000000</td>\n",
              "      <td>0.000000</td>\n",
              "      <td>0.000000</td>\n",
              "      <td>0.000000</td>\n",
              "      <td>0.000000</td>\n",
              "      <td>3.000000</td>\n",
              "      <td>4.00000</td>\n",
              "      <td>2.000000</td>\n",
              "      <td>2.000000</td>\n",
              "      <td>2.00000</td>\n",
              "      <td>0.000000</td>\n",
              "      <td>0.000000</td>\n",
              "      <td>0.000000</td>\n",
              "      <td>0.000000</td>\n",
              "      <td>3.000000</td>\n",
              "      <td>3.000000</td>\n",
              "      <td>0.000000</td>\n",
              "      <td>0.000000</td>\n",
              "      <td>0.000000</td>\n",
              "      <td>0.000000</td>\n",
              "      <td>0.000000</td>\n",
              "      <td>0.000000</td>\n",
              "      <td>0.000000</td>\n",
              "      <td>0.000000</td>\n",
              "      <td>12951.000000</td>\n",
              "    </tr>\n",
              "    <tr>\n",
              "      <th>75%</th>\n",
              "      <td>4.000000</td>\n",
              "      <td>5.000000</td>\n",
              "      <td>4.000000</td>\n",
              "      <td>5.000000</td>\n",
              "      <td>2.000000</td>\n",
              "      <td>4.000000</td>\n",
              "      <td>5.00000</td>\n",
              "      <td>5.00000</td>\n",
              "      <td>5.000000</td>\n",
              "      <td>5.000000</td>\n",
              "      <td>4.000000</td>\n",
              "      <td>5.000000</td>\n",
              "      <td>5.000000</td>\n",
              "      <td>2.000000</td>\n",
              "      <td>2.000000</td>\n",
              "      <td>3.000000</td>\n",
              "      <td>2.000000</td>\n",
              "      <td>4.000000</td>\n",
              "      <td>5.000000</td>\n",
              "      <td>5.00000</td>\n",
              "      <td>3.000000</td>\n",
              "      <td>3.000000</td>\n",
              "      <td>4.00000</td>\n",
              "      <td>2.000000</td>\n",
              "      <td>2.000000</td>\n",
              "      <td>2.000000</td>\n",
              "      <td>2.000000</td>\n",
              "      <td>4.000000</td>\n",
              "      <td>3.000000</td>\n",
              "      <td>3.000000</td>\n",
              "      <td>1.000000</td>\n",
              "      <td>3.000000</td>\n",
              "      <td>2.000000</td>\n",
              "      <td>3.000000</td>\n",
              "      <td>4.000000</td>\n",
              "      <td>3.000000</td>\n",
              "      <td>2.000000</td>\n",
              "      <td>16923.000000</td>\n",
              "    </tr>\n",
              "    <tr>\n",
              "      <th>max</th>\n",
              "      <td>15.000000</td>\n",
              "      <td>7.500000</td>\n",
              "      <td>6.000000</td>\n",
              "      <td>7.500000</td>\n",
              "      <td>6.000000</td>\n",
              "      <td>10.000000</td>\n",
              "      <td>10.00000</td>\n",
              "      <td>10.00000</td>\n",
              "      <td>10.000000</td>\n",
              "      <td>10.000000</td>\n",
              "      <td>10.000000</td>\n",
              "      <td>10.000000</td>\n",
              "      <td>7.500000</td>\n",
              "      <td>15.000000</td>\n",
              "      <td>10.000000</td>\n",
              "      <td>15.000000</td>\n",
              "      <td>15.000000</td>\n",
              "      <td>15.000000</td>\n",
              "      <td>25.000000</td>\n",
              "      <td>15.00000</td>\n",
              "      <td>15.000000</td>\n",
              "      <td>5.000000</td>\n",
              "      <td>25.00000</td>\n",
              "      <td>10.000000</td>\n",
              "      <td>10.000000</td>\n",
              "      <td>12.500000</td>\n",
              "      <td>12.500000</td>\n",
              "      <td>12.500000</td>\n",
              "      <td>10.000000</td>\n",
              "      <td>25.000000</td>\n",
              "      <td>15.000000</td>\n",
              "      <td>25.000000</td>\n",
              "      <td>6.000000</td>\n",
              "      <td>30.000000</td>\n",
              "      <td>15.000000</td>\n",
              "      <td>20.000000</td>\n",
              "      <td>8.000000</td>\n",
              "      <td>52294.000000</td>\n",
              "    </tr>\n",
              "  </tbody>\n",
              "</table>\n",
              "</div>"
            ],
            "text/plain": [
              "                  P1             P2  ...            P37        revenue\n",
              "count  100000.000000  100000.000000  ...  100000.000000  100000.000000\n",
              "mean        4.088030       4.428085  ...       0.973500   14698.061620\n",
              "std         2.812963       1.428865  ...       1.677267    6705.081965\n",
              "min         1.000000       1.000000  ...       0.000000    6271.000000\n",
              "25%         2.000000       3.750000  ...       0.000000   10143.000000\n",
              "50%         3.000000       5.000000  ...       0.000000   12951.000000\n",
              "75%         4.000000       5.000000  ...       2.000000   16923.000000\n",
              "max        15.000000       7.500000  ...       8.000000   52294.000000\n",
              "\n",
              "[8 rows x 38 columns]"
            ]
          },
          "metadata": {
            "tags": []
          },
          "execution_count": 39
        }
      ]
    },
    {
      "cell_type": "markdown",
      "metadata": {
        "id": "MykHw9s4DyiJ"
      },
      "source": [
        "> All the P(X) features have small ranges (most are between 0 and 20), so there doesn't appear to exist any errors in the data.\n",
        ">\n",
        "> The target variable `revenue` has a large range of values, with the min being 6K and the max > 50K. \n",
        ">\n",
        "> We should look at outliers in this variable."
      ]
    },
    {
      "cell_type": "code",
      "metadata": {
        "colab": {
          "base_uri": "https://localhost:8080/",
          "height": 268
        },
        "id": "wiWgj9kzERjZ",
        "outputId": "7adbeb6b-ffd2-41ae-df28-7b857083fd17"
      },
      "source": [
        "plt.hist(data.revenue, bins=1000)\n",
        "plt.show()"
      ],
      "execution_count": 40,
      "outputs": [
        {
          "output_type": "display_data",
          "data": {
            "image/png": "[encoded data removed]",
            "text/plain": [
              "<Figure size 432x288 with 1 Axes>"
            ]
          },
          "metadata": {
            "tags": []
          }
        }
      ]
    },
    {
      "cell_type": "markdown",
      "metadata": {
        "id": "U28gxnM6EiIr"
      },
      "source": [
        "> Most revenue values are situated between 10K and 20K. The remaining values are evenly spaced between the 20K range and the 50K range. There doesn't seem to exist any restaurant with a much larger revenue than the rest."
      ]
    },
    {
      "cell_type": "code",
      "metadata": {
        "colab": {
          "base_uri": "https://localhost:8080/"
        },
        "id": "wD5siNfqFzuK",
        "outputId": "f7770745-0572-46ae-a80f-655fc7e44130"
      },
      "source": [
        "# looking at categorical features\n",
        "cat_vars = ['Open Date', 'City', 'City Group', 'Type']\n",
        "for var in cat_vars:\n",
        "  print(var)\n",
        "  print(data[var].nunique())\n",
        "  print(data[var].value_counts())\n",
        "  print('\\n')"
      ],
      "execution_count": 41,
      "outputs": [
        {
          "output_type": "stream",
          "text": [
            "Open Date\n",
            "310\n",
            "07/10/2013    645\n",
            "07/04/2011    635\n",
            "05/06/2013    635\n",
            "09/20/2013    632\n",
            "03/05/1996    631\n",
            "             ... \n",
            "11/25/2009    276\n",
            "08/23/2013    275\n",
            "09/01/2010    274\n",
            "11/12/2010    267\n",
            "12/23/2012    265\n",
            "Name: Open Date, Length: 310, dtype: int64\n",
            "\n",
            "\n",
            "City\n",
            "57\n",
            "İstanbul          34087\n",
            "Ankara             8720\n",
            "İzmir              6465\n",
            "Antalya            5911\n",
            "Kocaeli            4364\n",
            "Mersin             2735\n",
            "Adana              2514\n",
            "Balıkesir          2463\n",
            "Bursa              2441\n",
            "Muğla              1823\n",
            "Aydın              1617\n",
            "Tekirdağ           1577\n",
            "Konya              1576\n",
            "Gaziantep          1487\n",
            "Edirne             1230\n",
            "Manisa             1227\n",
            "Çanakkale           965\n",
            "Denizli             964\n",
            "Diyarbakır          954\n",
            "Hatay               951\n",
            "Zonguldak           926\n",
            "Eskişehir           900\n",
            "Trabzon             660\n",
            "Aksaray             650\n",
            "Bolu                631\n",
            "Yalova              630\n",
            "Kırıkkale           622\n",
            "Malatya             616\n",
            "Mardin              610\n",
            "Şanlıurfa           609\n",
            "Batman              604\n",
            "Sakarya             604\n",
            "Rize                345\n",
            "Artvin              344\n",
            "Bilecik             339\n",
            "Afyonkarahisar      331\n",
            "Nevşehir            328\n",
            "Sivas               326\n",
            "Samsun              324\n",
            "Kayseri             323\n",
            "Erzincan            319\n",
            "Kırşehir            319\n",
            "Erzurum             317\n",
            "Ordu                317\n",
            "Siirt               315\n",
            "Kahramanmaraş       315\n",
            "Giresun             310\n",
            "Niğde               310\n",
            "Çankırı             309\n",
            "Kütahya             304\n",
            "Isparta             304\n",
            "Çorum               304\n",
            "Düzce               303\n",
            "Tanımsız            298\n",
            "Uşak                293\n",
            "Kars                289\n",
            "Kırklareli          281\n",
            "Name: City, dtype: int64\n",
            "\n",
            "\n",
            "City Group\n",
            "2\n",
            "Other         50728\n",
            "Big Cities    49272\n",
            "Name: City Group, dtype: int64\n",
            "\n",
            "\n",
            "Type\n",
            "4\n",
            "FC    57019\n",
            "IL    40447\n",
            "DT     2244\n",
            "MB      290\n",
            "Name: Type, dtype: int64\n",
            "\n",
            "\n"
          ],
          "name": "stdout"
        }
      ]
    },
    {
      "cell_type": "markdown",
      "metadata": {
        "id": "0-_2h-bdGae0"
      },
      "source": [
        "> There are two problems with the categorical data in the dataset:\n",
        ">\n",
        "> *   `Open Date`: there are too many different values in this feature to be able to treat it like a categorical variable (encoding the feature would lead to a large number of new features that would add too much noise to the data).\n",
        "> \n",
        "> There is, however, a solution: we can convert this categorical feature to a numerical one that represents the number of days since the restaurant opened, keeping all the information and solving the current issue.\n",
        ">\n",
        "> *   `City`: like the issue before, there are 31 different cities on the dataset. Encoding them all would lead to the addition of over 30 new features to the dataset. However, we have another feature - `City Group` - that can gives us location info while only having 2 different values. We can use `City Group` and drop `City` from the dataset.\n",
        "\n"
      ]
    },
    {
      "cell_type": "code",
      "metadata": {
        "colab": {
          "base_uri": "https://localhost:8080/",
          "height": 866
        },
        "id": "x5azgX3UJKHg",
        "outputId": "372669a4-b57d-4af5-ccdb-2542fade0d53"
      },
      "source": [
        "revenue_by_city = data.revenue.groupby(data.City).mean().sort_values()\n",
        "revenue_by_city.plot.barh(figsize=(10,15))\n",
        "plt.show()"
      ],
      "execution_count": 42,
      "outputs": [
        {
          "output_type": "display_data",
          "data": {
            "image/png": "[encoded data removed]",
            "text/plain": [
              "<Figure size 720x1080 with 1 Axes>"
            ]
          },
          "metadata": {
            "tags": []
          }
        }
      ]
    },
    {
      "cell_type": "markdown",
      "metadata": {
        "id": "es0MuVx1LBKN"
      },
      "source": [
        "> There doesn't seem to be a considerable difference in Revenue between different cities (the only City that does not fit the norm is Erzincan, which is considerably higher than the rest).\n",
        ">\n",
        "> It appears to be relatively \"safe\" to drop `City` and get location information solely from `City Group`."
      ]
    },
    {
      "cell_type": "code",
      "metadata": {
        "colab": {
          "base_uri": "https://localhost:8080/",
          "height": 230
        },
        "id": "RNqOisDvL6xH",
        "outputId": "0c23283a-9be0-4646-fd98-b8590116962f"
      },
      "source": [
        "# converting Open Date to days_since_open\n",
        "days_since_open=[]\n",
        "for dt in data['Open Date']:\n",
        "  open_date = datetime.strptime(dt, \"%m/%d/%Y\").date()\n",
        "  today = date.today()\n",
        "  delta = today - open_date\n",
        "  days_since_open.append(delta.days)\n",
        "\n",
        "data['days_since_open']=days_since_open\n",
        "new_data=data.drop('Open Date', axis=1)\n",
        "\n",
        "# dropping City\n",
        "new_data=new_data.drop('City', axis=1)\n",
        "new_data.head(3)"
      ],
      "execution_count": 43,
      "outputs": [
        {
          "output_type": "execute_result",
          "data": {
            "text/html": [
              "<div>\n",
              "<style scoped>\n",
              "    .dataframe tbody tr th:only-of-type {\n",
              "        vertical-align: middle;\n",
              "    }\n",
              "\n",
              "    .dataframe tbody tr th {\n",
              "        vertical-align: top;\n",
              "    }\n",
              "\n",
              "    .dataframe thead th {\n",
              "        text-align: right;\n",
              "    }\n",
              "</style>\n",
              "<table border=\"1\" class=\"dataframe\">\n",
              "  <thead>\n",
              "    <tr style=\"text-align: right;\">\n",
              "      <th></th>\n",
              "      <th>City Group</th>\n",
              "      <th>Type</th>\n",
              "      <th>P1</th>\n",
              "      <th>P2</th>\n",
              "      <th>P3</th>\n",
              "      <th>P4</th>\n",
              "      <th>P5</th>\n",
              "      <th>P6</th>\n",
              "      <th>P7</th>\n",
              "      <th>P8</th>\n",
              "      <th>P9</th>\n",
              "      <th>P10</th>\n",
              "      <th>P11</th>\n",
              "      <th>P12</th>\n",
              "      <th>P13</th>\n",
              "      <th>P14</th>\n",
              "      <th>P15</th>\n",
              "      <th>P16</th>\n",
              "      <th>P17</th>\n",
              "      <th>P18</th>\n",
              "      <th>P19</th>\n",
              "      <th>P20</th>\n",
              "      <th>P21</th>\n",
              "      <th>P22</th>\n",
              "      <th>P23</th>\n",
              "      <th>P24</th>\n",
              "      <th>P25</th>\n",
              "      <th>P26</th>\n",
              "      <th>P27</th>\n",
              "      <th>P28</th>\n",
              "      <th>P29</th>\n",
              "      <th>P30</th>\n",
              "      <th>P31</th>\n",
              "      <th>P32</th>\n",
              "      <th>P33</th>\n",
              "      <th>P34</th>\n",
              "      <th>P35</th>\n",
              "      <th>P36</th>\n",
              "      <th>P37</th>\n",
              "      <th>revenue</th>\n",
              "      <th>days_since_open</th>\n",
              "    </tr>\n",
              "    <tr>\n",
              "      <th>Id</th>\n",
              "      <th></th>\n",
              "      <th></th>\n",
              "      <th></th>\n",
              "      <th></th>\n",
              "      <th></th>\n",
              "      <th></th>\n",
              "      <th></th>\n",
              "      <th></th>\n",
              "      <th></th>\n",
              "      <th></th>\n",
              "      <th></th>\n",
              "      <th></th>\n",
              "      <th></th>\n",
              "      <th></th>\n",
              "      <th></th>\n",
              "      <th></th>\n",
              "      <th></th>\n",
              "      <th></th>\n",
              "      <th></th>\n",
              "      <th></th>\n",
              "      <th></th>\n",
              "      <th></th>\n",
              "      <th></th>\n",
              "      <th></th>\n",
              "      <th></th>\n",
              "      <th></th>\n",
              "      <th></th>\n",
              "      <th></th>\n",
              "      <th></th>\n",
              "      <th></th>\n",
              "      <th></th>\n",
              "      <th></th>\n",
              "      <th></th>\n",
              "      <th></th>\n",
              "      <th></th>\n",
              "      <th></th>\n",
              "      <th></th>\n",
              "      <th></th>\n",
              "      <th></th>\n",
              "      <th></th>\n",
              "      <th></th>\n",
              "    </tr>\n",
              "  </thead>\n",
              "  <tbody>\n",
              "    <tr>\n",
              "      <th>0</th>\n",
              "      <td>Other</td>\n",
              "      <td>FC</td>\n",
              "      <td>1</td>\n",
              "      <td>4.0</td>\n",
              "      <td>4.0</td>\n",
              "      <td>4.0</td>\n",
              "      <td>1</td>\n",
              "      <td>2</td>\n",
              "      <td>5</td>\n",
              "      <td>4</td>\n",
              "      <td>5</td>\n",
              "      <td>5</td>\n",
              "      <td>5</td>\n",
              "      <td>3</td>\n",
              "      <td>4.0</td>\n",
              "      <td>0</td>\n",
              "      <td>0</td>\n",
              "      <td>0</td>\n",
              "      <td>2</td>\n",
              "      <td>0</td>\n",
              "      <td>5</td>\n",
              "      <td>5</td>\n",
              "      <td>3</td>\n",
              "      <td>1</td>\n",
              "      <td>4</td>\n",
              "      <td>0</td>\n",
              "      <td>0</td>\n",
              "      <td>0.0</td>\n",
              "      <td>0.0</td>\n",
              "      <td>2.0</td>\n",
              "      <td>3.0</td>\n",
              "      <td>0</td>\n",
              "      <td>0</td>\n",
              "      <td>0</td>\n",
              "      <td>0</td>\n",
              "      <td>0</td>\n",
              "      <td>0</td>\n",
              "      <td>0</td>\n",
              "      <td>0</td>\n",
              "      <td>10033.0</td>\n",
              "      <td>3773</td>\n",
              "    </tr>\n",
              "    <tr>\n",
              "      <th>1</th>\n",
              "      <td>Other</td>\n",
              "      <td>IL</td>\n",
              "      <td>3</td>\n",
              "      <td>4.0</td>\n",
              "      <td>4.0</td>\n",
              "      <td>4.0</td>\n",
              "      <td>2</td>\n",
              "      <td>2</td>\n",
              "      <td>5</td>\n",
              "      <td>3</td>\n",
              "      <td>4</td>\n",
              "      <td>4</td>\n",
              "      <td>2</td>\n",
              "      <td>4</td>\n",
              "      <td>5.0</td>\n",
              "      <td>0</td>\n",
              "      <td>0</td>\n",
              "      <td>0</td>\n",
              "      <td>0</td>\n",
              "      <td>0</td>\n",
              "      <td>5</td>\n",
              "      <td>5</td>\n",
              "      <td>3</td>\n",
              "      <td>2</td>\n",
              "      <td>1</td>\n",
              "      <td>0</td>\n",
              "      <td>0</td>\n",
              "      <td>0.0</td>\n",
              "      <td>0.0</td>\n",
              "      <td>1.0</td>\n",
              "      <td>3.0</td>\n",
              "      <td>0</td>\n",
              "      <td>0</td>\n",
              "      <td>0</td>\n",
              "      <td>0</td>\n",
              "      <td>0</td>\n",
              "      <td>0</td>\n",
              "      <td>0</td>\n",
              "      <td>0</td>\n",
              "      <td>9355.0</td>\n",
              "      <td>3718</td>\n",
              "    </tr>\n",
              "    <tr>\n",
              "      <th>2</th>\n",
              "      <td>Big Cities</td>\n",
              "      <td>FC</td>\n",
              "      <td>3</td>\n",
              "      <td>4.0</td>\n",
              "      <td>4.0</td>\n",
              "      <td>4.0</td>\n",
              "      <td>2</td>\n",
              "      <td>2</td>\n",
              "      <td>5</td>\n",
              "      <td>4</td>\n",
              "      <td>4</td>\n",
              "      <td>5</td>\n",
              "      <td>4</td>\n",
              "      <td>5</td>\n",
              "      <td>5.0</td>\n",
              "      <td>0</td>\n",
              "      <td>0</td>\n",
              "      <td>0</td>\n",
              "      <td>0</td>\n",
              "      <td>0</td>\n",
              "      <td>5</td>\n",
              "      <td>5</td>\n",
              "      <td>5</td>\n",
              "      <td>5</td>\n",
              "      <td>5</td>\n",
              "      <td>0</td>\n",
              "      <td>0</td>\n",
              "      <td>0.0</td>\n",
              "      <td>0.0</td>\n",
              "      <td>2.0</td>\n",
              "      <td>3.0</td>\n",
              "      <td>0</td>\n",
              "      <td>0</td>\n",
              "      <td>0</td>\n",
              "      <td>0</td>\n",
              "      <td>0</td>\n",
              "      <td>0</td>\n",
              "      <td>0</td>\n",
              "      <td>0</td>\n",
              "      <td>11353.0</td>\n",
              "      <td>2761</td>\n",
              "    </tr>\n",
              "  </tbody>\n",
              "</table>\n",
              "</div>"
            ],
            "text/plain": [
              "    City Group Type  P1   P2   P3  ...  P35  P36  P37  revenue  days_since_open\n",
              "Id                                 ...                                         \n",
              "0        Other   FC   1  4.0  4.0  ...    0    0    0  10033.0             3773\n",
              "1        Other   IL   3  4.0  4.0  ...    0    0    0   9355.0             3718\n",
              "2   Big Cities   FC   3  4.0  4.0  ...    0    0    0  11353.0             2761\n",
              "\n",
              "[3 rows x 41 columns]"
            ]
          },
          "metadata": {
            "tags": []
          },
          "execution_count": 43
        }
      ]
    },
    {
      "cell_type": "markdown",
      "metadata": {
        "id": "xGsJXaHaOtZ_"
      },
      "source": [
        "### Missing Values"
      ]
    },
    {
      "cell_type": "code",
      "metadata": {
        "colab": {
          "base_uri": "https://localhost:8080/"
        },
        "id": "M27Y33tWl_XA",
        "outputId": "6578a34d-cd14-41ab-ff63-f23e627901e6"
      },
      "source": [
        "# checking the number of nulls for each feature\n",
        "new_data.isnull().sum()"
      ],
      "execution_count": 44,
      "outputs": [
        {
          "output_type": "execute_result",
          "data": {
            "text/plain": [
              "City Group         0\n",
              "Type               0\n",
              "P1                 0\n",
              "P2                 0\n",
              "P3                 0\n",
              "P4                 0\n",
              "P5                 0\n",
              "P6                 0\n",
              "P7                 0\n",
              "P8                 0\n",
              "P9                 0\n",
              "P10                0\n",
              "P11                0\n",
              "P12                0\n",
              "P13                0\n",
              "P14                0\n",
              "P15                0\n",
              "P16                0\n",
              "P17                0\n",
              "P18                0\n",
              "P19                0\n",
              "P20                0\n",
              "P21                0\n",
              "P22                0\n",
              "P23                0\n",
              "P24                0\n",
              "P25                0\n",
              "P26                0\n",
              "P27                0\n",
              "P28                0\n",
              "P29                0\n",
              "P30                0\n",
              "P31                0\n",
              "P32                0\n",
              "P33                0\n",
              "P34                0\n",
              "P35                0\n",
              "P36                0\n",
              "P37                0\n",
              "revenue            0\n",
              "days_since_open    0\n",
              "dtype: int64"
            ]
          },
          "metadata": {
            "tags": []
          },
          "execution_count": 44
        }
      ]
    },
    {
      "cell_type": "markdown",
      "metadata": {
        "id": "wwAn9gYmPFlX"
      },
      "source": [
        "> There are no null values in the dataset. As such, there is no need to think about missing value imputation strategies to employ."
      ]
    },
    {
      "cell_type": "markdown",
      "metadata": {
        "id": "LvG22Q4PPRlR"
      },
      "source": [
        "### Feature Selection"
      ]
    },
    {
      "cell_type": "code",
      "metadata": {
        "colab": {
          "base_uri": "https://localhost:8080/"
        },
        "id": "NmMsOXHtPThH",
        "outputId": "5f06f518-933f-4c56-862f-988fb6483bf0"
      },
      "source": [
        "new_data.shape"
      ],
      "execution_count": 45,
      "outputs": [
        {
          "output_type": "execute_result",
          "data": {
            "text/plain": [
              "(100000, 41)"
            ]
          },
          "metadata": {
            "tags": []
          },
          "execution_count": 45
        }
      ]
    },
    {
      "cell_type": "markdown",
      "metadata": {
        "id": "dP1ZiDzEPV5c"
      },
      "source": [
        "> We still have 40 features in the dataset, 37 of which represent the 3 categories of obfuscated data. We should look at these variables and select from among them the most relevant ones.\n",
        ">\n",
        "> We will use the VarianceThreshold method and select the features which show the largest variance."
      ]
    },
    {
      "cell_type": "code",
      "metadata": {
        "colab": {
          "base_uri": "https://localhost:8080/",
          "height": 175
        },
        "id": "i9Mh-H4Irtv9",
        "outputId": "08dd3242-c2d4-46af-d94a-71c810608db2"
      },
      "source": [
        "num_vars=new_data.iloc[:, 2:39]\n",
        "num_vars.head(3)"
      ],
      "execution_count": 46,
      "outputs": [
        {
          "output_type": "execute_result",
          "data": {
            "text/html": [
              "<div>\n",
              "<style scoped>\n",
              "    .dataframe tbody tr th:only-of-type {\n",
              "        vertical-align: middle;\n",
              "    }\n",
              "\n",
              "    .dataframe tbody tr th {\n",
              "        vertical-align: top;\n",
              "    }\n",
              "\n",
              "    .dataframe thead th {\n",
              "        text-align: right;\n",
              "    }\n",
              "</style>\n",
              "<table border=\"1\" class=\"dataframe\">\n",
              "  <thead>\n",
              "    <tr style=\"text-align: right;\">\n",
              "      <th></th>\n",
              "      <th>P1</th>\n",
              "      <th>P2</th>\n",
              "      <th>P3</th>\n",
              "      <th>P4</th>\n",
              "      <th>P5</th>\n",
              "      <th>P6</th>\n",
              "      <th>P7</th>\n",
              "      <th>P8</th>\n",
              "      <th>P9</th>\n",
              "      <th>P10</th>\n",
              "      <th>P11</th>\n",
              "      <th>P12</th>\n",
              "      <th>P13</th>\n",
              "      <th>P14</th>\n",
              "      <th>P15</th>\n",
              "      <th>P16</th>\n",
              "      <th>P17</th>\n",
              "      <th>P18</th>\n",
              "      <th>P19</th>\n",
              "      <th>P20</th>\n",
              "      <th>P21</th>\n",
              "      <th>P22</th>\n",
              "      <th>P23</th>\n",
              "      <th>P24</th>\n",
              "      <th>P25</th>\n",
              "      <th>P26</th>\n",
              "      <th>P27</th>\n",
              "      <th>P28</th>\n",
              "      <th>P29</th>\n",
              "      <th>P30</th>\n",
              "      <th>P31</th>\n",
              "      <th>P32</th>\n",
              "      <th>P33</th>\n",
              "      <th>P34</th>\n",
              "      <th>P35</th>\n",
              "      <th>P36</th>\n",
              "      <th>P37</th>\n",
              "    </tr>\n",
              "    <tr>\n",
              "      <th>Id</th>\n",
              "      <th></th>\n",
              "      <th></th>\n",
              "      <th></th>\n",
              "      <th></th>\n",
              "      <th></th>\n",
              "      <th></th>\n",
              "      <th></th>\n",
              "      <th></th>\n",
              "      <th></th>\n",
              "      <th></th>\n",
              "      <th></th>\n",
              "      <th></th>\n",
              "      <th></th>\n",
              "      <th></th>\n",
              "      <th></th>\n",
              "      <th></th>\n",
              "      <th></th>\n",
              "      <th></th>\n",
              "      <th></th>\n",
              "      <th></th>\n",
              "      <th></th>\n",
              "      <th></th>\n",
              "      <th></th>\n",
              "      <th></th>\n",
              "      <th></th>\n",
              "      <th></th>\n",
              "      <th></th>\n",
              "      <th></th>\n",
              "      <th></th>\n",
              "      <th></th>\n",
              "      <th></th>\n",
              "      <th></th>\n",
              "      <th></th>\n",
              "      <th></th>\n",
              "      <th></th>\n",
              "      <th></th>\n",
              "      <th></th>\n",
              "    </tr>\n",
              "  </thead>\n",
              "  <tbody>\n",
              "    <tr>\n",
              "      <th>0</th>\n",
              "      <td>1</td>\n",
              "      <td>4.0</td>\n",
              "      <td>4.0</td>\n",
              "      <td>4.0</td>\n",
              "      <td>1</td>\n",
              "      <td>2</td>\n",
              "      <td>5</td>\n",
              "      <td>4</td>\n",
              "      <td>5</td>\n",
              "      <td>5</td>\n",
              "      <td>5</td>\n",
              "      <td>3</td>\n",
              "      <td>4.0</td>\n",
              "      <td>0</td>\n",
              "      <td>0</td>\n",
              "      <td>0</td>\n",
              "      <td>2</td>\n",
              "      <td>0</td>\n",
              "      <td>5</td>\n",
              "      <td>5</td>\n",
              "      <td>3</td>\n",
              "      <td>1</td>\n",
              "      <td>4</td>\n",
              "      <td>0</td>\n",
              "      <td>0</td>\n",
              "      <td>0.0</td>\n",
              "      <td>0.0</td>\n",
              "      <td>2.0</td>\n",
              "      <td>3.0</td>\n",
              "      <td>0</td>\n",
              "      <td>0</td>\n",
              "      <td>0</td>\n",
              "      <td>0</td>\n",
              "      <td>0</td>\n",
              "      <td>0</td>\n",
              "      <td>0</td>\n",
              "      <td>0</td>\n",
              "    </tr>\n",
              "    <tr>\n",
              "      <th>1</th>\n",
              "      <td>3</td>\n",
              "      <td>4.0</td>\n",
              "      <td>4.0</td>\n",
              "      <td>4.0</td>\n",
              "      <td>2</td>\n",
              "      <td>2</td>\n",
              "      <td>5</td>\n",
              "      <td>3</td>\n",
              "      <td>4</td>\n",
              "      <td>4</td>\n",
              "      <td>2</td>\n",
              "      <td>4</td>\n",
              "      <td>5.0</td>\n",
              "      <td>0</td>\n",
              "      <td>0</td>\n",
              "      <td>0</td>\n",
              "      <td>0</td>\n",
              "      <td>0</td>\n",
              "      <td>5</td>\n",
              "      <td>5</td>\n",
              "      <td>3</td>\n",
              "      <td>2</td>\n",
              "      <td>1</td>\n",
              "      <td>0</td>\n",
              "      <td>0</td>\n",
              "      <td>0.0</td>\n",
              "      <td>0.0</td>\n",
              "      <td>1.0</td>\n",
              "      <td>3.0</td>\n",
              "      <td>0</td>\n",
              "      <td>0</td>\n",
              "      <td>0</td>\n",
              "      <td>0</td>\n",
              "      <td>0</td>\n",
              "      <td>0</td>\n",
              "      <td>0</td>\n",
              "      <td>0</td>\n",
              "    </tr>\n",
              "    <tr>\n",
              "      <th>2</th>\n",
              "      <td>3</td>\n",
              "      <td>4.0</td>\n",
              "      <td>4.0</td>\n",
              "      <td>4.0</td>\n",
              "      <td>2</td>\n",
              "      <td>2</td>\n",
              "      <td>5</td>\n",
              "      <td>4</td>\n",
              "      <td>4</td>\n",
              "      <td>5</td>\n",
              "      <td>4</td>\n",
              "      <td>5</td>\n",
              "      <td>5.0</td>\n",
              "      <td>0</td>\n",
              "      <td>0</td>\n",
              "      <td>0</td>\n",
              "      <td>0</td>\n",
              "      <td>0</td>\n",
              "      <td>5</td>\n",
              "      <td>5</td>\n",
              "      <td>5</td>\n",
              "      <td>5</td>\n",
              "      <td>5</td>\n",
              "      <td>0</td>\n",
              "      <td>0</td>\n",
              "      <td>0.0</td>\n",
              "      <td>0.0</td>\n",
              "      <td>2.0</td>\n",
              "      <td>3.0</td>\n",
              "      <td>0</td>\n",
              "      <td>0</td>\n",
              "      <td>0</td>\n",
              "      <td>0</td>\n",
              "      <td>0</td>\n",
              "      <td>0</td>\n",
              "      <td>0</td>\n",
              "      <td>0</td>\n",
              "    </tr>\n",
              "  </tbody>\n",
              "</table>\n",
              "</div>"
            ],
            "text/plain": [
              "    P1   P2   P3   P4  P5  P6  P7  P8  ...  P30  P31  P32  P33  P34  P35  P36  P37\n",
              "Id                                     ...                                        \n",
              "0    1  4.0  4.0  4.0   1   2   5   4  ...    0    0    0    0    0    0    0    0\n",
              "1    3  4.0  4.0  4.0   2   2   5   3  ...    0    0    0    0    0    0    0    0\n",
              "2    3  4.0  4.0  4.0   2   2   5   4  ...    0    0    0    0    0    0    0    0\n",
              "\n",
              "[3 rows x 37 columns]"
            ]
          },
          "metadata": {
            "tags": []
          },
          "execution_count": 46
        }
      ]
    },
    {
      "cell_type": "code",
      "metadata": {
        "colab": {
          "base_uri": "https://localhost:8080/",
          "height": 341
        },
        "id": "ra7CgaSDwC7K",
        "outputId": "049378f6-daae-4f8a-c445-3786398671a2"
      },
      "source": [
        "# creating a VarianceThreshold object with threshold=0\n",
        "var_thresh = VarianceThreshold(threshold=0)\n",
        "\n",
        "# standardizing the data\n",
        "std_num_vars = MinMaxScaler().fit_transform(num_vars)\n",
        "\n",
        "# fitting the object to the standardized dataset\n",
        "var_thresh.fit(std_num_vars)\n",
        "\n",
        "# creating a dataframe containing the variances for all the features in the dataset\n",
        "df_var=pd.DataFrame(var_thresh.variances_, columns=['Variance'])\\\n",
        "                .sort_values(by='Variance', ascending=False)\n",
        "# plotting the variances in df_var\n",
        "# we need to reset the index for the plot to make sense\n",
        "plt.figure(figsize=(10, 5))\n",
        "plt.plot(df_var.reset_index(drop=True))\n",
        "plt.grid(True)\n",
        "plt.hlines(y=0.05, xmin=0, xmax=len(df_var), linestyles='--', colors='red')\n",
        "plt.xlabel('Features')\n",
        "plt.xticks(range(0, len(df_var)))\n",
        "plt.ylabel('Variance')\n",
        "plt.yticks(np.arange(0, 0.13, 0.01))\n",
        "plt.legend('')\n",
        "plt.show()"
      ],
      "execution_count": 47,
      "outputs": [
        {
          "output_type": "display_data",
          "data": {
            "image/png": "[encoded data removed]",
            "text/plain": [
              "<Figure size 720x360 with 1 Axes>"
            ]
          },
          "metadata": {
            "tags": []
          }
        }
      ]
    },
    {
      "cell_type": "markdown",
      "metadata": {
        "id": "0HLP268XRwTX"
      },
      "source": [
        "> The variance seems to stabilize below 0.05 so we will only choose the features which have variance higher than 0.05."
      ]
    },
    {
      "cell_type": "code",
      "metadata": {
        "colab": {
          "base_uri": "https://localhost:8080/",
          "height": 300
        },
        "id": "PvN0WKb3wuYv",
        "outputId": "83424a71-5702-479f-a615-0d5f4b77a96e"
      },
      "source": [
        "df_var[df_var['Variance']>0.05]"
      ],
      "execution_count": 48,
      "outputs": [
        {
          "output_type": "execute_result",
          "data": {
            "text/html": [
              "<div>\n",
              "<style scoped>\n",
              "    .dataframe tbody tr th:only-of-type {\n",
              "        vertical-align: middle;\n",
              "    }\n",
              "\n",
              "    .dataframe tbody tr th {\n",
              "        vertical-align: top;\n",
              "    }\n",
              "\n",
              "    .dataframe thead th {\n",
              "        text-align: right;\n",
              "    }\n",
              "</style>\n",
              "<table border=\"1\" class=\"dataframe\">\n",
              "  <thead>\n",
              "    <tr style=\"text-align: right;\">\n",
              "      <th></th>\n",
              "      <th>Variance</th>\n",
              "    </tr>\n",
              "  </thead>\n",
              "  <tbody>\n",
              "    <tr>\n",
              "      <th>21</th>\n",
              "      <td>0.116141</td>\n",
              "    </tr>\n",
              "    <tr>\n",
              "      <th>9</th>\n",
              "      <td>0.086396</td>\n",
              "    </tr>\n",
              "    <tr>\n",
              "      <th>8</th>\n",
              "      <td>0.080526</td>\n",
              "    </tr>\n",
              "    <tr>\n",
              "      <th>19</th>\n",
              "      <td>0.066579</td>\n",
              "    </tr>\n",
              "    <tr>\n",
              "      <th>32</th>\n",
              "      <td>0.065434</td>\n",
              "    </tr>\n",
              "    <tr>\n",
              "      <th>6</th>\n",
              "      <td>0.058595</td>\n",
              "    </tr>\n",
              "    <tr>\n",
              "      <th>18</th>\n",
              "      <td>0.058111</td>\n",
              "    </tr>\n",
              "    <tr>\n",
              "      <th>10</th>\n",
              "      <td>0.052803</td>\n",
              "    </tr>\n",
              "  </tbody>\n",
              "</table>\n",
              "</div>"
            ],
            "text/plain": [
              "    Variance\n",
              "21  0.116141\n",
              "9   0.086396\n",
              "8   0.080526\n",
              "19  0.066579\n",
              "32  0.065434\n",
              "6   0.058595\n",
              "18  0.058111\n",
              "10  0.052803"
            ]
          },
          "metadata": {
            "tags": []
          },
          "execution_count": 48
        }
      ]
    },
    {
      "cell_type": "code",
      "metadata": {
        "colab": {
          "base_uri": "https://localhost:8080/",
          "height": 175
        },
        "id": "PwhFOky5xh6o",
        "outputId": "d25998a4-a512-4c8c-c7ad-c735cf3e9759"
      },
      "source": [
        "int_vars=list(df_var[df_var['Variance']>0.05].index)\n",
        "high_var=num_vars.iloc[:, int_vars]\n",
        "high_var.head(3)"
      ],
      "execution_count": 49,
      "outputs": [
        {
          "output_type": "execute_result",
          "data": {
            "text/html": [
              "<div>\n",
              "<style scoped>\n",
              "    .dataframe tbody tr th:only-of-type {\n",
              "        vertical-align: middle;\n",
              "    }\n",
              "\n",
              "    .dataframe tbody tr th {\n",
              "        vertical-align: top;\n",
              "    }\n",
              "\n",
              "    .dataframe thead th {\n",
              "        text-align: right;\n",
              "    }\n",
              "</style>\n",
              "<table border=\"1\" class=\"dataframe\">\n",
              "  <thead>\n",
              "    <tr style=\"text-align: right;\">\n",
              "      <th></th>\n",
              "      <th>P22</th>\n",
              "      <th>P10</th>\n",
              "      <th>P9</th>\n",
              "      <th>P20</th>\n",
              "      <th>P33</th>\n",
              "      <th>P7</th>\n",
              "      <th>P19</th>\n",
              "      <th>P11</th>\n",
              "    </tr>\n",
              "    <tr>\n",
              "      <th>Id</th>\n",
              "      <th></th>\n",
              "      <th></th>\n",
              "      <th></th>\n",
              "      <th></th>\n",
              "      <th></th>\n",
              "      <th></th>\n",
              "      <th></th>\n",
              "      <th></th>\n",
              "    </tr>\n",
              "  </thead>\n",
              "  <tbody>\n",
              "    <tr>\n",
              "      <th>0</th>\n",
              "      <td>1</td>\n",
              "      <td>5</td>\n",
              "      <td>5</td>\n",
              "      <td>5</td>\n",
              "      <td>0</td>\n",
              "      <td>5</td>\n",
              "      <td>5</td>\n",
              "      <td>5</td>\n",
              "    </tr>\n",
              "    <tr>\n",
              "      <th>1</th>\n",
              "      <td>2</td>\n",
              "      <td>4</td>\n",
              "      <td>4</td>\n",
              "      <td>5</td>\n",
              "      <td>0</td>\n",
              "      <td>5</td>\n",
              "      <td>5</td>\n",
              "      <td>2</td>\n",
              "    </tr>\n",
              "    <tr>\n",
              "      <th>2</th>\n",
              "      <td>5</td>\n",
              "      <td>5</td>\n",
              "      <td>4</td>\n",
              "      <td>5</td>\n",
              "      <td>0</td>\n",
              "      <td>5</td>\n",
              "      <td>5</td>\n",
              "      <td>4</td>\n",
              "    </tr>\n",
              "  </tbody>\n",
              "</table>\n",
              "</div>"
            ],
            "text/plain": [
              "    P22  P10  P9  P20  P33  P7  P19  P11\n",
              "Id                                      \n",
              "0     1    5   5    5    0   5    5    5\n",
              "1     2    4   4    5    0   5    5    2\n",
              "2     5    5   4    5    0   5    5    4"
            ]
          },
          "metadata": {
            "tags": []
          },
          "execution_count": 49
        }
      ]
    },
    {
      "cell_type": "markdown",
      "metadata": {
        "id": "Or_zhd92SSEd"
      },
      "source": [
        "> From the original 37 features of obfuscated data we are left with only 8, the features with the highest variance among them."
      ]
    },
    {
      "cell_type": "code",
      "metadata": {
        "colab": {
          "base_uri": "https://localhost:8080/",
          "height": 175
        },
        "id": "NfXdSca2ScWU",
        "outputId": "0d272f56-8a5a-47e0-bc26-56b599c7f366"
      },
      "source": [
        "cols_to_keep = ['revenue', 'City Group', 'Type', 'days_since_open'] + list(high_var.columns)\n",
        "new_data = new_data[cols_to_keep]\n",
        "new_data.head(3)"
      ],
      "execution_count": 50,
      "outputs": [
        {
          "output_type": "execute_result",
          "data": {
            "text/html": [
              "<div>\n",
              "<style scoped>\n",
              "    .dataframe tbody tr th:only-of-type {\n",
              "        vertical-align: middle;\n",
              "    }\n",
              "\n",
              "    .dataframe tbody tr th {\n",
              "        vertical-align: top;\n",
              "    }\n",
              "\n",
              "    .dataframe thead th {\n",
              "        text-align: right;\n",
              "    }\n",
              "</style>\n",
              "<table border=\"1\" class=\"dataframe\">\n",
              "  <thead>\n",
              "    <tr style=\"text-align: right;\">\n",
              "      <th></th>\n",
              "      <th>revenue</th>\n",
              "      <th>City Group</th>\n",
              "      <th>Type</th>\n",
              "      <th>days_since_open</th>\n",
              "      <th>P22</th>\n",
              "      <th>P10</th>\n",
              "      <th>P9</th>\n",
              "      <th>P20</th>\n",
              "      <th>P33</th>\n",
              "      <th>P7</th>\n",
              "      <th>P19</th>\n",
              "      <th>P11</th>\n",
              "    </tr>\n",
              "    <tr>\n",
              "      <th>Id</th>\n",
              "      <th></th>\n",
              "      <th></th>\n",
              "      <th></th>\n",
              "      <th></th>\n",
              "      <th></th>\n",
              "      <th></th>\n",
              "      <th></th>\n",
              "      <th></th>\n",
              "      <th></th>\n",
              "      <th></th>\n",
              "      <th></th>\n",
              "      <th></th>\n",
              "    </tr>\n",
              "  </thead>\n",
              "  <tbody>\n",
              "    <tr>\n",
              "      <th>0</th>\n",
              "      <td>10033.0</td>\n",
              "      <td>Other</td>\n",
              "      <td>FC</td>\n",
              "      <td>3773</td>\n",
              "      <td>1</td>\n",
              "      <td>5</td>\n",
              "      <td>5</td>\n",
              "      <td>5</td>\n",
              "      <td>0</td>\n",
              "      <td>5</td>\n",
              "      <td>5</td>\n",
              "      <td>5</td>\n",
              "    </tr>\n",
              "    <tr>\n",
              "      <th>1</th>\n",
              "      <td>9355.0</td>\n",
              "      <td>Other</td>\n",
              "      <td>IL</td>\n",
              "      <td>3718</td>\n",
              "      <td>2</td>\n",
              "      <td>4</td>\n",
              "      <td>4</td>\n",
              "      <td>5</td>\n",
              "      <td>0</td>\n",
              "      <td>5</td>\n",
              "      <td>5</td>\n",
              "      <td>2</td>\n",
              "    </tr>\n",
              "    <tr>\n",
              "      <th>2</th>\n",
              "      <td>11353.0</td>\n",
              "      <td>Big Cities</td>\n",
              "      <td>FC</td>\n",
              "      <td>2761</td>\n",
              "      <td>5</td>\n",
              "      <td>5</td>\n",
              "      <td>4</td>\n",
              "      <td>5</td>\n",
              "      <td>0</td>\n",
              "      <td>5</td>\n",
              "      <td>5</td>\n",
              "      <td>4</td>\n",
              "    </tr>\n",
              "  </tbody>\n",
              "</table>\n",
              "</div>"
            ],
            "text/plain": [
              "    revenue  City Group Type  days_since_open  P22  ...  P20  P33  P7  P19  P11\n",
              "Id                                                  ...                        \n",
              "0   10033.0       Other   FC             3773    1  ...    5    0   5    5    5\n",
              "1    9355.0       Other   IL             3718    2  ...    5    0   5    5    2\n",
              "2   11353.0  Big Cities   FC             2761    5  ...    5    0   5    5    4\n",
              "\n",
              "[3 rows x 12 columns]"
            ]
          },
          "metadata": {
            "tags": []
          },
          "execution_count": 50
        }
      ]
    },
    {
      "cell_type": "markdown",
      "metadata": {
        "id": "1uQl_JyJXIVv"
      },
      "source": [
        "### Encoding categorical features - `City Group` and `Type`"
      ]
    },
    {
      "cell_type": "markdown",
      "metadata": {
        "id": "2IgKtEWSYrlj"
      },
      "source": [
        "> `City Group` and `Type` are categorical features, with strings as values. We need to convert these to a model friendly format. The get_dummies function from pandas performs One-Hot Encoding on a dataset, creating new features for each group in each feature, that represent the presence or absence of that feature in each row."
      ]
    },
    {
      "cell_type": "code",
      "metadata": {
        "colab": {
          "base_uri": "https://localhost:8080/",
          "height": 175
        },
        "id": "Fh6XTObREiMA",
        "outputId": "ff2c632c-930c-4fca-c7ee-25d462e493ce"
      },
      "source": [
        "# using get_dummies function\n",
        "enc_data=pd.get_dummies(new_data, columns=['City Group', 'Type'])\n",
        "\n",
        "# keeping only Big_Cities - Big Cities have value 1, Others have value 0\n",
        "enc_data=enc_data.drop('City Group_Other', axis=1)\n",
        "\n",
        "# renaming Big Cities\n",
        "enc_data=enc_data.rename(columns={'City Group_Big Cities':'Big_Cities'})\n",
        "\n",
        "enc_data.head(3)"
      ],
      "execution_count": 51,
      "outputs": [
        {
          "output_type": "execute_result",
          "data": {
            "text/html": [
              "<div>\n",
              "<style scoped>\n",
              "    .dataframe tbody tr th:only-of-type {\n",
              "        vertical-align: middle;\n",
              "    }\n",
              "\n",
              "    .dataframe tbody tr th {\n",
              "        vertical-align: top;\n",
              "    }\n",
              "\n",
              "    .dataframe thead th {\n",
              "        text-align: right;\n",
              "    }\n",
              "</style>\n",
              "<table border=\"1\" class=\"dataframe\">\n",
              "  <thead>\n",
              "    <tr style=\"text-align: right;\">\n",
              "      <th></th>\n",
              "      <th>revenue</th>\n",
              "      <th>days_since_open</th>\n",
              "      <th>P22</th>\n",
              "      <th>P10</th>\n",
              "      <th>P9</th>\n",
              "      <th>P20</th>\n",
              "      <th>P33</th>\n",
              "      <th>P7</th>\n",
              "      <th>P19</th>\n",
              "      <th>P11</th>\n",
              "      <th>Big_Cities</th>\n",
              "      <th>Type_DT</th>\n",
              "      <th>Type_FC</th>\n",
              "      <th>Type_IL</th>\n",
              "      <th>Type_MB</th>\n",
              "    </tr>\n",
              "    <tr>\n",
              "      <th>Id</th>\n",
              "      <th></th>\n",
              "      <th></th>\n",
              "      <th></th>\n",
              "      <th></th>\n",
              "      <th></th>\n",
              "      <th></th>\n",
              "      <th></th>\n",
              "      <th></th>\n",
              "      <th></th>\n",
              "      <th></th>\n",
              "      <th></th>\n",
              "      <th></th>\n",
              "      <th></th>\n",
              "      <th></th>\n",
              "      <th></th>\n",
              "    </tr>\n",
              "  </thead>\n",
              "  <tbody>\n",
              "    <tr>\n",
              "      <th>0</th>\n",
              "      <td>10033.0</td>\n",
              "      <td>3773</td>\n",
              "      <td>1</td>\n",
              "      <td>5</td>\n",
              "      <td>5</td>\n",
              "      <td>5</td>\n",
              "      <td>0</td>\n",
              "      <td>5</td>\n",
              "      <td>5</td>\n",
              "      <td>5</td>\n",
              "      <td>0</td>\n",
              "      <td>0</td>\n",
              "      <td>1</td>\n",
              "      <td>0</td>\n",
              "      <td>0</td>\n",
              "    </tr>\n",
              "    <tr>\n",
              "      <th>1</th>\n",
              "      <td>9355.0</td>\n",
              "      <td>3718</td>\n",
              "      <td>2</td>\n",
              "      <td>4</td>\n",
              "      <td>4</td>\n",
              "      <td>5</td>\n",
              "      <td>0</td>\n",
              "      <td>5</td>\n",
              "      <td>5</td>\n",
              "      <td>2</td>\n",
              "      <td>0</td>\n",
              "      <td>0</td>\n",
              "      <td>0</td>\n",
              "      <td>1</td>\n",
              "      <td>0</td>\n",
              "    </tr>\n",
              "    <tr>\n",
              "      <th>2</th>\n",
              "      <td>11353.0</td>\n",
              "      <td>2761</td>\n",
              "      <td>5</td>\n",
              "      <td>5</td>\n",
              "      <td>4</td>\n",
              "      <td>5</td>\n",
              "      <td>0</td>\n",
              "      <td>5</td>\n",
              "      <td>5</td>\n",
              "      <td>4</td>\n",
              "      <td>1</td>\n",
              "      <td>0</td>\n",
              "      <td>1</td>\n",
              "      <td>0</td>\n",
              "      <td>0</td>\n",
              "    </tr>\n",
              "  </tbody>\n",
              "</table>\n",
              "</div>"
            ],
            "text/plain": [
              "    revenue  days_since_open  P22  P10  ...  Type_DT  Type_FC  Type_IL  Type_MB\n",
              "Id                                      ...                                    \n",
              "0   10033.0             3773    1    5  ...        0        1        0        0\n",
              "1    9355.0             3718    2    4  ...        0        0        1        0\n",
              "2   11353.0             2761    5    5  ...        0        1        0        0\n",
              "\n",
              "[3 rows x 15 columns]"
            ]
          },
          "metadata": {
            "tags": []
          },
          "execution_count": 51
        }
      ]
    },
    {
      "cell_type": "markdown",
      "metadata": {
        "id": "2Kc8kuL7WX3t"
      },
      "source": [
        "### Creating classification target - `RevenueCategory`"
      ]
    },
    {
      "cell_type": "code",
      "metadata": {
        "colab": {
          "base_uri": "https://localhost:8080/",
          "height": 175
        },
        "id": "-JYkwzfRmclt",
        "outputId": "9e4b0082-8515-4ae8-c5a4-9df683dad6e0"
      },
      "source": [
        "# creating new feature according to the project info\n",
        "rev_category=[]\n",
        "for val in data.revenue:\n",
        "  if val < 12000:\n",
        "    rev_category.append(\"<12K\")\n",
        "  elif val > 12000 and val < 20000:\n",
        "    rev_category.append(\"12K-20K\")\n",
        "  else:\n",
        "    rev_category.append(\">20K\")\n",
        "\n",
        "enc_data.insert(1, 'RevenueCategory', rev_category)\n",
        "enc_data.head(3)"
      ],
      "execution_count": 52,
      "outputs": [
        {
          "output_type": "execute_result",
          "data": {
            "text/html": [
              "<div>\n",
              "<style scoped>\n",
              "    .dataframe tbody tr th:only-of-type {\n",
              "        vertical-align: middle;\n",
              "    }\n",
              "\n",
              "    .dataframe tbody tr th {\n",
              "        vertical-align: top;\n",
              "    }\n",
              "\n",
              "    .dataframe thead th {\n",
              "        text-align: right;\n",
              "    }\n",
              "</style>\n",
              "<table border=\"1\" class=\"dataframe\">\n",
              "  <thead>\n",
              "    <tr style=\"text-align: right;\">\n",
              "      <th></th>\n",
              "      <th>revenue</th>\n",
              "      <th>RevenueCategory</th>\n",
              "      <th>days_since_open</th>\n",
              "      <th>P22</th>\n",
              "      <th>P10</th>\n",
              "      <th>P9</th>\n",
              "      <th>P20</th>\n",
              "      <th>P33</th>\n",
              "      <th>P7</th>\n",
              "      <th>P19</th>\n",
              "      <th>P11</th>\n",
              "      <th>Big_Cities</th>\n",
              "      <th>Type_DT</th>\n",
              "      <th>Type_FC</th>\n",
              "      <th>Type_IL</th>\n",
              "      <th>Type_MB</th>\n",
              "    </tr>\n",
              "    <tr>\n",
              "      <th>Id</th>\n",
              "      <th></th>\n",
              "      <th></th>\n",
              "      <th></th>\n",
              "      <th></th>\n",
              "      <th></th>\n",
              "      <th></th>\n",
              "      <th></th>\n",
              "      <th></th>\n",
              "      <th></th>\n",
              "      <th></th>\n",
              "      <th></th>\n",
              "      <th></th>\n",
              "      <th></th>\n",
              "      <th></th>\n",
              "      <th></th>\n",
              "      <th></th>\n",
              "    </tr>\n",
              "  </thead>\n",
              "  <tbody>\n",
              "    <tr>\n",
              "      <th>0</th>\n",
              "      <td>10033.0</td>\n",
              "      <td>&lt;12K</td>\n",
              "      <td>3773</td>\n",
              "      <td>1</td>\n",
              "      <td>5</td>\n",
              "      <td>5</td>\n",
              "      <td>5</td>\n",
              "      <td>0</td>\n",
              "      <td>5</td>\n",
              "      <td>5</td>\n",
              "      <td>5</td>\n",
              "      <td>0</td>\n",
              "      <td>0</td>\n",
              "      <td>1</td>\n",
              "      <td>0</td>\n",
              "      <td>0</td>\n",
              "    </tr>\n",
              "    <tr>\n",
              "      <th>1</th>\n",
              "      <td>9355.0</td>\n",
              "      <td>&lt;12K</td>\n",
              "      <td>3718</td>\n",
              "      <td>2</td>\n",
              "      <td>4</td>\n",
              "      <td>4</td>\n",
              "      <td>5</td>\n",
              "      <td>0</td>\n",
              "      <td>5</td>\n",
              "      <td>5</td>\n",
              "      <td>2</td>\n",
              "      <td>0</td>\n",
              "      <td>0</td>\n",
              "      <td>0</td>\n",
              "      <td>1</td>\n",
              "      <td>0</td>\n",
              "    </tr>\n",
              "    <tr>\n",
              "      <th>2</th>\n",
              "      <td>11353.0</td>\n",
              "      <td>&lt;12K</td>\n",
              "      <td>2761</td>\n",
              "      <td>5</td>\n",
              "      <td>5</td>\n",
              "      <td>4</td>\n",
              "      <td>5</td>\n",
              "      <td>0</td>\n",
              "      <td>5</td>\n",
              "      <td>5</td>\n",
              "      <td>4</td>\n",
              "      <td>1</td>\n",
              "      <td>0</td>\n",
              "      <td>1</td>\n",
              "      <td>0</td>\n",
              "      <td>0</td>\n",
              "    </tr>\n",
              "  </tbody>\n",
              "</table>\n",
              "</div>"
            ],
            "text/plain": [
              "    revenue RevenueCategory  days_since_open  ...  Type_FC  Type_IL  Type_MB\n",
              "Id                                            ...                           \n",
              "0   10033.0            <12K             3773  ...        1        0        0\n",
              "1    9355.0            <12K             3718  ...        0        1        0\n",
              "2   11353.0            <12K             2761  ...        1        0        0\n",
              "\n",
              "[3 rows x 16 columns]"
            ]
          },
          "metadata": {
            "tags": []
          },
          "execution_count": 52
        }
      ]
    },
    {
      "cell_type": "code",
      "metadata": {
        "colab": {
          "base_uri": "https://localhost:8080/"
        },
        "id": "t6-QuN-Lofs4",
        "outputId": "023f402f-7f6a-41e4-9f85-2fdde77ed986"
      },
      "source": [
        "# checking class balance\n",
        "enc_data.RevenueCategory.value_counts()"
      ],
      "execution_count": 53,
      "outputs": [
        {
          "output_type": "execute_result",
          "data": {
            "text/plain": [
              "12K-20K    43926\n",
              "<12K       43401\n",
              ">20K       12673\n",
              "Name: RevenueCategory, dtype: int64"
            ]
          },
          "metadata": {
            "tags": []
          },
          "execution_count": 53
        }
      ]
    },
    {
      "cell_type": "markdown",
      "metadata": {
        "id": "3rf7w9gmo7fv"
      },
      "source": [
        "> The class of >20K revenue has a much lower count than the rest. We will need to upsample the number of observations in this category to the number of observations of the remaining classes, as to avoid classification metrics' bias.\n",
        ">\n",
        "> We will need to create 30000 new observations for this class to match the number of elements in each of the other 2, using sklearn's resample function.\n",
        ">\n",
        "> Before we upsample, we will have to separate the dataset into 2, one for each task, as to not influence the values for the target variable `revenue` when we upsample the >20K category entries."
      ]
    },
    {
      "cell_type": "code",
      "metadata": {
        "colab": {
          "base_uri": "https://localhost:8080/"
        },
        "id": "fFNbachge5bM",
        "outputId": "2fe62d89-878f-4a6c-ec43-222b9924f31a"
      },
      "source": [
        "# separating minority and majority classes\n",
        "df_min = enc_data[enc_data['RevenueCategory']=='>20K']\n",
        "df_major = enc_data[enc_data['RevenueCategory']!='>20K']\n",
        "\n",
        "# upsampling\n",
        "df_min_upsample = resample(df_min,\n",
        "                           replace=True,\n",
        "                           n_samples=43000,\n",
        "                           random_state=0)\n",
        "\n",
        "# creating class_data, the dataset for the classification task\n",
        "class_data=pd.concat([df_major, df_min_upsample])\n",
        "class_data=class_data.drop('revenue', axis=1)\n",
        "\n",
        "class_data.RevenueCategory.value_counts()"
      ],
      "execution_count": 54,
      "outputs": [
        {
          "output_type": "execute_result",
          "data": {
            "text/plain": [
              "12K-20K    43926\n",
              "<12K       43401\n",
              ">20K       43000\n",
              "Name: RevenueCategory, dtype: int64"
            ]
          },
          "metadata": {
            "tags": []
          },
          "execution_count": 54
        }
      ]
    },
    {
      "cell_type": "markdown",
      "metadata": {
        "id": "oRNFKqU1gUZO"
      },
      "source": [
        "> While this choice fixes the imbalance issue, it can cause problems when it comes to overfitting, as we are introducing in the dataset more of the same data. We will have to take this into consideration when looking at the models' metrics."
      ]
    },
    {
      "cell_type": "code",
      "metadata": {
        "colab": {
          "base_uri": "https://localhost:8080/",
          "height": 212
        },
        "id": "ubC8ik2BhjAI",
        "outputId": "db743702-84df-4cdd-d3d1-d7f31cc69a48"
      },
      "source": [
        "print('There are', str(class_data.shape[0]), 'rows and', str(class_data.shape[1]-1), 'features in the classification dataset.\\n')\n",
        "class_data.head(3)"
      ],
      "execution_count": 55,
      "outputs": [
        {
          "output_type": "stream",
          "text": [
            "There are 130327 rows and 14 features in the classification dataset.\n",
            "\n"
          ],
          "name": "stdout"
        },
        {
          "output_type": "execute_result",
          "data": {
            "text/html": [
              "<div>\n",
              "<style scoped>\n",
              "    .dataframe tbody tr th:only-of-type {\n",
              "        vertical-align: middle;\n",
              "    }\n",
              "\n",
              "    .dataframe tbody tr th {\n",
              "        vertical-align: top;\n",
              "    }\n",
              "\n",
              "    .dataframe thead th {\n",
              "        text-align: right;\n",
              "    }\n",
              "</style>\n",
              "<table border=\"1\" class=\"dataframe\">\n",
              "  <thead>\n",
              "    <tr style=\"text-align: right;\">\n",
              "      <th></th>\n",
              "      <th>RevenueCategory</th>\n",
              "      <th>days_since_open</th>\n",
              "      <th>P22</th>\n",
              "      <th>P10</th>\n",
              "      <th>P9</th>\n",
              "      <th>P20</th>\n",
              "      <th>P33</th>\n",
              "      <th>P7</th>\n",
              "      <th>P19</th>\n",
              "      <th>P11</th>\n",
              "      <th>Big_Cities</th>\n",
              "      <th>Type_DT</th>\n",
              "      <th>Type_FC</th>\n",
              "      <th>Type_IL</th>\n",
              "      <th>Type_MB</th>\n",
              "    </tr>\n",
              "    <tr>\n",
              "      <th>Id</th>\n",
              "      <th></th>\n",
              "      <th></th>\n",
              "      <th></th>\n",
              "      <th></th>\n",
              "      <th></th>\n",
              "      <th></th>\n",
              "      <th></th>\n",
              "      <th></th>\n",
              "      <th></th>\n",
              "      <th></th>\n",
              "      <th></th>\n",
              "      <th></th>\n",
              "      <th></th>\n",
              "      <th></th>\n",
              "      <th></th>\n",
              "    </tr>\n",
              "  </thead>\n",
              "  <tbody>\n",
              "    <tr>\n",
              "      <th>0</th>\n",
              "      <td>&lt;12K</td>\n",
              "      <td>3773</td>\n",
              "      <td>1</td>\n",
              "      <td>5</td>\n",
              "      <td>5</td>\n",
              "      <td>5</td>\n",
              "      <td>0</td>\n",
              "      <td>5</td>\n",
              "      <td>5</td>\n",
              "      <td>5</td>\n",
              "      <td>0</td>\n",
              "      <td>0</td>\n",
              "      <td>1</td>\n",
              "      <td>0</td>\n",
              "      <td>0</td>\n",
              "    </tr>\n",
              "    <tr>\n",
              "      <th>1</th>\n",
              "      <td>&lt;12K</td>\n",
              "      <td>3718</td>\n",
              "      <td>2</td>\n",
              "      <td>4</td>\n",
              "      <td>4</td>\n",
              "      <td>5</td>\n",
              "      <td>0</td>\n",
              "      <td>5</td>\n",
              "      <td>5</td>\n",
              "      <td>2</td>\n",
              "      <td>0</td>\n",
              "      <td>0</td>\n",
              "      <td>0</td>\n",
              "      <td>1</td>\n",
              "      <td>0</td>\n",
              "    </tr>\n",
              "    <tr>\n",
              "      <th>2</th>\n",
              "      <td>&lt;12K</td>\n",
              "      <td>2761</td>\n",
              "      <td>5</td>\n",
              "      <td>5</td>\n",
              "      <td>4</td>\n",
              "      <td>5</td>\n",
              "      <td>0</td>\n",
              "      <td>5</td>\n",
              "      <td>5</td>\n",
              "      <td>4</td>\n",
              "      <td>1</td>\n",
              "      <td>0</td>\n",
              "      <td>1</td>\n",
              "      <td>0</td>\n",
              "      <td>0</td>\n",
              "    </tr>\n",
              "  </tbody>\n",
              "</table>\n",
              "</div>"
            ],
            "text/plain": [
              "   RevenueCategory  days_since_open  P22  ...  Type_FC  Type_IL  Type_MB\n",
              "Id                                        ...                           \n",
              "0             <12K             3773    1  ...        1        0        0\n",
              "1             <12K             3718    2  ...        0        1        0\n",
              "2             <12K             2761    5  ...        1        0        0\n",
              "\n",
              "[3 rows x 15 columns]"
            ]
          },
          "metadata": {
            "tags": []
          },
          "execution_count": 55
        }
      ]
    },
    {
      "cell_type": "code",
      "metadata": {
        "colab": {
          "base_uri": "https://localhost:8080/",
          "height": 212
        },
        "id": "d_q2MVVWi7YI",
        "outputId": "480a8b16-a7e2-439e-b7f0-b37dc93090ab"
      },
      "source": [
        "# creating reg_data, the dataset for the regression task\n",
        "reg_data=enc_data.drop('RevenueCategory', axis=1)\n",
        "\n",
        "print('There are', str(reg_data.shape[0]), 'rows and', str(reg_data.shape[1]-1), 'features in the regression dataset.\\n')\n",
        "reg_data.head(3)"
      ],
      "execution_count": 56,
      "outputs": [
        {
          "output_type": "stream",
          "text": [
            "There are 100000 rows and 14 features in the regression dataset.\n",
            "\n"
          ],
          "name": "stdout"
        },
        {
          "output_type": "execute_result",
          "data": {
            "text/html": [
              "<div>\n",
              "<style scoped>\n",
              "    .dataframe tbody tr th:only-of-type {\n",
              "        vertical-align: middle;\n",
              "    }\n",
              "\n",
              "    .dataframe tbody tr th {\n",
              "        vertical-align: top;\n",
              "    }\n",
              "\n",
              "    .dataframe thead th {\n",
              "        text-align: right;\n",
              "    }\n",
              "</style>\n",
              "<table border=\"1\" class=\"dataframe\">\n",
              "  <thead>\n",
              "    <tr style=\"text-align: right;\">\n",
              "      <th></th>\n",
              "      <th>revenue</th>\n",
              "      <th>days_since_open</th>\n",
              "      <th>P22</th>\n",
              "      <th>P10</th>\n",
              "      <th>P9</th>\n",
              "      <th>P20</th>\n",
              "      <th>P33</th>\n",
              "      <th>P7</th>\n",
              "      <th>P19</th>\n",
              "      <th>P11</th>\n",
              "      <th>Big_Cities</th>\n",
              "      <th>Type_DT</th>\n",
              "      <th>Type_FC</th>\n",
              "      <th>Type_IL</th>\n",
              "      <th>Type_MB</th>\n",
              "    </tr>\n",
              "    <tr>\n",
              "      <th>Id</th>\n",
              "      <th></th>\n",
              "      <th></th>\n",
              "      <th></th>\n",
              "      <th></th>\n",
              "      <th></th>\n",
              "      <th></th>\n",
              "      <th></th>\n",
              "      <th></th>\n",
              "      <th></th>\n",
              "      <th></th>\n",
              "      <th></th>\n",
              "      <th></th>\n",
              "      <th></th>\n",
              "      <th></th>\n",
              "      <th></th>\n",
              "    </tr>\n",
              "  </thead>\n",
              "  <tbody>\n",
              "    <tr>\n",
              "      <th>0</th>\n",
              "      <td>10033.0</td>\n",
              "      <td>3773</td>\n",
              "      <td>1</td>\n",
              "      <td>5</td>\n",
              "      <td>5</td>\n",
              "      <td>5</td>\n",
              "      <td>0</td>\n",
              "      <td>5</td>\n",
              "      <td>5</td>\n",
              "      <td>5</td>\n",
              "      <td>0</td>\n",
              "      <td>0</td>\n",
              "      <td>1</td>\n",
              "      <td>0</td>\n",
              "      <td>0</td>\n",
              "    </tr>\n",
              "    <tr>\n",
              "      <th>1</th>\n",
              "      <td>9355.0</td>\n",
              "      <td>3718</td>\n",
              "      <td>2</td>\n",
              "      <td>4</td>\n",
              "      <td>4</td>\n",
              "      <td>5</td>\n",
              "      <td>0</td>\n",
              "      <td>5</td>\n",
              "      <td>5</td>\n",
              "      <td>2</td>\n",
              "      <td>0</td>\n",
              "      <td>0</td>\n",
              "      <td>0</td>\n",
              "      <td>1</td>\n",
              "      <td>0</td>\n",
              "    </tr>\n",
              "    <tr>\n",
              "      <th>2</th>\n",
              "      <td>11353.0</td>\n",
              "      <td>2761</td>\n",
              "      <td>5</td>\n",
              "      <td>5</td>\n",
              "      <td>4</td>\n",
              "      <td>5</td>\n",
              "      <td>0</td>\n",
              "      <td>5</td>\n",
              "      <td>5</td>\n",
              "      <td>4</td>\n",
              "      <td>1</td>\n",
              "      <td>0</td>\n",
              "      <td>1</td>\n",
              "      <td>0</td>\n",
              "      <td>0</td>\n",
              "    </tr>\n",
              "  </tbody>\n",
              "</table>\n",
              "</div>"
            ],
            "text/plain": [
              "    revenue  days_since_open  P22  P10  ...  Type_DT  Type_FC  Type_IL  Type_MB\n",
              "Id                                      ...                                    \n",
              "0   10033.0             3773    1    5  ...        0        1        0        0\n",
              "1    9355.0             3718    2    4  ...        0        0        1        0\n",
              "2   11353.0             2761    5    5  ...        0        1        0        0\n",
              "\n",
              "[3 rows x 15 columns]"
            ]
          },
          "metadata": {
            "tags": []
          },
          "execution_count": 56
        }
      ]
    },
    {
      "cell_type": "markdown",
      "metadata": {
        "id": "a-4gf3bqhfhb"
      },
      "source": [
        "> This concludes the preprocessing part of the project. We are left with one dataset for each of the classification and regression tasks, containing over 100 thousand entries and 14 features. There are 2 target variables: `revenue` for the regression task and `RevenueCategory` for the classification task."
      ]
    },
    {
      "cell_type": "markdown",
      "metadata": {
        "id": "7RqwyRFKk-pe"
      },
      "source": [
        "## 2. Learning Simple Classifiers\n",
        "\n",
        "* Choose **`X` classifiers** (https://scikit-learn.org/stable/supervised_learning.html#supervised-learning).\n",
        "* Use **grid-search and stratified 10 fold cross-validation** to estimate the best parameters (https://scikit-learn.org/stable/model_selection.html#model-selection). \n",
        "* Present mean and standard deviation of accuracy, precision and recall.\n",
        "* Show confusion matrices."
      ]
    },
    {
      "cell_type": "code",
      "metadata": {
        "id": "IwqVLQOWzx5y"
      },
      "source": [
        "#splitting the data\n",
        "# define target variable revenue\n",
        "y=class_data['RevenueCategory']\n",
        "# split numerical data\n",
        "class_datax = class_data.iloc[:, 1:] \n",
        "X_train, X_test, y_train, y_test = train_test_split(class_datax, y, test_size=0.3, random_state=0)\n",
        "X_train.shape\n",
        "\n",
        "from sklearn.preprocessing import MinMaxScaler, StandardScaler\n",
        "# standardizing the data\n",
        "scaler=StandardScaler()\n",
        "X_train_scaled = scaler.fit_transform(X_train)\n",
        "X_test_scaled = scaler.transform(X_test)"
      ],
      "execution_count": 95,
      "outputs": []
    },
    {
      "cell_type": "code",
      "metadata": {
        "id": "Mkcf_cAUk-pe",
        "colab": {
          "base_uri": "https://localhost:8080/"
        },
        "outputId": "57c60693-8874-4ea9-cb53-3cc4b524e545"
      },
      "source": [
        "from sklearn import tree\n",
        "#Scikit-learn uses an optimised version of the CART algorithm (Breiman, Friedman, Olshen, Stone, 1986). \n",
        "#CART (Classification and Regression Trees) uses the Gini Index as attribute selection measure; \n",
        "#allows binary and multiclass classification together with regression; and learns binary trees.\n",
        "\n",
        "#The parameter criterion defines the function to measure the quality of a split. \n",
        "#Supported criteria are “gini” for the Gini Index and “entropy” for the Information Gain. Gini is the default.\n",
        "#Learning a decision tree using CART and the Gini index as impurity criteria (default)\n",
        "\n",
        "dtc_Gini = tree.DecisionTreeClassifier() # criterion = \"Gini\"\n",
        "dtc_Gini = dtc_Gini.fit(X_train_scaled, y_train)\n",
        "print(\"Accuracy on training set:\",  dtc_Gini.score(X_train_scaled, y_train))"
      ],
      "execution_count": 96,
      "outputs": [
        {
          "output_type": "stream",
          "text": [
            "Accuracy on training set: 0.9806967159205507\n"
          ],
          "name": "stdout"
        }
      ]
    },
    {
      "cell_type": "code",
      "metadata": {
        "colab": {
          "base_uri": "https://localhost:8080/"
        },
        "id": "wpDlDKJI11XW",
        "outputId": "c6c63d1e-89e0-4d82-a978-2e4205dcdc33"
      },
      "source": [
        "\n",
        "\n",
        "y_test_pred = dtc_Gini.predict(X_test_scaled)\n",
        "y_test_pred\n",
        "\n"
      ],
      "execution_count": 98,
      "outputs": [
        {
          "output_type": "execute_result",
          "data": {
            "text/plain": [
              "array(['12K-20K', '>20K', '>20K', ..., '>20K', '>20K', '12K-20K'],\n",
              "      dtype=object)"
            ]
          },
          "metadata": {
            "tags": []
          },
          "execution_count": 98
        }
      ]
    },
    {
      "cell_type": "code",
      "metadata": {
        "colab": {
          "base_uri": "https://localhost:8080/"
        },
        "id": "RjN5lyLM4PfN",
        "outputId": "7e8fae81-5f81-4fde-f56b-2bc36b8de151"
      },
      "source": [
        "\n",
        "\n",
        "print(\"Accuracy on test set:\",  dtc_Gini.score(X_test_scaled, y_test))\n",
        "\n"
      ],
      "execution_count": 99,
      "outputs": [
        {
          "output_type": "stream",
          "text": [
            "Accuracy on test set: 0.8270799764699864\n"
          ],
          "name": "stdout"
        }
      ]
    },
    {
      "cell_type": "code",
      "metadata": {
        "colab": {
          "base_uri": "https://localhost:8080/",
          "height": 301
        },
        "id": "OnnPpI22WwrE",
        "outputId": "fa428163-03d6-4891-8c0d-08ac96a25d5e"
      },
      "source": [
        "%matplotlib inline\n",
        "import seaborn as sns; sns.set()\n",
        "from sklearn.metrics import confusion_matrix\n",
        "import matplotlib.pyplot as plt\n",
        "\n",
        "cm_test = confusion_matrix(y_test, y_test_pred)\n",
        "\n",
        "sns.heatmap(cm_test.T, square=True, annot=True, fmt='d', cbar=False,\n",
        "            xticklabels= np.unique(y_test),\n",
        "            yticklabels= np.unique(y_test_pred))\n",
        "plt.xlabel('true label')\n",
        "plt.ylabel('predicted label');\n",
        "plt.title('Confusion Matrix DT - Test Set')\n",
        "plt.show()\n"
      ],
      "execution_count": 100,
      "outputs": [
        {
          "output_type": "display_data",
          "data": {
            "image/png": "[encoded data removed]",
            "text/plain": [
              "<Figure size 432x288 with 1 Axes>"
            ]
          },
          "metadata": {
            "tags": []
          }
        }
      ]
    },
    {
      "cell_type": "code",
      "metadata": {
        "colab": {
          "base_uri": "https://localhost:8080/"
        },
        "id": "SMEUvvYw51Ez",
        "outputId": "1fb513bf-d35e-4d6e-b8f2-6c694cb8fb36"
      },
      "source": [
        "from sklearn.model_selection import GridSearchCV\n",
        "tree_para = {'criterion':['gini','entropy'],'max_depth':[4,5,6,7,8,9,10,11,12,15,20,30,40,50,70,90,120,150]}\n",
        "#clf = GridSearchCV(DecisionTreeClassifier(), tree_para, cv=5)\n",
        "\n",
        "\n",
        "#tree_param = {'criterion':['gini','entropy'],'max_depth':[4,5,6,7,8,9,10,11,12,15,20,30,40,50,70,90,120,150]}\n",
        "\n",
        "gs_dtr = GridSearchCV(estimator=tree.DecisionTreeClassifier(), \n",
        "                  param_grid=tree_para, \n",
        "                  #scoring='neg_mean_absolute_error', \n",
        "                  cv=10,\n",
        "                  #n_jobs=-1\n",
        "                  #,\n",
        "                  #verbose=2\n",
        "                  )\n",
        "\n",
        "gs_dtr.fit(X_train_scaled, y_train)\n",
        "print(gs_dtr.best_score_)\n",
        "print(gs_dtr.best_params_)\n",
        "\n",
        "## building DecisionTreeRegressor model with the best parameters from Gridsearch\n",
        "#gs_dtree=DecisionTreeClassifier(criterion='mse',\n",
        "#                               splitter='best',\n",
        "#                               min_samples_split=0.1,\n",
        "#                               max_features='auto',\n",
        "#                               random_state=0)\n",
        "#\n",
        "#gs_dtree.fit(X_train_scaled, y_train)\n",
        "#\n",
        "## predicting X_test values\n",
        "#gs_y_pred = gs_dtree.predict(X_test_scaled)\n",
        "#\n",
        "## calculating mean absolute error of the prediction\n",
        "#mae = mean_absolute_error(y_test, gs_y_pred)\n",
        "#print('MAE:', mae)\n",
        "\n",
        "\n",
        "\n",
        "\n",
        "#from sklearn.metrics import mean_absolute_error\n",
        "#gs_tree=tree.DecisionTreeClassifier()\n",
        "#gs_tree.fit(X_train, y_train)\n",
        "#\n",
        "## predicting X_test values\n",
        "#gs_y_pred = gs_tree.predict(X_test)\n",
        "#print(gs_y_pred)\n",
        "#print(y_test)\n",
        "# calculating mean absolute error of the prediction\n",
        "#mae = mean_absolute_error(y_test, gs_y_pred)\n",
        "#print('MAE:', mae)\n",
        "\n",
        "\n",
        "###from sklearn.model_selection import KFold\n",
        "###kf = KFold(n_splits=3)\n",
        "###kf.get_n_splits(X)\n",
        "###\n",
        "###knn = KNeighborsRegressor(n_neighbors=10)\n",
        "###all_preds=[]\n",
        "###all_truth=[]\n",
        "###for train_index, test_index in kf.split(X):\n",
        "###    #print(\"TRAIN:\", train_index, \"TEST:\", test_index)\n",
        "###    X_train, X_test = X[train_index], X[test_index]\n",
        "###    y_train, y_test = y[train_index], y[test_index]\n",
        "###    \n",
        "###    knn.fit(X_train, y_train)\n",
        "###    preds=knn.predict(X_test)\n",
        "###    \n",
        "###    all_preds+=preds.tolist()\n",
        "###    all_truth+=y_test.tolist()\n",
        "###\n",
        "###    \n",
        "###print(\"\\nTesting results for KNN regressor model\")    \n",
        "###print(\"rmse: %6.3f\" % np.sqrt(mean_squared_error(all_truth, all_preds)))\n",
        "###print(\"R2: %6.3f\" % r2_score(all_truth, all_preds))\n",
        "\n"
      ],
      "execution_count": 94,
      "outputs": [
        {
          "output_type": "stream",
          "text": [
            "0.8358726277909666\n",
            "{'criterion': 'entropy', 'max_depth': 20}\n"
          ],
          "name": "stdout"
        }
      ]
    },
    {
      "cell_type": "code",
      "metadata": {
        "colab": {
          "base_uri": "https://localhost:8080/",
          "height": 356
        },
        "id": "s9LLLY0k4bc8",
        "outputId": "32e9cb74-f224-4e0f-d208-70ccdb15eb66"
      },
      "source": [
        "\n",
        "\n",
        "from sklearn import tree\n",
        " #class sklearn.tree.DecisionTreeClassifier(*, \n",
        "#criterion='gini', splitter='best', max_depth=None, min_samples_split=2, min_samples_leaf=1, min_weight_fraction_leaf=0.0, max_features=None, random_state=None, max_leaf_nodes=None, min_impurity_decrease=0.0, min_impurity_split=None, class_weight=None, ccp_alpha=0.0)[source]¶\n",
        "gs_tree = tree.DecisionTreeClassifier(criterion = 'entropy',max_depth =20)# criterion = \"Gini\"\n",
        "gs_tree = gs_tree.fit(X_train_scaled, y_train)\n",
        "print(\"Accuracy on training set:\",  gs_tree.score(X_train_scaled, y_train))\n",
        "\n",
        "gs_y_test_pred = gs_tree.predict(X_test_scaled)\n",
        "print(gs_y_test_pred)\n",
        "\n",
        "print(\"Accuracy on test set:\",  gs_tree.score(X_test_scaled, y_test))\n",
        "\n",
        "\n",
        "%matplotlib inline\n",
        "import seaborn as sns; sns.set()\n",
        "from sklearn.metrics import confusion_matrix\n",
        "import matplotlib.pyplot as plt\n",
        "\n",
        "cm_test = confusion_matrix(y_test, gs_y_test_pred)\n",
        "\n",
        "sns.heatmap(cm_test.T, square=True, annot=True, fmt='d', cbar=False,\n",
        "            xticklabels= np.unique(y_test),\n",
        "            yticklabels= np.unique(gs_y_test_pred))\n",
        "plt.xlabel('true label')\n",
        "plt.ylabel('predicted label');\n",
        "plt.title('Confusion Matrix DT - Test Set')\n",
        "plt.show()\n"
      ],
      "execution_count": 103,
      "outputs": [
        {
          "output_type": "stream",
          "text": [
            "Accuracy on training set: 0.9311724470557285\n",
            "['12K-20K' '>20K' '>20K' ... '12K-20K' '>20K' '12K-20K']\n",
            "Accuracy on test set: 0.8405074298575411\n"
          ],
          "name": "stdout"
        },
        {
          "output_type": "display_data",
          "data": {
            "image/png": "[encoded data removed]",
            "text/plain": [
              "<Figure size 432x288 with 1 Axes>"
            ]
          },
          "metadata": {
            "tags": []
          }
        }
      ]
    },
    {
      "cell_type": "markdown",
      "metadata": {
        "id": "yJ6fBGMr5ZHD"
      },
      "source": [
        "The classifier predicted accurately 35 436/ 43 008 = 82,4%\n",
        "It had particular difficulty in distinguishing \"<12k\" & \"12k-20k\" labels"
      ]
    },
    {
      "cell_type": "code",
      "metadata": {
        "colab": {
          "base_uri": "https://localhost:8080/"
        },
        "id": "GikTaF0r_ndz",
        "outputId": "155af337-9bc8-4df4-d199-4864f09e0444"
      },
      "source": [
        "#Classifier KNN\n",
        "\n",
        "from sklearn import neighbors\n",
        "\n",
        "knn = neighbors.KNeighborsClassifier(n_neighbors=3)\n",
        "knn = knn.fit(X_train, y_train)\n",
        "print(\"Accuracy on training set:\",  knn.score(X_train, y_train))\n",
        "\n"
      ],
      "execution_count": 62,
      "outputs": [
        {
          "output_type": "stream",
          "text": [
            "Accuracy on training set: 0.897937447749058\n"
          ],
          "name": "stdout"
        }
      ]
    },
    {
      "cell_type": "code",
      "metadata": {
        "colab": {
          "base_uri": "https://localhost:8080/"
        },
        "id": "sYxj11q0sI4x",
        "outputId": "2e2d8a19-7b30-4daa-e24a-d8e84a3354ad"
      },
      "source": [
        "y_test_pred_knn = knn.predict(X_test)\n",
        "y_test_pred_knn\n",
        "\n",
        "\n",
        "\n",
        "print(\"Accuracy on test set:\",  knn.score(X_test, y_test))"
      ],
      "execution_count": 63,
      "outputs": [
        {
          "output_type": "stream",
          "text": [
            "Accuracy on test set: 0.8271019345238095\n"
          ],
          "name": "stdout"
        }
      ]
    },
    {
      "cell_type": "code",
      "metadata": {
        "colab": {
          "base_uri": "https://localhost:8080/",
          "height": 301
        },
        "id": "CE3gJ_jfsME8",
        "outputId": "89c50165-ad4f-4f7f-e514-90d15c61d3b3"
      },
      "source": [
        "m_test = confusion_matrix(y_test, y_test_pred_knn)\n",
        "\n",
        "sns.heatmap(cm_test.T, square=True, annot=True, fmt='d', cbar=False,\n",
        "            xticklabels= np.unique(y_test),\n",
        "            yticklabels= np.unique(y_test_pred_knn))\n",
        "plt.xlabel('true label')\n",
        "plt.ylabel('predicted label');\n",
        "plt.title('Confusion Matrix KNN - Test Set')\n",
        "plt.show()"
      ],
      "execution_count": 64,
      "outputs": [
        {
          "output_type": "display_data",
          "data": {
            "image/png": "[encoded data removed]",
            "text/plain": [
              "<Figure size 432x288 with 1 Axes>"
            ]
          },
          "metadata": {
            "tags": []
          }
        }
      ]
    },
    {
      "cell_type": "code",
      "metadata": {
        "colab": {
          "base_uri": "https://localhost:8080/"
        },
        "id": "r8aMxnNLxy6Q",
        "outputId": "abbafb60-bbf4-4656-eb90-b9a6d4db04be"
      },
      "source": [
        "from sklearn.naive_bayes import GaussianNB\n",
        "\n",
        "gnb = GaussianNB()\n",
        "gnb = gnb.fit(X_train, y_train)\n",
        "print(\"Accuracy on training set:\",  gnb.score(X_train, y_train))"
      ],
      "execution_count": 70,
      "outputs": [
        {
          "output_type": "stream",
          "text": [
            "Accuracy on training set: 0.7612203529586917\n"
          ],
          "name": "stdout"
        }
      ]
    },
    {
      "cell_type": "code",
      "metadata": {
        "colab": {
          "base_uri": "https://localhost:8080/"
        },
        "id": "C-q-CRAix6_H",
        "outputId": "2c809a79-5c21-4c6a-a176-942f8c863db7"
      },
      "source": [
        "\n",
        "\n",
        "y_test_pred_gnb = gnb.predict(X_test)\n",
        "y_test_pred_gnb\n",
        "\n",
        "\n",
        "print(\"Accuracy on test set:\",  gnb.score(X_test, y_test))\n",
        "\n",
        "\n"
      ],
      "execution_count": 71,
      "outputs": [
        {
          "output_type": "stream",
          "text": [
            "Accuracy on test set: 0.7626720610119048\n"
          ],
          "name": "stdout"
        }
      ]
    },
    {
      "cell_type": "code",
      "metadata": {
        "colab": {
          "base_uri": "https://localhost:8080/",
          "height": 301
        },
        "id": "C0wZ_evuyJOX",
        "outputId": "6a897728-6d23-404a-beb5-6bdd45034e52"
      },
      "source": [
        "\n",
        "sns.heatmap(cm_test.T, square=True, annot=True, fmt='d', cbar=False,\n",
        "            xticklabels= np.unique(y_test),\n",
        "            yticklabels= np.unique(y_test_pred_gnb))\n",
        "plt.xlabel('true label')\n",
        "plt.ylabel('predicted label');\n",
        "plt.title('Confusion Matrix Naive Bayes - Test Set')\n",
        "plt.show()"
      ],
      "execution_count": 72,
      "outputs": [
        {
          "output_type": "display_data",
          "data": {
            "image/png": "[encoded data removed]",
            "text/plain": [
              "<Figure size 432x288 with 1 Axes>"
            ]
          },
          "metadata": {
            "tags": []
          }
        }
      ]
    },
    {
      "cell_type": "code",
      "metadata": {
        "colab": {
          "base_uri": "https://localhost:8080/"
        },
        "id": "gAxeWiq7zcxh",
        "outputId": "fd5aae8d-ecab-48cf-b636-ef8ea949668e"
      },
      "source": [
        "#logistic regression\n",
        "from sklearn.linear_model import LogisticRegression\n",
        "\n",
        "logreg = LogisticRegression(C=1e5)\n",
        "logreg.fit(X_train, y_train)\n",
        "print(\"Accuracy on training set:\",  logreg.score(X_train, y_train))"
      ],
      "execution_count": 73,
      "outputs": [
        {
          "output_type": "stream",
          "text": [
            "Accuracy on training set: 0.68349385586184\n"
          ],
          "name": "stdout"
        },
        {
          "output_type": "stream",
          "text": [
            "/usr/local/lib/python3.7/dist-packages/sklearn/linear_model/_logistic.py:940: ConvergenceWarning: lbfgs failed to converge (status=1):\n",
            "STOP: TOTAL NO. of ITERATIONS REACHED LIMIT.\n",
            "\n",
            "Increase the number of iterations (max_iter) or scale the data as shown in:\n",
            "    https://scikit-learn.org/stable/modules/preprocessing.html\n",
            "Please also refer to the documentation for alternative solver options:\n",
            "    https://scikit-learn.org/stable/modules/linear_model.html#logistic-regression\n",
            "  extra_warning_msg=_LOGISTIC_SOLVER_CONVERGENCE_MSG)\n"
          ],
          "name": "stderr"
        }
      ]
    },
    {
      "cell_type": "code",
      "metadata": {
        "colab": {
          "base_uri": "https://localhost:8080/"
        },
        "id": "B9HNDrRtz97m",
        "outputId": "2a3480b1-08be-4bd5-a9b6-9bdd98cc50e3"
      },
      "source": [
        "\n",
        "\n",
        "y_test_pred_logreg = logreg.predict(X_test)\n",
        "y_test_pred_logreg\n",
        "\n",
        "\n",
        "\n",
        "print(\"Accuracy on test set:\",  logreg.score(X_test, y_test))\n",
        "\n"
      ],
      "execution_count": 74,
      "outputs": [
        {
          "output_type": "stream",
          "text": [
            "Accuracy on test set: 0.6831752232142857\n"
          ],
          "name": "stdout"
        }
      ]
    },
    {
      "cell_type": "code",
      "metadata": {
        "colab": {
          "base_uri": "https://localhost:8080/",
          "height": 301
        },
        "id": "OArhzRrU0FUI",
        "outputId": "a91a6f95-fac9-4049-c222-da47088bc30c"
      },
      "source": [
        "\n",
        "\n",
        "cm_test = confusion_matrix(y_test, y_test_pred_logreg)\n",
        "\n",
        "sns.heatmap(cm_test.T, square=True, annot=True, fmt='d', cbar=False,\n",
        "            xticklabels= np.unique(y_test),\n",
        "            yticklabels= np.unique(y_test_pred_logreg))\n",
        "plt.xlabel('true label')\n",
        "plt.ylabel('predicted label');\n",
        "plt.title('Confusion Matrix - Test Set')\n",
        "plt.show()\n",
        "\n"
      ],
      "execution_count": 75,
      "outputs": [
        {
          "output_type": "display_data",
          "data": {
            "image/png": "[encoded data removed]",
            "text/plain": [
              "<Figure size 432x288 with 1 Axes>"
            ]
          },
          "metadata": {
            "tags": []
          }
        }
      ]
    },
    {
      "cell_type": "markdown",
      "metadata": {
        "id": "IDxfd9RWk-pe"
      },
      "source": [
        "## 3. Learning Simple Regressors\n",
        "\n",
        "* Choose **`X` regressors** (https://scikit-learn.org/stable/supervised_learning.html#supervised-learning).\n",
        "* Use **grid-search and 10 fold cross-validation** to estimate the best parameters (https://scikit-learn.org/stable/model_selection.html#model-selection). \n",
        "* Use the mean absolute error regression loss, or other relevant metrics."
      ]
    },
    {
      "cell_type": "code",
      "metadata": {
        "id": "KHT3N04Gk-pg"
      },
      "source": [
        "# Present and Discuss your results here\n",
        "# ..."
      ],
      "execution_count": 65,
      "outputs": []
    },
    {
      "cell_type": "markdown",
      "metadata": {
        "id": "e1R5VlHTk-ph"
      },
      "source": [
        "## 4. Ensemble Learning"
      ]
    },
    {
      "cell_type": "markdown",
      "metadata": {
        "id": "yHHrmFg6k-ph"
      },
      "source": [
        "### Voting Classifier/Regressor\n",
        "\n",
        "* Use a voting classifier (http://scikit-learn.org/stable/modules/ensemble.html#voting-classifier)/regressor(https://scikit-learn.org/stable/modules/generated/sklearn.ensemble.VotingRegressor.html) to combine the best results of the `X` classifiers/regressors from previous sections. "
      ]
    },
    {
      "cell_type": "code",
      "metadata": {
        "id": "CDtUAB08k-ph"
      },
      "source": [
        "# Present and Discuss your results here\n",
        "# ..."
      ],
      "execution_count": 66,
      "outputs": []
    },
    {
      "cell_type": "markdown",
      "metadata": {
        "id": "OqB9noQYk-pi"
      },
      "source": [
        "### XGBoost \n",
        "\n",
        "* Use [XGBoost](https://www.kaggle.com/stuarthallows/using-xgboost-with-scikit-learn)."
      ]
    },
    {
      "cell_type": "code",
      "metadata": {
        "id": "q4GHkaItk-pi"
      },
      "source": [
        "# Present and Discuss your results here\n",
        "# ..."
      ],
      "execution_count": 67,
      "outputs": []
    },
    {
      "cell_type": "markdown",
      "metadata": {
        "id": "pQWyFdVmk-pj"
      },
      "source": [
        "### Random Forests\n",
        "\n",
        "* Use [Random Forests](http://scikit-learn.org/stable/modules/ensemble.html#random-forests)."
      ]
    },
    {
      "cell_type": "code",
      "metadata": {
        "id": "tf1mgENIk-pj"
      },
      "source": [
        "# Present and Discuss your results here\n",
        "# ..."
      ],
      "execution_count": 68,
      "outputs": []
    },
    {
      "cell_type": "markdown",
      "metadata": {
        "id": "BNQBZKMMk-pj"
      },
      "source": [
        "## 5. Conclusions"
      ]
    },
    {
      "cell_type": "markdown",
      "metadata": {
        "id": "4OQO8TaTk-pj"
      },
      "source": [
        "Draw some final conclusions about this project work"
      ]
    }
  ]
}